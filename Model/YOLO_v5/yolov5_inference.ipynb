{
 "cells": [
  {
   "cell_type": "code",
   "execution_count": null,
   "id": "7d28f646",
   "metadata": {},
   "outputs": [],
   "source": [
    "# image 파일 inference \n",
    "!python detect.py --source /aiffel/aiffel/yolo/Test/images/1658795873397_FR-View-CMR-Wide.png \\\n",
    "                            --weights /aiffel/aiffel/yolov5/runs/train/test18/weights/best.pt --conf 0.2 \\\n",
    "                            --project=/aiffel/aiffel/yolov5/runs/train/result --name=run_image_20 --exist-ok --line-thickness 2"
   ]
  },
  {
   "cell_type": "code",
   "execution_count": null,
   "id": "ddf00d66",
   "metadata": {},
   "outputs": [],
   "source": [
    "import matplotlib.pyplot as plt\n",
    "import cv2\n",
    "\n",
    "img = cv2.cvtColor(cv2.imread('/aiffel/aiffel/yolov5/runs/train/result/run_image_20/1658795873397_FR-View-CMR-Wide.png'), cv2.COLOR_BGR2RGB)\n",
    "plt.figure(figsize=(15, 10))\n",
    "plt.imshow(img)"
   ]
  }
 ],
 "metadata": {
  "kernelspec": {
   "display_name": "Python 3 (ipykernel)",
   "language": "python",
   "name": "python3"
  },
  "language_info": {
   "codemirror_mode": {
    "name": "ipython",
    "version": 3
   },
   "file_extension": ".py",
   "mimetype": "text/x-python",
   "name": "python",
   "nbconvert_exporter": "python",
   "pygments_lexer": "ipython3",
   "version": "3.9.7"
  }
 },
 "nbformat": 4,
 "nbformat_minor": 5
}
