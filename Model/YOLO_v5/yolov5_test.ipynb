{
 "cells": [
  {
   "cell_type": "markdown",
   "id": "a50bf4a9",
   "metadata": {},
   "source": [
    "# Train"
   ]
  },
  {
   "cell_type": "markdown",
   "id": "7840fc99",
   "metadata": {},
   "source": [
    "### Yolo v5 다운로드 및 설치"
   ]
  },
  {
   "cell_type": "markdown",
   "id": "836f0428",
   "metadata": {},
   "source": [
    "ultralytics 라이브러리를 사용"
   ]
  },
  {
   "cell_type": "code",
   "execution_count": null,
   "id": "02db724c",
   "metadata": {},
   "outputs": [],
   "source": [
    "!git clone https://github.com/ultralytics/yolov5\n",
    "!cd yolov5;pip install -qr requirements.txt"
   ]
  },
  {
   "cell_type": "markdown",
   "id": "566a057e",
   "metadata": {},
   "source": [
    "### COCO 포맷을 Ultralytics yolo 포맷으로 변환"
   ]
  },
  {
   "cell_type": "code",
   "execution_count": null,
   "id": "f1c22581",
   "metadata": {},
   "outputs": [],
   "source": [
    "# https://github.com/alexmihalyk23/COCO2YOLO.git\n",
    "import json\n",
    "import os\n",
    "import shutil\n",
    "\n",
    "class COCO2YOLO:\n",
    "  # 소스 이미지 디렉토리와 Json annotation 파일, 타겟 이미지 디렉토리, 타겟 annotation 디렉토리를 생성자로 입력 받음. \n",
    "  def __init__(self, src_img_dir, json_file, tgt_img_dir, tgt_anno_dir):\n",
    "    self.json_file = json_file\n",
    "    self.src_img_dir = src_img_dir\n",
    "    self.tgt_img_dir = tgt_img_dir\n",
    "    self.tgt_anno_dir = tgt_anno_dir\n",
    "    # json 파일과 타겟 디렉토리가 존재하는지 확인하고, 디렉토리의 경우는 없으면 생성. \n",
    "    self._check_file_and_dir(json_file, tgt_img_dir, tgt_anno_dir)\n",
    "    # json 파일을 메모리로 로딩. \n",
    "    self.labels = json.load(open(json_file, 'r', encoding='utf-8'))\n",
    "    # category id와 이름을 매핑하지만, 실제 class id는 이를 적용하지 않고 별도 적용. \n",
    "    self.coco_id_name_map = self._categories()\n",
    "    self.coco_name_list = list(self.coco_id_name_map.values())\n",
    "    print(\"total images\", len(self.labels['images']))\n",
    "    print(\"total categories\", len(self.labels['categories']))\n",
    "    print(\"total labels\", len(self.labels['annotations']))\n",
    "  \n",
    "  # json 파일과 타겟 디렉토리가 존재하는지 확인하고, 디렉토리의 경우는 없으면 생성. \n",
    "  def _check_file_and_dir(self, file_path, tgt_img_dir, tgt_anno_dir):\n",
    "    if not os.path.exists(file_path):\n",
    "        raise ValueError(\"file not found\")\n",
    "    if not os.path.exists(tgt_img_dir):\n",
    "        os.makedirs(tgt_img_dir)\n",
    "    if not os.path.exists(tgt_anno_dir):\n",
    "        os.makedirs(tgt_anno_dir)\n",
    "\n",
    "  # category id와 이름을 매핑하지만, 추후에 class 명만 활용. \n",
    "  def _categories(self):\n",
    "    categories = {}\n",
    "    for cls in self.labels['categories']:\n",
    "        categories[cls['id']] = cls['name']\n",
    "    return categories\n",
    "  \n",
    "  # annotation에서 모든 image의 파일명(절대 경로 아님)과 width, height 정보 저장. \n",
    "  def _load_images_info(self):\n",
    "    images_info = {}\n",
    "    for image in self.labels['images']:\n",
    "        id = image['id']\n",
    "        file_name = image['file_name']\n",
    "        if file_name.find('\\\\') > -1:\n",
    "            file_name = file_name[file_name.index('\\\\')+1:]\n",
    "        w = image['width'] # 960\n",
    "        h = image['height'] # 512\n",
    "  \n",
    "        images_info[id] = (file_name, w, h)\n",
    "\n",
    "    return images_info\n",
    "\n",
    "  # ms-coco의 bbox annotation은 yolo format으로 변환. 좌상단 x, y좌표, width, height 기반을 정규화된 center x,y 와 width, height로 변환. \n",
    "  def _bbox_2_yolo(self, bbox, img_w, img_h):\n",
    "    # ms-coco는 좌상단 x, y좌표, width, height\n",
    "    x, y, w, h = bbox[0], bbox[1], bbox[2], bbox[3]\n",
    "    # center x좌표는 좌상단 x좌표에서 width의 절반을 더함. center y좌표는 좌상단 y좌표에서 height의 절반을 더함.  \n",
    "    centerx = bbox[0] + w / 2\n",
    "    centery = bbox[1] + h / 2\n",
    "    # centerx, centery, width, height를 이미지의 width/height로 정규화. \n",
    "    dw = 1 / img_w\n",
    "    dh = 1 / img_h\n",
    "    centerx *= dw\n",
    "    w *= dw\n",
    "    centery *= dh\n",
    "    h *= dh\n",
    "    return centerx, centery, w, h\n",
    "  \n",
    "  # image와 annotation 정보를 기반으로 image명과 yolo annotation 정보 가공. \n",
    "  # 개별 image당 하나의 annotation 정보를 가지도록 변환. \n",
    "  def _convert_anno(self, images_info):\n",
    "    anno_dict = dict()\n",
    "    for anno in self.labels['annotations']:\n",
    "      bbox = anno['bbox']\n",
    "      image_id = anno['image_id']\n",
    "      category_id = anno['category_id']\n",
    "\n",
    "      image_info = images_info.get(image_id)\n",
    "      image_name = image_info[0]\n",
    "      img_w = image_info[1]\n",
    "      img_h = image_info[2]\n",
    "      yolo_box = self._bbox_2_yolo(bbox, img_w, img_h)\n",
    "\n",
    "      anno_info = (image_name, category_id, yolo_box)\n",
    "      anno_infos = anno_dict.get(image_id)\n",
    "      if not anno_infos:\n",
    "        anno_dict[image_id] = [anno_info]\n",
    "      else:\n",
    "        anno_infos.append(anno_info)\n",
    "        anno_dict[image_id] = anno_infos\n",
    "    return anno_dict\n",
    "\n",
    "  # class 명을 파일로 저장하는 로직. 사용하지 않음. \n",
    "  def save_classes(self):\n",
    "    sorted_classes = list(map(lambda x: x['name'], sorted(self.labels['categories'], key=lambda x: x['id'])))\n",
    "    print('coco names', sorted_classes)\n",
    "    with open('coco.names', 'w', encoding='utf-8') as f:\n",
    "      for cls in sorted_classes:\n",
    "          f.write(cls + '\\n')\n",
    "    f.close()\n",
    "  # _convert_anno(images_info)로 만들어진 anno 정보를 개별 yolo anno txt 파일로 생성하는 로직. \n",
    "  # coco2yolo()에서 anno_dict = self._convert_anno(images_info)로 만들어진 anno_dict를 _save_txt()에 입력하여 파일 생성\n",
    "  def _save_txt(self, anno_dict):\n",
    "    # 개별 image별로 소스 image는 타겟이미지 디렉토리로 복사하고, 개별 annotation을 타겟 anno 디렉토리로 생성. \n",
    "    for k, v in anno_dict.items():\n",
    "      # 소스와 타겟 파일의 절대 경로 생성. \n",
    "      src_img_filename = os.path.join(self.src_img_dir, v[0][0])\n",
    "      tgt_anno_filename = os.path.join(self.tgt_anno_dir,v[0][0].split(\".\")[0] + \".txt\")\n",
    "      #print('source image filename:', src_img_filename, 'target anno filename:', tgt_anno_filename)\n",
    "      # 이미지 파일의 경우 타겟 디렉토리로 단순 복사. \n",
    "      shutil.copy(src_img_filename, self.tgt_img_dir)\n",
    "      # 타겟 annotation 출력 파일명으로 classid, bbox 좌표를 object 별로 생성. \n",
    "      with open(tgt_anno_filename, 'w', encoding='utf-8') as f:\n",
    "        #print(k, v)\n",
    "        # 여러개의 object 별로 classid와 bbox 좌표를 생성. \n",
    "        for obj in v:\n",
    "          cat_name = self.coco_id_name_map.get(obj[1])\n",
    "          # category_id는 class 명에 따라 0부터 순차적으로 부여. \n",
    "          category_id = self.coco_name_list.index(cat_name)\n",
    "          #print('cat_name:', cat_name, 'category_id:', category_id)\n",
    "          box = ['{:.6f}'.format(x) for x in obj[2]]\n",
    "          box = ' '.join(box)\n",
    "          line = str(category_id) + ' ' + box\n",
    "          f.write(line + '\\n')\n",
    "\n",
    "  # ms-coco를 yolo format으로 변환. \n",
    "  def coco2yolo(self):\n",
    "    print(\"loading image info...\")\n",
    "    images_info = self._load_images_info()\n",
    "    print(\"loading done, total images\", len(images_info))\n",
    "\n",
    "    print(\"start converting...\")\n",
    "    anno_dict = self._convert_anno(images_info)\n",
    "    print(\"converting done, total labels\", len(anno_dict))\n",
    "\n",
    "    print(\"saving txt file...\")\n",
    "    self._save_txt(anno_dict)\n",
    "    print(\"saving done\")"
   ]
  },
  {
   "cell_type": "code",
   "execution_count": null,
   "id": "9668c897",
   "metadata": {
    "scrolled": false
   },
   "outputs": [],
   "source": [
    "# train 용 yolo 데이터 세트 생성. \n",
    "train_yolo_converter = COCO2YOLO(src_img_dir='/aiffel/aiffel/yolo/Aimmo_dataset/train_image', json_file='/aiffel/aiffel/yolo/Aimmo_dataset/COCO_format_train_no_other.json',\n",
    "                                 tgt_img_dir='/aiffel/aiffel/yolo/images/train', tgt_anno_dir='/aiffel/aiffel/yolo/labels/train')\n",
    "train_yolo_converter.coco2yolo()\n",
    "\n",
    "# val 용 yolo 데이터 세트 생성. \n",
    "val_yolo_converter = COCO2YOLO(src_img_dir='/aiffel/aiffel/yolo/Aimmo_dataset/val_image', json_file='/aiffel/aiffel/yolo/Aimmo_dataset/COCO_format_val_no_other.json',\n",
    "                                 tgt_img_dir='/aiffel/aiffel/yolo/images/val', tgt_anno_dir='/aiffel/aiffel/yolo/labels/val')\n",
    "val_yolo_converter.coco2yolo()"
   ]
  },
  {
   "cell_type": "markdown",
   "id": "7e1ede4d",
   "metadata": {},
   "source": [
    "### Dataset용 yaml 파일을 생성하고 학습 수행"
   ]
  },
  {
   "cell_type": "markdown",
   "id": "43516451",
   "metadata": {},
   "source": [
    "yolo v5는 모델이 yolov5s(small), yolov5m(middle), yolov5l(large), yolov5x(extra large)로 되어 있다. weight 인자값으로 이들 중 하나를 입력해준다."
   ]
  },
  {
   "cell_type": "code",
   "execution_count": null,
   "id": "61868a13",
   "metadata": {},
   "outputs": [],
   "source": [
    "%cd /\n",
    "from glob import glob\n",
    "\n",
    "train_img_list = glob('/aiffel/aiffel/yolo/images/train/*.png')\n",
    "val_img_list = glob('/aiffel/aiffel/yolo/images/val/*.png')\n",
    "print(len(train_img_list), len(val_img_list))"
   ]
  },
  {
   "cell_type": "code",
   "execution_count": null,
   "id": "942bbd3c",
   "metadata": {},
   "outputs": [],
   "source": [
    "# txt 파일 만들기\n",
    "\n",
    "with open('/aiffel/aiffel/yolo/train.txt', 'w') as f:\n",
    "  f.write('\\n'.join(train_img_list) + '\\n')\n",
    "\n",
    "with open('/aiffel/aiffel/yolo/val.txt', 'w') as f:\n",
    "  f.write('\\n'.join(val_img_list) + '\\n')"
   ]
  },
  {
   "cell_type": "code",
   "execution_count": null,
   "id": "9ea63d61",
   "metadata": {},
   "outputs": [],
   "source": [
    "# yaml 파일 설정\n",
    "from IPython.core.magic import register_line_cell_magic\n",
    "\n",
    "@register_line_cell_magic\n",
    "def writetemplate(line, cell):\n",
    "    with open(line, 'w') as f:\n",
    "        f.write(cell.format(**globals()))"
   ]
  },
  {
   "cell_type": "code",
   "execution_count": null,
   "id": "5f5d7fbb",
   "metadata": {},
   "outputs": [],
   "source": [
    "%%writetemplate /aiffel/aiffel/yolo/data.yaml\n",
    "\n",
    "train: /aiffel/aiffel/yolo/train.txt  \n",
    "val: /aiffel/aiffel/yolo/val.txt  \n",
    "# test: /aiffel/aiffel/datasets/test.txt  \n",
    "\n",
    "nc: 4\n",
    "names: ['car', 'bus', 'truck', 'pedestrian']"
   ]
  },
  {
   "cell_type": "code",
   "execution_count": null,
   "id": "d6810cc7",
   "metadata": {},
   "outputs": [],
   "source": [
    "%cd /aiffel/aiffel/yolov5"
   ]
  },
  {
   "cell_type": "code",
   "execution_count": null,
   "id": "fddc227d",
   "metadata": {
    "scrolled": false
   },
   "outputs": [],
   "source": [
    "import time\n",
    "\n",
    "start = time.process_time()\n",
    "\n",
    "###  10번 미만 epoch는 좋은 성능이 안나옴. 최소 30번 이상 epoch 적용. large 모델 적용 시 batch size가 8보다 클 경우 colab에서 memory 부족 발생.   \n",
    "!python train.py --batch 12 --epochs 50 --data '/aiffel/aiffel/yolo/data.yaml' --weights yolov5l.pt  \\\n",
    "--name aimmo_yolo__v5_epoch50 --exist-ok\n",
    "end = time.process_time()\n",
    "\n",
    "print(end-start)"
   ]
  }
 ],
 "metadata": {
  "kernelspec": {
   "display_name": "Python 3 (ipykernel)",
   "language": "python",
   "name": "python3"
  },
  "language_info": {
   "codemirror_mode": {
    "name": "ipython",
    "version": 3
   },
   "file_extension": ".py",
   "mimetype": "text/x-python",
   "name": "python",
   "nbconvert_exporter": "python",
   "pygments_lexer": "ipython3",
   "version": "3.9.7"
  }
 },
 "nbformat": 4,
 "nbformat_minor": 5
}
