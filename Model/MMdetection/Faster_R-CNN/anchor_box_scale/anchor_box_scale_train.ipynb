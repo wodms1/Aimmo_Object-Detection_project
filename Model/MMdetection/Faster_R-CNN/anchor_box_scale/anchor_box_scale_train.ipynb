{
 "cells": [
  {
   "cell_type": "code",
   "execution_count": 1,
   "id": "1f2e30f3",
   "metadata": {},
   "outputs": [
    {
     "name": "stdout",
     "output_type": "stream",
     "text": [
      "/aiffel/aiffel/Aimmo\r\n"
     ]
    }
   ],
   "source": [
    "!pwd"
   ]
  },
  {
   "cell_type": "code",
   "execution_count": 2,
   "id": "13b920f8",
   "metadata": {},
   "outputs": [
    {
     "name": "stdout",
     "output_type": "stream",
     "text": [
      "/aiffel/aiffel/Aimmo/mmdetection\n"
     ]
    }
   ],
   "source": [
    "%cd mmdetection\n",
    "\n",
    "#완디비 설치\n",
    "#!pip install -q --upgrade wandb\n",
    "#!pip3 install openmim\n",
    "#!mim install mmcv-full\n",
    "#!pip install -e ."
   ]
  },
  {
   "cell_type": "code",
   "execution_count": 3,
   "id": "35f4a9a0",
   "metadata": {},
   "outputs": [
    {
     "name": "stderr",
     "output_type": "stream",
     "text": [
      "/opt/conda/lib/python3.9/site-packages/mmcv/__init__.py:20: UserWarning: On January 1, 2023, MMCV will release v2.0.0, in which it will remove components related to the training process and add a data transformation module. In addition, it will rename the package names mmcv to mmcv-lite and mmcv-full to mmcv. See https://github.com/open-mmlab/mmcv/blob/master/docs/en/compatibility.md for more details.\n",
      "  warnings.warn(\n"
     ]
    },
    {
     "name": "stdout",
     "output_type": "stream",
     "text": [
      "0.13.6\n"
     ]
    }
   ],
   "source": [
    "from mmdet.apis import init_detector, inference_detector, show_result_pyplot\n",
    "import mmcv\n",
    "from mmcv import Config\n",
    "from mmdet.datasets import build_dataset\n",
    "from mmdet.models import build_detector\n",
    "from mmdet.apis import train_detector\n",
    "from mmdet.datasets.builder import DATASETS\n",
    "from mmdet.datasets.coco import CocoDataset,CustomDataset\n",
    "from mmdet.apis import set_random_seed\n",
    "import os.path as osp\n",
    "import os\n",
    "import numpy as np\n",
    "\n",
    "import wandb\n",
    "print(wandb.__version__)"
   ]
  },
  {
   "cell_type": "code",
   "execution_count": 4,
   "id": "98c2ac62",
   "metadata": {},
   "outputs": [
    {
     "name": "stderr",
     "output_type": "stream",
     "text": [
      "\u001b[34m\u001b[1mwandb\u001b[0m: Currently logged in as: \u001b[33mcychuckpark\u001b[0m (\u001b[33myolo_x\u001b[0m). Use \u001b[1m`wandb login --relogin`\u001b[0m to force relogin\n",
      "\u001b[34m\u001b[1mwandb\u001b[0m: \u001b[33mWARNING\u001b[0m If you're specifying your api key in code, ensure this code is not shared publicly.\n",
      "\u001b[34m\u001b[1mwandb\u001b[0m: \u001b[33mWARNING\u001b[0m Consider setting the WANDB_API_KEY environment variable, or running `wandb login` from the command line.\n",
      "\u001b[34m\u001b[1mwandb\u001b[0m: Appending key for api.wandb.ai to your netrc file: /aiffel/.netrc\n"
     ]
    },
    {
     "data": {
      "text/plain": [
       "True"
      ]
     },
     "execution_count": 4,
     "metadata": {},
     "output_type": "execute_result"
    }
   ],
   "source": [
    "# # 완디비 로그인\n",
    "wandb.login(key= '')"
   ]
  },
  {
   "cell_type": "code",
   "execution_count": 5,
   "id": "e48ea93e",
   "metadata": {},
   "outputs": [
    {
     "data": {
      "text/html": [
       "Tracking run with wandb version 0.13.6"
      ],
      "text/plain": [
       "<IPython.core.display.HTML object>"
      ]
     },
     "metadata": {},
     "output_type": "display_data"
    },
    {
     "data": {
      "text/html": [
       "Run data is saved locally in <code>/aiffel/aiffel/Aimmo/mmdetection/wandb/run-20221207_135908-395s6cey</code>"
      ],
      "text/plain": [
       "<IPython.core.display.HTML object>"
      ]
     },
     "metadata": {},
     "output_type": "display_data"
    },
    {
     "data": {
      "text/html": [
       "Syncing run <strong><a href=\"https://wandb.ai/yolo_x/test-project/runs/395s6cey\" target=\"_blank\">legendary-oath-9</a></strong> to <a href=\"https://wandb.ai/yolo_x/test-project\" target=\"_blank\">Weights & Biases</a> (<a href=\"https://wandb.me/run\" target=\"_blank\">docs</a>)<br/>"
      ],
      "text/plain": [
       "<IPython.core.display.HTML object>"
      ]
     },
     "metadata": {},
     "output_type": "display_data"
    },
    {
     "data": {
      "text/html": [
       "<button onClick=\"this.nextSibling.style.display='block';this.style.display='none';\">Display W&B run</button><iframe src=\"https://wandb.ai/yolo_x/test-project/runs/395s6cey?jupyter=true\" style=\"border:none;width:100%;height:420px;display:none;\"></iframe>"
      ],
      "text/plain": [
       "<wandb.sdk.wandb_run.Run at 0x7f4fa9fb71f0>"
      ]
     },
     "execution_count": 5,
     "metadata": {},
     "output_type": "execute_result"
    }
   ],
   "source": [
    "wandb.init(project=\"test-project\", entity=\"yolo_x\")"
   ]
  },
  {
   "cell_type": "code",
   "execution_count": 6,
   "id": "98146a8a",
   "metadata": {},
   "outputs": [],
   "source": [
    "@DATASETS.register_module(force=True)\n",
    "class Aimmo(CustomDataset):\n",
    "    CLASSES = ('car', 'bus', 'truck','pedestrian')\n",
    "    def load_annotations(self, ann_file):\n",
    "        cat2label = {k:i for i, k in enumerate(self.CLASSES)}\n",
    "        image_list = mmcv.list_from_file(self.ann_file)\n",
    "        data_infos = []\n",
    "    \n",
    "        for image_id in image_list:\n",
    "            filename = os.path.splitext(image_id)[0]#os.path.splitext('{0:}/{1:}'.format(img_prefix, image_id))[0]\n",
    "            #image = cv2.imread(filename)\n",
    "            data_info = {'filename': filename,\n",
    "                         'width': 1920, \n",
    "                         'height': 1024}\n",
    "            label_prefix = self.img_prefix.replace('image', 'middle_txt')\n",
    "            lines = mmcv.list_from_file(osp.join(label_prefix, str(image_id)))\n",
    "\n",
    "            content = [line.strip().split(' ') for line in lines]\n",
    "            bbox_names = [x[0] for x in content]\n",
    "            bboxes = [ [float(info) for info in x[1:5]] for x in content]\n",
    "\n",
    "            gt_bboxes = []\n",
    "            gt_labels = []\n",
    "            gt_bboxes_ignore = []\n",
    "            gt_labels_ignore = []\n",
    "\n",
    "            for bbox_name, bbox in zip(bbox_names, bboxes):\n",
    "                if bbox_name in cat2label:\n",
    "                    gt_bboxes.append(bbox)\n",
    "                    gt_labels.append(cat2label[bbox_name])\n",
    "                else:\n",
    "                    gt_bboxes_ignore.append(bbox)\n",
    "                    gt_labels_ignore.append(-1)\n",
    "            \n",
    "            data_anno = {\n",
    "              'bboxes': np.array(gt_bboxes, dtype=np.float32).reshape(-1, 4),\n",
    "              'labels': np.array(gt_labels, dtype=np.compat.long),\n",
    "              'bboxes_ignore': np.array(gt_bboxes_ignore, dtype=np.float32).reshape(-1, 4),\n",
    "              'labels_ignore': np.array(gt_labels_ignore, dtype=np.compat.long)\n",
    "            }\n",
    "            data_info.update(ann=data_anno)\n",
    "            data_infos.append(data_info)\n",
    "        return data_infos"
   ]
  },
  {
   "cell_type": "code",
   "execution_count": 7,
   "id": "9e5d2606",
   "metadata": {
    "scrolled": true
   },
   "outputs": [
    {
     "name": "stdout",
     "output_type": "stream",
     "text": [
      "model = dict(\n",
      "    type='FasterRCNN',\n",
      "    backbone=dict(\n",
      "        type='ResNet',\n",
      "        depth=50,\n",
      "        num_stages=4,\n",
      "        out_indices=(0, 1, 2, 3),\n",
      "        frozen_stages=1,\n",
      "        norm_cfg=dict(type='BN', requires_grad=True),\n",
      "        norm_eval=True,\n",
      "        style='pytorch',\n",
      "        init_cfg=dict(type='Pretrained', checkpoint='torchvision://resnet50')),\n",
      "    neck=dict(\n",
      "        type='FPN',\n",
      "        in_channels=[256, 512, 1024, 2048],\n",
      "        out_channels=256,\n",
      "        num_outs=5),\n",
      "    rpn_head=dict(\n",
      "        type='RPNHead',\n",
      "        in_channels=256,\n",
      "        feat_channels=256,\n",
      "        anchor_generator=dict(\n",
      "            type='AnchorGenerator',\n",
      "            scales=[8],\n",
      "            ratios=[0.5, 1.0, 2.0],\n",
      "            strides=[4, 8, 16, 32, 64]),\n",
      "        bbox_coder=dict(\n",
      "            type='DeltaXYWHBBoxCoder',\n",
      "            target_means=[0.0, 0.0, 0.0, 0.0],\n",
      "            target_stds=[1.0, 1.0, 1.0, 1.0]),\n",
      "        loss_cls=dict(\n",
      "            type='CrossEntropyLoss', use_sigmoid=True, loss_weight=1.0),\n",
      "        loss_bbox=dict(type='L1Loss', loss_weight=1.0)),\n",
      "    roi_head=dict(\n",
      "        type='StandardRoIHead',\n",
      "        bbox_roi_extractor=dict(\n",
      "            type='SingleRoIExtractor',\n",
      "            roi_layer=dict(type='RoIAlign', output_size=7, sampling_ratio=0),\n",
      "            out_channels=256,\n",
      "            featmap_strides=[4, 8, 16, 32]),\n",
      "        bbox_head=dict(\n",
      "            type='Shared2FCBBoxHead',\n",
      "            in_channels=256,\n",
      "            fc_out_channels=1024,\n",
      "            roi_feat_size=7,\n",
      "            num_classes=4,\n",
      "            bbox_coder=dict(\n",
      "                type='DeltaXYWHBBoxCoder',\n",
      "                target_means=[0.0, 0.0, 0.0, 0.0],\n",
      "                target_stds=[0.1, 0.1, 0.2, 0.2]),\n",
      "            reg_class_agnostic=False,\n",
      "            loss_cls=dict(\n",
      "                type='CrossEntropyLoss', use_sigmoid=False, loss_weight=1.0),\n",
      "            loss_bbox=dict(type='L1Loss', loss_weight=1.0))),\n",
      "    train_cfg=dict(\n",
      "        rpn=dict(\n",
      "            assigner=dict(\n",
      "                type='MaxIoUAssigner',\n",
      "                pos_iou_thr=0.7,\n",
      "                neg_iou_thr=0.3,\n",
      "                min_pos_iou=0.3,\n",
      "                match_low_quality=True,\n",
      "                ignore_iof_thr=-1),\n",
      "            sampler=dict(\n",
      "                type='RandomSampler',\n",
      "                num=256,\n",
      "                pos_fraction=0.5,\n",
      "                neg_pos_ub=-1,\n",
      "                add_gt_as_proposals=False),\n",
      "            allowed_border=-1,\n",
      "            pos_weight=-1,\n",
      "            debug=False),\n",
      "        rpn_proposal=dict(\n",
      "            nms_pre=2000,\n",
      "            max_per_img=1000,\n",
      "            nms=dict(type='nms', iou_threshold=0.7),\n",
      "            min_bbox_size=0),\n",
      "        rcnn=dict(\n",
      "            assigner=dict(\n",
      "                type='MaxIoUAssigner',\n",
      "                pos_iou_thr=0.5,\n",
      "                neg_iou_thr=0.5,\n",
      "                min_pos_iou=0.5,\n",
      "                match_low_quality=False,\n",
      "                ignore_iof_thr=-1),\n",
      "            sampler=dict(\n",
      "                type='RandomSampler',\n",
      "                num=512,\n",
      "                pos_fraction=0.25,\n",
      "                neg_pos_ub=-1,\n",
      "                add_gt_as_proposals=True),\n",
      "            pos_weight=-1,\n",
      "            debug=False)),\n",
      "    test_cfg=dict(\n",
      "        rpn=dict(\n",
      "            nms_pre=1000,\n",
      "            max_per_img=1000,\n",
      "            nms=dict(type='nms', iou_threshold=0.7),\n",
      "            min_bbox_size=0),\n",
      "        rcnn=dict(\n",
      "            score_thr=0.05,\n",
      "            nms=dict(type='nms', iou_threshold=0.5),\n",
      "            max_per_img=100)))\n",
      "dataset_type = 'Aimmo'\n",
      "data_root = 'data/'\n",
      "img_norm_cfg = dict(\n",
      "    mean=[123.675, 116.28, 103.53], std=[58.395, 57.12, 57.375], to_rgb=True)\n",
      "train_pipeline = [\n",
      "    dict(type='LoadImageFromFile'),\n",
      "    dict(type='LoadAnnotations', with_bbox=True),\n",
      "    dict(type='Resize', img_scale=[(960, 512)], keep_ratio=True),\n",
      "    dict(type='RandomFlip', flip_ratio=0.5),\n",
      "    dict(\n",
      "        type='Normalize',\n",
      "        mean=[123.675, 116.28, 103.53],\n",
      "        std=[58.395, 57.12, 57.375],\n",
      "        to_rgb=True),\n",
      "    dict(type='Pad', size_divisor=32),\n",
      "    dict(type='DefaultFormatBundle'),\n",
      "    dict(type='Collect', keys=['img', 'gt_bboxes', 'gt_labels'])\n",
      "]\n",
      "test_pipeline = [\n",
      "    dict(type='LoadImageFromFile'),\n",
      "    dict(\n",
      "        type='MultiScaleFlipAug',\n",
      "        img_scale=[(960, 512)],\n",
      "        flip=False,\n",
      "        transforms=[\n",
      "            dict(type='Resize', keep_ratio=True),\n",
      "            dict(type='RandomFlip'),\n",
      "            dict(\n",
      "                type='Normalize',\n",
      "                mean=[123.675, 116.28, 103.53],\n",
      "                std=[58.395, 57.12, 57.375],\n",
      "                to_rgb=True),\n",
      "            dict(type='Pad', size_divisor=32),\n",
      "            dict(type='ImageToTensor', keys=['img']),\n",
      "            dict(type='Collect', keys=['img'])\n",
      "        ])\n",
      "]\n",
      "data = dict(\n",
      "    samples_per_gpu=14,\n",
      "    workers_per_gpu=0,\n",
      "    train=dict(\n",
      "        type='Aimmo',\n",
      "        ann_file='middle_train.txt',\n",
      "        img_prefix='image',\n",
      "        pipeline=[\n",
      "            dict(type='LoadImageFromFile'),\n",
      "            dict(type='LoadAnnotations', with_bbox=True),\n",
      "            dict(type='Resize', img_scale=[(960, 512)], keep_ratio=True),\n",
      "            dict(type='RandomFlip', flip_ratio=0.5),\n",
      "            dict(\n",
      "                type='Normalize',\n",
      "                mean=[123.675, 116.28, 103.53],\n",
      "                std=[58.395, 57.12, 57.375],\n",
      "                to_rgb=True),\n",
      "            dict(type='Pad', size_divisor=32),\n",
      "            dict(type='DefaultFormatBundle'),\n",
      "            dict(type='Collect', keys=['img', 'gt_bboxes', 'gt_labels'])\n",
      "        ],\n",
      "        data_root='data/'),\n",
      "    val=dict(\n",
      "        type='Aimmo',\n",
      "        ann_file='middle_val.txt',\n",
      "        img_prefix='image',\n",
      "        pipeline=[\n",
      "            dict(type='LoadImageFromFile'),\n",
      "            dict(\n",
      "                type='MultiScaleFlipAug',\n",
      "                img_scale=[(960, 512)],\n",
      "                flip=False,\n",
      "                transforms=[\n",
      "                    dict(type='Resize', keep_ratio=True),\n",
      "                    dict(type='RandomFlip'),\n",
      "                    dict(\n",
      "                        type='Normalize',\n",
      "                        mean=[123.675, 116.28, 103.53],\n",
      "                        std=[58.395, 57.12, 57.375],\n",
      "                        to_rgb=True),\n",
      "                    dict(type='Pad', size_divisor=32),\n",
      "                    dict(type='ImageToTensor', keys=['img']),\n",
      "                    dict(type='Collect', keys=['img'])\n",
      "                ])\n",
      "        ],\n",
      "        data_root='data/'),\n",
      "    test=dict(\n",
      "        type='Aimmo',\n",
      "        ann_file='middle_test.txt',\n",
      "        img_prefix='image',\n",
      "        pipeline=[\n",
      "            dict(type='LoadImageFromFile'),\n",
      "            dict(\n",
      "                type='MultiScaleFlipAug',\n",
      "                img_scale=[(960, 512)],\n",
      "                flip=False,\n",
      "                transforms=[\n",
      "                    dict(type='Resize', keep_ratio=True),\n",
      "                    dict(type='RandomFlip'),\n",
      "                    dict(\n",
      "                        type='Normalize',\n",
      "                        mean=[123.675, 116.28, 103.53],\n",
      "                        std=[58.395, 57.12, 57.375],\n",
      "                        to_rgb=True),\n",
      "                    dict(type='Pad', size_divisor=32),\n",
      "                    dict(type='ImageToTensor', keys=['img']),\n",
      "                    dict(type='Collect', keys=['img'])\n",
      "                ])\n",
      "        ],\n",
      "        data_root='data/'))\n",
      "evaluation = dict(interval=1, metric='mAP')\n",
      "optimizer = dict(type='SGD', lr=0.02, momentum=0.9, weight_decay=0.0001)\n",
      "optimizer_config = dict(grad_clip=None)\n",
      "lr_config = dict(\n",
      "    policy='step',\n",
      "    warmup='linear',\n",
      "    warmup_iters=500,\n",
      "    warmup_ratio=0.001,\n",
      "    step=[8, 11])\n",
      "runner = dict(type='EpochBasedRunner', max_epochs=20)\n",
      "checkpoint_config = dict(interval=1)\n",
      "log_config = dict(interval=100, hooks=[dict(type='TextLoggerHook')])\n",
      "custom_hooks = [dict(type='NumClassCheckHook')]\n",
      "dist_params = dict(backend='nccl')\n",
      "log_level = 'INFO'\n",
      "load_from = 'checkpoints/faster_rcnn_r50_fpn_1x_coco_20200130-047c8118.pth'\n",
      "resume_from = None\n",
      "workflow = [('train', 1)]\n",
      "opencv_num_threads = 0\n",
      "mp_start_method = 'fork'\n",
      "auto_scale_lr = dict(enable=False, base_batch_size=16)\n",
      "work_dir = 'middle'\n",
      "seed = 0\n",
      "gpu_ids = range(0, 1)\n",
      "device = 'cuda'\n",
      "\n"
     ]
    }
   ],
   "source": [
    "config_file = 'configs/faster_rcnn/faster_rcnn_r50_fpn_1x_coco.py'\n",
    "checkpoint_file = 'checkpoints/faster_rcnn_r50_fpn_1x_coco_20200130-047c8118.pth'\n",
    "cfg = Config.fromfile(config_file)\n",
    "\n",
    "cfg.dataset_type = 'Aimmo'\n",
    "cfg.data_root = 'data/'\n",
    "\n",
    "cfg.data.train.type = 'Aimmo'\n",
    "cfg.data.train.data_root = 'data/'\n",
    "cfg.data.train.ann_file = 'middle_train.txt'\n",
    "cfg.data.train.img_prefix = 'image'\n",
    "\n",
    "\n",
    "cfg.data.val.type = 'Aimmo'\n",
    "cfg.data.val.data_root = 'data/'\n",
    "cfg.data.val.ann_file = 'middle_val.txt'\n",
    "cfg.data.val.img_prefix = 'image'\n",
    "\n",
    "\n",
    "cfg.data.test.type = 'Aimmo'\n",
    "cfg.data.test.data_root = 'data/'\n",
    "cfg.data.test.ann_file = 'middle_test.txt'\n",
    "cfg.data.test.img_prefix = 'image'\n",
    "\n",
    "cfg.model.roi_head.bbox_head.num_classes = 4\n",
    "\n",
    "cfg.load_from = 'checkpoints/faster_rcnn_r50_fpn_1x_coco_20200130-047c8118.pth'\n",
    "cfg.work_dir = 'middle'\n",
    "\n",
    "cfg.lr_config.policy='step'\n",
    "cfg.seed = 0\n",
    "set_random_seed(0, deterministic=False)\n",
    "cfg.gpu_ids = range(1)\n",
    "cfg.device='cuda'\n",
    "cfg.evaluation.metric='mAP'\n",
    "\n",
    "cfg.log_config.interval = 100\n",
    "cfg.evaluation.interval = 1\n",
    "# We can set the checkpoint saving interval to reduce the storage cost\n",
    "cfg.checkpoint_config.interval = 1\n",
    "#cfg.evaluation.save_best='auto'\n",
    "cfg.data.train.pipeline[2].img_scale=[(960,512)]#['Resize']\n",
    "cfg.train_pipeline[2].img_scale=[(960,512)]\n",
    "cfg.test_pipeline[1].img_scale=[(960,512)]\n",
    "cfg.data.val.pipeline[1].img_scale = [(960,512)]\n",
    "cfg.data.test.pipeline[1].img_scale = [(960,512)]\n",
    "cfg.runner.max_epochs = 20\n",
    "\n",
    "cfg.data.samples_per_gpu = 14 # Batch size of a single GPU used in testing\n",
    "cfg.data.workers_per_gpu = 0 # Worker to pre-fetch data for each single GPU\n",
    "print(cfg.pretty_text)"
   ]
  },
  {
   "cell_type": "code",
   "execution_count": 8,
   "id": "368bc821",
   "metadata": {},
   "outputs": [
    {
     "data": {
      "text/plain": [
       "{'type': 'AnchorGenerator',\n",
       " 'scales': [8],\n",
       " 'ratios': [0.5, 1.0, 2.0],\n",
       " 'strides': [4, 8, 16, 32, 64]}"
      ]
     },
     "execution_count": 8,
     "metadata": {},
     "output_type": "execute_result"
    }
   ],
   "source": [
    "cfg.model.rpn_head.anchor_generator"
   ]
  },
  {
   "cell_type": "code",
   "execution_count": 9,
   "id": "ea803c93",
   "metadata": {},
   "outputs": [],
   "source": [
    "cfg.model.rpn_head.anchor_generator['scales'] = [4]\n",
    "cfg.model.rpn_head.anchor_generator['strides'] = [2,4,8,16,32]"
   ]
  },
  {
   "cell_type": "code",
   "execution_count": 10,
   "id": "d2c2c33a",
   "metadata": {},
   "outputs": [],
   "source": [
    "cfg.log_config.hooks = [\n",
    "    dict(type='TextLoggerHook'),\n",
    "    dict(type='WandbLoggerHook',\n",
    "         init_kwargs={'project': 'test-project', 'entity' : 'yolo_x', 'name' : 'middle'})] "
   ]
  },
  {
   "cell_type": "code",
   "execution_count": 11,
   "id": "02ee32cb",
   "metadata": {
    "scrolled": true
   },
   "outputs": [
    {
     "name": "stderr",
     "output_type": "stream",
     "text": [
      "/aiffel/aiffel/Aimmo/mmdetection/mmdet/datasets/custom.py:181: UserWarning: CustomDataset does not support filtering empty gt images.\n",
      "  warnings.warn(\n"
     ]
    },
    {
     "data": {
      "text/plain": [
       "[\n",
       " Aimmo Train dataset with number of images 2323, and instance counts: \n",
       " +----------+-------+----------+-------+-----------+-------+----------------+-------+---------------+-------+\n",
       " | category | count | category | count | category  | count | category       | count | category      | count |\n",
       " +----------+-------+----------+-------+-----------+-------+----------------+-------+---------------+-------+\n",
       " | 0 [car]  | 13124 | 1 [bus]  | 1786  | 2 [truck] | 3084  | 3 [pedestrian] | 3063  | -1 background | 0     |\n",
       " +----------+-------+----------+-------+-----------+-------+----------------+-------+---------------+-------+]"
      ]
     },
     "execution_count": 11,
     "metadata": {},
     "output_type": "execute_result"
    }
   ],
   "source": [
    "[build_dataset(cfg.data.val)]"
   ]
  },
  {
   "cell_type": "code",
   "execution_count": null,
   "id": "53cc61ad",
   "metadata": {
    "scrolled": true
   },
   "outputs": [
    {
     "name": "stderr",
     "output_type": "stream",
     "text": [
      "2022-12-07 13:59:17,404 - mmdet - INFO - Automatic scaling of learning rate (LR) has been disabled.\n",
      "2022-12-07 13:59:17,591 - mmdet - INFO - load checkpoint from local path: checkpoints/faster_rcnn_r50_fpn_1x_coco_20200130-047c8118.pth\n",
      "2022-12-07 13:59:19,030 - mmdet - WARNING - The model and loaded state dict do not match exactly\n",
      "\n",
      "size mismatch for roi_head.bbox_head.fc_cls.weight: copying a param with shape torch.Size([81, 1024]) from checkpoint, the shape in current model is torch.Size([5, 1024]).\n",
      "size mismatch for roi_head.bbox_head.fc_cls.bias: copying a param with shape torch.Size([81]) from checkpoint, the shape in current model is torch.Size([5]).\n",
      "size mismatch for roi_head.bbox_head.fc_reg.weight: copying a param with shape torch.Size([320, 1024]) from checkpoint, the shape in current model is torch.Size([16, 1024]).\n",
      "size mismatch for roi_head.bbox_head.fc_reg.bias: copying a param with shape torch.Size([320]) from checkpoint, the shape in current model is torch.Size([16]).\n",
      "2022-12-07 13:59:19,037 - mmdet - INFO - Start running, host: root@wtodwm6j1h3utgaqg1u8vg9tc-78646f45df-gm99b, work_dir: /aiffel/aiffel/Aimmo/mmdetection/middle\n",
      "2022-12-07 13:59:19,039 - mmdet - INFO - Hooks will be executed in the following order:\n",
      "before_run:\n",
      "(VERY_HIGH   ) StepLrUpdaterHook                  \n",
      "(NORMAL      ) CheckpointHook                     \n",
      "(LOW         ) EvalHook                           \n",
      "(VERY_LOW    ) TextLoggerHook                     \n",
      "(VERY_LOW    ) WandbLoggerHook                    \n",
      " -------------------- \n",
      "before_train_epoch:\n",
      "(VERY_HIGH   ) StepLrUpdaterHook                  \n",
      "(NORMAL      ) NumClassCheckHook                  \n",
      "(LOW         ) IterTimerHook                      \n",
      "(LOW         ) EvalHook                           \n",
      "(VERY_LOW    ) TextLoggerHook                     \n",
      "(VERY_LOW    ) WandbLoggerHook                    \n",
      " -------------------- \n",
      "before_train_iter:\n",
      "(VERY_HIGH   ) StepLrUpdaterHook                  \n",
      "(LOW         ) IterTimerHook                      \n",
      "(LOW         ) EvalHook                           \n",
      " -------------------- \n",
      "after_train_iter:\n",
      "(ABOVE_NORMAL) OptimizerHook                      \n",
      "(NORMAL      ) CheckpointHook                     \n",
      "(LOW         ) IterTimerHook                      \n",
      "(LOW         ) EvalHook                           \n",
      "(VERY_LOW    ) TextLoggerHook                     \n",
      "(VERY_LOW    ) WandbLoggerHook                    \n",
      " -------------------- \n",
      "after_train_epoch:\n",
      "(NORMAL      ) CheckpointHook                     \n",
      "(LOW         ) EvalHook                           \n",
      "(VERY_LOW    ) TextLoggerHook                     \n",
      "(VERY_LOW    ) WandbLoggerHook                    \n",
      " -------------------- \n",
      "before_val_epoch:\n",
      "(NORMAL      ) NumClassCheckHook                  \n",
      "(LOW         ) IterTimerHook                      \n",
      "(VERY_LOW    ) TextLoggerHook                     \n",
      "(VERY_LOW    ) WandbLoggerHook                    \n",
      " -------------------- \n",
      "before_val_iter:\n",
      "(LOW         ) IterTimerHook                      \n",
      " -------------------- \n",
      "after_val_iter:\n",
      "(LOW         ) IterTimerHook                      \n",
      " -------------------- \n",
      "after_val_epoch:\n",
      "(VERY_LOW    ) TextLoggerHook                     \n",
      "(VERY_LOW    ) WandbLoggerHook                    \n",
      " -------------------- \n",
      "after_run:\n",
      "(VERY_LOW    ) TextLoggerHook                     \n",
      "(VERY_LOW    ) WandbLoggerHook                    \n",
      " -------------------- \n",
      "2022-12-07 13:59:19,040 - mmdet - INFO - workflow: [('train', 1)], max: 20 epochs\n",
      "2022-12-07 13:59:19,041 - mmdet - INFO - Checkpoints will be saved to /aiffel/aiffel/Aimmo/mmdetection/middle by HardDiskBackend.\n"
     ]
    },
    {
     "data": {
      "text/html": [
       "Finishing last run (ID:395s6cey) before initializing another..."
      ],
      "text/plain": [
       "<IPython.core.display.HTML object>"
      ]
     },
     "metadata": {},
     "output_type": "display_data"
    },
    {
     "data": {
      "text/html": [
       "Waiting for W&B process to finish... <strong style=\"color:green\">(success).</strong>"
      ],
      "text/plain": [
       "<IPython.core.display.HTML object>"
      ]
     },
     "metadata": {},
     "output_type": "display_data"
    },
    {
     "data": {
      "text/html": [
       "Synced <strong style=\"color:#cdcd00\">legendary-oath-9</strong>: <a href=\"https://wandb.ai/yolo_x/test-project/runs/395s6cey\" target=\"_blank\">https://wandb.ai/yolo_x/test-project/runs/395s6cey</a><br/>Synced 5 W&B file(s), 0 media file(s), 0 artifact file(s) and 0 other file(s)"
      ],
      "text/plain": [
       "<IPython.core.display.HTML object>"
      ]
     },
     "metadata": {},
     "output_type": "display_data"
    },
    {
     "data": {
      "text/html": [
       "Find logs at: <code>./wandb/run-20221207_135908-395s6cey/logs</code>"
      ],
      "text/plain": [
       "<IPython.core.display.HTML object>"
      ]
     },
     "metadata": {},
     "output_type": "display_data"
    },
    {
     "data": {
      "text/html": [
       "Successfully finished last run (ID:395s6cey). Initializing new run:<br/>"
      ],
      "text/plain": [
       "<IPython.core.display.HTML object>"
      ]
     },
     "metadata": {},
     "output_type": "display_data"
    },
    {
     "data": {
      "application/vnd.jupyter.widget-view+json": {
       "model_id": "e5d463acd235456f95aa8b9f5492f2a3",
       "version_major": 2,
       "version_minor": 0
      },
      "text/plain": [
       "VBox(children=(Label(value='Waiting for wandb.init()...\\r'), FloatProgress(value=0.016669331183341757, max=1.0…"
      ]
     },
     "metadata": {},
     "output_type": "display_data"
    },
    {
     "data": {
      "text/html": [
       "Tracking run with wandb version 0.13.6"
      ],
      "text/plain": [
       "<IPython.core.display.HTML object>"
      ]
     },
     "metadata": {},
     "output_type": "display_data"
    },
    {
     "data": {
      "text/html": [
       "Run data is saved locally in <code>/aiffel/aiffel/Aimmo/mmdetection/wandb/run-20221207_135919-1brijbft</code>"
      ],
      "text/plain": [
       "<IPython.core.display.HTML object>"
      ]
     },
     "metadata": {},
     "output_type": "display_data"
    },
    {
     "data": {
      "text/html": [
       "Syncing run <strong><a href=\"https://wandb.ai/yolo_x/test-project/runs/1brijbft\" target=\"_blank\">middle</a></strong> to <a href=\"https://wandb.ai/yolo_x/test-project\" target=\"_blank\">Weights & Biases</a> (<a href=\"https://wandb.me/run\" target=\"_blank\">docs</a>)<br/>"
      ],
      "text/plain": [
       "<IPython.core.display.HTML object>"
      ]
     },
     "metadata": {},
     "output_type": "display_data"
    },
    {
     "name": "stderr",
     "output_type": "stream",
     "text": [
      "2022-12-07 14:04:43,473 - mmdet - INFO - Epoch [1][100/1494]\tlr: 3.976e-03, eta: 1 day, 2:18:18, time: 3.180, data_time: 1.595, memory: 11276, loss_rpn_cls: 0.0235, loss_rpn_bbox: 0.0010, loss_cls: 0.1265, acc: 97.3119, loss_bbox: 0.0087, loss: 0.1598\n",
      "2022-12-07 14:10:09,853 - mmdet - INFO - Epoch [1][200/1494]\tlr: 7.972e-03, eta: 1 day, 2:33:45, time: 3.264, data_time: 1.599, memory: 11276, loss_rpn_cls: 0.0064, loss_rpn_bbox: 0.0009, loss_cls: 0.0227, acc: 99.2139, loss_bbox: 0.0064, loss: 0.0364\n",
      "2022-12-07 14:15:36,555 - mmdet - INFO - Epoch [1][300/1494]\tlr: 1.197e-02, eta: 1 day, 2:35:48, time: 3.267, data_time: 1.613, memory: 11276, loss_rpn_cls: 0.0034, loss_rpn_bbox: 0.0009, loss_cls: 0.0196, acc: 99.3344, loss_bbox: 0.0072, loss: 0.0312\n",
      "2022-12-07 14:21:03,638 - mmdet - INFO - Epoch [1][400/1494]\tlr: 1.596e-02, eta: 1 day, 2:34:34, time: 3.271, data_time: 1.618, memory: 11276, loss_rpn_cls: 0.0031, loss_rpn_bbox: 0.0009, loss_cls: 0.0149, acc: 99.5188, loss_bbox: 0.0076, loss: 0.0264\n",
      "2022-12-07 14:26:31,464 - mmdet - INFO - Epoch [1][500/1494]\tlr: 1.996e-02, eta: 1 day, 2:32:22, time: 3.278, data_time: 1.628, memory: 11276, loss_rpn_cls: 0.0027, loss_rpn_bbox: 0.0008, loss_cls: 0.0131, acc: 99.5731, loss_bbox: 0.0073, loss: 0.0239\n",
      "2022-12-07 14:31:57,959 - mmdet - INFO - Epoch [1][600/1494]\tlr: 2.000e-02, eta: 1 day, 2:28:00, time: 3.265, data_time: 1.615, memory: 11276, loss_rpn_cls: 0.0031, loss_rpn_bbox: 0.0008, loss_cls: 0.0109, acc: 99.6571, loss_bbox: 0.0058, loss: 0.0205\n",
      "2022-12-07 14:37:27,157 - mmdet - INFO - Epoch [1][700/1494]\tlr: 2.000e-02, eta: 1 day, 2:25:13, time: 3.292, data_time: 1.618, memory: 11276, loss_rpn_cls: 0.0029, loss_rpn_bbox: 0.0008, loss_cls: 0.0097, acc: 99.6908, loss_bbox: 0.0077, loss: 0.0211\n",
      "2022-12-07 14:42:56,705 - mmdet - INFO - Epoch [1][800/1494]\tlr: 2.000e-02, eta: 1 day, 2:21:57, time: 3.295, data_time: 1.618, memory: 11276, loss_rpn_cls: 0.0020, loss_rpn_bbox: 0.0008, loss_cls: 0.0097, acc: 99.6907, loss_bbox: 0.0070, loss: 0.0195\n",
      "2022-12-07 14:48:24,625 - mmdet - INFO - Epoch [1][900/1494]\tlr: 2.000e-02, eta: 1 day, 2:17:20, time: 3.279, data_time: 1.594, memory: 11276, loss_rpn_cls: 0.0024, loss_rpn_bbox: 0.0008, loss_cls: 0.0086, acc: 99.7154, loss_bbox: 0.0061, loss: 0.0177\n",
      "2022-12-07 14:53:51,729 - mmdet - INFO - Epoch [1][1000/1494]\tlr: 2.000e-02, eta: 1 day, 2:12:09, time: 3.271, data_time: 1.595, memory: 11276, loss_rpn_cls: 0.0028, loss_rpn_bbox: 0.0008, loss_cls: 0.0087, acc: 99.7065, loss_bbox: 0.0076, loss: 0.0199\n",
      "2022-12-07 14:59:22,359 - mmdet - INFO - Epoch [1][1100/1494]\tlr: 2.000e-02, eta: 1 day, 2:08:27, time: 3.306, data_time: 1.624, memory: 11276, loss_rpn_cls: 0.0024, loss_rpn_bbox: 0.0009, loss_cls: 0.0081, acc: 99.7319, loss_bbox: 0.0062, loss: 0.0176\n",
      "2022-12-07 15:04:51,497 - mmdet - INFO - Epoch [1][1200/1494]\tlr: 2.000e-02, eta: 1 day, 2:03:51, time: 3.291, data_time: 1.610, memory: 11276, loss_rpn_cls: 0.0023, loss_rpn_bbox: 0.0009, loss_cls: 0.0079, acc: 99.7348, loss_bbox: 0.0071, loss: 0.0183\n",
      "2022-12-07 15:10:21,075 - mmdet - INFO - Epoch [1][1300/1494]\tlr: 2.000e-02, eta: 1 day, 1:59:17, time: 3.296, data_time: 1.630, memory: 11276, loss_rpn_cls: 0.0018, loss_rpn_bbox: 0.0009, loss_cls: 0.0077, acc: 99.7462, loss_bbox: 0.0059, loss: 0.0163\n",
      "2022-12-07 15:15:53,593 - mmdet - INFO - Epoch [1][1400/1494]\tlr: 2.000e-02, eta: 1 day, 1:55:35, time: 3.325, data_time: 1.636, memory: 11276, loss_rpn_cls: 0.0019, loss_rpn_bbox: 0.0007, loss_cls: 0.0069, acc: 99.7762, loss_bbox: 0.0047, loss: 0.0141\n",
      "2022-12-07 15:21:06,825 - mmdet - INFO - Saving checkpoint at 1 epochs\n"
     ]
    },
    {
     "name": "stdout",
     "output_type": "stream",
     "text": [
      "[>>>>>>>>>>>>>>>>>>>>>>>>>>>] 2323/2323, 5.0 task/s, elapsed: 460s, ETA:     0s\n",
      "---------------iou_thr: 0.5---------------\n"
     ]
    },
    {
     "name": "stderr",
     "output_type": "stream",
     "text": [
      "2022-12-07 15:28:51,595 - mmdet - INFO - \n",
      "+------------+-------+------+--------+-------+\n",
      "| class      | gts   | dets | recall | ap    |\n",
      "+------------+-------+------+--------+-------+\n",
      "| car        | 13124 | 1324 | 0.019  | 0.011 |\n",
      "| bus        | 1786  | 296  | 0.023  | 0.013 |\n",
      "| truck      | 3084  | 326  | 0.008  | 0.006 |\n",
      "| pedestrian | 3063  | 793  | 0.012  | 0.005 |\n",
      "+------------+-------+------+--------+-------+\n",
      "| mAP        |       |      |        | 0.009 |\n",
      "+------------+-------+------+--------+-------+\n",
      "2022-12-07 15:28:51,695 - mmdet - INFO - Epoch(val) [1][2323]\tAP50: 0.0090, mAP: 0.0086\n",
      "2022-12-07 15:34:26,939 - mmdet - INFO - Epoch [2][100/1494]\tlr: 2.000e-02, eta: 1 day, 0:15:55, time: 3.346, data_time: 1.637, memory: 11276, loss_rpn_cls: 0.0016, loss_rpn_bbox: 0.0008, loss_cls: 0.0068, acc: 99.7737, loss_bbox: 0.0050, loss: 0.0142\n",
      "2022-12-07 15:39:59,557 - mmdet - INFO - Epoch [2][200/1494]\tlr: 2.000e-02, eta: 1 day, 0:17:22, time: 3.326, data_time: 1.638, memory: 11276, loss_rpn_cls: 0.0025, loss_rpn_bbox: 0.0009, loss_cls: 0.0072, acc: 99.7542, loss_bbox: 0.0058, loss: 0.0163\n",
      "2022-12-07 15:45:30,212 - mmdet - INFO - Epoch [2][300/1494]\tlr: 2.000e-02, eta: 1 day, 0:17:31, time: 3.306, data_time: 1.626, memory: 11276, loss_rpn_cls: 0.0017, loss_rpn_bbox: 0.0007, loss_cls: 0.0064, acc: 99.7914, loss_bbox: 0.0045, loss: 0.0134\n",
      "2022-12-07 15:50:59,462 - mmdet - INFO - Epoch [2][400/1494]\tlr: 2.000e-02, eta: 1 day, 0:16:44, time: 3.293, data_time: 1.623, memory: 11276, loss_rpn_cls: 0.0021, loss_rpn_bbox: 0.0008, loss_cls: 0.0061, acc: 99.7980, loss_bbox: 0.0042, loss: 0.0134\n",
      "2022-12-07 15:56:30,519 - mmdet - INFO - Epoch [2][500/1494]\tlr: 2.000e-02, eta: 1 day, 0:15:54, time: 3.311, data_time: 1.646, memory: 11276, loss_rpn_cls: 0.0022, loss_rpn_bbox: 0.0008, loss_cls: 0.0068, acc: 99.7810, loss_bbox: 0.0044, loss: 0.0141\n",
      "2022-12-07 16:02:02,936 - mmdet - INFO - Epoch [2][600/1494]\tlr: 2.000e-02, eta: 1 day, 0:14:55, time: 3.324, data_time: 1.656, memory: 11276, loss_rpn_cls: 0.0021, loss_rpn_bbox: 0.0006, loss_cls: 0.0058, acc: 99.8045, loss_bbox: 0.0037, loss: 0.0122\n",
      "2022-12-07 16:07:31,705 - mmdet - INFO - Epoch [2][700/1494]\tlr: 2.000e-02, eta: 1 day, 0:12:45, time: 3.288, data_time: 1.639, memory: 11276, loss_rpn_cls: 0.0020, loss_rpn_bbox: 0.0007, loss_cls: 0.0060, acc: 99.8034, loss_bbox: 0.0041, loss: 0.0128\n",
      "2022-12-07 16:13:02,641 - mmdet - INFO - Epoch [2][800/1494]\tlr: 2.000e-02, eta: 1 day, 0:10:44, time: 3.309, data_time: 1.634, memory: 11276, loss_rpn_cls: 0.0015, loss_rpn_bbox: 0.0007, loss_cls: 0.0057, acc: 99.8098, loss_bbox: 0.0042, loss: 0.0122\n",
      "2022-12-07 16:18:33,220 - mmdet - INFO - Epoch [2][900/1494]\tlr: 2.000e-02, eta: 1 day, 0:08:21, time: 3.306, data_time: 1.637, memory: 11276, loss_rpn_cls: 0.0022, loss_rpn_bbox: 0.0009, loss_cls: 0.0060, acc: 99.7998, loss_bbox: 0.0043, loss: 0.0134\n",
      "2022-12-07 16:24:05,265 - mmdet - INFO - Epoch [2][1000/1494]\tlr: 2.000e-02, eta: 1 day, 0:05:59, time: 3.320, data_time: 1.647, memory: 11276, loss_rpn_cls: 0.0018, loss_rpn_bbox: 0.0007, loss_cls: 0.0058, acc: 99.8090, loss_bbox: 0.0040, loss: 0.0123\n",
      "2022-12-07 16:29:36,194 - mmdet - INFO - Epoch [2][1100/1494]\tlr: 2.000e-02, eta: 1 day, 0:03:11, time: 3.309, data_time: 1.629, memory: 11276, loss_rpn_cls: 0.0017, loss_rpn_bbox: 0.0006, loss_cls: 0.0058, acc: 99.8064, loss_bbox: 0.0035, loss: 0.0115\n",
      "2022-12-07 16:35:05,847 - mmdet - INFO - Epoch [2][1200/1494]\tlr: 2.000e-02, eta: 23:59:58, time: 3.297, data_time: 1.624, memory: 11276, loss_rpn_cls: 0.0020, loss_rpn_bbox: 0.0008, loss_cls: 0.0064, acc: 99.7907, loss_bbox: 0.0042, loss: 0.0134\n",
      "2022-12-07 16:40:37,859 - mmdet - INFO - Epoch [2][1300/1494]\tlr: 2.000e-02, eta: 23:56:58, time: 3.320, data_time: 1.627, memory: 11276, loss_rpn_cls: 0.0025, loss_rpn_bbox: 0.0009, loss_cls: 0.0060, acc: 99.7958, loss_bbox: 0.0044, loss: 0.0139\n",
      "2022-12-07 16:46:10,440 - mmdet - INFO - Epoch [2][1400/1494]\tlr: 2.000e-02, eta: 23:53:52, time: 3.326, data_time: 1.631, memory: 11276, loss_rpn_cls: 0.0024, loss_rpn_bbox: 0.0009, loss_cls: 0.0063, acc: 99.7965, loss_bbox: 0.0047, loss: 0.0142\n",
      "2022-12-07 16:51:21,767 - mmdet - INFO - Saving checkpoint at 2 epochs\n"
     ]
    },
    {
     "name": "stdout",
     "output_type": "stream",
     "text": [
      "[>>>>>>>>>>>>>>>>>>>>>>>>>>>] 2323/2323, 5.0 task/s, elapsed: 464s, ETA:     0s\n",
      "---------------iou_thr: 0.5---------------\n"
     ]
    },
    {
     "name": "stderr",
     "output_type": "stream",
     "text": [
      "2022-12-07 16:59:10,347 - mmdet - INFO - \n",
      "+------------+-------+------+--------+-------+\n",
      "| class      | gts   | dets | recall | ap    |\n",
      "+------------+-------+------+--------+-------+\n",
      "| car        | 13124 | 1186 | 0.021  | 0.015 |\n",
      "| bus        | 1786  | 291  | 0.024  | 0.016 |\n",
      "| truck      | 3084  | 293  | 0.009  | 0.007 |\n",
      "| pedestrian | 3063  | 529  | 0.015  | 0.006 |\n",
      "+------------+-------+------+--------+-------+\n",
      "| mAP        |       |      |        | 0.011 |\n",
      "+------------+-------+------+--------+-------+\n",
      "2022-12-07 16:59:10,452 - mmdet - INFO - Epoch(val) [2][2323]\tAP50: 0.0110, mAP: 0.0108\n",
      "2022-12-07 17:04:42,713 - mmdet - INFO - Epoch [3][100/1494]\tlr: 2.000e-02, eta: 23:02:05, time: 3.316, data_time: 1.644, memory: 11276, loss_rpn_cls: 0.0021, loss_rpn_bbox: 0.0008, loss_cls: 0.0057, acc: 99.8101, loss_bbox: 0.0043, loss: 0.0129\n",
      "2022-12-07 17:10:13,777 - mmdet - INFO - Epoch [3][200/1494]\tlr: 2.000e-02, eta: 22:59:56, time: 3.311, data_time: 1.636, memory: 11276, loss_rpn_cls: 0.0012, loss_rpn_bbox: 0.0005, loss_cls: 0.0049, acc: 99.8343, loss_bbox: 0.0032, loss: 0.0099\n",
      "2022-12-07 17:15:46,487 - mmdet - INFO - Epoch [3][300/1494]\tlr: 2.000e-02, eta: 22:57:48, time: 3.327, data_time: 1.659, memory: 11276, loss_rpn_cls: 0.0020, loss_rpn_bbox: 0.0008, loss_cls: 0.0054, acc: 99.8267, loss_bbox: 0.0035, loss: 0.0117\n",
      "2022-12-07 17:21:19,144 - mmdet - INFO - Epoch [3][400/1494]\tlr: 2.000e-02, eta: 22:55:27, time: 3.327, data_time: 1.647, memory: 11276, loss_rpn_cls: 0.0021, loss_rpn_bbox: 0.0007, loss_cls: 0.0052, acc: 99.8284, loss_bbox: 0.0035, loss: 0.0116\n",
      "2022-12-07 17:26:53,781 - mmdet - INFO - Epoch [3][500/1494]\tlr: 2.000e-02, eta: 22:53:11, time: 3.346, data_time: 1.677, memory: 11276, loss_rpn_cls: 0.0023, loss_rpn_bbox: 0.0009, loss_cls: 0.0054, acc: 99.8200, loss_bbox: 0.0042, loss: 0.0129\n",
      "2022-12-07 17:32:26,634 - mmdet - INFO - Epoch [3][600/1494]\tlr: 2.000e-02, eta: 22:50:30, time: 3.329, data_time: 1.657, memory: 11276, loss_rpn_cls: 0.0022, loss_rpn_bbox: 0.0009, loss_cls: 0.0062, acc: 99.8022, loss_bbox: 0.0042, loss: 0.0135\n",
      "2022-12-07 17:37:55,875 - mmdet - INFO - Epoch [3][700/1494]\tlr: 2.000e-02, eta: 22:47:14, time: 3.292, data_time: 1.624, memory: 11276, loss_rpn_cls: 0.0018, loss_rpn_bbox: 0.0007, loss_cls: 0.0053, acc: 99.8245, loss_bbox: 0.0036, loss: 0.0113\n",
      "2022-12-07 17:43:24,634 - mmdet - INFO - Epoch [3][800/1494]\tlr: 2.000e-02, eta: 22:43:48, time: 3.288, data_time: 1.625, memory: 11276, loss_rpn_cls: 0.0019, loss_rpn_bbox: 0.0009, loss_cls: 0.0051, acc: 99.8306, loss_bbox: 0.0033, loss: 0.0111\n",
      "2022-12-07 17:48:54,926 - mmdet - INFO - Epoch [3][900/1494]\tlr: 2.000e-02, eta: 22:40:26, time: 3.303, data_time: 1.641, memory: 11276, loss_rpn_cls: 0.0016, loss_rpn_bbox: 0.0005, loss_cls: 0.0049, acc: 99.8331, loss_bbox: 0.0034, loss: 0.0104\n",
      "2022-12-07 17:54:23,740 - mmdet - INFO - Epoch [3][1000/1494]\tlr: 2.000e-02, eta: 22:36:48, time: 3.288, data_time: 1.615, memory: 11276, loss_rpn_cls: 0.0020, loss_rpn_bbox: 0.0008, loss_cls: 0.0052, acc: 99.8242, loss_bbox: 0.0039, loss: 0.0119\n",
      "2022-12-07 17:59:54,936 - mmdet - INFO - Epoch [3][1100/1494]\tlr: 2.000e-02, eta: 22:33:19, time: 3.312, data_time: 1.626, memory: 11276, loss_rpn_cls: 0.0014, loss_rpn_bbox: 0.0006, loss_cls: 0.0051, acc: 99.8336, loss_bbox: 0.0036, loss: 0.0107\n",
      "2022-12-07 18:05:27,149 - mmdet - INFO - Epoch [3][1200/1494]\tlr: 2.000e-02, eta: 22:29:51, time: 3.322, data_time: 1.651, memory: 11276, loss_rpn_cls: 0.0018, loss_rpn_bbox: 0.0007, loss_cls: 0.0050, acc: 99.8336, loss_bbox: 0.0038, loss: 0.0114\n",
      "2022-12-07 18:10:56,755 - mmdet - INFO - Epoch [3][1300/1494]\tlr: 2.000e-02, eta: 22:26:02, time: 3.296, data_time: 1.624, memory: 11276, loss_rpn_cls: 0.0017, loss_rpn_bbox: 0.0009, loss_cls: 0.0054, acc: 99.8161, loss_bbox: 0.0040, loss: 0.0119\n",
      "2022-12-07 18:16:26,046 - mmdet - INFO - Epoch [3][1400/1494]\tlr: 2.000e-02, eta: 22:22:06, time: 3.293, data_time: 1.622, memory: 11276, loss_rpn_cls: 0.0017, loss_rpn_bbox: 0.0009, loss_cls: 0.0054, acc: 99.8184, loss_bbox: 0.0037, loss: 0.0117\n",
      "2022-12-07 18:21:34,388 - mmdet - INFO - Saving checkpoint at 3 epochs\n"
     ]
    },
    {
     "name": "stdout",
     "output_type": "stream",
     "text": [
      "[>>>>>>>>>>>>>>>>>>>>>>>>>>>] 2323/2323, 5.0 task/s, elapsed: 461s, ETA:     0s\n",
      "---------------iou_thr: 0.5---------------\n"
     ]
    },
    {
     "name": "stderr",
     "output_type": "stream",
     "text": [
      "2022-12-07 18:29:19,927 - mmdet - INFO - \n",
      "+------------+-------+------+--------+-------+\n",
      "| class      | gts   | dets | recall | ap    |\n",
      "+------------+-------+------+--------+-------+\n",
      "| car        | 13124 | 841  | 0.022  | 0.018 |\n",
      "| bus        | 1786  | 178  | 0.027  | 0.021 |\n",
      "| truck      | 3084  | 159  | 0.010  | 0.007 |\n",
      "| pedestrian | 3063  | 339  | 0.015  | 0.007 |\n",
      "+------------+-------+------+--------+-------+\n",
      "| mAP        |       |      |        | 0.013 |\n",
      "+------------+-------+------+--------+-------+\n",
      "2022-12-07 18:29:20,016 - mmdet - INFO - Epoch(val) [3][2323]\tAP50: 0.0130, mAP: 0.0135\n",
      "2022-12-07 18:34:52,064 - mmdet - INFO - Epoch [4][100/1494]\tlr: 2.000e-02, eta: 21:45:59, time: 3.314, data_time: 1.645, memory: 11276, loss_rpn_cls: 0.0019, loss_rpn_bbox: 0.0009, loss_cls: 0.0052, acc: 99.8256, loss_bbox: 0.0040, loss: 0.0119\n",
      "2022-12-07 18:40:22,054 - mmdet - INFO - Epoch [4][200/1494]\tlr: 2.000e-02, eta: 21:42:38, time: 3.300, data_time: 1.638, memory: 11276, loss_rpn_cls: 0.0018, loss_rpn_bbox: 0.0006, loss_cls: 0.0044, acc: 99.8552, loss_bbox: 0.0030, loss: 0.0098\n",
      "2022-12-07 18:45:53,970 - mmdet - INFO - Epoch [4][300/1494]\tlr: 2.000e-02, eta: 21:39:22, time: 3.319, data_time: 1.656, memory: 11276, loss_rpn_cls: 0.0015, loss_rpn_bbox: 0.0007, loss_cls: 0.0046, acc: 99.8467, loss_bbox: 0.0035, loss: 0.0103\n",
      "2022-12-07 18:51:23,564 - mmdet - INFO - Epoch [4][400/1494]\tlr: 2.000e-02, eta: 21:35:49, time: 3.296, data_time: 1.634, memory: 11276, loss_rpn_cls: 0.0021, loss_rpn_bbox: 0.0008, loss_cls: 0.0051, acc: 99.8260, loss_bbox: 0.0037, loss: 0.0117\n",
      "2022-12-07 18:56:55,678 - mmdet - INFO - Epoch [4][500/1494]\tlr: 2.000e-02, eta: 21:32:23, time: 3.321, data_time: 1.653, memory: 11276, loss_rpn_cls: 0.0017, loss_rpn_bbox: 0.0008, loss_cls: 0.0051, acc: 99.8269, loss_bbox: 0.0040, loss: 0.0116\n",
      "2022-12-07 19:02:26,459 - mmdet - INFO - Epoch [4][600/1494]\tlr: 2.000e-02, eta: 21:28:46, time: 3.308, data_time: 1.642, memory: 11276, loss_rpn_cls: 0.0019, loss_rpn_bbox: 0.0008, loss_cls: 0.0052, acc: 99.8206, loss_bbox: 0.0036, loss: 0.0115\n",
      "2022-12-07 19:07:58,823 - mmdet - INFO - Epoch [4][700/1494]\tlr: 2.000e-02, eta: 21:25:12, time: 3.324, data_time: 1.649, memory: 11276, loss_rpn_cls: 0.0015, loss_rpn_bbox: 0.0008, loss_cls: 0.0051, acc: 99.8324, loss_bbox: 0.0036, loss: 0.0110\n",
      "2022-12-07 19:13:29,636 - mmdet - INFO - Epoch [4][800/1494]\tlr: 2.000e-02, eta: 21:21:27, time: 3.308, data_time: 1.646, memory: 11276, loss_rpn_cls: 0.0020, loss_rpn_bbox: 0.0008, loss_cls: 0.0050, acc: 99.8412, loss_bbox: 0.0033, loss: 0.0112\n",
      "2022-12-07 19:18:59,116 - mmdet - INFO - Epoch [4][900/1494]\tlr: 2.000e-02, eta: 21:17:31, time: 3.295, data_time: 1.628, memory: 11276, loss_rpn_cls: 0.0020, loss_rpn_bbox: 0.0007, loss_cls: 0.0046, acc: 99.8432, loss_bbox: 0.0033, loss: 0.0106\n",
      "2022-12-07 19:24:30,230 - mmdet - INFO - Epoch [4][1000/1494]\tlr: 2.000e-02, eta: 21:13:39, time: 3.311, data_time: 1.641, memory: 11276, loss_rpn_cls: 0.0015, loss_rpn_bbox: 0.0007, loss_cls: 0.0044, acc: 99.8504, loss_bbox: 0.0028, loss: 0.0095\n",
      "2022-12-07 19:29:59,826 - mmdet - INFO - Epoch [4][1100/1494]\tlr: 2.000e-02, eta: 21:09:37, time: 3.296, data_time: 1.631, memory: 11276, loss_rpn_cls: 0.0020, loss_rpn_bbox: 0.0009, loss_cls: 0.0054, acc: 99.8182, loss_bbox: 0.0039, loss: 0.0122\n",
      "2022-12-07 19:35:29,900 - mmdet - INFO - Epoch [4][1200/1494]\tlr: 2.000e-02, eta: 21:05:34, time: 3.301, data_time: 1.634, memory: 11276, loss_rpn_cls: 0.0015, loss_rpn_bbox: 0.0008, loss_cls: 0.0048, acc: 99.8426, loss_bbox: 0.0033, loss: 0.0103\n",
      "2022-12-07 19:41:00,197 - mmdet - INFO - Epoch [4][1300/1494]\tlr: 2.000e-02, eta: 21:01:29, time: 3.303, data_time: 1.645, memory: 11276, loss_rpn_cls: 0.0019, loss_rpn_bbox: 0.0007, loss_cls: 0.0045, acc: 99.8545, loss_bbox: 0.0032, loss: 0.0102\n",
      "2022-12-07 19:46:30,898 - mmdet - INFO - Epoch [4][1400/1494]\tlr: 2.000e-02, eta: 20:57:23, time: 3.307, data_time: 1.659, memory: 11276, loss_rpn_cls: 0.0019, loss_rpn_bbox: 0.0007, loss_cls: 0.0044, acc: 99.8541, loss_bbox: 0.0030, loss: 0.0100\n",
      "2022-12-07 19:51:39,707 - mmdet - INFO - Saving checkpoint at 4 epochs\n"
     ]
    },
    {
     "name": "stdout",
     "output_type": "stream",
     "text": [
      "[>>>>>>>>>>>>>>>>>>>>>>>>>>>] 2323/2323, 5.1 task/s, elapsed: 458s, ETA:     0s\n",
      "---------------iou_thr: 0.5---------------\n"
     ]
    },
    {
     "name": "stderr",
     "output_type": "stream",
     "text": [
      "2022-12-07 19:59:22,371 - mmdet - INFO - \n",
      "+------------+-------+------+--------+-------+\n",
      "| class      | gts   | dets | recall | ap    |\n",
      "+------------+-------+------+--------+-------+\n",
      "| car        | 13124 | 978  | 0.022  | 0.018 |\n",
      "| bus        | 1786  | 283  | 0.027  | 0.021 |\n",
      "| truck      | 3084  | 379  | 0.010  | 0.008 |\n",
      "| pedestrian | 3063  | 300  | 0.016  | 0.008 |\n",
      "+------------+-------+------+--------+-------+\n",
      "| mAP        |       |      |        | 0.014 |\n",
      "+------------+-------+------+--------+-------+\n",
      "2022-12-07 19:59:22,474 - mmdet - INFO - Epoch(val) [4][2323]\tAP50: 0.0140, mAP: 0.0137\n",
      "2022-12-07 20:04:53,390 - mmdet - INFO - Epoch [5][100/1494]\tlr: 2.000e-02, eta: 20:28:57, time: 3.303, data_time: 1.642, memory: 11276, loss_rpn_cls: 0.0018, loss_rpn_bbox: 0.0009, loss_cls: 0.0047, acc: 99.8331, loss_bbox: 0.0038, loss: 0.0112\n",
      "2022-12-07 20:10:20,130 - mmdet - INFO - Epoch [5][200/1494]\tlr: 2.000e-02, eta: 20:24:53, time: 3.267, data_time: 1.601, memory: 11276, loss_rpn_cls: 0.0018, loss_rpn_bbox: 0.0006, loss_cls: 0.0040, acc: 99.8703, loss_bbox: 0.0026, loss: 0.0090\n",
      "2022-12-07 20:15:50,805 - mmdet - INFO - Epoch [5][300/1494]\tlr: 2.000e-02, eta: 20:21:00, time: 3.307, data_time: 1.643, memory: 11276, loss_rpn_cls: 0.0018, loss_rpn_bbox: 0.0009, loss_cls: 0.0045, acc: 99.8456, loss_bbox: 0.0033, loss: 0.0105\n",
      "2022-12-07 20:21:20,978 - mmdet - INFO - Epoch [5][400/1494]\tlr: 2.000e-02, eta: 20:17:03, time: 3.302, data_time: 1.639, memory: 11276, loss_rpn_cls: 0.0018, loss_rpn_bbox: 0.0008, loss_cls: 0.0042, acc: 99.8612, loss_bbox: 0.0030, loss: 0.0098\n",
      "2022-12-07 20:26:50,207 - mmdet - INFO - Epoch [5][500/1494]\tlr: 2.000e-02, eta: 20:12:59, time: 3.292, data_time: 1.625, memory: 11276, loss_rpn_cls: 0.0019, loss_rpn_bbox: 0.0008, loss_cls: 0.0051, acc: 99.8329, loss_bbox: 0.0041, loss: 0.0118\n",
      "2022-12-07 20:32:21,208 - mmdet - INFO - Epoch [5][600/1494]\tlr: 2.000e-02, eta: 20:08:59, time: 3.310, data_time: 1.642, memory: 11276, loss_rpn_cls: 0.0018, loss_rpn_bbox: 0.0009, loss_cls: 0.0048, acc: 99.8394, loss_bbox: 0.0037, loss: 0.0111\n",
      "2022-12-07 20:37:52,251 - mmdet - INFO - Epoch [5][700/1494]\tlr: 2.000e-02, eta: 20:04:57, time: 3.310, data_time: 1.637, memory: 11276, loss_rpn_cls: 0.0018, loss_rpn_bbox: 0.0007, loss_cls: 0.0046, acc: 99.8504, loss_bbox: 0.0030, loss: 0.0101\n",
      "2022-12-07 20:43:23,625 - mmdet - INFO - Epoch [5][800/1494]\tlr: 2.000e-02, eta: 20:00:53, time: 3.314, data_time: 1.651, memory: 11276, loss_rpn_cls: 0.0021, loss_rpn_bbox: 0.0009, loss_cls: 0.0051, acc: 99.8216, loss_bbox: 0.0041, loss: 0.0122\n",
      "2022-12-07 20:48:53,252 - mmdet - INFO - Epoch [5][900/1494]\tlr: 2.000e-02, eta: 19:56:40, time: 3.296, data_time: 1.628, memory: 11276, loss_rpn_cls: 0.0015, loss_rpn_bbox: 0.0006, loss_cls: 0.0036, acc: 99.8809, loss_bbox: 0.0025, loss: 0.0082\n",
      "2022-12-07 20:54:20,705 - mmdet - INFO - Epoch [5][1000/1494]\tlr: 2.000e-02, eta: 19:52:18, time: 3.274, data_time: 1.609, memory: 11276, loss_rpn_cls: 0.0017, loss_rpn_bbox: 0.0008, loss_cls: 0.0049, acc: 99.8350, loss_bbox: 0.0034, loss: 0.0108\n",
      "2022-12-07 20:59:49,148 - mmdet - INFO - Epoch [5][1100/1494]\tlr: 2.000e-02, eta: 19:47:58, time: 3.284, data_time: 1.623, memory: 11276, loss_rpn_cls: 0.0017, loss_rpn_bbox: 0.0006, loss_cls: 0.0048, acc: 99.8426, loss_bbox: 0.0030, loss: 0.0102\n",
      "2022-12-07 21:05:17,184 - mmdet - INFO - Epoch [5][1200/1494]\tlr: 2.000e-02, eta: 19:43:34, time: 3.280, data_time: 1.620, memory: 11276, loss_rpn_cls: 0.0017, loss_rpn_bbox: 0.0007, loss_cls: 0.0046, acc: 99.8456, loss_bbox: 0.0033, loss: 0.0104\n",
      "2022-12-07 21:10:44,901 - mmdet - INFO - Epoch [5][1300/1494]\tlr: 2.000e-02, eta: 19:39:08, time: 3.277, data_time: 1.600, memory: 11276, loss_rpn_cls: 0.0017, loss_rpn_bbox: 0.0006, loss_cls: 0.0043, acc: 99.8581, loss_bbox: 0.0030, loss: 0.0095\n",
      "2022-12-07 21:16:16,229 - mmdet - INFO - Epoch [5][1400/1494]\tlr: 2.000e-02, eta: 19:34:51, time: 3.313, data_time: 1.632, memory: 11276, loss_rpn_cls: 0.0018, loss_rpn_bbox: 0.0009, loss_cls: 0.0053, acc: 99.8220, loss_bbox: 0.0039, loss: 0.0119\n",
      "2022-12-07 21:21:24,338 - mmdet - INFO - Saving checkpoint at 5 epochs\n"
     ]
    },
    {
     "name": "stdout",
     "output_type": "stream",
     "text": [
      "[>>>>>>>>>>>>>>>>>>>>>>>>>>>] 2323/2323, 5.2 task/s, elapsed: 450s, ETA:     0s\n",
      "---------------iou_thr: 0.5---------------\n"
     ]
    },
    {
     "name": "stderr",
     "output_type": "stream",
     "text": [
      "2022-12-07 21:28:58,414 - mmdet - INFO - \n",
      "+------------+-------+------+--------+-------+\n",
      "| class      | gts   | dets | recall | ap    |\n",
      "+------------+-------+------+--------+-------+\n",
      "| car        | 13124 | 1055 | 0.023  | 0.019 |\n",
      "| bus        | 1786  | 330  | 0.029  | 0.023 |\n",
      "| truck      | 3084  | 185  | 0.010  | 0.007 |\n",
      "| pedestrian | 3063  | 1041 | 0.019  | 0.008 |\n",
      "+------------+-------+------+--------+-------+\n",
      "| mAP        |       |      |        | 0.014 |\n",
      "+------------+-------+------+--------+-------+\n",
      "2022-12-07 21:28:58,506 - mmdet - INFO - Epoch(val) [5][2323]\tAP50: 0.0140, mAP: 0.0144\n",
      "2022-12-07 21:34:24,902 - mmdet - INFO - Epoch [6][100/1494]\tlr: 2.000e-02, eta: 19:10:52, time: 3.257, data_time: 1.589, memory: 11276, loss_rpn_cls: 0.0014, loss_rpn_bbox: 0.0006, loss_cls: 0.0041, acc: 99.8626, loss_bbox: 0.0032, loss: 0.0094\n",
      "2022-12-07 21:39:51,180 - mmdet - INFO - Epoch [6][200/1494]\tlr: 2.000e-02, eta: 19:06:31, time: 3.263, data_time: 1.600, memory: 11276, loss_rpn_cls: 0.0019, loss_rpn_bbox: 0.0007, loss_cls: 0.0042, acc: 99.8549, loss_bbox: 0.0032, loss: 0.0099\n",
      "2022-12-07 21:45:19,616 - mmdet - INFO - Epoch [6][300/1494]\tlr: 2.000e-02, eta: 19:02:15, time: 3.284, data_time: 1.611, memory: 11276, loss_rpn_cls: 0.0016, loss_rpn_bbox: 0.0006, loss_cls: 0.0040, acc: 99.8717, loss_bbox: 0.0027, loss: 0.0088\n",
      "2022-12-07 21:50:46,084 - mmdet - INFO - Epoch [6][400/1494]\tlr: 2.000e-02, eta: 18:57:51, time: 3.265, data_time: 1.595, memory: 11276, loss_rpn_cls: 0.0019, loss_rpn_bbox: 0.0008, loss_cls: 0.0047, acc: 99.8465, loss_bbox: 0.0035, loss: 0.0108\n",
      "2022-12-07 21:56:17,854 - mmdet - INFO - Epoch [6][500/1494]\tlr: 2.000e-02, eta: 18:53:40, time: 3.318, data_time: 1.644, memory: 11276, loss_rpn_cls: 0.0016, loss_rpn_bbox: 0.0008, loss_cls: 0.0045, acc: 99.8411, loss_bbox: 0.0036, loss: 0.0106\n",
      "2022-12-07 22:01:48,464 - mmdet - INFO - Epoch [6][600/1494]\tlr: 2.000e-02, eta: 18:49:24, time: 3.306, data_time: 1.640, memory: 11276, loss_rpn_cls: 0.0020, loss_rpn_bbox: 0.0008, loss_cls: 0.0044, acc: 99.8577, loss_bbox: 0.0029, loss: 0.0100\n",
      "2022-12-07 22:07:16,148 - mmdet - INFO - Epoch [6][700/1494]\tlr: 2.000e-02, eta: 18:44:58, time: 3.277, data_time: 1.616, memory: 11276, loss_rpn_cls: 0.0015, loss_rpn_bbox: 0.0006, loss_cls: 0.0045, acc: 99.8499, loss_bbox: 0.0032, loss: 0.0100\n",
      "2022-12-07 22:12:45,501 - mmdet - INFO - Epoch [6][800/1494]\tlr: 2.000e-02, eta: 18:40:36, time: 3.294, data_time: 1.628, memory: 11276, loss_rpn_cls: 0.0021, loss_rpn_bbox: 0.0009, loss_cls: 0.0048, acc: 99.8352, loss_bbox: 0.0039, loss: 0.0116\n",
      "2022-12-07 22:18:16,726 - mmdet - INFO - Epoch [6][900/1494]\tlr: 2.000e-02, eta: 18:36:16, time: 3.312, data_time: 1.642, memory: 11276, loss_rpn_cls: 0.0022, loss_rpn_bbox: 0.0009, loss_cls: 0.0051, acc: 99.8262, loss_bbox: 0.0038, loss: 0.0120\n",
      "2022-12-07 22:23:44,837 - mmdet - INFO - Epoch [6][1000/1494]\tlr: 2.000e-02, eta: 18:31:47, time: 3.281, data_time: 1.621, memory: 11276, loss_rpn_cls: 0.0023, loss_rpn_bbox: 0.0008, loss_cls: 0.0051, acc: 99.8304, loss_bbox: 0.0039, loss: 0.0121\n",
      "2022-12-07 22:29:12,894 - mmdet - INFO - Epoch [6][1100/1494]\tlr: 2.000e-02, eta: 18:27:17, time: 3.281, data_time: 1.624, memory: 11276, loss_rpn_cls: 0.0018, loss_rpn_bbox: 0.0009, loss_cls: 0.0048, acc: 99.8318, loss_bbox: 0.0038, loss: 0.0113\n",
      "2022-12-07 22:34:41,716 - mmdet - INFO - Epoch [6][1200/1494]\tlr: 2.000e-02, eta: 18:22:47, time: 3.288, data_time: 1.613, memory: 11276, loss_rpn_cls: 0.0016, loss_rpn_bbox: 0.0008, loss_cls: 0.0042, acc: 99.8647, loss_bbox: 0.0032, loss: 0.0096\n",
      "2022-12-07 22:40:11,646 - mmdet - INFO - Epoch [6][1300/1494]\tlr: 2.000e-02, eta: 18:18:18, time: 3.299, data_time: 1.622, memory: 11276, loss_rpn_cls: 0.0013, loss_rpn_bbox: 0.0006, loss_cls: 0.0045, acc: 99.8549, loss_bbox: 0.0029, loss: 0.0094\n",
      "2022-12-07 22:45:42,619 - mmdet - INFO - Epoch [6][1400/1494]\tlr: 2.000e-02, eta: 18:13:50, time: 3.310, data_time: 1.642, memory: 11276, loss_rpn_cls: 0.0020, loss_rpn_bbox: 0.0008, loss_cls: 0.0047, acc: 99.8468, loss_bbox: 0.0035, loss: 0.0109\n",
      "2022-12-07 22:50:52,965 - mmdet - INFO - Saving checkpoint at 6 epochs\n"
     ]
    },
    {
     "name": "stdout",
     "output_type": "stream",
     "text": [
      "[>>>>>>>>>>>>>>>>>>>>>>>>>>>] 2323/2323, 5.0 task/s, elapsed: 463s, ETA:     0s\n",
      "---------------iou_thr: 0.5---------------\n"
     ]
    },
    {
     "name": "stderr",
     "output_type": "stream",
     "text": [
      "2022-12-07 22:58:40,848 - mmdet - INFO - \n",
      "+------------+-------+------+--------+-------+\n",
      "| class      | gts   | dets | recall | ap    |\n",
      "+------------+-------+------+--------+-------+\n",
      "| car        | 13124 | 911  | 0.022  | 0.019 |\n",
      "| bus        | 1786  | 217  | 0.030  | 0.023 |\n",
      "| truck      | 3084  | 233  | 0.010  | 0.008 |\n",
      "| pedestrian | 3063  | 521  | 0.019  | 0.010 |\n",
      "+------------+-------+------+--------+-------+\n",
      "| mAP        |       |      |        | 0.015 |\n",
      "+------------+-------+------+--------+-------+\n",
      "2022-12-07 22:58:40,953 - mmdet - INFO - Epoch(val) [6][2323]\tAP50: 0.0150, mAP: 0.0149\n",
      "2022-12-07 23:04:10,973 - mmdet - INFO - Epoch [7][100/1494]\tlr: 2.000e-02, eta: 17:53:09, time: 3.294, data_time: 1.631, memory: 11276, loss_rpn_cls: 0.0020, loss_rpn_bbox: 0.0009, loss_cls: 0.0048, acc: 99.8387, loss_bbox: 0.0033, loss: 0.0110\n",
      "2022-12-07 23:09:40,121 - mmdet - INFO - Epoch [7][200/1494]\tlr: 2.000e-02, eta: 17:48:44, time: 3.291, data_time: 1.628, memory: 11276, loss_rpn_cls: 0.0019, loss_rpn_bbox: 0.0009, loss_cls: 0.0055, acc: 99.8188, loss_bbox: 0.0042, loss: 0.0124\n",
      "2022-12-07 23:15:09,730 - mmdet - INFO - Epoch [7][300/1494]\tlr: 2.000e-02, eta: 17:44:19, time: 3.296, data_time: 1.627, memory: 11276, loss_rpn_cls: 0.0015, loss_rpn_bbox: 0.0006, loss_cls: 0.0040, acc: 99.8694, loss_bbox: 0.0029, loss: 0.0089\n",
      "2022-12-07 23:20:39,025 - mmdet - INFO - Epoch [7][400/1494]\tlr: 2.000e-02, eta: 17:39:53, time: 3.293, data_time: 1.623, memory: 11276, loss_rpn_cls: 0.0014, loss_rpn_bbox: 0.0008, loss_cls: 0.0041, acc: 99.8609, loss_bbox: 0.0032, loss: 0.0095\n",
      "2022-12-07 23:26:12,156 - mmdet - INFO - Epoch [7][500/1494]\tlr: 2.000e-02, eta: 17:35:33, time: 3.331, data_time: 1.654, memory: 11276, loss_rpn_cls: 0.0013, loss_rpn_bbox: 0.0005, loss_cls: 0.0039, acc: 99.8796, loss_bbox: 0.0027, loss: 0.0083\n",
      "2022-12-07 23:31:41,651 - mmdet - INFO - Epoch [7][600/1494]\tlr: 2.000e-02, eta: 17:31:03, time: 3.295, data_time: 1.630, memory: 11276, loss_rpn_cls: 0.0015, loss_rpn_bbox: 0.0007, loss_cls: 0.0043, acc: 99.8638, loss_bbox: 0.0026, loss: 0.0092\n",
      "2022-12-07 23:37:11,220 - mmdet - INFO - Epoch [7][700/1494]\tlr: 2.000e-02, eta: 17:26:33, time: 3.296, data_time: 1.626, memory: 11276, loss_rpn_cls: 0.0012, loss_rpn_bbox: 0.0007, loss_cls: 0.0042, acc: 99.8570, loss_bbox: 0.0030, loss: 0.0091\n",
      "2022-12-07 23:42:40,816 - mmdet - INFO - Epoch [7][800/1494]\tlr: 2.000e-02, eta: 17:22:01, time: 3.296, data_time: 1.631, memory: 11276, loss_rpn_cls: 0.0014, loss_rpn_bbox: 0.0006, loss_cls: 0.0040, acc: 99.8662, loss_bbox: 0.0029, loss: 0.0088\n",
      "2022-12-07 23:48:11,889 - mmdet - INFO - Epoch [7][900/1494]\tlr: 2.000e-02, eta: 17:17:32, time: 3.311, data_time: 1.628, memory: 11276, loss_rpn_cls: 0.0017, loss_rpn_bbox: 0.0008, loss_cls: 0.0043, acc: 99.8566, loss_bbox: 0.0030, loss: 0.0099\n",
      "2022-12-07 23:53:43,295 - mmdet - INFO - Epoch [7][1000/1494]\tlr: 2.000e-02, eta: 17:13:01, time: 3.314, data_time: 1.637, memory: 11276, loss_rpn_cls: 0.0019, loss_rpn_bbox: 0.0008, loss_cls: 0.0040, acc: 99.8663, loss_bbox: 0.0030, loss: 0.0096\n",
      "2022-12-07 23:59:17,060 - mmdet - INFO - Epoch [7][1100/1494]\tlr: 2.000e-02, eta: 17:08:35, time: 3.338, data_time: 1.660, memory: 11276, loss_rpn_cls: 0.0014, loss_rpn_bbox: 0.0006, loss_cls: 0.0042, acc: 99.8609, loss_bbox: 0.0029, loss: 0.0091\n",
      "2022-12-08 00:04:50,805 - mmdet - INFO - Epoch [7][1200/1494]\tlr: 2.000e-02, eta: 17:04:06, time: 3.338, data_time: 1.664, memory: 11276, loss_rpn_cls: 0.0015, loss_rpn_bbox: 0.0008, loss_cls: 0.0044, acc: 99.8567, loss_bbox: 0.0034, loss: 0.0101\n",
      "2022-12-08 00:10:24,272 - mmdet - INFO - Epoch [7][1300/1494]\tlr: 2.000e-02, eta: 16:59:36, time: 3.335, data_time: 1.655, memory: 11276, loss_rpn_cls: 0.0018, loss_rpn_bbox: 0.0008, loss_cls: 0.0049, acc: 99.8410, loss_bbox: 0.0040, loss: 0.0115\n",
      "2022-12-08 00:15:55,719 - mmdet - INFO - Epoch [7][1400/1494]\tlr: 2.000e-02, eta: 16:55:01, time: 3.315, data_time: 1.648, memory: 11276, loss_rpn_cls: 0.0016, loss_rpn_bbox: 0.0007, loss_cls: 0.0046, acc: 99.8493, loss_bbox: 0.0035, loss: 0.0104\n",
      "2022-12-08 00:21:06,768 - mmdet - INFO - Saving checkpoint at 7 epochs\n"
     ]
    },
    {
     "name": "stdout",
     "output_type": "stream",
     "text": [
      "[>>>>>>>>>>>>>>>>>>>>>>>>>>>] 2323/2323, 5.0 task/s, elapsed: 467s, ETA:     0s\n",
      "---------------iou_thr: 0.5---------------\n"
     ]
    },
    {
     "name": "stderr",
     "output_type": "stream",
     "text": [
      "2022-12-08 00:28:58,690 - mmdet - INFO - \n",
      "+------------+-------+------+--------+-------+\n",
      "| class      | gts   | dets | recall | ap    |\n",
      "+------------+-------+------+--------+-------+\n",
      "| car        | 13124 | 720  | 0.022  | 0.019 |\n",
      "| bus        | 1786  | 141  | 0.026  | 0.021 |\n",
      "| truck      | 3084  | 151  | 0.010  | 0.008 |\n",
      "| pedestrian | 3063  | 502  | 0.017  | 0.009 |\n",
      "+------------+-------+------+--------+-------+\n",
      "| mAP        |       |      |        | 0.014 |\n",
      "+------------+-------+------+--------+-------+\n",
      "2022-12-08 00:28:58,777 - mmdet - INFO - Epoch(val) [7][2323]\tAP50: 0.0140, mAP: 0.0142\n",
      "2022-12-08 00:34:31,477 - mmdet - INFO - Epoch [8][100/1494]\tlr: 2.000e-02, eta: 16:36:36, time: 3.321, data_time: 1.652, memory: 11276, loss_rpn_cls: 0.0018, loss_rpn_bbox: 0.0008, loss_cls: 0.0044, acc: 99.8472, loss_bbox: 0.0033, loss: 0.0104\n",
      "2022-12-08 00:40:04,828 - mmdet - INFO - Epoch [8][200/1494]\tlr: 2.000e-02, eta: 16:32:09, time: 3.333, data_time: 1.655, memory: 11276, loss_rpn_cls: 0.0013, loss_rpn_bbox: 0.0006, loss_cls: 0.0035, acc: 99.8866, loss_bbox: 0.0025, loss: 0.0079\n",
      "2022-12-08 00:45:37,949 - mmdet - INFO - Epoch [8][300/1494]\tlr: 2.000e-02, eta: 16:27:41, time: 3.331, data_time: 1.653, memory: 11276, loss_rpn_cls: 0.0014, loss_rpn_bbox: 0.0008, loss_cls: 0.0040, acc: 99.8658, loss_bbox: 0.0030, loss: 0.0092\n",
      "2022-12-08 00:51:10,605 - mmdet - INFO - Epoch [8][400/1494]\tlr: 2.000e-02, eta: 16:23:11, time: 3.326, data_time: 1.650, memory: 11276, loss_rpn_cls: 0.0018, loss_rpn_bbox: 0.0007, loss_cls: 0.0040, acc: 99.8641, loss_bbox: 0.0027, loss: 0.0092\n",
      "2022-12-08 00:56:42,255 - mmdet - INFO - Epoch [8][500/1494]\tlr: 2.000e-02, eta: 16:18:38, time: 3.317, data_time: 1.633, memory: 11276, loss_rpn_cls: 0.0017, loss_rpn_bbox: 0.0007, loss_cls: 0.0042, acc: 99.8595, loss_bbox: 0.0032, loss: 0.0098\n",
      "2022-12-08 01:02:12,141 - mmdet - INFO - Epoch [8][600/1494]\tlr: 2.000e-02, eta: 16:14:01, time: 3.299, data_time: 1.631, memory: 11276, loss_rpn_cls: 0.0018, loss_rpn_bbox: 0.0008, loss_cls: 0.0039, acc: 99.8719, loss_bbox: 0.0029, loss: 0.0094\n",
      "2022-12-08 01:07:43,381 - mmdet - INFO - Epoch [8][700/1494]\tlr: 2.000e-02, eta: 16:09:26, time: 3.312, data_time: 1.644, memory: 11276, loss_rpn_cls: 0.0015, loss_rpn_bbox: 0.0007, loss_cls: 0.0038, acc: 99.8700, loss_bbox: 0.0026, loss: 0.0086\n",
      "2022-12-08 01:13:10,907 - mmdet - INFO - Epoch [8][800/1494]\tlr: 2.000e-02, eta: 16:04:43, time: 3.275, data_time: 1.621, memory: 11276, loss_rpn_cls: 0.0018, loss_rpn_bbox: 0.0007, loss_cls: 0.0044, acc: 99.8509, loss_bbox: 0.0034, loss: 0.0103\n",
      "2022-12-08 01:18:39,792 - mmdet - INFO - Epoch [8][900/1494]\tlr: 2.000e-02, eta: 16:00:01, time: 3.289, data_time: 1.622, memory: 11276, loss_rpn_cls: 0.0013, loss_rpn_bbox: 0.0006, loss_cls: 0.0042, acc: 99.8577, loss_bbox: 0.0029, loss: 0.0089\n",
      "2022-12-08 01:24:11,914 - mmdet - INFO - Epoch [8][1000/1494]\tlr: 2.000e-02, eta: 15:55:24, time: 3.321, data_time: 1.645, memory: 11276, loss_rpn_cls: 0.0018, loss_rpn_bbox: 0.0008, loss_cls: 0.0045, acc: 99.8453, loss_bbox: 0.0037, loss: 0.0107\n",
      "2022-12-08 01:29:43,205 - mmdet - INFO - Epoch [8][1100/1494]\tlr: 2.000e-02, eta: 15:50:45, time: 3.313, data_time: 1.639, memory: 11276, loss_rpn_cls: 0.0016, loss_rpn_bbox: 0.0006, loss_cls: 0.0043, acc: 99.8590, loss_bbox: 0.0025, loss: 0.0090\n",
      "2022-12-08 01:35:11,553 - mmdet - INFO - Epoch [8][1200/1494]\tlr: 2.000e-02, eta: 15:46:00, time: 3.283, data_time: 1.615, memory: 11276, loss_rpn_cls: 0.0013, loss_rpn_bbox: 0.0005, loss_cls: 0.0039, acc: 99.8704, loss_bbox: 0.0026, loss: 0.0083\n",
      "2022-12-08 01:40:45,768 - mmdet - INFO - Epoch [8][1300/1494]\tlr: 2.000e-02, eta: 15:41:24, time: 3.342, data_time: 1.657, memory: 11276, loss_rpn_cls: 0.0017, loss_rpn_bbox: 0.0009, loss_cls: 0.0047, acc: 99.8417, loss_bbox: 0.0038, loss: 0.0110\n",
      "2022-12-08 01:46:17,297 - mmdet - INFO - Epoch [8][1400/1494]\tlr: 2.000e-02, eta: 15:36:42, time: 3.315, data_time: 1.629, memory: 11276, loss_rpn_cls: 0.0016, loss_rpn_bbox: 0.0006, loss_cls: 0.0041, acc: 99.8570, loss_bbox: 0.0027, loss: 0.0091\n",
      "2022-12-08 01:51:26,684 - mmdet - INFO - Saving checkpoint at 8 epochs\n"
     ]
    },
    {
     "name": "stdout",
     "output_type": "stream",
     "text": [
      "[>>>>>>>>>>>>>>>>>>>>>>>>>>>] 2323/2323, 5.0 task/s, elapsed: 463s, ETA:     0s\n",
      "---------------iou_thr: 0.5---------------\n"
     ]
    },
    {
     "name": "stderr",
     "output_type": "stream",
     "text": [
      "2022-12-08 01:59:14,125 - mmdet - INFO - \n",
      "+------------+-------+------+--------+-------+\n",
      "| class      | gts   | dets | recall | ap    |\n",
      "+------------+-------+------+--------+-------+\n",
      "| car        | 13124 | 837  | 0.023  | 0.020 |\n",
      "| bus        | 1786  | 280  | 0.030  | 0.023 |\n",
      "| truck      | 3084  | 271  | 0.011  | 0.007 |\n",
      "| pedestrian | 3063  | 582  | 0.017  | 0.009 |\n",
      "+------------+-------+------+--------+-------+\n",
      "| mAP        |       |      |        | 0.015 |\n",
      "+------------+-------+------+--------+-------+\n",
      "2022-12-08 01:59:14,242 - mmdet - INFO - Epoch(val) [8][2323]\tAP50: 0.0150, mAP: 0.0146\n",
      "2022-12-08 02:04:46,419 - mmdet - INFO - Epoch [9][100/1494]\tlr: 2.000e-03, eta: 15:19:53, time: 3.315, data_time: 1.646, memory: 11276, loss_rpn_cls: 0.0019, loss_rpn_bbox: 0.0009, loss_cls: 0.0042, acc: 99.8608, loss_bbox: 0.0034, loss: 0.0104\n",
      "2022-12-08 02:10:17,757 - mmdet - INFO - Epoch [9][200/1494]\tlr: 2.000e-03, eta: 15:15:15, time: 3.313, data_time: 1.637, memory: 11276, loss_rpn_cls: 0.0014, loss_rpn_bbox: 0.0007, loss_cls: 0.0037, acc: 99.8828, loss_bbox: 0.0024, loss: 0.0083\n",
      "2022-12-08 02:15:47,001 - mmdet - INFO - Epoch [9][300/1494]\tlr: 2.000e-03, eta: 15:10:33, time: 3.292, data_time: 1.622, memory: 11276, loss_rpn_cls: 0.0019, loss_rpn_bbox: 0.0007, loss_cls: 0.0038, acc: 99.8715, loss_bbox: 0.0027, loss: 0.0091\n",
      "2022-12-08 02:21:18,832 - mmdet - INFO - Epoch [9][400/1494]\tlr: 2.000e-03, eta: 15:05:54, time: 3.318, data_time: 1.652, memory: 11276, loss_rpn_cls: 0.0015, loss_rpn_bbox: 0.0007, loss_cls: 0.0035, acc: 99.8862, loss_bbox: 0.0025, loss: 0.0082\n",
      "2022-12-08 02:26:48,266 - mmdet - INFO - Epoch [9][500/1494]\tlr: 2.000e-03, eta: 15:01:11, time: 3.294, data_time: 1.628, memory: 11276, loss_rpn_cls: 0.0017, loss_rpn_bbox: 0.0008, loss_cls: 0.0039, acc: 99.8691, loss_bbox: 0.0028, loss: 0.0092\n",
      "2022-12-08 02:32:21,371 - mmdet - INFO - Epoch [9][600/1494]\tlr: 2.000e-03, eta: 14:56:33, time: 3.331, data_time: 1.660, memory: 11276, loss_rpn_cls: 0.0019, loss_rpn_bbox: 0.0007, loss_cls: 0.0037, acc: 99.8754, loss_bbox: 0.0026, loss: 0.0089\n",
      "2022-12-08 02:37:51,338 - mmdet - INFO - Epoch [9][700/1494]\tlr: 2.000e-03, eta: 14:51:49, time: 3.300, data_time: 1.632, memory: 11276, loss_rpn_cls: 0.0014, loss_rpn_bbox: 0.0007, loss_cls: 0.0032, acc: 99.8938, loss_bbox: 0.0022, loss: 0.0075\n",
      "2022-12-08 02:43:20,113 - mmdet - INFO - Epoch [9][800/1494]\tlr: 2.000e-03, eta: 14:47:03, time: 3.288, data_time: 1.620, memory: 11276, loss_rpn_cls: 0.0013, loss_rpn_bbox: 0.0007, loss_cls: 0.0036, acc: 99.8781, loss_bbox: 0.0027, loss: 0.0083\n",
      "2022-12-08 02:48:49,268 - mmdet - INFO - Epoch [9][900/1494]\tlr: 2.000e-03, eta: 14:42:16, time: 3.291, data_time: 1.626, memory: 11276, loss_rpn_cls: 0.0015, loss_rpn_bbox: 0.0009, loss_cls: 0.0040, acc: 99.8707, loss_bbox: 0.0028, loss: 0.0091\n",
      "2022-12-08 02:54:18,661 - mmdet - INFO - Epoch [9][1000/1494]\tlr: 2.000e-03, eta: 14:37:30, time: 3.294, data_time: 1.625, memory: 11276, loss_rpn_cls: 0.0019, loss_rpn_bbox: 0.0008, loss_cls: 0.0039, acc: 99.8725, loss_bbox: 0.0031, loss: 0.0096\n",
      "2022-12-08 02:59:48,479 - mmdet - INFO - Epoch [9][1100/1494]\tlr: 2.000e-03, eta: 14:32:43, time: 3.298, data_time: 1.631, memory: 11276, loss_rpn_cls: 0.0012, loss_rpn_bbox: 0.0006, loss_cls: 0.0035, acc: 99.8834, loss_bbox: 0.0025, loss: 0.0078\n",
      "2022-12-08 03:05:18,258 - mmdet - INFO - Epoch [9][1200/1494]\tlr: 2.000e-03, eta: 14:27:55, time: 3.298, data_time: 1.629, memory: 11276, loss_rpn_cls: 0.0018, loss_rpn_bbox: 0.0008, loss_cls: 0.0038, acc: 99.8668, loss_bbox: 0.0028, loss: 0.0092\n",
      "2022-12-08 03:10:47,448 - mmdet - INFO - Epoch [9][1300/1494]\tlr: 2.000e-03, eta: 14:23:06, time: 3.292, data_time: 1.620, memory: 11276, loss_rpn_cls: 0.0014, loss_rpn_bbox: 0.0007, loss_cls: 0.0037, acc: 99.8712, loss_bbox: 0.0026, loss: 0.0084\n",
      "2022-12-08 03:16:17,190 - mmdet - INFO - Epoch [9][1400/1494]\tlr: 2.000e-03, eta: 14:18:18, time: 3.297, data_time: 1.626, memory: 11276, loss_rpn_cls: 0.0016, loss_rpn_bbox: 0.0007, loss_cls: 0.0038, acc: 99.8728, loss_bbox: 0.0031, loss: 0.0092\n",
      "2022-12-08 03:21:27,129 - mmdet - INFO - Saving checkpoint at 9 epochs\n"
     ]
    },
    {
     "name": "stdout",
     "output_type": "stream",
     "text": [
      "[>>>>>>>>>>>>>>>>>>>>>>>>>>>] 2323/2323, 5.1 task/s, elapsed: 453s, ETA:     0s\n",
      "---------------iou_thr: 0.5---------------\n"
     ]
    },
    {
     "name": "stderr",
     "output_type": "stream",
     "text": [
      "2022-12-08 03:29:04,553 - mmdet - INFO - \n",
      "+------------+-------+------+--------+-------+\n",
      "| class      | gts   | dets | recall | ap    |\n",
      "+------------+-------+------+--------+-------+\n",
      "| car        | 13124 | 895  | 0.023  | 0.020 |\n",
      "| bus        | 1786  | 259  | 0.029  | 0.021 |\n",
      "| truck      | 3084  | 255  | 0.012  | 0.009 |\n",
      "| pedestrian | 3063  | 494  | 0.020  | 0.012 |\n",
      "+------------+-------+------+--------+-------+\n",
      "| mAP        |       |      |        | 0.015 |\n",
      "+------------+-------+------+--------+-------+\n",
      "2022-12-08 03:29:04,652 - mmdet - INFO - Epoch(val) [9][2323]\tAP50: 0.0150, mAP: 0.0154\n",
      "2022-12-08 03:34:36,762 - mmdet - INFO - Epoch [10][100/1494]\tlr: 2.000e-03, eta: 14:02:44, time: 3.315, data_time: 1.641, memory: 11276, loss_rpn_cls: 0.0011, loss_rpn_bbox: 0.0005, loss_cls: 0.0028, acc: 99.9065, loss_bbox: 0.0017, loss: 0.0061\n",
      "2022-12-08 03:40:05,380 - mmdet - INFO - Epoch [10][200/1494]\tlr: 2.000e-03, eta: 13:57:57, time: 3.286, data_time: 1.611, memory: 11276, loss_rpn_cls: 0.0016, loss_rpn_bbox: 0.0008, loss_cls: 0.0037, acc: 99.8763, loss_bbox: 0.0029, loss: 0.0089\n",
      "2022-12-08 03:45:32,675 - mmdet - INFO - Epoch [10][300/1494]\tlr: 2.000e-03, eta: 13:53:08, time: 3.273, data_time: 1.602, memory: 11276, loss_rpn_cls: 0.0015, loss_rpn_bbox: 0.0006, loss_cls: 0.0035, acc: 99.8830, loss_bbox: 0.0022, loss: 0.0078\n",
      "2022-12-08 03:50:59,597 - mmdet - INFO - Epoch [10][400/1494]\tlr: 2.000e-03, eta: 13:48:18, time: 3.269, data_time: 1.600, memory: 11276, loss_rpn_cls: 0.0014, loss_rpn_bbox: 0.0008, loss_cls: 0.0035, acc: 99.8878, loss_bbox: 0.0023, loss: 0.0080\n",
      "2022-12-08 03:56:25,912 - mmdet - INFO - Epoch [10][500/1494]\tlr: 2.000e-03, eta: 13:43:27, time: 3.263, data_time: 1.592, memory: 11276, loss_rpn_cls: 0.0015, loss_rpn_bbox: 0.0008, loss_cls: 0.0037, acc: 99.8772, loss_bbox: 0.0029, loss: 0.0089\n",
      "2022-12-08 04:01:52,954 - mmdet - INFO - Epoch [10][600/1494]\tlr: 2.000e-03, eta: 13:38:36, time: 3.270, data_time: 1.601, memory: 11276, loss_rpn_cls: 0.0020, loss_rpn_bbox: 0.0009, loss_cls: 0.0042, acc: 99.8590, loss_bbox: 0.0034, loss: 0.0105\n",
      "2022-12-08 04:07:19,856 - mmdet - INFO - Epoch [10][700/1494]\tlr: 2.000e-03, eta: 13:33:44, time: 3.269, data_time: 1.596, memory: 11276, loss_rpn_cls: 0.0013, loss_rpn_bbox: 0.0006, loss_cls: 0.0032, acc: 99.8896, loss_bbox: 0.0022, loss: 0.0073\n",
      "2022-12-08 04:12:46,340 - mmdet - INFO - Epoch [10][800/1494]\tlr: 2.000e-03, eta: 13:28:51, time: 3.265, data_time: 1.589, memory: 11276, loss_rpn_cls: 0.0016, loss_rpn_bbox: 0.0009, loss_cls: 0.0039, acc: 99.8627, loss_bbox: 0.0033, loss: 0.0097\n",
      "2022-12-08 04:18:12,959 - mmdet - INFO - Epoch [10][900/1494]\tlr: 2.000e-03, eta: 13:23:59, time: 3.266, data_time: 1.589, memory: 11276, loss_rpn_cls: 0.0019, loss_rpn_bbox: 0.0009, loss_cls: 0.0037, acc: 99.8761, loss_bbox: 0.0027, loss: 0.0092\n",
      "2022-12-08 04:23:40,204 - mmdet - INFO - Epoch [10][1000/1494]\tlr: 2.000e-03, eta: 13:19:06, time: 3.272, data_time: 1.599, memory: 11276, loss_rpn_cls: 0.0011, loss_rpn_bbox: 0.0006, loss_cls: 0.0033, acc: 99.8855, loss_bbox: 0.0024, loss: 0.0075\n",
      "2022-12-08 04:29:08,004 - mmdet - INFO - Epoch [10][1100/1494]\tlr: 2.000e-03, eta: 13:14:13, time: 3.278, data_time: 1.603, memory: 11276, loss_rpn_cls: 0.0019, loss_rpn_bbox: 0.0011, loss_cls: 0.0047, acc: 99.8435, loss_bbox: 0.0041, loss: 0.0119\n",
      "2022-12-08 04:34:33,585 - mmdet - INFO - Epoch [10][1200/1494]\tlr: 2.000e-03, eta: 13:09:18, time: 3.256, data_time: 1.581, memory: 11276, loss_rpn_cls: 0.0013, loss_rpn_bbox: 0.0007, loss_cls: 0.0032, acc: 99.8922, loss_bbox: 0.0022, loss: 0.0074\n",
      "2022-12-08 04:39:59,689 - mmdet - INFO - Epoch [10][1300/1494]\tlr: 2.000e-03, eta: 13:04:23, time: 3.261, data_time: 1.585, memory: 11276, loss_rpn_cls: 0.0016, loss_rpn_bbox: 0.0008, loss_cls: 0.0038, acc: 99.8680, loss_bbox: 0.0029, loss: 0.0091\n",
      "2022-12-08 04:45:27,653 - mmdet - INFO - Epoch [10][1400/1494]\tlr: 2.000e-03, eta: 12:59:29, time: 3.280, data_time: 1.602, memory: 11276, loss_rpn_cls: 0.0020, loss_rpn_bbox: 0.0008, loss_cls: 0.0039, acc: 99.8751, loss_bbox: 0.0028, loss: 0.0094\n",
      "2022-12-08 04:50:34,040 - mmdet - INFO - Saving checkpoint at 10 epochs\n"
     ]
    },
    {
     "name": "stdout",
     "output_type": "stream",
     "text": [
      "[>>>>>>>>>>>>>>>>>>>>>>>>>>>] 2323/2323, 5.1 task/s, elapsed: 452s, ETA:     0s\n",
      "---------------iou_thr: 0.5---------------\n"
     ]
    },
    {
     "name": "stderr",
     "output_type": "stream",
     "text": [
      "2022-12-08 04:58:10,603 - mmdet - INFO - \n",
      "+------------+-------+------+--------+-------+\n",
      "| class      | gts   | dets | recall | ap    |\n",
      "+------------+-------+------+--------+-------+\n",
      "| car        | 13124 | 969  | 0.023  | 0.020 |\n",
      "| bus        | 1786  | 260  | 0.030  | 0.021 |\n",
      "| truck      | 3084  | 260  | 0.011  | 0.009 |\n",
      "| pedestrian | 3063  | 652  | 0.019  | 0.012 |\n",
      "+------------+-------+------+--------+-------+\n",
      "| mAP        |       |      |        | 0.015 |\n",
      "+------------+-------+------+--------+-------+\n",
      "2022-12-08 04:58:10,701 - mmdet - INFO - Epoch(val) [10][2323]\tAP50: 0.0150, mAP: 0.0154\n",
      "2022-12-08 05:03:38,005 - mmdet - INFO - Epoch [11][100/1494]\tlr: 2.000e-03, eta: 12:44:52, time: 3.266, data_time: 1.591, memory: 11276, loss_rpn_cls: 0.0014, loss_rpn_bbox: 0.0007, loss_cls: 0.0034, acc: 99.8901, loss_bbox: 0.0025, loss: 0.0080\n",
      "2022-12-08 05:09:03,145 - mmdet - INFO - Epoch [11][200/1494]\tlr: 2.000e-03, eta: 12:39:58, time: 3.251, data_time: 1.579, memory: 11276, loss_rpn_cls: 0.0016, loss_rpn_bbox: 0.0008, loss_cls: 0.0035, acc: 99.8855, loss_bbox: 0.0027, loss: 0.0086\n",
      "2022-12-08 05:14:28,527 - mmdet - INFO - Epoch [11][300/1494]\tlr: 2.000e-03, eta: 12:35:05, time: 3.254, data_time: 1.576, memory: 11276, loss_rpn_cls: 0.0012, loss_rpn_bbox: 0.0006, loss_cls: 0.0031, acc: 99.8983, loss_bbox: 0.0020, loss: 0.0069\n",
      "2022-12-08 05:19:52,444 - mmdet - INFO - Epoch [11][400/1494]\tlr: 2.000e-03, eta: 12:30:09, time: 3.239, data_time: 1.568, memory: 11276, loss_rpn_cls: 0.0017, loss_rpn_bbox: 0.0008, loss_cls: 0.0037, acc: 99.8728, loss_bbox: 0.0028, loss: 0.0090\n",
      "2022-12-08 05:25:18,649 - mmdet - INFO - Epoch [11][500/1494]\tlr: 2.000e-03, eta: 12:25:15, time: 3.262, data_time: 1.591, memory: 11276, loss_rpn_cls: 0.0014, loss_rpn_bbox: 0.0006, loss_cls: 0.0034, acc: 99.8850, loss_bbox: 0.0025, loss: 0.0080\n",
      "2022-12-08 05:30:44,914 - mmdet - INFO - Epoch [11][600/1494]\tlr: 2.000e-03, eta: 12:20:20, time: 3.263, data_time: 1.593, memory: 11276, loss_rpn_cls: 0.0012, loss_rpn_bbox: 0.0006, loss_cls: 0.0031, acc: 99.8975, loss_bbox: 0.0021, loss: 0.0070\n",
      "2022-12-08 05:36:11,830 - mmdet - INFO - Epoch [11][700/1494]\tlr: 2.000e-03, eta: 12:15:26, time: 3.269, data_time: 1.595, memory: 11276, loss_rpn_cls: 0.0013, loss_rpn_bbox: 0.0008, loss_cls: 0.0039, acc: 99.8710, loss_bbox: 0.0030, loss: 0.0090\n",
      "2022-12-08 05:41:38,117 - mmdet - INFO - Epoch [11][800/1494]\tlr: 2.000e-03, eta: 12:10:31, time: 3.263, data_time: 1.589, memory: 11276, loss_rpn_cls: 0.0017, loss_rpn_bbox: 0.0008, loss_cls: 0.0036, acc: 99.8790, loss_bbox: 0.0027, loss: 0.0088\n",
      "2022-12-08 05:47:03,900 - mmdet - INFO - Epoch [11][900/1494]\tlr: 2.000e-03, eta: 12:05:35, time: 3.258, data_time: 1.582, memory: 11276, loss_rpn_cls: 0.0014, loss_rpn_bbox: 0.0007, loss_cls: 0.0037, acc: 99.8733, loss_bbox: 0.0029, loss: 0.0086\n",
      "2022-12-08 05:52:28,787 - mmdet - INFO - Epoch [11][1000/1494]\tlr: 2.000e-03, eta: 12:00:38, time: 3.249, data_time: 1.576, memory: 11276, loss_rpn_cls: 0.0014, loss_rpn_bbox: 0.0006, loss_cls: 0.0031, acc: 99.8958, loss_bbox: 0.0021, loss: 0.0072\n",
      "2022-12-08 05:57:52,719 - mmdet - INFO - Epoch [11][1100/1494]\tlr: 2.000e-03, eta: 11:55:40, time: 3.239, data_time: 1.568, memory: 11276, loss_rpn_cls: 0.0016, loss_rpn_bbox: 0.0009, loss_cls: 0.0039, acc: 99.8704, loss_bbox: 0.0030, loss: 0.0092\n",
      "2022-12-08 06:03:17,352 - mmdet - INFO - Epoch [11][1200/1494]\tlr: 2.000e-03, eta: 11:50:42, time: 3.246, data_time: 1.570, memory: 11276, loss_rpn_cls: 0.0016, loss_rpn_bbox: 0.0008, loss_cls: 0.0039, acc: 99.8726, loss_bbox: 0.0032, loss: 0.0094\n",
      "2022-12-08 06:08:43,877 - mmdet - INFO - Epoch [11][1300/1494]\tlr: 2.000e-03, eta: 11:45:45, time: 3.265, data_time: 1.592, memory: 11276, loss_rpn_cls: 0.0017, loss_rpn_bbox: 0.0007, loss_cls: 0.0033, acc: 99.8888, loss_bbox: 0.0023, loss: 0.0080\n",
      "2022-12-08 06:14:10,605 - mmdet - INFO - Epoch [11][1400/1494]\tlr: 2.000e-03, eta: 11:40:48, time: 3.267, data_time: 1.595, memory: 11276, loss_rpn_cls: 0.0015, loss_rpn_bbox: 0.0007, loss_cls: 0.0032, acc: 99.8913, loss_bbox: 0.0023, loss: 0.0078\n",
      "2022-12-08 06:19:15,805 - mmdet - INFO - Saving checkpoint at 11 epochs\n"
     ]
    },
    {
     "name": "stdout",
     "output_type": "stream",
     "text": [
      "[>>>>>>>>>>>>>>>>>>>>>>>>>>>] 2323/2323, 5.3 task/s, elapsed: 441s, ETA:     0s\n",
      "---------------iou_thr: 0.5---------------\n"
     ]
    },
    {
     "name": "stderr",
     "output_type": "stream",
     "text": [
      "2022-12-08 06:26:41,817 - mmdet - INFO - \n",
      "+------------+-------+------+--------+-------+\n",
      "| class      | gts   | dets | recall | ap    |\n",
      "+------------+-------+------+--------+-------+\n",
      "| car        | 13124 | 877  | 0.023  | 0.020 |\n",
      "| bus        | 1786  | 231  | 0.029  | 0.022 |\n",
      "| truck      | 3084  | 282  | 0.012  | 0.009 |\n",
      "| pedestrian | 3063  | 560  | 0.020  | 0.012 |\n",
      "+------------+-------+------+--------+-------+\n",
      "| mAP        |       |      |        | 0.016 |\n",
      "+------------+-------+------+--------+-------+\n",
      "2022-12-08 06:26:41,908 - mmdet - INFO - Epoch(val) [11][2323]\tAP50: 0.0160, mAP: 0.0156\n",
      "2022-12-08 06:32:06,862 - mmdet - INFO - Epoch [12][100/1494]\tlr: 2.000e-04, eta: 11:27:01, time: 3.243, data_time: 1.570, memory: 11276, loss_rpn_cls: 0.0013, loss_rpn_bbox: 0.0007, loss_cls: 0.0037, acc: 99.8753, loss_bbox: 0.0027, loss: 0.0084\n",
      "2022-12-08 06:37:29,366 - mmdet - INFO - Epoch [12][200/1494]\tlr: 2.000e-04, eta: 11:22:03, time: 3.225, data_time: 1.554, memory: 11276, loss_rpn_cls: 0.0013, loss_rpn_bbox: 0.0007, loss_cls: 0.0033, acc: 99.8867, loss_bbox: 0.0025, loss: 0.0079\n",
      "2022-12-08 06:42:50,906 - mmdet - INFO - Epoch [12][300/1494]\tlr: 2.000e-04, eta: 11:17:04, time: 3.215, data_time: 1.546, memory: 11276, loss_rpn_cls: 0.0015, loss_rpn_bbox: 0.0006, loss_cls: 0.0032, acc: 99.8944, loss_bbox: 0.0020, loss: 0.0073\n",
      "2022-12-08 06:48:14,416 - mmdet - INFO - Epoch [12][400/1494]\tlr: 2.000e-04, eta: 11:12:06, time: 3.235, data_time: 1.563, memory: 11276, loss_rpn_cls: 0.0021, loss_rpn_bbox: 0.0009, loss_cls: 0.0037, acc: 99.8739, loss_bbox: 0.0032, loss: 0.0099\n",
      "2022-12-08 06:53:38,980 - mmdet - INFO - Epoch [12][500/1494]\tlr: 2.000e-04, eta: 11:07:09, time: 3.246, data_time: 1.570, memory: 11276, loss_rpn_cls: 0.0016, loss_rpn_bbox: 0.0008, loss_cls: 0.0037, acc: 99.8792, loss_bbox: 0.0028, loss: 0.0088\n",
      "2022-12-08 06:59:03,026 - mmdet - INFO - Epoch [12][600/1494]\tlr: 2.000e-04, eta: 11:02:11, time: 3.240, data_time: 1.566, memory: 11276, loss_rpn_cls: 0.0017, loss_rpn_bbox: 0.0008, loss_cls: 0.0038, acc: 99.8721, loss_bbox: 0.0029, loss: 0.0092\n",
      "2022-12-08 07:04:28,599 - mmdet - INFO - Epoch [12][700/1494]\tlr: 2.000e-04, eta: 10:57:14, time: 3.256, data_time: 1.576, memory: 11276, loss_rpn_cls: 0.0015, loss_rpn_bbox: 0.0007, loss_cls: 0.0035, acc: 99.8817, loss_bbox: 0.0027, loss: 0.0084\n",
      "2022-12-08 07:09:54,225 - mmdet - INFO - Epoch [12][800/1494]\tlr: 2.000e-04, eta: 10:52:16, time: 3.256, data_time: 1.581, memory: 11276, loss_rpn_cls: 0.0020, loss_rpn_bbox: 0.0008, loss_cls: 0.0038, acc: 99.8778, loss_bbox: 0.0028, loss: 0.0094\n",
      "2022-12-08 07:15:19,985 - mmdet - INFO - Epoch [12][900/1494]\tlr: 2.000e-04, eta: 10:47:18, time: 3.258, data_time: 1.582, memory: 11276, loss_rpn_cls: 0.0012, loss_rpn_bbox: 0.0007, loss_cls: 0.0033, acc: 99.8871, loss_bbox: 0.0021, loss: 0.0073\n",
      "2022-12-08 07:20:43,851 - mmdet - INFO - Epoch [12][1000/1494]\tlr: 2.000e-04, eta: 10:42:19, time: 3.239, data_time: 1.565, memory: 11276, loss_rpn_cls: 0.0013, loss_rpn_bbox: 0.0006, loss_cls: 0.0036, acc: 99.8795, loss_bbox: 0.0023, loss: 0.0078\n",
      "2022-12-08 07:26:07,560 - mmdet - INFO - Epoch [12][1100/1494]\tlr: 2.000e-04, eta: 10:37:19, time: 3.237, data_time: 1.564, memory: 11276, loss_rpn_cls: 0.0017, loss_rpn_bbox: 0.0009, loss_cls: 0.0037, acc: 99.8767, loss_bbox: 0.0030, loss: 0.0092\n",
      "2022-12-08 07:31:29,550 - mmdet - INFO - Epoch [12][1200/1494]\tlr: 2.000e-04, eta: 10:32:18, time: 3.220, data_time: 1.550, memory: 11276, loss_rpn_cls: 0.0016, loss_rpn_bbox: 0.0007, loss_cls: 0.0034, acc: 99.8881, loss_bbox: 0.0025, loss: 0.0082\n",
      "2022-12-08 07:36:51,721 - mmdet - INFO - Epoch [12][1300/1494]\tlr: 2.000e-04, eta: 10:27:17, time: 3.222, data_time: 1.555, memory: 11276, loss_rpn_cls: 0.0016, loss_rpn_bbox: 0.0007, loss_cls: 0.0034, acc: 99.8831, loss_bbox: 0.0027, loss: 0.0084\n",
      "2022-12-08 07:42:13,625 - mmdet - INFO - Epoch [12][1400/1494]\tlr: 2.000e-04, eta: 10:22:15, time: 3.219, data_time: 1.552, memory: 11276, loss_rpn_cls: 0.0013, loss_rpn_bbox: 0.0006, loss_cls: 0.0032, acc: 99.8943, loss_bbox: 0.0022, loss: 0.0073\n",
      "2022-12-08 07:47:17,274 - mmdet - INFO - Saving checkpoint at 12 epochs\n"
     ]
    },
    {
     "name": "stdout",
     "output_type": "stream",
     "text": [
      "[>>>>>>>>>>>>>>>>>>>>>>>>>>>] 2323/2323, 5.3 task/s, elapsed: 441s, ETA:     0s\n",
      "---------------iou_thr: 0.5---------------\n"
     ]
    },
    {
     "name": "stderr",
     "output_type": "stream",
     "text": [
      "2022-12-08 07:54:42,305 - mmdet - INFO - \n",
      "+------------+-------+------+--------+-------+\n",
      "| class      | gts   | dets | recall | ap    |\n",
      "+------------+-------+------+--------+-------+\n",
      "| car        | 13124 | 916  | 0.023  | 0.020 |\n",
      "| bus        | 1786  | 238  | 0.029  | 0.021 |\n",
      "| truck      | 3084  | 283  | 0.012  | 0.009 |\n",
      "| pedestrian | 3063  | 537  | 0.020  | 0.012 |\n",
      "+------------+-------+------+--------+-------+\n",
      "| mAP        |       |      |        | 0.015 |\n",
      "+------------+-------+------+--------+-------+\n",
      "2022-12-08 07:54:42,398 - mmdet - INFO - Epoch(val) [12][2323]\tAP50: 0.0150, mAP: 0.0154\n",
      "2022-12-08 08:00:08,478 - mmdet - INFO - Epoch [13][100/1494]\tlr: 2.000e-04, eta: 10:09:12, time: 3.254, data_time: 1.583, memory: 11276, loss_rpn_cls: 0.0015, loss_rpn_bbox: 0.0007, loss_cls: 0.0032, acc: 99.8908, loss_bbox: 0.0023, loss: 0.0077\n",
      "2022-12-08 08:05:32,340 - mmdet - INFO - Epoch [13][200/1494]\tlr: 2.000e-04, eta: 10:04:14, time: 3.239, data_time: 1.571, memory: 11276, loss_rpn_cls: 0.0017, loss_rpn_bbox: 0.0008, loss_cls: 0.0037, acc: 99.8754, loss_bbox: 0.0025, loss: 0.0087\n",
      "2022-12-08 08:10:56,223 - mmdet - INFO - Epoch [13][300/1494]\tlr: 2.000e-04, eta: 9:59:15, time: 3.239, data_time: 1.571, memory: 11276, loss_rpn_cls: 0.0016, loss_rpn_bbox: 0.0008, loss_cls: 0.0037, acc: 99.8793, loss_bbox: 0.0029, loss: 0.0090\n",
      "2022-12-08 08:16:19,612 - mmdet - INFO - Epoch [13][400/1494]\tlr: 2.000e-04, eta: 9:54:16, time: 3.234, data_time: 1.562, memory: 11276, loss_rpn_cls: 0.0013, loss_rpn_bbox: 0.0006, loss_cls: 0.0031, acc: 99.8983, loss_bbox: 0.0023, loss: 0.0073\n",
      "2022-12-08 08:21:46,727 - mmdet - INFO - Epoch [13][500/1494]\tlr: 2.000e-04, eta: 9:49:19, time: 3.271, data_time: 1.600, memory: 11276, loss_rpn_cls: 0.0014, loss_rpn_bbox: 0.0007, loss_cls: 0.0034, acc: 99.8901, loss_bbox: 0.0023, loss: 0.0078\n",
      "2022-12-08 08:27:12,811 - mmdet - INFO - Epoch [13][600/1494]\tlr: 2.000e-04, eta: 9:44:21, time: 3.261, data_time: 1.590, memory: 11276, loss_rpn_cls: 0.0014, loss_rpn_bbox: 0.0006, loss_cls: 0.0032, acc: 99.8913, loss_bbox: 0.0022, loss: 0.0074\n",
      "2022-12-08 08:32:37,230 - mmdet - INFO - Epoch [13][700/1494]\tlr: 2.000e-04, eta: 9:39:21, time: 3.244, data_time: 1.575, memory: 11276, loss_rpn_cls: 0.0013, loss_rpn_bbox: 0.0007, loss_cls: 0.0034, acc: 99.8866, loss_bbox: 0.0025, loss: 0.0079\n",
      "2022-12-08 08:38:00,106 - mmdet - INFO - Epoch [13][800/1494]\tlr: 2.000e-04, eta: 9:34:21, time: 3.229, data_time: 1.560, memory: 11276, loss_rpn_cls: 0.0014, loss_rpn_bbox: 0.0007, loss_cls: 0.0035, acc: 99.8793, loss_bbox: 0.0030, loss: 0.0087\n",
      "2022-12-08 08:43:23,737 - mmdet - INFO - Epoch [13][900/1494]\tlr: 2.000e-04, eta: 9:29:20, time: 3.236, data_time: 1.569, memory: 11276, loss_rpn_cls: 0.0013, loss_rpn_bbox: 0.0007, loss_cls: 0.0034, acc: 99.8871, loss_bbox: 0.0024, loss: 0.0077\n",
      "2022-12-08 08:48:47,040 - mmdet - INFO - Epoch [13][1000/1494]\tlr: 2.000e-04, eta: 9:24:19, time: 3.233, data_time: 1.574, memory: 11276, loss_rpn_cls: 0.0020, loss_rpn_bbox: 0.0009, loss_cls: 0.0041, acc: 99.8613, loss_bbox: 0.0034, loss: 0.0104\n",
      "2022-12-08 08:54:10,055 - mmdet - INFO - Epoch [13][1100/1494]\tlr: 2.000e-04, eta: 9:19:18, time: 3.230, data_time: 1.563, memory: 11276, loss_rpn_cls: 0.0016, loss_rpn_bbox: 0.0007, loss_cls: 0.0032, acc: 99.8944, loss_bbox: 0.0024, loss: 0.0079\n",
      "2022-12-08 08:59:33,726 - mmdet - INFO - Epoch [13][1200/1494]\tlr: 2.000e-04, eta: 9:14:17, time: 3.237, data_time: 1.573, memory: 11276, loss_rpn_cls: 0.0016, loss_rpn_bbox: 0.0008, loss_cls: 0.0037, acc: 99.8750, loss_bbox: 0.0028, loss: 0.0089\n",
      "2022-12-08 09:04:58,869 - mmdet - INFO - Epoch [13][1300/1494]\tlr: 2.000e-04, eta: 9:09:16, time: 3.252, data_time: 1.585, memory: 11276, loss_rpn_cls: 0.0016, loss_rpn_bbox: 0.0007, loss_cls: 0.0035, acc: 99.8813, loss_bbox: 0.0024, loss: 0.0082\n",
      "2022-12-08 09:10:25,985 - mmdet - INFO - Epoch [13][1400/1494]\tlr: 2.000e-04, eta: 9:04:17, time: 3.271, data_time: 1.596, memory: 11276, loss_rpn_cls: 0.0016, loss_rpn_bbox: 0.0008, loss_cls: 0.0037, acc: 99.8765, loss_bbox: 0.0029, loss: 0.0090\n",
      "2022-12-08 09:15:30,018 - mmdet - INFO - Saving checkpoint at 13 epochs\n"
     ]
    },
    {
     "name": "stdout",
     "output_type": "stream",
     "text": [
      "[>>>>>>>>>>>>>>>>>>>>>>>>>>>] 2323/2323, 5.2 task/s, elapsed: 445s, ETA:     0s\n",
      "---------------iou_thr: 0.5---------------\n"
     ]
    },
    {
     "name": "stderr",
     "output_type": "stream",
     "text": [
      "2022-12-08 09:22:59,496 - mmdet - INFO - \n",
      "+------------+-------+------+--------+-------+\n",
      "| class      | gts   | dets | recall | ap    |\n",
      "+------------+-------+------+--------+-------+\n",
      "| car        | 13124 | 958  | 0.023  | 0.020 |\n",
      "| bus        | 1786  | 238  | 0.029  | 0.021 |\n",
      "| truck      | 3084  | 271  | 0.012  | 0.009 |\n",
      "| pedestrian | 3063  | 541  | 0.020  | 0.013 |\n",
      "+------------+-------+------+--------+-------+\n",
      "| mAP        |       |      |        | 0.015 |\n",
      "+------------+-------+------+--------+-------+\n",
      "2022-12-08 09:22:59,589 - mmdet - INFO - Epoch(val) [13][2323]\tAP50: 0.0150, mAP: 0.0154\n",
      "2022-12-08 09:28:25,823 - mmdet - INFO - Epoch [14][100/1494]\tlr: 2.000e-04, eta: 8:51:50, time: 3.256, data_time: 1.585, memory: 11276, loss_rpn_cls: 0.0014, loss_rpn_bbox: 0.0007, loss_cls: 0.0036, acc: 99.8779, loss_bbox: 0.0028, loss: 0.0085\n",
      "2022-12-08 09:33:50,576 - mmdet - INFO - Epoch [14][200/1494]\tlr: 2.000e-04, eta: 8:46:51, time: 3.247, data_time: 1.576, memory: 11276, loss_rpn_cls: 0.0015, loss_rpn_bbox: 0.0008, loss_cls: 0.0039, acc: 99.8757, loss_bbox: 0.0029, loss: 0.0091\n",
      "2022-12-08 09:39:16,847 - mmdet - INFO - Epoch [14][300/1494]\tlr: 2.000e-04, eta: 8:41:52, time: 3.263, data_time: 1.595, memory: 11276, loss_rpn_cls: 0.0015, loss_rpn_bbox: 0.0007, loss_cls: 0.0031, acc: 99.8952, loss_bbox: 0.0021, loss: 0.0074\n",
      "2022-12-08 09:44:43,197 - mmdet - INFO - Epoch [14][400/1494]\tlr: 2.000e-04, eta: 8:36:53, time: 3.264, data_time: 1.597, memory: 11276, loss_rpn_cls: 0.0013, loss_rpn_bbox: 0.0007, loss_cls: 0.0035, acc: 99.8853, loss_bbox: 0.0024, loss: 0.0080\n"
     ]
    }
   ],
   "source": [
    "# Build dataset\n",
    "datasets = [build_dataset(cfg.data.train)]\n",
    "\n",
    "# Build the detector\n",
    "model = build_detector(cfg.model, train_cfg=cfg.get('train_cfg'), test_cfg=cfg.get('test_cfg'))\n",
    "# Add an attribute for visualization convenience\n",
    "model.CLASSES = datasets[0].CLASSES\n",
    "\n",
    "# Create work_dir\n",
    "mmcv.mkdir_or_exist(osp.abspath(cfg.work_dir))\n",
    "train_detector(model, datasets, cfg, distributed=False, validate=True)"
   ]
  }
 ],
 "metadata": {
  "kernelspec": {
   "display_name": "Python 3 (ipykernel)",
   "language": "python",
   "name": "python3"
  },
  "language_info": {
   "codemirror_mode": {
    "name": "ipython",
    "version": 3
   },
   "file_extension": ".py",
   "mimetype": "text/x-python",
   "name": "python",
   "nbconvert_exporter": "python",
   "pygments_lexer": "ipython3",
   "version": "3.9.7"
  }
 },
 "nbformat": 4,
 "nbformat_minor": 5
}
