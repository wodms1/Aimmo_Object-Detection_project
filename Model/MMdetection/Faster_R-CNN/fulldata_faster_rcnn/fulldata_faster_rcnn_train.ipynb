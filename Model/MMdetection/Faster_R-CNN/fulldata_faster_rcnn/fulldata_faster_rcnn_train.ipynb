{
 "cells": [
  {
   "cell_type": "code",
   "execution_count": 1,
   "id": "fedb28fc",
   "metadata": {},
   "outputs": [
    {
     "name": "stdout",
     "output_type": "stream",
     "text": [
      "/aiffel/aiffel/aimmo/mmdetection\n"
     ]
    }
   ],
   "source": [
    "%cd mmdetection\n",
    "\n",
    "# !pip install -q --upgrade wandb\n",
    "# !pip3 install openmim\n",
    "# !mim install mmcv-full\n",
    "# !pip install -e ."
   ]
  },
  {
   "cell_type": "code",
   "execution_count": 8,
   "id": "6a0e785b",
   "metadata": {},
   "outputs": [
    {
     "name": "stdout",
     "output_type": "stream",
     "text": [
      "0.13.6\n"
     ]
    }
   ],
   "source": [
    "from mmdet.apis import init_detector, inference_detector, show_result_pyplot\n",
    "import mmcv\n",
    "from mmcv import Config\n",
    "from mmdet.datasets import build_dataset\n",
    "from mmdet.models import build_detector\n",
    "from mmdet.apis import train_detector\n",
    "from mmdet.datasets.builder import DATASETS\n",
    "from mmdet.datasets.coco import CocoDataset,CustomDataset\n",
    "from mmdet.apis import set_random_seed\n",
    "import os.path as osp\n",
    "import os\n",
    "import numpy as np\n",
    "\n",
    "import wandb\n",
    "print(wandb.__version__)"
   ]
  },
  {
   "cell_type": "code",
   "execution_count": 3,
   "id": "63ec02eb",
   "metadata": {},
   "outputs": [
    {
     "name": "stderr",
     "output_type": "stream",
     "text": [
      "\u001b[34m\u001b[1mwandb\u001b[0m: Currently logged in as: \u001b[33mwodms\u001b[0m. Use \u001b[1m`wandb login --relogin`\u001b[0m to force relogin\n",
      "\u001b[34m\u001b[1mwandb\u001b[0m: \u001b[33mWARNING\u001b[0m If you're specifying your api key in code, ensure this code is not shared publicly.\n",
      "\u001b[34m\u001b[1mwandb\u001b[0m: \u001b[33mWARNING\u001b[0m Consider setting the WANDB_API_KEY environment variable, or running `wandb login` from the command line.\n",
      "\u001b[34m\u001b[1mwandb\u001b[0m: Appending key for api.wandb.ai to your netrc file: /aiffel/.netrc\n"
     ]
    },
    {
     "data": {
      "text/plain": [
       "True"
      ]
     },
     "execution_count": 3,
     "metadata": {},
     "output_type": "execute_result"
    }
   ],
   "source": [
    "# # 완디비 로그인\n",
    "wandb.login(key= '')"
   ]
  },
  {
   "cell_type": "code",
   "execution_count": 4,
   "id": "a95415d6",
   "metadata": {},
   "outputs": [
    {
     "name": "stderr",
     "output_type": "stream",
     "text": [
      "\u001b[34m\u001b[1mwandb\u001b[0m: Currently logged in as: \u001b[33mwodms\u001b[0m (\u001b[33maimmo\u001b[0m). Use \u001b[1m`wandb login --relogin`\u001b[0m to force relogin\n"
     ]
    },
    {
     "data": {
      "text/html": [
       "wandb version 0.13.6 is available!  To upgrade, please run:\n",
       " $ pip install wandb --upgrade"
      ],
      "text/plain": [
       "<IPython.core.display.HTML object>"
      ]
     },
     "metadata": {},
     "output_type": "display_data"
    },
    {
     "data": {
      "text/html": [
       "Tracking run with wandb version 0.13.5"
      ],
      "text/plain": [
       "<IPython.core.display.HTML object>"
      ]
     },
     "metadata": {},
     "output_type": "display_data"
    },
    {
     "data": {
      "text/html": [
       "Run data is saved locally in <code>/aiffel/aiffel/aimmo/mmdetection/wandb/run-20221207_133945-3etu830q</code>"
      ],
      "text/plain": [
       "<IPython.core.display.HTML object>"
      ]
     },
     "metadata": {},
     "output_type": "display_data"
    },
    {
     "data": {
      "text/html": [
       "Syncing run <strong><a href=\"https://wandb.ai/aimmo/r-cnn/runs/3etu830q\" target=\"_blank\">fast-rain-56</a></strong> to <a href=\"https://wandb.ai/aimmo/r-cnn\" target=\"_blank\">Weights & Biases</a> (<a href=\"https://wandb.me/run\" target=\"_blank\">docs</a>)<br/>"
      ],
      "text/plain": [
       "<IPython.core.display.HTML object>"
      ]
     },
     "metadata": {},
     "output_type": "display_data"
    },
    {
     "data": {
      "text/html": [
       "<button onClick=\"this.nextSibling.style.display='block';this.style.display='none';\">Display W&B run</button><iframe src=\"https://wandb.ai/aimmo/r-cnn/runs/3etu830q?jupyter=true\" style=\"border:none;width:100%;height:420px;display:none;\"></iframe>"
      ],
      "text/plain": [
       "<wandb.sdk.wandb_run.Run at 0x7efc94491580>"
      ]
     },
     "execution_count": 4,
     "metadata": {},
     "output_type": "execute_result"
    }
   ],
   "source": [
    "wandb.init(project=\"r-cnn\", entity=\"aimmo\")"
   ]
  },
  {
   "cell_type": "code",
   "execution_count": 9,
   "id": "c3d633a0",
   "metadata": {},
   "outputs": [],
   "source": [
    "@DATASETS.register_module(force=True)\n",
    "class Aimmo(CustomDataset):\n",
    "    CLASSES = ('car', 'truck', 'bus','pedestrian')\n",
    "    def load_annotations(self, ann_file):\n",
    "        cat2label = {k:i for i, k in enumerate(self.CLASSES)}\n",
    "        image_list = mmcv.list_from_file(self.ann_file)\n",
    "        data_infos = []\n",
    "    \n",
    "        for image_id in image_list:\n",
    "            filename = os.path.splitext(image_id)[0]#os.path.splitext('{0:}/{1:}'.format(img_prefix, image_id))[0]\n",
    "            #image = cv2.imread(filename)\n",
    "            data_info = {'filename': filename,\n",
    "                         'width': 1920, \n",
    "                         'height': 1024}\n",
    "            label_prefix = self.img_prefix.replace('image', 'middle_texts')\n",
    "            lines = mmcv.list_from_file(osp.join(label_prefix, str(image_id)))\n",
    "\n",
    "            content = [line.strip().split(' ') for line in lines]\n",
    "            bbox_names = [x[0] for x in content]\n",
    "            bboxes = [ [float(info) for info in x[1:5]] for x in content]\n",
    "\n",
    "            gt_bboxes = []\n",
    "            gt_labels = []\n",
    "            gt_bboxes_ignore = []\n",
    "            gt_labels_ignore = []\n",
    "\n",
    "            for bbox_name, bbox in zip(bbox_names, bboxes):\n",
    "                if bbox_name in cat2label:\n",
    "                    gt_bboxes.append(bbox)\n",
    "                    gt_labels.append(cat2label[bbox_name])\n",
    "                else:\n",
    "                    gt_bboxes_ignore.append(bbox)\n",
    "                    gt_labels_ignore.append(-1)\n",
    "            \n",
    "            data_anno = {\n",
    "              'bboxes': np.array(gt_bboxes, dtype=np.float32).reshape(-1, 4),\n",
    "              'labels': np.array(gt_labels, dtype=np.compat.long),\n",
    "              'bboxes_ignore': np.array(gt_bboxes_ignore, dtype=np.float32).reshape(-1, 4),\n",
    "              'labels_ignore': np.array(gt_labels_ignore, dtype=np.compat.long)\n",
    "            }\n",
    "            data_info.update(ann=data_anno)\n",
    "            data_infos.append(data_info)\n",
    "        return data_infos"
   ]
  },
  {
   "cell_type": "code",
   "execution_count": null,
   "id": "fe194315",
   "metadata": {},
   "outputs": [],
   "source": [
    "config_file = 'configs/faster_rcnn/faster_rcnn_r50_fpn_1x_coco.py'\n",
    "checkpoint_file = 'checkpoints/faster_rcnn_r50_fpn_1x_coco_20200130-047c8118.pth'\n",
    "cfg = Config.fromfile(config_file)\n",
    "\n",
    "cfg.dataset_type = 'Aimmo'\n",
    "cfg.data_root = 'data/'\n",
    "\n",
    "cfg.data.train.type = 'Aimmo'\n",
    "cfg.data.train.data_root = 'data/'\n",
    "cfg.data.train.ann_file = 'middle_train.txt'\n",
    "cfg.data.train.img_prefix = 'image'\n",
    "\n",
    "\n",
    "cfg.data.val.type = 'Aimmo'\n",
    "cfg.data.val.data_root = 'data/'\n",
    "cfg.data.val.ann_file = 'middle_val.txt'\n",
    "cfg.data.val.img_prefix = 'image'\n",
    "\n",
    "\n",
    "cfg.data.test.type = 'Aimmo'\n",
    "cfg.data.test.data_root = 'data/'\n",
    "cfg.data.test.ann_file = 'middle_test.txt'\n",
    "cfg.data.test.img_prefix = 'test/image'\n",
    "\n",
    "cfg.model.roi_head.bbox_head.num_classes = 4\n",
    "\n",
    "cfg.load_from = 'checkpoints/faster_rcnn_r50_fpn_1x_coco_20200130-047c8118.pth'\n",
    "cfg.work_dir = 'middle_fulldata'\n",
    "\n",
    "cfg.lr_config.policy='step'\n",
    "cfg.seed = 0\n",
    "set_random_seed(0, deterministic=False)\n",
    "cfg.gpu_ids = range(1)\n",
    "cfg.device='cuda'\n",
    "cfg.evaluation.metric='mAP'\n",
    "\n",
    "cfg.log_config.interval = 100\n",
    "cfg.evaluation.interval = 1\n",
    "# We can set the checkpoint saving interval to reduce the storage cost\n",
    "cfg.checkpoint_config.interval = 1\n",
    "#cfg.evaluation.save_best='auto'\n",
    "cfg.data.train.pipeline[2].img_scale=[(960,520)]#['Resize']\n",
    "cfg.train_pipeline[2].img_scale=[(960,520)]\n",
    "cfg.test_pipeline[1].img_scale=[(960,520)]\n",
    "cfg.data.val.pipeline[1].img_scale = [(960,520)]\n",
    "cfg.data.test.pipeline[1].img_scale = [(960,520)]\n",
    "cfg.runner.max_epochs = 15\n",
    "\n",
    "cfg.data.samples_per_gpu = 14 # Batch size of a single GPU used in testing\n",
    "cfg.data.workers_per_gpu = 0 # Worker to pre-fetch data for each single GPU"
   ]
  },
  {
   "cell_type": "code",
   "execution_count": 7,
   "id": "083f3c61",
   "metadata": {},
   "outputs": [],
   "source": [
    "cfg.log_config.hooks = [\n",
    "    dict(type='TextLoggerHook'),\n",
    "    dict(type='WandbLoggerHook',\n",
    "         init_kwargs={'project': 'r-cnn', 'entity' : 'aimmo', 'name' : 'fulldata'},)] "
   ]
  },
  {
   "cell_type": "code",
   "execution_count": 9,
   "id": "a11337ff",
   "metadata": {
    "scrolled": true
   },
   "outputs": [
    {
     "name": "stderr",
     "output_type": "stream",
     "text": [
      "2022-12-07 13:39:53,343 - mmdet - INFO - Automatic scaling of learning rate (LR) has been disabled.\n",
      "2022-12-07 13:39:53,487 - mmdet - INFO - load checkpoint from local path: checkpoints/faster_rcnn_r50_fpn_1x_coco_20200130-047c8118.pth\n",
      "2022-12-07 13:39:53,647 - mmdet - WARNING - The model and loaded state dict do not match exactly\n",
      "\n",
      "size mismatch for roi_head.bbox_head.fc_cls.weight: copying a param with shape torch.Size([81, 1024]) from checkpoint, the shape in current model is torch.Size([5, 1024]).\n",
      "size mismatch for roi_head.bbox_head.fc_cls.bias: copying a param with shape torch.Size([81]) from checkpoint, the shape in current model is torch.Size([5]).\n",
      "size mismatch for roi_head.bbox_head.fc_reg.weight: copying a param with shape torch.Size([320, 1024]) from checkpoint, the shape in current model is torch.Size([16, 1024]).\n",
      "size mismatch for roi_head.bbox_head.fc_reg.bias: copying a param with shape torch.Size([320]) from checkpoint, the shape in current model is torch.Size([16]).\n",
      "2022-12-07 13:39:53,655 - mmdet - INFO - Start running, host: root@we2kgoyg698qgck3y4o0k4ctf-5c9c676596-9nbgk, work_dir: /aiffel/aiffel/aimmo/mmdetection/middle_fulldata\n",
      "2022-12-07 13:39:53,657 - mmdet - INFO - Hooks will be executed in the following order:\n",
      "before_run:\n",
      "(VERY_HIGH   ) StepLrUpdaterHook                  \n",
      "(NORMAL      ) CheckpointHook                     \n",
      "(LOW         ) EvalHook                           \n",
      "(VERY_LOW    ) TextLoggerHook                     \n",
      "(VERY_LOW    ) WandbLoggerHook                    \n",
      " -------------------- \n",
      "before_train_epoch:\n",
      "(VERY_HIGH   ) StepLrUpdaterHook                  \n",
      "(NORMAL      ) NumClassCheckHook                  \n",
      "(LOW         ) IterTimerHook                      \n",
      "(LOW         ) EvalHook                           \n",
      "(VERY_LOW    ) TextLoggerHook                     \n",
      "(VERY_LOW    ) WandbLoggerHook                    \n",
      " -------------------- \n",
      "before_train_iter:\n",
      "(VERY_HIGH   ) StepLrUpdaterHook                  \n",
      "(LOW         ) IterTimerHook                      \n",
      "(LOW         ) EvalHook                           \n",
      " -------------------- \n",
      "after_train_iter:\n",
      "(ABOVE_NORMAL) OptimizerHook                      \n",
      "(NORMAL      ) CheckpointHook                     \n",
      "(LOW         ) IterTimerHook                      \n",
      "(LOW         ) EvalHook                           \n",
      "(VERY_LOW    ) TextLoggerHook                     \n",
      "(VERY_LOW    ) WandbLoggerHook                    \n",
      " -------------------- \n",
      "after_train_epoch:\n",
      "(NORMAL      ) CheckpointHook                     \n",
      "(LOW         ) EvalHook                           \n",
      "(VERY_LOW    ) TextLoggerHook                     \n",
      "(VERY_LOW    ) WandbLoggerHook                    \n",
      " -------------------- \n",
      "before_val_epoch:\n",
      "(NORMAL      ) NumClassCheckHook                  \n",
      "(LOW         ) IterTimerHook                      \n",
      "(VERY_LOW    ) TextLoggerHook                     \n",
      "(VERY_LOW    ) WandbLoggerHook                    \n",
      " -------------------- \n",
      "before_val_iter:\n",
      "(LOW         ) IterTimerHook                      \n",
      " -------------------- \n",
      "after_val_iter:\n",
      "(LOW         ) IterTimerHook                      \n",
      " -------------------- \n",
      "after_val_epoch:\n",
      "(VERY_LOW    ) TextLoggerHook                     \n",
      "(VERY_LOW    ) WandbLoggerHook                    \n",
      " -------------------- \n",
      "after_run:\n",
      "(VERY_LOW    ) TextLoggerHook                     \n",
      "(VERY_LOW    ) WandbLoggerHook                    \n",
      " -------------------- \n",
      "2022-12-07 13:39:53,658 - mmdet - INFO - workflow: [('train', 1)], max: 15 epochs\n",
      "2022-12-07 13:39:53,659 - mmdet - INFO - Checkpoints will be saved to /aiffel/aiffel/aimmo/mmdetection/middle_fulldata by HardDiskBackend.\n"
     ]
    },
    {
     "data": {
      "text/html": [
       "Finishing last run (ID:3etu830q) before initializing another..."
      ],
      "text/plain": [
       "<IPython.core.display.HTML object>"
      ]
     },
     "metadata": {},
     "output_type": "display_data"
    },
    {
     "data": {
      "text/html": [
       "Waiting for W&B process to finish... <strong style=\"color:green\">(success).</strong>"
      ],
      "text/plain": [
       "<IPython.core.display.HTML object>"
      ]
     },
     "metadata": {},
     "output_type": "display_data"
    },
    {
     "data": {
      "application/vnd.jupyter.widget-view+json": {
       "model_id": "4a92697d7cec43d49ad15558e3f5a6b6",
       "version_major": 2,
       "version_minor": 0
      },
      "text/plain": [
       "VBox(children=(Label(value='0.001 MB of 0.001 MB uploaded (0.000 MB deduped)\\r'), FloatProgress(value=1.0, max…"
      ]
     },
     "metadata": {},
     "output_type": "display_data"
    },
    {
     "data": {
      "text/html": [
       "Synced <strong style=\"color:#cdcd00\">fast-rain-56</strong>: <a href=\"https://wandb.ai/aimmo/r-cnn/runs/3etu830q\" target=\"_blank\">https://wandb.ai/aimmo/r-cnn/runs/3etu830q</a><br/>Synced 5 W&B file(s), 0 media file(s), 0 artifact file(s) and 0 other file(s)"
      ],
      "text/plain": [
       "<IPython.core.display.HTML object>"
      ]
     },
     "metadata": {},
     "output_type": "display_data"
    },
    {
     "data": {
      "text/html": [
       "Find logs at: <code>./wandb/run-20221207_133945-3etu830q/logs</code>"
      ],
      "text/plain": [
       "<IPython.core.display.HTML object>"
      ]
     },
     "metadata": {},
     "output_type": "display_data"
    },
    {
     "data": {
      "text/html": [
       "Successfully finished last run (ID:3etu830q). Initializing new run:<br/>"
      ],
      "text/plain": [
       "<IPython.core.display.HTML object>"
      ]
     },
     "metadata": {},
     "output_type": "display_data"
    },
    {
     "data": {
      "application/vnd.jupyter.widget-view+json": {
       "model_id": "c5cadb4c920b46ae8f7abb86b4be3e56",
       "version_major": 2,
       "version_minor": 0
      },
      "text/plain": [
       "VBox(children=(Label(value='Waiting for wandb.init()...\\r'), FloatProgress(value=0.0166703036831071, max=1.0))…"
      ]
     },
     "metadata": {},
     "output_type": "display_data"
    },
    {
     "data": {
      "text/html": [
       "wandb version 0.13.6 is available!  To upgrade, please run:\n",
       " $ pip install wandb --upgrade"
      ],
      "text/plain": [
       "<IPython.core.display.HTML object>"
      ]
     },
     "metadata": {},
     "output_type": "display_data"
    },
    {
     "data": {
      "text/html": [
       "Tracking run with wandb version 0.13.5"
      ],
      "text/plain": [
       "<IPython.core.display.HTML object>"
      ]
     },
     "metadata": {},
     "output_type": "display_data"
    },
    {
     "data": {
      "text/html": [
       "Run data is saved locally in <code>/aiffel/aiffel/aimmo/mmdetection/wandb/run-20221207_133953-3ho5450h</code>"
      ],
      "text/plain": [
       "<IPython.core.display.HTML object>"
      ]
     },
     "metadata": {},
     "output_type": "display_data"
    },
    {
     "data": {
      "text/html": [
       "Syncing run <strong><a href=\"https://wandb.ai/aimmo/r-cnn/runs/3ho5450h\" target=\"_blank\">fulldata</a></strong> to <a href=\"https://wandb.ai/aimmo/r-cnn\" target=\"_blank\">Weights & Biases</a> (<a href=\"https://wandb.me/run\" target=\"_blank\">docs</a>)<br/>"
      ],
      "text/plain": [
       "<IPython.core.display.HTML object>"
      ]
     },
     "metadata": {},
     "output_type": "display_data"
    },
    {
     "name": "stderr",
     "output_type": "stream",
     "text": [
      "2022-12-07 13:45:10,229 - mmdet - INFO - Epoch [1][100/1494]\tlr: 3.976e-03, eta: 19:11:57, time: 3.098, data_time: 1.548, memory: 11277, loss_rpn_cls: 0.0396, loss_rpn_bbox: 0.0434, loss_cls: 0.5231, acc: 81.9155, loss_bbox: 0.5080, loss: 1.1141\n",
      "2022-12-07 13:50:22,942 - mmdet - INFO - Epoch [1][200/1494]\tlr: 7.972e-03, eta: 19:12:10, time: 3.127, data_time: 1.563, memory: 11277, loss_rpn_cls: 0.0296, loss_rpn_bbox: 0.0403, loss_cls: 0.2358, acc: 91.8817, loss_bbox: 0.3190, loss: 0.6247\n",
      "2022-12-07 13:55:38,012 - mmdet - INFO - Epoch [1][300/1494]\tlr: 1.197e-02, eta: 19:11:39, time: 3.151, data_time: 1.589, memory: 11277, loss_rpn_cls: 0.0282, loss_rpn_bbox: 0.0414, loss_cls: 0.2196, acc: 92.3308, loss_bbox: 0.3022, loss: 0.5915\n",
      "2022-12-07 14:00:54,904 - mmdet - INFO - Epoch [1][400/1494]\tlr: 1.596e-02, eta: 19:10:28, time: 3.169, data_time: 1.603, memory: 11277, loss_rpn_cls: 0.0265, loss_rpn_bbox: 0.0415, loss_cls: 0.2143, acc: 92.5000, loss_bbox: 0.2948, loss: 0.5771\n",
      "2022-12-07 14:06:11,522 - mmdet - INFO - Epoch [1][500/1494]\tlr: 1.996e-02, eta: 19:07:25, time: 3.166, data_time: 1.606, memory: 11277, loss_rpn_cls: 0.0251, loss_rpn_bbox: 0.0412, loss_cls: 0.2062, acc: 92.7105, loss_bbox: 0.2867, loss: 0.5592\n",
      "2022-12-07 14:11:24,880 - mmdet - INFO - Epoch [1][600/1494]\tlr: 2.000e-02, eta: 19:01:39, time: 3.133, data_time: 1.582, memory: 11277, loss_rpn_cls: 0.0249, loss_rpn_bbox: 0.0399, loss_cls: 0.2028, acc: 92.7793, loss_bbox: 0.2833, loss: 0.5509\n",
      "2022-12-07 14:16:38,100 - mmdet - INFO - Epoch [1][700/1494]\tlr: 2.000e-02, eta: 18:55:59, time: 3.132, data_time: 1.579, memory: 11277, loss_rpn_cls: 0.0251, loss_rpn_bbox: 0.0394, loss_cls: 0.1980, acc: 92.9401, loss_bbox: 0.2842, loss: 0.5468\n",
      "2022-12-07 14:21:52,879 - mmdet - INFO - Epoch [1][800/1494]\tlr: 2.000e-02, eta: 18:51:07, time: 3.148, data_time: 1.591, memory: 11277, loss_rpn_cls: 0.0239, loss_rpn_bbox: 0.0390, loss_cls: 0.1944, acc: 93.0686, loss_bbox: 0.2805, loss: 0.5377\n",
      "2022-12-07 14:27:07,772 - mmdet - INFO - Epoch [1][900/1494]\tlr: 2.000e-02, eta: 18:46:13, time: 3.149, data_time: 1.600, memory: 11277, loss_rpn_cls: 0.0242, loss_rpn_bbox: 0.0385, loss_cls: 0.1904, acc: 93.1535, loss_bbox: 0.2681, loss: 0.5210\n",
      "2022-12-07 14:32:24,022 - mmdet - INFO - Epoch [1][1000/1494]\tlr: 2.000e-02, eta: 18:41:44, time: 3.162, data_time: 1.605, memory: 11277, loss_rpn_cls: 0.0218, loss_rpn_bbox: 0.0382, loss_cls: 0.1853, acc: 93.2819, loss_bbox: 0.2696, loss: 0.5149\n",
      "2022-12-07 14:37:38,298 - mmdet - INFO - Epoch [1][1100/1494]\tlr: 2.000e-02, eta: 18:36:28, time: 3.143, data_time: 1.588, memory: 11277, loss_rpn_cls: 0.0221, loss_rpn_bbox: 0.0362, loss_cls: 0.1786, acc: 93.5331, loss_bbox: 0.2609, loss: 0.4978\n",
      "2022-12-07 14:42:52,330 - mmdet - INFO - Epoch [1][1200/1494]\tlr: 2.000e-02, eta: 18:31:08, time: 3.140, data_time: 1.584, memory: 11277, loss_rpn_cls: 0.0201, loss_rpn_bbox: 0.0375, loss_cls: 0.1802, acc: 93.4559, loss_bbox: 0.2656, loss: 0.5034\n",
      "2022-12-07 14:48:06,081 - mmdet - INFO - Epoch [1][1300/1494]\tlr: 2.000e-02, eta: 18:25:44, time: 3.138, data_time: 1.585, memory: 11277, loss_rpn_cls: 0.0205, loss_rpn_bbox: 0.0352, loss_cls: 0.1796, acc: 93.5671, loss_bbox: 0.2570, loss: 0.4923\n",
      "2022-12-07 14:53:21,624 - mmdet - INFO - Epoch [1][1400/1494]\tlr: 2.000e-02, eta: 18:20:49, time: 3.155, data_time: 1.599, memory: 11277, loss_rpn_cls: 0.0204, loss_rpn_bbox: 0.0348, loss_cls: 0.1737, acc: 93.7298, loss_bbox: 0.2537, loss: 0.4826\n",
      "2022-12-07 14:58:17,054 - mmdet - INFO - Saving checkpoint at 1 epochs\n"
     ]
    },
    {
     "name": "stdout",
     "output_type": "stream",
     "text": [
      "[>>>>>>>>>>>>>>>>>>>>>>>>>>>] 2323/2323, 5.1 task/s, elapsed: 454s, ETA:     0s\n",
      "---------------iou_thr: 0.5---------------\n"
     ]
    },
    {
     "name": "stderr",
     "output_type": "stream",
     "text": [
      "2022-12-07 15:05:53,293 - mmdet - INFO - \n",
      "+------------+-------+-------+--------+-------+\n",
      "| class      | gts   | dets  | recall | ap    |\n",
      "+------------+-------+-------+--------+-------+\n",
      "| car        | 13124 | 33812 | 0.956  | 0.913 |\n",
      "| truck      | 3084  | 7727  | 0.854  | 0.748 |\n",
      "| bus        | 1786  | 5248  | 0.898  | 0.818 |\n",
      "| pedestrian | 3063  | 11764 | 0.796  | 0.625 |\n",
      "+------------+-------+-------+--------+-------+\n",
      "| mAP        |       |       |        | 0.776 |\n",
      "+------------+-------+-------+--------+-------+\n",
      "2022-12-07 15:05:53,393 - mmdet - INFO - Epoch(val) [1][2323]\tAP50: 0.7760, mAP: 0.7757\n",
      "2022-12-07 15:11:10,156 - mmdet - INFO - Epoch [2][100/1494]\tlr: 2.000e-02, eta: 17:06:44, time: 3.162, data_time: 1.639, memory: 11277, loss_rpn_cls: 0.0188, loss_rpn_bbox: 0.0350, loss_cls: 0.1650, acc: 94.0186, loss_bbox: 0.2488, loss: 0.4676\n",
      "2022-12-07 15:16:27,080 - mmdet - INFO - Epoch [2][200/1494]\tlr: 2.000e-02, eta: 17:06:04, time: 3.169, data_time: 1.609, memory: 11277, loss_rpn_cls: 0.0173, loss_rpn_bbox: 0.0338, loss_cls: 0.1692, acc: 93.8020, loss_bbox: 0.2547, loss: 0.4751\n",
      "2022-12-07 15:21:46,654 - mmdet - INFO - Epoch [2][300/1494]\tlr: 2.000e-02, eta: 17:05:24, time: 3.196, data_time: 1.628, memory: 11277, loss_rpn_cls: 0.0168, loss_rpn_bbox: 0.0325, loss_cls: 0.1563, acc: 94.3064, loss_bbox: 0.2393, loss: 0.4448\n",
      "2022-12-07 15:27:06,145 - mmdet - INFO - Epoch [2][400/1494]\tlr: 2.000e-02, eta: 17:04:14, time: 3.195, data_time: 1.627, memory: 11277, loss_rpn_cls: 0.0176, loss_rpn_bbox: 0.0336, loss_cls: 0.1633, acc: 94.0163, loss_bbox: 0.2463, loss: 0.4608\n",
      "2022-12-07 15:32:26,262 - mmdet - INFO - Epoch [2][500/1494]\tlr: 2.000e-02, eta: 17:02:45, time: 3.201, data_time: 1.636, memory: 11277, loss_rpn_cls: 0.0171, loss_rpn_bbox: 0.0344, loss_cls: 0.1624, acc: 94.0862, loss_bbox: 0.2472, loss: 0.4612\n",
      "2022-12-07 15:37:45,355 - mmdet - INFO - Epoch [2][600/1494]\tlr: 2.000e-02, eta: 17:00:44, time: 3.191, data_time: 1.626, memory: 11277, loss_rpn_cls: 0.0173, loss_rpn_bbox: 0.0341, loss_cls: 0.1614, acc: 94.0480, loss_bbox: 0.2431, loss: 0.4560\n",
      "2022-12-07 15:43:06,310 - mmdet - INFO - Epoch [2][700/1494]\tlr: 2.000e-02, eta: 16:58:42, time: 3.210, data_time: 1.645, memory: 11277, loss_rpn_cls: 0.0176, loss_rpn_bbox: 0.0338, loss_cls: 0.1595, acc: 94.1716, loss_bbox: 0.2425, loss: 0.4534\n",
      "2022-12-07 15:48:26,452 - mmdet - INFO - Epoch [2][800/1494]\tlr: 2.000e-02, eta: 16:56:16, time: 3.201, data_time: 1.639, memory: 11277, loss_rpn_cls: 0.0154, loss_rpn_bbox: 0.0322, loss_cls: 0.1568, acc: 94.2298, loss_bbox: 0.2388, loss: 0.4433\n",
      "2022-12-07 15:53:44,878 - mmdet - INFO - Epoch [2][900/1494]\tlr: 2.000e-02, eta: 16:53:21, time: 3.184, data_time: 1.620, memory: 11277, loss_rpn_cls: 0.0174, loss_rpn_bbox: 0.0330, loss_cls: 0.1551, acc: 94.3386, loss_bbox: 0.2375, loss: 0.4430\n",
      "2022-12-07 15:59:03,868 - mmdet - INFO - Epoch [2][1000/1494]\tlr: 2.000e-02, eta: 16:50:19, time: 3.190, data_time: 1.627, memory: 11277, loss_rpn_cls: 0.0170, loss_rpn_bbox: 0.0334, loss_cls: 0.1572, acc: 94.2669, loss_bbox: 0.2407, loss: 0.4483\n",
      "2022-12-07 16:04:24,359 - mmdet - INFO - Epoch [2][1100/1494]\tlr: 2.000e-02, eta: 16:47:17, time: 3.205, data_time: 1.640, memory: 11277, loss_rpn_cls: 0.0177, loss_rpn_bbox: 0.0336, loss_cls: 0.1556, acc: 94.3249, loss_bbox: 0.2383, loss: 0.4452\n",
      "2022-12-07 16:09:42,111 - mmdet - INFO - Epoch [2][1200/1494]\tlr: 2.000e-02, eta: 16:43:46, time: 3.177, data_time: 1.612, memory: 11277, loss_rpn_cls: 0.0177, loss_rpn_bbox: 0.0329, loss_cls: 0.1552, acc: 94.3040, loss_bbox: 0.2365, loss: 0.4424\n",
      "2022-12-07 16:14:59,610 - mmdet - INFO - Epoch [2][1300/1494]\tlr: 2.000e-02, eta: 16:40:05, time: 3.175, data_time: 1.610, memory: 11277, loss_rpn_cls: 0.0170, loss_rpn_bbox: 0.0329, loss_cls: 0.1592, acc: 94.1448, loss_bbox: 0.2411, loss: 0.4501\n",
      "2022-12-07 16:20:17,614 - mmdet - INFO - Epoch [2][1400/1494]\tlr: 2.000e-02, eta: 16:36:20, time: 3.180, data_time: 1.615, memory: 11277, loss_rpn_cls: 0.0156, loss_rpn_bbox: 0.0328, loss_cls: 0.1552, acc: 94.3097, loss_bbox: 0.2377, loss: 0.4413\n",
      "2022-12-07 16:25:17,961 - mmdet - INFO - Saving checkpoint at 2 epochs\n"
     ]
    },
    {
     "name": "stdout",
     "output_type": "stream",
     "text": [
      "[>>>>>>>>>>>>>>>>>>>>>>>>>>>] 2323/2323, 5.1 task/s, elapsed: 455s, ETA:     0s\n",
      "---------------iou_thr: 0.5---------------\n"
     ]
    },
    {
     "name": "stderr",
     "output_type": "stream",
     "text": [
      "2022-12-07 16:32:55,588 - mmdet - INFO - \n",
      "+------------+-------+-------+--------+-------+\n",
      "| class      | gts   | dets  | recall | ap    |\n",
      "+------------+-------+-------+--------+-------+\n",
      "| car        | 13124 | 24881 | 0.952  | 0.921 |\n",
      "| truck      | 3084  | 13371 | 0.909  | 0.794 |\n",
      "| bus        | 1786  | 4436  | 0.908  | 0.846 |\n",
      "| pedestrian | 3063  | 9731  | 0.810  | 0.673 |\n",
      "+------------+-------+-------+--------+-------+\n",
      "| mAP        |       |       |        | 0.809 |\n",
      "+------------+-------+-------+--------+-------+\n",
      "2022-12-07 16:32:55,691 - mmdet - INFO - Epoch(val) [2][2323]\tAP50: 0.8090, mAP: 0.8086\n",
      "2022-12-07 16:38:17,683 - mmdet - INFO - Epoch [3][100/1494]\tlr: 2.000e-02, eta: 15:57:59, time: 3.214, data_time: 1.648, memory: 11277, loss_rpn_cls: 0.0157, loss_rpn_bbox: 0.0328, loss_cls: 0.1493, acc: 94.4894, loss_bbox: 0.2346, loss: 0.4325\n",
      "2022-12-07 16:43:35,135 - mmdet - INFO - Epoch [3][200/1494]\tlr: 2.000e-02, eta: 15:55:02, time: 3.174, data_time: 1.608, memory: 11277, loss_rpn_cls: 0.0142, loss_rpn_bbox: 0.0328, loss_cls: 0.1504, acc: 94.5026, loss_bbox: 0.2346, loss: 0.4320\n",
      "2022-12-07 16:48:54,090 - mmdet - INFO - Epoch [3][300/1494]\tlr: 2.000e-02, eta: 15:52:05, time: 3.190, data_time: 1.622, memory: 11277, loss_rpn_cls: 0.0137, loss_rpn_bbox: 0.0317, loss_cls: 0.1484, acc: 94.5841, loss_bbox: 0.2315, loss: 0.4253\n",
      "2022-12-07 16:54:12,497 - mmdet - INFO - Epoch [3][400/1494]\tlr: 2.000e-02, eta: 15:48:56, time: 3.184, data_time: 1.618, memory: 11277, loss_rpn_cls: 0.0149, loss_rpn_bbox: 0.0323, loss_cls: 0.1470, acc: 94.5540, loss_bbox: 0.2301, loss: 0.4244\n",
      "2022-12-07 16:59:29,113 - mmdet - INFO - Epoch [3][500/1494]\tlr: 2.000e-02, eta: 15:45:31, time: 3.166, data_time: 1.602, memory: 11277, loss_rpn_cls: 0.0141, loss_rpn_bbox: 0.0312, loss_cls: 0.1449, acc: 94.6550, loss_bbox: 0.2236, loss: 0.4137\n",
      "2022-12-07 17:04:47,446 - mmdet - INFO - Epoch [3][600/1494]\tlr: 2.000e-02, eta: 15:42:08, time: 3.183, data_time: 1.620, memory: 11277, loss_rpn_cls: 0.0158, loss_rpn_bbox: 0.0328, loss_cls: 0.1472, acc: 94.5421, loss_bbox: 0.2300, loss: 0.4258\n",
      "2022-12-07 17:10:05,693 - mmdet - INFO - Epoch [3][700/1494]\tlr: 2.000e-02, eta: 15:38:39, time: 3.182, data_time: 1.617, memory: 11277, loss_rpn_cls: 0.0138, loss_rpn_bbox: 0.0297, loss_cls: 0.1418, acc: 94.7471, loss_bbox: 0.2236, loss: 0.4088\n",
      "2022-12-07 17:15:24,170 - mmdet - INFO - Epoch [3][800/1494]\tlr: 2.000e-02, eta: 15:35:05, time: 3.185, data_time: 1.620, memory: 11277, loss_rpn_cls: 0.0151, loss_rpn_bbox: 0.0316, loss_cls: 0.1461, acc: 94.5342, loss_bbox: 0.2300, loss: 0.4228\n",
      "2022-12-07 17:20:42,096 - mmdet - INFO - Epoch [3][900/1494]\tlr: 2.000e-02, eta: 15:31:23, time: 3.179, data_time: 1.616, memory: 11277, loss_rpn_cls: 0.0142, loss_rpn_bbox: 0.0301, loss_cls: 0.1425, acc: 94.7305, loss_bbox: 0.2245, loss: 0.4113\n",
      "2022-12-07 17:25:59,605 - mmdet - INFO - Epoch [3][1000/1494]\tlr: 2.000e-02, eta: 15:27:34, time: 3.175, data_time: 1.611, memory: 11277, loss_rpn_cls: 0.0146, loss_rpn_bbox: 0.0325, loss_cls: 0.1462, acc: 94.5991, loss_bbox: 0.2289, loss: 0.4221\n",
      "2022-12-07 17:31:17,688 - mmdet - INFO - Epoch [3][1100/1494]\tlr: 2.000e-02, eta: 15:23:44, time: 3.181, data_time: 1.617, memory: 11277, loss_rpn_cls: 0.0138, loss_rpn_bbox: 0.0300, loss_cls: 0.1405, acc: 94.7941, loss_bbox: 0.2175, loss: 0.4017\n",
      "2022-12-07 17:36:35,968 - mmdet - INFO - Epoch [3][1200/1494]\tlr: 2.000e-02, eta: 15:19:50, time: 3.183, data_time: 1.619, memory: 11277, loss_rpn_cls: 0.0142, loss_rpn_bbox: 0.0303, loss_cls: 0.1408, acc: 94.7660, loss_bbox: 0.2210, loss: 0.4064\n",
      "2022-12-07 17:41:53,874 - mmdet - INFO - Epoch [3][1300/1494]\tlr: 2.000e-02, eta: 15:15:50, time: 3.179, data_time: 1.612, memory: 11277, loss_rpn_cls: 0.0135, loss_rpn_bbox: 0.0301, loss_cls: 0.1409, acc: 94.7538, loss_bbox: 0.2238, loss: 0.4083\n",
      "2022-12-07 17:47:10,433 - mmdet - INFO - Epoch [3][1400/1494]\tlr: 2.000e-02, eta: 15:11:42, time: 3.166, data_time: 1.597, memory: 11277, loss_rpn_cls: 0.0145, loss_rpn_bbox: 0.0298, loss_cls: 0.1442, acc: 94.6932, loss_bbox: 0.2245, loss: 0.4131\n",
      "2022-12-07 17:52:07,413 - mmdet - INFO - Saving checkpoint at 3 epochs\n"
     ]
    },
    {
     "name": "stdout",
     "output_type": "stream",
     "text": [
      "[>>>>>>>>>>>>>>>>>>>>>>>>>>>] 2323/2323, 4.9 task/s, elapsed: 471s, ETA:     0s\n",
      "---------------iou_thr: 0.5---------------\n"
     ]
    },
    {
     "name": "stderr",
     "output_type": "stream",
     "text": [
      "2022-12-07 18:00:00,769 - mmdet - INFO - \n",
      "+------------+-------+-------+--------+-------+\n",
      "| class      | gts   | dets  | recall | ap    |\n",
      "+------------+-------+-------+--------+-------+\n",
      "| car        | 13124 | 25417 | 0.959  | 0.931 |\n",
      "| truck      | 3084  | 8483  | 0.912  | 0.832 |\n",
      "| bus        | 1786  | 4876  | 0.930  | 0.876 |\n",
      "| pedestrian | 3063  | 10120 | 0.832  | 0.707 |\n",
      "+------------+-------+-------+--------+-------+\n",
      "| mAP        |       |       |        | 0.836 |\n",
      "+------------+-------+-------+--------+-------+\n",
      "2022-12-07 18:00:00,884 - mmdet - INFO - Epoch(val) [3][2323]\tAP50: 0.8360, mAP: 0.8363\n",
      "2022-12-07 18:05:25,633 - mmdet - INFO - Epoch [4][100/1494]\tlr: 2.000e-02, eta: 14:44:43, time: 3.241, data_time: 1.663, memory: 11277, loss_rpn_cls: 0.0121, loss_rpn_bbox: 0.0294, loss_cls: 0.1333, acc: 95.0110, loss_bbox: 0.2149, loss: 0.3897\n",
      "2022-12-07 18:10:46,994 - mmdet - INFO - Epoch [4][200/1494]\tlr: 2.000e-02, eta: 14:41:15, time: 3.214, data_time: 1.643, memory: 11277, loss_rpn_cls: 0.0120, loss_rpn_bbox: 0.0292, loss_cls: 0.1329, acc: 95.0335, loss_bbox: 0.2160, loss: 0.3900\n",
      "2022-12-07 18:16:08,927 - mmdet - INFO - Epoch [4][300/1494]\tlr: 2.000e-02, eta: 14:37:44, time: 3.219, data_time: 1.646, memory: 11277, loss_rpn_cls: 0.0121, loss_rpn_bbox: 0.0292, loss_cls: 0.1315, acc: 95.1020, loss_bbox: 0.2134, loss: 0.3861\n",
      "2022-12-07 18:21:32,122 - mmdet - INFO - Epoch [4][400/1494]\tlr: 2.000e-02, eta: 14:34:13, time: 3.232, data_time: 1.661, memory: 11277, loss_rpn_cls: 0.0127, loss_rpn_bbox: 0.0297, loss_cls: 0.1366, acc: 94.8888, loss_bbox: 0.2182, loss: 0.3973\n",
      "2022-12-07 18:26:56,017 - mmdet - INFO - Epoch [4][500/1494]\tlr: 2.000e-02, eta: 14:30:40, time: 3.239, data_time: 1.669, memory: 11277, loss_rpn_cls: 0.0122, loss_rpn_bbox: 0.0303, loss_cls: 0.1387, acc: 94.8011, loss_bbox: 0.2224, loss: 0.4036\n",
      "2022-12-07 18:32:19,193 - mmdet - INFO - Epoch [4][600/1494]\tlr: 2.000e-02, eta: 14:27:00, time: 3.232, data_time: 1.659, memory: 11277, loss_rpn_cls: 0.0121, loss_rpn_bbox: 0.0291, loss_cls: 0.1358, acc: 94.9531, loss_bbox: 0.2176, loss: 0.3946\n",
      "2022-12-07 18:37:42,251 - mmdet - INFO - Epoch [4][700/1494]\tlr: 2.000e-02, eta: 14:23:16, time: 3.231, data_time: 1.658, memory: 11277, loss_rpn_cls: 0.0116, loss_rpn_bbox: 0.0298, loss_cls: 0.1349, acc: 94.9922, loss_bbox: 0.2154, loss: 0.3917\n",
      "2022-12-07 18:43:06,291 - mmdet - INFO - Epoch [4][800/1494]\tlr: 2.000e-02, eta: 14:19:31, time: 3.240, data_time: 1.669, memory: 11277, loss_rpn_cls: 0.0122, loss_rpn_bbox: 0.0300, loss_cls: 0.1369, acc: 94.9206, loss_bbox: 0.2192, loss: 0.3984\n",
      "2022-12-07 18:48:29,099 - mmdet - INFO - Epoch [4][900/1494]\tlr: 2.000e-02, eta: 14:15:38, time: 3.228, data_time: 1.660, memory: 11277, loss_rpn_cls: 0.0125, loss_rpn_bbox: 0.0291, loss_cls: 0.1332, acc: 95.0165, loss_bbox: 0.2142, loss: 0.3890\n",
      "2022-12-07 18:53:51,840 - mmdet - INFO - Epoch [4][1000/1494]\tlr: 2.000e-02, eta: 14:11:42, time: 3.227, data_time: 1.656, memory: 11277, loss_rpn_cls: 0.0129, loss_rpn_bbox: 0.0306, loss_cls: 0.1390, acc: 94.8652, loss_bbox: 0.2175, loss: 0.4000\n",
      "2022-12-07 18:59:16,241 - mmdet - INFO - Epoch [4][1100/1494]\tlr: 2.000e-02, eta: 14:07:48, time: 3.244, data_time: 1.670, memory: 11277, loss_rpn_cls: 0.0122, loss_rpn_bbox: 0.0302, loss_cls: 0.1372, acc: 94.8749, loss_bbox: 0.2184, loss: 0.3980\n",
      "2022-12-07 19:04:40,580 - mmdet - INFO - Epoch [4][1200/1494]\tlr: 2.000e-02, eta: 14:03:51, time: 3.243, data_time: 1.668, memory: 11277, loss_rpn_cls: 0.0128, loss_rpn_bbox: 0.0292, loss_cls: 0.1320, acc: 95.0879, loss_bbox: 0.2121, loss: 0.3860\n",
      "2022-12-07 19:10:04,019 - mmdet - INFO - Epoch [4][1300/1494]\tlr: 2.000e-02, eta: 13:59:48, time: 3.234, data_time: 1.663, memory: 11277, loss_rpn_cls: 0.0127, loss_rpn_bbox: 0.0286, loss_cls: 0.1318, acc: 95.0843, loss_bbox: 0.2104, loss: 0.3835\n",
      "2022-12-07 19:15:28,051 - mmdet - INFO - Epoch [4][1400/1494]\tlr: 2.000e-02, eta: 13:55:44, time: 3.240, data_time: 1.668, memory: 11277, loss_rpn_cls: 0.0127, loss_rpn_bbox: 0.0315, loss_cls: 0.1350, acc: 94.9445, loss_bbox: 0.2182, loss: 0.3974\n",
      "2022-12-07 19:20:31,431 - mmdet - INFO - Saving checkpoint at 4 epochs\n"
     ]
    },
    {
     "name": "stdout",
     "output_type": "stream",
     "text": [
      "[>>>>>>>>>>>>>>>>>>>>>>>>>>>] 2323/2323, 5.0 task/s, elapsed: 469s, ETA:     0s\n",
      "---------------iou_thr: 0.5---------------\n"
     ]
    },
    {
     "name": "stderr",
     "output_type": "stream",
     "text": [
      "2022-12-07 19:28:22,681 - mmdet - INFO - \n",
      "+------------+-------+-------+--------+-------+\n",
      "| class      | gts   | dets  | recall | ap    |\n",
      "+------------+-------+-------+--------+-------+\n",
      "| car        | 13124 | 25095 | 0.960  | 0.934 |\n",
      "| truck      | 3084  | 10893 | 0.922  | 0.835 |\n",
      "| bus        | 1786  | 3051  | 0.898  | 0.852 |\n",
      "| pedestrian | 3063  | 5828  | 0.785  | 0.699 |\n",
      "+------------+-------+-------+--------+-------+\n",
      "| mAP        |       |       |        | 0.830 |\n",
      "+------------+-------+-------+--------+-------+\n",
      "2022-12-07 19:28:22,799 - mmdet - INFO - Epoch(val) [4][2323]\tAP50: 0.8300, mAP: 0.8302\n",
      "2022-12-07 19:33:45,461 - mmdet - INFO - Epoch [5][100/1494]\tlr: 2.000e-02, eta: 13:33:59, time: 3.221, data_time: 1.645, memory: 11277, loss_rpn_cls: 0.0099, loss_rpn_bbox: 0.0279, loss_cls: 0.1237, acc: 95.3327, loss_bbox: 0.2055, loss: 0.3670\n",
      "2022-12-07 19:39:08,003 - mmdet - INFO - Epoch [5][200/1494]\tlr: 2.000e-02, eta: 13:30:02, time: 3.225, data_time: 1.653, memory: 11277, loss_rpn_cls: 0.0105, loss_rpn_bbox: 0.0280, loss_cls: 0.1267, acc: 95.2146, loss_bbox: 0.2076, loss: 0.3727\n",
      "2022-12-07 19:44:30,676 - mmdet - INFO - Epoch [5][300/1494]\tlr: 2.000e-02, eta: 13:26:02, time: 3.227, data_time: 1.654, memory: 11277, loss_rpn_cls: 0.0114, loss_rpn_bbox: 0.0287, loss_cls: 0.1286, acc: 95.1850, loss_bbox: 0.2081, loss: 0.3768\n",
      "2022-12-07 19:49:51,750 - mmdet - INFO - Epoch [5][400/1494]\tlr: 2.000e-02, eta: 13:21:56, time: 3.211, data_time: 1.633, memory: 11277, loss_rpn_cls: 0.0111, loss_rpn_bbox: 0.0274, loss_cls: 0.1242, acc: 95.3260, loss_bbox: 0.2021, loss: 0.3648\n",
      "2022-12-07 19:55:13,203 - mmdet - INFO - Epoch [5][500/1494]\tlr: 2.000e-02, eta: 13:17:49, time: 3.214, data_time: 1.639, memory: 11277, loss_rpn_cls: 0.0118, loss_rpn_bbox: 0.0294, loss_cls: 0.1307, acc: 95.0936, loss_bbox: 0.2117, loss: 0.3837\n",
      "2022-12-07 20:00:34,914 - mmdet - INFO - Epoch [5][600/1494]\tlr: 2.000e-02, eta: 13:13:40, time: 3.217, data_time: 1.644, memory: 11277, loss_rpn_cls: 0.0119, loss_rpn_bbox: 0.0289, loss_cls: 0.1277, acc: 95.2061, loss_bbox: 0.2112, loss: 0.3797\n",
      "2022-12-07 20:05:57,148 - mmdet - INFO - Epoch [5][700/1494]\tlr: 2.000e-02, eta: 13:09:29, time: 3.222, data_time: 1.648, memory: 11277, loss_rpn_cls: 0.0123, loss_rpn_bbox: 0.0294, loss_cls: 0.1337, acc: 95.0246, loss_bbox: 0.2120, loss: 0.3874\n",
      "2022-12-07 20:11:21,734 - mmdet - INFO - Epoch [5][800/1494]\tlr: 2.000e-02, eta: 13:05:23, time: 3.246, data_time: 1.672, memory: 11277, loss_rpn_cls: 0.0105, loss_rpn_bbox: 0.0284, loss_cls: 0.1276, acc: 95.1924, loss_bbox: 0.2110, loss: 0.3775\n",
      "2022-12-07 20:16:43,633 - mmdet - INFO - Epoch [5][900/1494]\tlr: 2.000e-02, eta: 13:01:07, time: 3.219, data_time: 1.644, memory: 11277, loss_rpn_cls: 0.0109, loss_rpn_bbox: 0.0286, loss_cls: 0.1280, acc: 95.1597, loss_bbox: 0.2090, loss: 0.3765\n",
      "2022-12-07 20:22:05,518 - mmdet - INFO - Epoch [5][1000/1494]\tlr: 2.000e-02, eta: 12:56:50, time: 3.219, data_time: 1.647, memory: 11277, loss_rpn_cls: 0.0123, loss_rpn_bbox: 0.0290, loss_cls: 0.1281, acc: 95.2295, loss_bbox: 0.2094, loss: 0.3788\n",
      "2022-12-07 20:27:24,352 - mmdet - INFO - Epoch [5][1100/1494]\tlr: 2.000e-02, eta: 12:52:25, time: 3.188, data_time: 1.619, memory: 11277, loss_rpn_cls: 0.0118, loss_rpn_bbox: 0.0294, loss_cls: 0.1295, acc: 95.1472, loss_bbox: 0.2120, loss: 0.3828\n",
      "2022-12-07 20:32:44,630 - mmdet - INFO - Epoch [5][1200/1494]\tlr: 2.000e-02, eta: 12:48:01, time: 3.203, data_time: 1.631, memory: 11277, loss_rpn_cls: 0.0121, loss_rpn_bbox: 0.0291, loss_cls: 0.1293, acc: 95.1720, loss_bbox: 0.2090, loss: 0.3796\n",
      "2022-12-07 20:38:04,478 - mmdet - INFO - Epoch [5][1300/1494]\tlr: 2.000e-02, eta: 12:43:35, time: 3.198, data_time: 1.627, memory: 11277, loss_rpn_cls: 0.0113, loss_rpn_bbox: 0.0280, loss_cls: 0.1299, acc: 95.1675, loss_bbox: 0.2100, loss: 0.3793\n",
      "2022-12-07 20:43:25,806 - mmdet - INFO - Epoch [5][1400/1494]\tlr: 2.000e-02, eta: 12:39:10, time: 3.213, data_time: 1.641, memory: 11277, loss_rpn_cls: 0.0113, loss_rpn_bbox: 0.0285, loss_cls: 0.1291, acc: 95.1522, loss_bbox: 0.2087, loss: 0.3776\n",
      "2022-12-07 20:48:25,692 - mmdet - INFO - Saving checkpoint at 5 epochs\n"
     ]
    },
    {
     "name": "stdout",
     "output_type": "stream",
     "text": [
      "[>>>>>>>>>>>>>>>>>>>>>>>>>>>] 2323/2323, 5.0 task/s, elapsed: 464s, ETA:     0s\n",
      "---------------iou_thr: 0.5---------------\n"
     ]
    },
    {
     "name": "stderr",
     "output_type": "stream",
     "text": [
      "2022-12-07 20:56:11,810 - mmdet - INFO - \n",
      "+------------+-------+-------+--------+-------+\n",
      "| class      | gts   | dets  | recall | ap    |\n",
      "+------------+-------+-------+--------+-------+\n",
      "| car        | 13124 | 20981 | 0.955  | 0.933 |\n",
      "| truck      | 3084  | 7021  | 0.910  | 0.846 |\n",
      "| bus        | 1786  | 4128  | 0.936  | 0.886 |\n",
      "| pedestrian | 3063  | 7927  | 0.842  | 0.741 |\n",
      "+------------+-------+-------+--------+-------+\n",
      "| mAP        |       |       |        | 0.851 |\n",
      "+------------+-------+-------+--------+-------+\n",
      "2022-12-07 20:56:11,920 - mmdet - INFO - Epoch(val) [5][2323]\tAP50: 0.8510, mAP: 0.8515\n",
      "2022-12-07 21:01:35,926 - mmdet - INFO - Epoch [6][100/1494]\tlr: 2.000e-02, eta: 12:20:44, time: 3.234, data_time: 1.657, memory: 11277, loss_rpn_cls: 0.0098, loss_rpn_bbox: 0.0280, loss_cls: 0.1178, acc: 95.4686, loss_bbox: 0.1998, loss: 0.3554\n",
      "2022-12-07 21:06:53,798 - mmdet - INFO - Epoch [6][200/1494]\tlr: 2.000e-02, eta: 12:16:19, time: 3.179, data_time: 1.605, memory: 11277, loss_rpn_cls: 0.0103, loss_rpn_bbox: 0.0282, loss_cls: 0.1225, acc: 95.3590, loss_bbox: 0.2046, loss: 0.3656\n",
      "2022-12-07 21:12:14,497 - mmdet - INFO - Epoch [6][300/1494]\tlr: 2.000e-02, eta: 12:11:59, time: 3.207, data_time: 1.636, memory: 11277, loss_rpn_cls: 0.0095, loss_rpn_bbox: 0.0278, loss_cls: 0.1217, acc: 95.3916, loss_bbox: 0.2032, loss: 0.3621\n",
      "2022-12-07 21:17:34,082 - mmdet - INFO - Epoch [6][400/1494]\tlr: 2.000e-02, eta: 12:07:35, time: 3.196, data_time: 1.618, memory: 11277, loss_rpn_cls: 0.0095, loss_rpn_bbox: 0.0276, loss_cls: 0.1216, acc: 95.3701, loss_bbox: 0.2003, loss: 0.3590\n",
      "2022-12-07 21:22:53,142 - mmdet - INFO - Epoch [6][500/1494]\tlr: 2.000e-02, eta: 12:03:09, time: 3.191, data_time: 1.617, memory: 11277, loss_rpn_cls: 0.0093, loss_rpn_bbox: 0.0261, loss_cls: 0.1193, acc: 95.5010, loss_bbox: 0.1963, loss: 0.3510\n",
      "2022-12-07 21:28:14,524 - mmdet - INFO - Epoch [6][600/1494]\tlr: 2.000e-02, eta: 11:58:46, time: 3.214, data_time: 1.642, memory: 11277, loss_rpn_cls: 0.0101, loss_rpn_bbox: 0.0275, loss_cls: 0.1244, acc: 95.3143, loss_bbox: 0.2029, loss: 0.3648\n",
      "2022-12-07 21:33:34,479 - mmdet - INFO - Epoch [6][700/1494]\tlr: 2.000e-02, eta: 11:54:19, time: 3.200, data_time: 1.627, memory: 11277, loss_rpn_cls: 0.0101, loss_rpn_bbox: 0.0282, loss_cls: 0.1222, acc: 95.3661, loss_bbox: 0.2057, loss: 0.3662\n",
      "2022-12-07 21:38:53,670 - mmdet - INFO - Epoch [6][800/1494]\tlr: 2.000e-02, eta: 11:49:49, time: 3.192, data_time: 1.613, memory: 11277, loss_rpn_cls: 0.0096, loss_rpn_bbox: 0.0265, loss_cls: 0.1207, acc: 95.4153, loss_bbox: 0.1990, loss: 0.3558\n",
      "2022-12-07 21:44:12,965 - mmdet - INFO - Epoch [6][900/1494]\tlr: 2.000e-02, eta: 11:45:18, time: 3.193, data_time: 1.618, memory: 11277, loss_rpn_cls: 0.0105, loss_rpn_bbox: 0.0280, loss_cls: 0.1242, acc: 95.3001, loss_bbox: 0.2036, loss: 0.3663\n",
      "2022-12-07 21:49:31,344 - mmdet - INFO - Epoch [6][1000/1494]\tlr: 2.000e-02, eta: 11:40:45, time: 3.184, data_time: 1.611, memory: 11277, loss_rpn_cls: 0.0097, loss_rpn_bbox: 0.0273, loss_cls: 0.1244, acc: 95.3002, loss_bbox: 0.2039, loss: 0.3653\n",
      "2022-12-07 21:54:50,978 - mmdet - INFO - Epoch [6][1100/1494]\tlr: 2.000e-02, eta: 11:36:12, time: 3.196, data_time: 1.627, memory: 11277, loss_rpn_cls: 0.0102, loss_rpn_bbox: 0.0289, loss_cls: 0.1238, acc: 95.2882, loss_bbox: 0.2042, loss: 0.3671\n",
      "2022-12-07 22:00:10,729 - mmdet - INFO - Epoch [6][1200/1494]\tlr: 2.000e-02, eta: 11:31:39, time: 3.198, data_time: 1.627, memory: 11277, loss_rpn_cls: 0.0103, loss_rpn_bbox: 0.0268, loss_cls: 0.1199, acc: 95.4556, loss_bbox: 0.2022, loss: 0.3592\n",
      "2022-12-07 22:05:30,729 - mmdet - INFO - Epoch [6][1300/1494]\tlr: 2.000e-02, eta: 11:27:04, time: 3.200, data_time: 1.632, memory: 11277, loss_rpn_cls: 0.0106, loss_rpn_bbox: 0.0281, loss_cls: 0.1234, acc: 95.3617, loss_bbox: 0.2014, loss: 0.3636\n",
      "2022-12-07 22:10:51,650 - mmdet - INFO - Epoch [6][1400/1494]\tlr: 2.000e-02, eta: 11:22:31, time: 3.209, data_time: 1.639, memory: 11277, loss_rpn_cls: 0.0105, loss_rpn_bbox: 0.0278, loss_cls: 0.1241, acc: 95.3507, loss_bbox: 0.2055, loss: 0.3680\n",
      "2022-12-07 22:15:51,570 - mmdet - INFO - Saving checkpoint at 6 epochs\n"
     ]
    },
    {
     "name": "stdout",
     "output_type": "stream",
     "text": [
      "[>>>>>>>>>>>>>>>>>>>>>>>>>>>] 2323/2323, 4.9 task/s, elapsed: 477s, ETA:     0s\n",
      "---------------iou_thr: 0.5---------------\n"
     ]
    },
    {
     "name": "stderr",
     "output_type": "stream",
     "text": [
      "2022-12-07 22:23:50,653 - mmdet - INFO - \n",
      "+------------+-------+-------+--------+-------+\n",
      "| class      | gts   | dets  | recall | ap    |\n",
      "+------------+-------+-------+--------+-------+\n",
      "| car        | 13124 | 25601 | 0.964  | 0.939 |\n",
      "| truck      | 3084  | 10720 | 0.931  | 0.854 |\n",
      "| bus        | 1786  | 4762  | 0.943  | 0.894 |\n",
      "| pedestrian | 3063  | 10912 | 0.857  | 0.736 |\n",
      "+------------+-------+-------+--------+-------+\n",
      "| mAP        |       |       |        | 0.856 |\n",
      "+------------+-------+-------+--------+-------+\n",
      "2022-12-07 22:23:50,781 - mmdet - INFO - Epoch(val) [6][2323]\tAP50: 0.8560, mAP: 0.8559\n",
      "2022-12-07 22:29:15,105 - mmdet - INFO - Epoch [7][100/1494]\tlr: 2.000e-02, eta: 11:06:17, time: 3.237, data_time: 1.659, memory: 11277, loss_rpn_cls: 0.0090, loss_rpn_bbox: 0.0276, loss_cls: 0.1187, acc: 95.4495, loss_bbox: 0.2002, loss: 0.3555\n",
      "2022-12-07 22:34:39,827 - mmdet - INFO - Epoch [7][200/1494]\tlr: 2.000e-02, eta: 11:01:54, time: 3.247, data_time: 1.671, memory: 11277, loss_rpn_cls: 0.0095, loss_rpn_bbox: 0.0272, loss_cls: 0.1162, acc: 95.5785, loss_bbox: 0.1969, loss: 0.3498\n",
      "2022-12-07 22:40:03,735 - mmdet - INFO - Epoch [7][300/1494]\tlr: 2.000e-02, eta: 10:57:28, time: 3.239, data_time: 1.662, memory: 11277, loss_rpn_cls: 0.0087, loss_rpn_bbox: 0.0265, loss_cls: 0.1152, acc: 95.5847, loss_bbox: 0.1929, loss: 0.3433\n",
      "2022-12-07 22:45:28,483 - mmdet - INFO - Epoch [7][400/1494]\tlr: 2.000e-02, eta: 10:53:02, time: 3.248, data_time: 1.674, memory: 11277, loss_rpn_cls: 0.0083, loss_rpn_bbox: 0.0269, loss_cls: 0.1165, acc: 95.6087, loss_bbox: 0.1935, loss: 0.3451\n",
      "2022-12-07 22:50:52,548 - mmdet - INFO - Epoch [7][500/1494]\tlr: 2.000e-02, eta: 10:48:34, time: 3.241, data_time: 1.666, memory: 11277, loss_rpn_cls: 0.0087, loss_rpn_bbox: 0.0266, loss_cls: 0.1170, acc: 95.5082, loss_bbox: 0.1973, loss: 0.3497\n",
      "2022-12-07 22:56:15,366 - mmdet - INFO - Epoch [7][600/1494]\tlr: 2.000e-02, eta: 10:44:04, time: 3.228, data_time: 1.650, memory: 11277, loss_rpn_cls: 0.0098, loss_rpn_bbox: 0.0267, loss_cls: 0.1165, acc: 95.5820, loss_bbox: 0.1946, loss: 0.3476\n",
      "2022-12-07 23:01:40,401 - mmdet - INFO - Epoch [7][700/1494]\tlr: 2.000e-02, eta: 10:39:35, time: 3.250, data_time: 1.675, memory: 11277, loss_rpn_cls: 0.0092, loss_rpn_bbox: 0.0265, loss_cls: 0.1172, acc: 95.5658, loss_bbox: 0.1964, loss: 0.3494\n",
      "2022-12-07 23:07:04,643 - mmdet - INFO - Epoch [7][800/1494]\tlr: 2.000e-02, eta: 10:35:04, time: 3.243, data_time: 1.668, memory: 11277, loss_rpn_cls: 0.0095, loss_rpn_bbox: 0.0271, loss_cls: 0.1179, acc: 95.5084, loss_bbox: 0.1981, loss: 0.3526\n",
      "2022-12-07 23:12:30,006 - mmdet - INFO - Epoch [7][900/1494]\tlr: 2.000e-02, eta: 10:30:33, time: 3.254, data_time: 1.677, memory: 11277, loss_rpn_cls: 0.0095, loss_rpn_bbox: 0.0274, loss_cls: 0.1213, acc: 95.4185, loss_bbox: 0.1979, loss: 0.3561\n",
      "2022-12-07 23:17:54,101 - mmdet - INFO - Epoch [7][1000/1494]\tlr: 2.000e-02, eta: 10:26:00, time: 3.241, data_time: 1.661, memory: 11277, loss_rpn_cls: 0.0089, loss_rpn_bbox: 0.0263, loss_cls: 0.1190, acc: 95.5114, loss_bbox: 0.1976, loss: 0.3518\n",
      "2022-12-07 23:23:17,602 - mmdet - INFO - Epoch [7][1100/1494]\tlr: 2.000e-02, eta: 10:21:24, time: 3.235, data_time: 1.658, memory: 11277, loss_rpn_cls: 0.0099, loss_rpn_bbox: 0.0263, loss_cls: 0.1184, acc: 95.5289, loss_bbox: 0.1961, loss: 0.3506\n",
      "2022-12-07 23:28:42,686 - mmdet - INFO - Epoch [7][1200/1494]\tlr: 2.000e-02, eta: 10:16:50, time: 3.251, data_time: 1.677, memory: 11277, loss_rpn_cls: 0.0096, loss_rpn_bbox: 0.0266, loss_cls: 0.1147, acc: 95.6240, loss_bbox: 0.1958, loss: 0.3467\n",
      "2022-12-07 23:34:05,443 - mmdet - INFO - Epoch [7][1300/1494]\tlr: 2.000e-02, eta: 10:12:12, time: 3.228, data_time: 1.650, memory: 11277, loss_rpn_cls: 0.0098, loss_rpn_bbox: 0.0287, loss_cls: 0.1175, acc: 95.5374, loss_bbox: 0.1975, loss: 0.3536\n",
      "2022-12-07 23:39:29,180 - mmdet - INFO - Epoch [7][1400/1494]\tlr: 2.000e-02, eta: 10:07:35, time: 3.237, data_time: 1.659, memory: 11277, loss_rpn_cls: 0.0096, loss_rpn_bbox: 0.0267, loss_cls: 0.1176, acc: 95.5664, loss_bbox: 0.1981, loss: 0.3520\n",
      "2022-12-07 23:44:32,679 - mmdet - INFO - Saving checkpoint at 7 epochs\n"
     ]
    },
    {
     "name": "stdout",
     "output_type": "stream",
     "text": [
      "[>>>>>>>>>>>>>>>>>>>>>>>>>>>] 2323/2323, 4.9 task/s, elapsed: 472s, ETA:     0s\n",
      "---------------iou_thr: 0.5---------------\n"
     ]
    },
    {
     "name": "stderr",
     "output_type": "stream",
     "text": [
      "2022-12-07 23:52:27,321 - mmdet - INFO - \n",
      "+------------+-------+-------+--------+-------+\n",
      "| class      | gts   | dets  | recall | ap    |\n",
      "+------------+-------+-------+--------+-------+\n",
      "| car        | 13124 | 21001 | 0.957  | 0.938 |\n",
      "| truck      | 3084  | 7451  | 0.911  | 0.850 |\n",
      "| bus        | 1786  | 3685  | 0.927  | 0.888 |\n",
      "| pedestrian | 3063  | 13901 | 0.879  | 0.746 |\n",
      "+------------+-------+-------+--------+-------+\n",
      "| mAP        |       |       |        | 0.856 |\n",
      "+------------+-------+-------+--------+-------+\n",
      "2022-12-07 23:52:27,427 - mmdet - INFO - Epoch(val) [7][2323]\tAP50: 0.8560, mAP: 0.8556\n",
      "2022-12-07 23:57:54,108 - mmdet - INFO - Epoch [8][100/1494]\tlr: 2.000e-02, eta: 9:52:54, time: 3.261, data_time: 1.683, memory: 11277, loss_rpn_cls: 0.0084, loss_rpn_bbox: 0.0269, loss_cls: 0.1127, acc: 95.6839, loss_bbox: 0.1944, loss: 0.3424\n",
      "2022-12-08 00:03:19,656 - mmdet - INFO - Epoch [8][200/1494]\tlr: 2.000e-02, eta: 9:48:22, time: 3.256, data_time: 1.679, memory: 11277, loss_rpn_cls: 0.0079, loss_rpn_bbox: 0.0259, loss_cls: 0.1074, acc: 95.8746, loss_bbox: 0.1899, loss: 0.3311\n",
      "2022-12-08 00:08:44,456 - mmdet - INFO - Epoch [8][300/1494]\tlr: 2.000e-02, eta: 9:43:48, time: 3.248, data_time: 1.671, memory: 11277, loss_rpn_cls: 0.0086, loss_rpn_bbox: 0.0268, loss_cls: 0.1145, acc: 95.6200, loss_bbox: 0.1951, loss: 0.3450\n",
      "2022-12-08 00:14:09,829 - mmdet - INFO - Epoch [8][400/1494]\tlr: 2.000e-02, eta: 9:39:14, time: 3.254, data_time: 1.677, memory: 11277, loss_rpn_cls: 0.0087, loss_rpn_bbox: 0.0260, loss_cls: 0.1143, acc: 95.6405, loss_bbox: 0.1906, loss: 0.3395\n",
      "2022-12-08 00:19:35,105 - mmdet - INFO - Epoch [8][500/1494]\tlr: 2.000e-02, eta: 9:34:39, time: 3.253, data_time: 1.676, memory: 11277, loss_rpn_cls: 0.0088, loss_rpn_bbox: 0.0258, loss_cls: 0.1099, acc: 95.7905, loss_bbox: 0.1888, loss: 0.3333\n",
      "2022-12-08 00:24:58,457 - mmdet - INFO - Epoch [8][600/1494]\tlr: 2.000e-02, eta: 9:30:00, time: 3.233, data_time: 1.655, memory: 11277, loss_rpn_cls: 0.0085, loss_rpn_bbox: 0.0267, loss_cls: 0.1121, acc: 95.7220, loss_bbox: 0.1925, loss: 0.3398\n",
      "2022-12-08 00:30:24,414 - mmdet - INFO - Epoch [8][700/1494]\tlr: 2.000e-02, eta: 9:25:24, time: 3.260, data_time: 1.684, memory: 11277, loss_rpn_cls: 0.0088, loss_rpn_bbox: 0.0263, loss_cls: 0.1171, acc: 95.5332, loss_bbox: 0.1960, loss: 0.3483\n",
      "2022-12-08 00:35:50,742 - mmdet - INFO - Epoch [8][800/1494]\tlr: 2.000e-02, eta: 9:20:47, time: 3.263, data_time: 1.687, memory: 11277, loss_rpn_cls: 0.0090, loss_rpn_bbox: 0.0258, loss_cls: 0.1105, acc: 95.7754, loss_bbox: 0.1884, loss: 0.3336\n",
      "2022-12-08 00:41:16,432 - mmdet - INFO - Epoch [8][900/1494]\tlr: 2.000e-02, eta: 9:16:09, time: 3.257, data_time: 1.679, memory: 11277, loss_rpn_cls: 0.0096, loss_rpn_bbox: 0.0270, loss_cls: 0.1139, acc: 95.6562, loss_bbox: 0.1929, loss: 0.3433\n",
      "2022-12-08 00:46:41,725 - mmdet - INFO - Epoch [8][1000/1494]\tlr: 2.000e-02, eta: 9:11:29, time: 3.253, data_time: 1.671, memory: 11277, loss_rpn_cls: 0.0094, loss_rpn_bbox: 0.0274, loss_cls: 0.1160, acc: 95.6154, loss_bbox: 0.1942, loss: 0.3469\n",
      "2022-12-08 00:52:06,287 - mmdet - INFO - Epoch [8][1100/1494]\tlr: 2.000e-02, eta: 9:06:48, time: 3.246, data_time: 1.667, memory: 11277, loss_rpn_cls: 0.0093, loss_rpn_bbox: 0.0255, loss_cls: 0.1120, acc: 95.7402, loss_bbox: 0.1904, loss: 0.3373\n",
      "2022-12-08 00:57:31,876 - mmdet - INFO - Epoch [8][1200/1494]\tlr: 2.000e-02, eta: 9:02:07, time: 3.256, data_time: 1.679, memory: 11277, loss_rpn_cls: 0.0088, loss_rpn_bbox: 0.0260, loss_cls: 0.1133, acc: 95.6931, loss_bbox: 0.1913, loss: 0.3394\n",
      "2022-12-08 01:02:56,582 - mmdet - INFO - Epoch [8][1300/1494]\tlr: 2.000e-02, eta: 8:57:25, time: 3.247, data_time: 1.667, memory: 11277, loss_rpn_cls: 0.0090, loss_rpn_bbox: 0.0269, loss_cls: 0.1173, acc: 95.5292, loss_bbox: 0.1963, loss: 0.3496\n",
      "2022-12-08 01:08:16,800 - mmdet - INFO - Epoch [8][1400/1494]\tlr: 2.000e-02, eta: 8:52:38, time: 3.202, data_time: 1.623, memory: 11277, loss_rpn_cls: 0.0089, loss_rpn_bbox: 0.0258, loss_cls: 0.1153, acc: 95.6032, loss_bbox: 0.1935, loss: 0.3435\n",
      "2022-12-08 01:13:20,351 - mmdet - INFO - Saving checkpoint at 8 epochs\n"
     ]
    },
    {
     "name": "stdout",
     "output_type": "stream",
     "text": [
      "[>>>>>>>>>>>>>>>>>>>>>>>>>>>] 2323/2323, 4.9 task/s, elapsed: 471s, ETA:     0s\n",
      "---------------iou_thr: 0.5---------------\n"
     ]
    },
    {
     "name": "stderr",
     "output_type": "stream",
     "text": [
      "2022-12-08 01:21:14,264 - mmdet - INFO - \n",
      "+------------+-------+-------+--------+-------+\n",
      "| class      | gts   | dets  | recall | ap    |\n",
      "+------------+-------+-------+--------+-------+\n",
      "| car        | 13124 | 24651 | 0.964  | 0.940 |\n",
      "| truck      | 3084  | 10592 | 0.933  | 0.859 |\n",
      "| bus        | 1786  | 4495  | 0.945  | 0.897 |\n",
      "| pedestrian | 3063  | 9494  | 0.844  | 0.732 |\n",
      "+------------+-------+-------+--------+-------+\n",
      "| mAP        |       |       |        | 0.857 |\n",
      "+------------+-------+-------+--------+-------+\n",
      "2022-12-08 01:21:14,381 - mmdet - INFO - Epoch(val) [8][2323]\tAP50: 0.8570, mAP: 0.8570\n",
      "2022-12-08 01:26:40,772 - mmdet - INFO - Epoch [9][100/1494]\tlr: 2.000e-03, eta: 8:39:05, time: 3.258, data_time: 1.671, memory: 11277, loss_rpn_cls: 0.0076, loss_rpn_bbox: 0.0245, loss_cls: 0.0995, acc: 96.1636, loss_bbox: 0.1748, loss: 0.3064\n",
      "2022-12-08 01:32:01,259 - mmdet - INFO - Epoch [9][200/1494]\tlr: 2.000e-03, eta: 8:34:21, time: 3.205, data_time: 1.624, memory: 11277, loss_rpn_cls: 0.0063, loss_rpn_bbox: 0.0222, loss_cls: 0.0960, acc: 96.2988, loss_bbox: 0.1689, loss: 0.2933\n",
      "2022-12-08 01:37:23,030 - mmdet - INFO - Epoch [9][300/1494]\tlr: 2.000e-03, eta: 8:29:38, time: 3.218, data_time: 1.634, memory: 11277, loss_rpn_cls: 0.0065, loss_rpn_bbox: 0.0235, loss_cls: 0.0953, acc: 96.2981, loss_bbox: 0.1705, loss: 0.2958\n",
      "2022-12-08 01:42:44,657 - mmdet - INFO - Epoch [9][400/1494]\tlr: 2.000e-03, eta: 8:24:53, time: 3.216, data_time: 1.632, memory: 11277, loss_rpn_cls: 0.0057, loss_rpn_bbox: 0.0224, loss_cls: 0.0941, acc: 96.3354, loss_bbox: 0.1683, loss: 0.2905\n",
      "2022-12-08 01:48:07,603 - mmdet - INFO - Epoch [9][500/1494]\tlr: 2.000e-03, eta: 8:20:10, time: 3.229, data_time: 1.649, memory: 11277, loss_rpn_cls: 0.0059, loss_rpn_bbox: 0.0232, loss_cls: 0.0971, acc: 96.2427, loss_bbox: 0.1718, loss: 0.2981\n",
      "2022-12-08 01:53:29,907 - mmdet - INFO - Epoch [9][600/1494]\tlr: 2.000e-03, eta: 8:15:25, time: 3.223, data_time: 1.643, memory: 11277, loss_rpn_cls: 0.0058, loss_rpn_bbox: 0.0223, loss_cls: 0.0943, acc: 96.3836, loss_bbox: 0.1671, loss: 0.2896\n",
      "2022-12-08 01:58:50,836 - mmdet - INFO - Epoch [9][700/1494]\tlr: 2.000e-03, eta: 8:10:38, time: 3.209, data_time: 1.627, memory: 11277, loss_rpn_cls: 0.0064, loss_rpn_bbox: 0.0225, loss_cls: 0.0942, acc: 96.3546, loss_bbox: 0.1667, loss: 0.2899\n",
      "2022-12-08 02:04:12,952 - mmdet - INFO - Epoch [9][800/1494]\tlr: 2.000e-03, eta: 8:05:52, time: 3.221, data_time: 1.640, memory: 11277, loss_rpn_cls: 0.0053, loss_rpn_bbox: 0.0218, loss_cls: 0.0924, acc: 96.3938, loss_bbox: 0.1641, loss: 0.2835\n",
      "2022-12-08 02:09:33,163 - mmdet - INFO - Epoch [9][900/1494]\tlr: 2.000e-03, eta: 8:01:04, time: 3.202, data_time: 1.623, memory: 11277, loss_rpn_cls: 0.0061, loss_rpn_bbox: 0.0211, loss_cls: 0.0912, acc: 96.5084, loss_bbox: 0.1630, loss: 0.2815\n",
      "2022-12-08 02:14:56,167 - mmdet - INFO - Epoch [9][1000/1494]\tlr: 2.000e-03, eta: 7:56:17, time: 3.230, data_time: 1.648, memory: 11277, loss_rpn_cls: 0.0064, loss_rpn_bbox: 0.0219, loss_cls: 0.0945, acc: 96.3722, loss_bbox: 0.1680, loss: 0.2908\n",
      "2022-12-08 02:20:18,662 - mmdet - INFO - Epoch [9][1100/1494]\tlr: 2.000e-03, eta: 7:51:29, time: 3.225, data_time: 1.645, memory: 11277, loss_rpn_cls: 0.0063, loss_rpn_bbox: 0.0228, loss_cls: 0.0943, acc: 96.3535, loss_bbox: 0.1652, loss: 0.2885\n",
      "2022-12-08 02:25:40,937 - mmdet - INFO - Epoch [9][1200/1494]\tlr: 2.000e-03, eta: 7:46:41, time: 3.223, data_time: 1.644, memory: 11277, loss_rpn_cls: 0.0057, loss_rpn_bbox: 0.0227, loss_cls: 0.0940, acc: 96.3590, loss_bbox: 0.1673, loss: 0.2897\n",
      "2022-12-08 02:31:04,621 - mmdet - INFO - Epoch [9][1300/1494]\tlr: 2.000e-03, eta: 7:41:53, time: 3.237, data_time: 1.657, memory: 11277, loss_rpn_cls: 0.0059, loss_rpn_bbox: 0.0228, loss_cls: 0.0951, acc: 96.3495, loss_bbox: 0.1687, loss: 0.2925\n",
      "2022-12-08 02:36:25,755 - mmdet - INFO - Epoch [9][1400/1494]\tlr: 2.000e-03, eta: 7:37:03, time: 3.211, data_time: 1.631, memory: 11277, loss_rpn_cls: 0.0064, loss_rpn_bbox: 0.0218, loss_cls: 0.0918, acc: 96.4715, loss_bbox: 0.1649, loss: 0.2849\n",
      "2022-12-08 02:41:29,717 - mmdet - INFO - Saving checkpoint at 9 epochs\n"
     ]
    },
    {
     "name": "stdout",
     "output_type": "stream",
     "text": [
      "[>>>>>>>>>>>>>>>>>>>>>>>>>>>] 2323/2323, 5.0 task/s, elapsed: 462s, ETA:     0s\n",
      "---------------iou_thr: 0.5---------------\n"
     ]
    },
    {
     "name": "stderr",
     "output_type": "stream",
     "text": [
      "2022-12-08 02:49:13,903 - mmdet - INFO - \n",
      "+------------+-------+-------+--------+-------+\n",
      "| class      | gts   | dets  | recall | ap    |\n",
      "+------------+-------+-------+--------+-------+\n",
      "| car        | 13124 | 19384 | 0.961  | 0.945 |\n",
      "| truck      | 3084  | 6286  | 0.921  | 0.877 |\n",
      "| bus        | 1786  | 3258  | 0.937  | 0.906 |\n",
      "| pedestrian | 3063  | 6783  | 0.847  | 0.767 |\n",
      "+------------+-------+-------+--------+-------+\n",
      "| mAP        |       |       |        | 0.874 |\n",
      "+------------+-------+-------+--------+-------+\n",
      "2022-12-08 02:49:14,001 - mmdet - INFO - Epoch(val) [9][2323]\tAP50: 0.8740, mAP: 0.8738\n",
      "2022-12-08 02:54:36,892 - mmdet - INFO - Epoch [10][100/1494]\tlr: 2.000e-03, eta: 7:24:23, time: 3.223, data_time: 1.642, memory: 11277, loss_rpn_cls: 0.0052, loss_rpn_bbox: 0.0210, loss_cls: 0.0887, acc: 96.5343, loss_bbox: 0.1599, loss: 0.2747\n",
      "2022-12-08 02:59:57,853 - mmdet - INFO - Epoch [10][200/1494]\tlr: 2.000e-03, eta: 7:19:35, time: 3.210, data_time: 1.625, memory: 11277, loss_rpn_cls: 0.0052, loss_rpn_bbox: 0.0217, loss_cls: 0.0890, acc: 96.5378, loss_bbox: 0.1604, loss: 0.2763\n",
      "2022-12-08 03:05:15,681 - mmdet - INFO - Epoch [10][300/1494]\tlr: 2.000e-03, eta: 7:14:44, time: 3.178, data_time: 1.601, memory: 11277, loss_rpn_cls: 0.0054, loss_rpn_bbox: 0.0228, loss_cls: 0.0926, acc: 96.4431, loss_bbox: 0.1657, loss: 0.2865\n",
      "2022-12-08 03:10:35,046 - mmdet - INFO - Epoch [10][400/1494]\tlr: 2.000e-03, eta: 7:09:55, time: 3.194, data_time: 1.614, memory: 11277, loss_rpn_cls: 0.0052, loss_rpn_bbox: 0.0215, loss_cls: 0.0917, acc: 96.4548, loss_bbox: 0.1632, loss: 0.2816\n",
      "2022-12-08 03:15:55,105 - mmdet - INFO - Epoch [10][500/1494]\tlr: 2.000e-03, eta: 7:05:05, time: 3.201, data_time: 1.624, memory: 11277, loss_rpn_cls: 0.0055, loss_rpn_bbox: 0.0219, loss_cls: 0.0896, acc: 96.5303, loss_bbox: 0.1625, loss: 0.2795\n",
      "2022-12-08 03:21:14,631 - mmdet - INFO - Epoch [10][600/1494]\tlr: 2.000e-03, eta: 7:00:14, time: 3.195, data_time: 1.618, memory: 11277, loss_rpn_cls: 0.0055, loss_rpn_bbox: 0.0221, loss_cls: 0.0917, acc: 96.4475, loss_bbox: 0.1642, loss: 0.2835\n",
      "2022-12-08 03:26:35,554 - mmdet - INFO - Epoch [10][700/1494]\tlr: 2.000e-03, eta: 6:55:24, time: 3.209, data_time: 1.629, memory: 11277, loss_rpn_cls: 0.0051, loss_rpn_bbox: 0.0211, loss_cls: 0.0868, acc: 96.6369, loss_bbox: 0.1572, loss: 0.2702\n",
      "2022-12-08 03:31:54,989 - mmdet - INFO - Epoch [10][800/1494]\tlr: 2.000e-03, eta: 6:50:33, time: 3.194, data_time: 1.614, memory: 11277, loss_rpn_cls: 0.0051, loss_rpn_bbox: 0.0216, loss_cls: 0.0931, acc: 96.3849, loss_bbox: 0.1654, loss: 0.2852\n",
      "2022-12-08 03:37:16,444 - mmdet - INFO - Epoch [10][900/1494]\tlr: 2.000e-03, eta: 6:45:42, time: 3.215, data_time: 1.634, memory: 11277, loss_rpn_cls: 0.0056, loss_rpn_bbox: 0.0218, loss_cls: 0.0899, acc: 96.5375, loss_bbox: 0.1609, loss: 0.2783\n",
      "2022-12-08 03:42:36,105 - mmdet - INFO - Epoch [10][1000/1494]\tlr: 2.000e-03, eta: 6:40:50, time: 3.197, data_time: 1.617, memory: 11277, loss_rpn_cls: 0.0052, loss_rpn_bbox: 0.0222, loss_cls: 0.0913, acc: 96.4856, loss_bbox: 0.1625, loss: 0.2812\n",
      "2022-12-08 03:47:54,806 - mmdet - INFO - Epoch [10][1100/1494]\tlr: 2.000e-03, eta: 6:35:57, time: 3.187, data_time: 1.626, memory: 11277, loss_rpn_cls: 0.0061, loss_rpn_bbox: 0.0224, loss_cls: 0.0897, acc: 96.5025, loss_bbox: 0.1638, loss: 0.2819\n",
      "2022-12-08 03:53:12,210 - mmdet - INFO - Epoch [10][1200/1494]\tlr: 2.000e-03, eta: 6:31:03, time: 3.174, data_time: 1.595, memory: 11277, loss_rpn_cls: 0.0050, loss_rpn_bbox: 0.0214, loss_cls: 0.0866, acc: 96.6191, loss_bbox: 0.1586, loss: 0.2717\n",
      "2022-12-08 03:58:25,444 - mmdet - INFO - Epoch [10][1300/1494]\tlr: 2.000e-03, eta: 6:26:07, time: 3.133, data_time: 1.595, memory: 11277, loss_rpn_cls: 0.0048, loss_rpn_bbox: 0.0212, loss_cls: 0.0875, acc: 96.6275, loss_bbox: 0.1587, loss: 0.2722\n",
      "2022-12-08 04:03:40,168 - mmdet - INFO - Epoch [10][1400/1494]\tlr: 2.000e-03, eta: 6:21:11, time: 3.147, data_time: 1.622, memory: 11277, loss_rpn_cls: 0.0055, loss_rpn_bbox: 0.0212, loss_cls: 0.0904, acc: 96.4689, loss_bbox: 0.1609, loss: 0.2781\n",
      "2022-12-08 04:08:36,288 - mmdet - INFO - Saving checkpoint at 10 epochs\n"
     ]
    },
    {
     "name": "stdout",
     "output_type": "stream",
     "text": [
      "[>>>>>>>>>>>>>>>>>>>>>>>>>>>] 2323/2323, 5.1 task/s, elapsed: 451s, ETA:     0s\n",
      "---------------iou_thr: 0.5---------------\n"
     ]
    },
    {
     "name": "stderr",
     "output_type": "stream",
     "text": [
      "2022-12-08 04:16:09,885 - mmdet - INFO - \n",
      "+------------+-------+-------+--------+-------+\n",
      "| class      | gts   | dets  | recall | ap    |\n",
      "+------------+-------+-------+--------+-------+\n",
      "| car        | 13124 | 19817 | 0.962  | 0.945 |\n",
      "| truck      | 3084  | 5923  | 0.921  | 0.878 |\n",
      "| bus        | 1786  | 3265  | 0.938  | 0.909 |\n",
      "| pedestrian | 3063  | 6390  | 0.845  | 0.769 |\n",
      "+------------+-------+-------+--------+-------+\n",
      "| mAP        |       |       |        | 0.875 |\n",
      "+------------+-------+-------+--------+-------+\n",
      "2022-12-08 04:16:09,995 - mmdet - INFO - Epoch(val) [10][2323]\tAP50: 0.8750, mAP: 0.8754\n",
      "2022-12-08 04:21:21,938 - mmdet - INFO - Epoch [11][100/1494]\tlr: 2.000e-03, eta: 6:09:09, time: 3.114, data_time: 1.620, memory: 11277, loss_rpn_cls: 0.0049, loss_rpn_bbox: 0.0215, loss_cls: 0.0879, acc: 96.6021, loss_bbox: 0.1595, loss: 0.2737\n",
      "2022-12-08 04:26:35,071 - mmdet - INFO - Epoch [11][200/1494]\tlr: 2.000e-03, eta: 6:04:15, time: 3.131, data_time: 1.613, memory: 11277, loss_rpn_cls: 0.0054, loss_rpn_bbox: 0.0217, loss_cls: 0.0870, acc: 96.6223, loss_bbox: 0.1581, loss: 0.2722\n",
      "2022-12-08 04:31:52,338 - mmdet - INFO - Epoch [11][300/1494]\tlr: 2.000e-03, eta: 5:59:22, time: 3.172, data_time: 1.608, memory: 11277, loss_rpn_cls: 0.0050, loss_rpn_bbox: 0.0214, loss_cls: 0.0863, acc: 96.6578, loss_bbox: 0.1580, loss: 0.2707\n",
      "2022-12-08 04:37:12,078 - mmdet - INFO - Epoch [11][400/1494]\tlr: 2.000e-03, eta: 5:54:30, time: 3.197, data_time: 1.617, memory: 11277, loss_rpn_cls: 0.0050, loss_rpn_bbox: 0.0213, loss_cls: 0.0878, acc: 96.5921, loss_bbox: 0.1605, loss: 0.2746\n",
      "2022-12-08 04:42:31,553 - mmdet - INFO - Epoch [11][500/1494]\tlr: 2.000e-03, eta: 5:49:38, time: 3.195, data_time: 1.614, memory: 11277, loss_rpn_cls: 0.0049, loss_rpn_bbox: 0.0213, loss_cls: 0.0870, acc: 96.5967, loss_bbox: 0.1585, loss: 0.2717\n",
      "2022-12-08 04:47:49,614 - mmdet - INFO - Epoch [11][600/1494]\tlr: 2.000e-03, eta: 5:44:44, time: 3.181, data_time: 1.602, memory: 11277, loss_rpn_cls: 0.0051, loss_rpn_bbox: 0.0216, loss_cls: 0.0870, acc: 96.6112, loss_bbox: 0.1594, loss: 0.2731\n",
      "2022-12-08 04:53:07,354 - mmdet - INFO - Epoch [11][700/1494]\tlr: 2.000e-03, eta: 5:39:50, time: 3.177, data_time: 1.597, memory: 11277, loss_rpn_cls: 0.0049, loss_rpn_bbox: 0.0214, loss_cls: 0.0875, acc: 96.6165, loss_bbox: 0.1573, loss: 0.2711\n",
      "2022-12-08 04:58:23,946 - mmdet - INFO - Epoch [11][800/1494]\tlr: 2.000e-03, eta: 5:34:56, time: 3.166, data_time: 1.587, memory: 11277, loss_rpn_cls: 0.0052, loss_rpn_bbox: 0.0215, loss_cls: 0.0876, acc: 96.5957, loss_bbox: 0.1601, loss: 0.2744\n",
      "2022-12-08 05:03:41,589 - mmdet - INFO - Epoch [11][900/1494]\tlr: 2.000e-03, eta: 5:30:01, time: 3.176, data_time: 1.601, memory: 11277, loss_rpn_cls: 0.0053, loss_rpn_bbox: 0.0212, loss_cls: 0.0875, acc: 96.5971, loss_bbox: 0.1584, loss: 0.2724\n",
      "2022-12-08 05:08:57,657 - mmdet - INFO - Epoch [11][1000/1494]\tlr: 2.000e-03, eta: 5:25:06, time: 3.161, data_time: 1.582, memory: 11277, loss_rpn_cls: 0.0053, loss_rpn_bbox: 0.0217, loss_cls: 0.0870, acc: 96.5985, loss_bbox: 0.1594, loss: 0.2733\n",
      "2022-12-08 05:14:13,940 - mmdet - INFO - Epoch [11][1100/1494]\tlr: 2.000e-03, eta: 5:20:10, time: 3.163, data_time: 1.585, memory: 11277, loss_rpn_cls: 0.0049, loss_rpn_bbox: 0.0212, loss_cls: 0.0884, acc: 96.5840, loss_bbox: 0.1590, loss: 0.2736\n",
      "2022-12-08 05:19:30,798 - mmdet - INFO - Epoch [11][1200/1494]\tlr: 2.000e-03, eta: 5:15:14, time: 3.169, data_time: 1.590, memory: 11277, loss_rpn_cls: 0.0054, loss_rpn_bbox: 0.0212, loss_cls: 0.0872, acc: 96.6175, loss_bbox: 0.1587, loss: 0.2725\n",
      "2022-12-08 05:24:47,033 - mmdet - INFO - Epoch [11][1300/1494]\tlr: 2.000e-03, eta: 5:10:18, time: 3.162, data_time: 1.585, memory: 11277, loss_rpn_cls: 0.0055, loss_rpn_bbox: 0.0209, loss_cls: 0.0859, acc: 96.7086, loss_bbox: 0.1573, loss: 0.2697\n",
      "2022-12-08 05:30:02,975 - mmdet - INFO - Epoch [11][1400/1494]\tlr: 2.000e-03, eta: 5:05:22, time: 3.159, data_time: 1.582, memory: 11277, loss_rpn_cls: 0.0050, loss_rpn_bbox: 0.0211, loss_cls: 0.0872, acc: 96.6392, loss_bbox: 0.1577, loss: 0.2710\n",
      "2022-12-08 05:35:00,548 - mmdet - INFO - Saving checkpoint at 11 epochs\n"
     ]
    },
    {
     "name": "stdout",
     "output_type": "stream",
     "text": [
      "[>>>>>>>>>>>>>>>>>>>>>>>>>>>] 2323/2323, 5.1 task/s, elapsed: 451s, ETA:     0s\n",
      "---------------iou_thr: 0.5---------------\n"
     ]
    },
    {
     "name": "stderr",
     "output_type": "stream",
     "text": [
      "2022-12-08 05:42:34,233 - mmdet - INFO - \n",
      "+------------+-------+-------+--------+-------+\n",
      "| class      | gts   | dets  | recall | ap    |\n",
      "+------------+-------+-------+--------+-------+\n",
      "| car        | 13124 | 20064 | 0.963  | 0.946 |\n",
      "| truck      | 3084  | 6616  | 0.925  | 0.880 |\n",
      "| bus        | 1786  | 3251  | 0.934  | 0.906 |\n",
      "| pedestrian | 3063  | 6741  | 0.853  | 0.774 |\n",
      "+------------+-------+-------+--------+-------+\n",
      "| mAP        |       |       |        | 0.877 |\n",
      "+------------+-------+-------+--------+-------+\n",
      "2022-12-08 05:42:34,369 - mmdet - INFO - Epoch(val) [11][2323]\tAP50: 0.8770, mAP: 0.8767\n",
      "2022-12-08 05:47:53,905 - mmdet - INFO - Epoch [12][100/1494]\tlr: 2.000e-04, eta: 4:54:01, time: 3.189, data_time: 1.608, memory: 11277, loss_rpn_cls: 0.0052, loss_rpn_bbox: 0.0211, loss_cls: 0.0855, acc: 96.6964, loss_bbox: 0.1578, loss: 0.2695\n",
      "2022-12-08 05:53:09,325 - mmdet - INFO - Epoch [12][200/1494]\tlr: 2.000e-04, eta: 4:49:06, time: 3.154, data_time: 1.584, memory: 11277, loss_rpn_cls: 0.0048, loss_rpn_bbox: 0.0207, loss_cls: 0.0838, acc: 96.7126, loss_bbox: 0.1543, loss: 0.2636\n",
      "2022-12-08 05:58:21,064 - mmdet - INFO - Epoch [12][300/1494]\tlr: 2.000e-04, eta: 4:44:10, time: 3.117, data_time: 1.595, memory: 11277, loss_rpn_cls: 0.0049, loss_rpn_bbox: 0.0215, loss_cls: 0.0856, acc: 96.6931, loss_bbox: 0.1553, loss: 0.2673\n",
      "2022-12-08 06:03:32,494 - mmdet - INFO - Epoch [12][400/1494]\tlr: 2.000e-04, eta: 4:39:13, time: 3.114, data_time: 1.585, memory: 11277, loss_rpn_cls: 0.0049, loss_rpn_bbox: 0.0208, loss_cls: 0.0829, acc: 96.7723, loss_bbox: 0.1533, loss: 0.2618\n",
      "2022-12-08 06:08:41,736 - mmdet - INFO - Epoch [12][500/1494]\tlr: 2.000e-04, eta: 4:34:16, time: 3.092, data_time: 1.567, memory: 11277, loss_rpn_cls: 0.0044, loss_rpn_bbox: 0.0211, loss_cls: 0.0846, acc: 96.6968, loss_bbox: 0.1564, loss: 0.2664\n",
      "2022-12-08 06:13:50,954 - mmdet - INFO - Epoch [12][600/1494]\tlr: 2.000e-04, eta: 4:29:18, time: 3.092, data_time: 1.571, memory: 11277, loss_rpn_cls: 0.0050, loss_rpn_bbox: 0.0214, loss_cls: 0.0826, acc: 96.7413, loss_bbox: 0.1525, loss: 0.2615\n",
      "2022-12-08 06:18:59,137 - mmdet - INFO - Epoch [12][700/1494]\tlr: 2.000e-04, eta: 4:24:20, time: 3.082, data_time: 1.563, memory: 11277, loss_rpn_cls: 0.0050, loss_rpn_bbox: 0.0216, loss_cls: 0.0844, acc: 96.6992, loss_bbox: 0.1572, loss: 0.2682\n",
      "2022-12-08 06:24:07,588 - mmdet - INFO - Epoch [12][800/1494]\tlr: 2.000e-04, eta: 4:19:21, time: 3.084, data_time: 1.565, memory: 11277, loss_rpn_cls: 0.0046, loss_rpn_bbox: 0.0201, loss_cls: 0.0864, acc: 96.6526, loss_bbox: 0.1553, loss: 0.2665\n",
      "2022-12-08 06:29:15,807 - mmdet - INFO - Epoch [12][900/1494]\tlr: 2.000e-04, eta: 4:14:23, time: 3.082, data_time: 1.561, memory: 11277, loss_rpn_cls: 0.0044, loss_rpn_bbox: 0.0203, loss_cls: 0.0833, acc: 96.7829, loss_bbox: 0.1518, loss: 0.2597\n",
      "2022-12-08 06:34:24,378 - mmdet - INFO - Epoch [12][1000/1494]\tlr: 2.000e-04, eta: 4:09:25, time: 3.086, data_time: 1.564, memory: 11277, loss_rpn_cls: 0.0049, loss_rpn_bbox: 0.0208, loss_cls: 0.0843, acc: 96.7231, loss_bbox: 0.1545, loss: 0.2645\n",
      "2022-12-08 06:39:33,494 - mmdet - INFO - Epoch [12][1100/1494]\tlr: 2.000e-04, eta: 4:04:26, time: 3.091, data_time: 1.568, memory: 11277, loss_rpn_cls: 0.0049, loss_rpn_bbox: 0.0215, loss_cls: 0.0850, acc: 96.7224, loss_bbox: 0.1561, loss: 0.2674\n",
      "2022-12-08 06:44:40,816 - mmdet - INFO - Epoch [12][1200/1494]\tlr: 2.000e-04, eta: 3:59:27, time: 3.073, data_time: 1.555, memory: 11277, loss_rpn_cls: 0.0049, loss_rpn_bbox: 0.0209, loss_cls: 0.0842, acc: 96.7157, loss_bbox: 0.1546, loss: 0.2646\n",
      "2022-12-08 06:49:48,749 - mmdet - INFO - Epoch [12][1300/1494]\tlr: 2.000e-04, eta: 3:54:28, time: 3.079, data_time: 1.556, memory: 11277, loss_rpn_cls: 0.0045, loss_rpn_bbox: 0.0206, loss_cls: 0.0830, acc: 96.7917, loss_bbox: 0.1539, loss: 0.2621\n",
      "2022-12-08 06:54:56,702 - mmdet - INFO - Epoch [12][1400/1494]\tlr: 2.000e-04, eta: 3:49:29, time: 3.079, data_time: 1.558, memory: 11277, loss_rpn_cls: 0.0051, loss_rpn_bbox: 0.0207, loss_cls: 0.0827, acc: 96.7825, loss_bbox: 0.1539, loss: 0.2623\n",
      "2022-12-08 06:59:45,881 - mmdet - INFO - Saving checkpoint at 12 epochs\n"
     ]
    },
    {
     "name": "stdout",
     "output_type": "stream",
     "text": [
      "[>>>>>>>>>>>>>>>>>>>>>>>>>>>] 2323/2323, 5.3 task/s, elapsed: 438s, ETA:     0s\n",
      "---------------iou_thr: 0.5---------------\n"
     ]
    },
    {
     "name": "stderr",
     "output_type": "stream",
     "text": [
      "2022-12-08 07:07:06,205 - mmdet - INFO - \n",
      "+------------+-------+-------+--------+-------+\n",
      "| class      | gts   | dets  | recall | ap    |\n",
      "+------------+-------+-------+--------+-------+\n",
      "| car        | 13124 | 19487 | 0.961  | 0.945 |\n",
      "| truck      | 3084  | 6231  | 0.923  | 0.879 |\n",
      "| bus        | 1786  | 3116  | 0.936  | 0.907 |\n",
      "| pedestrian | 3063  | 6621  | 0.856  | 0.777 |\n",
      "+------------+-------+-------+--------+-------+\n",
      "| mAP        |       |       |        | 0.877 |\n",
      "+------------+-------+-------+--------+-------+\n",
      "2022-12-08 07:07:06,313 - mmdet - INFO - Epoch(val) [12][2323]\tAP50: 0.8770, mAP: 0.8772\n",
      "2022-12-08 07:12:15,096 - mmdet - INFO - Epoch [13][100/1494]\tlr: 2.000e-04, eta: 3:38:38, time: 3.082, data_time: 1.581, memory: 11277, loss_rpn_cls: 0.0047, loss_rpn_bbox: 0.0212, loss_cls: 0.0827, acc: 96.7581, loss_bbox: 0.1534, loss: 0.2621\n",
      "2022-12-08 07:17:22,535 - mmdet - INFO - Epoch [13][200/1494]\tlr: 2.000e-04, eta: 3:33:41, time: 3.074, data_time: 1.556, memory: 11277, loss_rpn_cls: 0.0053, loss_rpn_bbox: 0.0219, loss_cls: 0.0894, acc: 96.5799, loss_bbox: 0.1599, loss: 0.2765\n",
      "2022-12-08 07:22:30,928 - mmdet - INFO - Epoch [13][300/1494]\tlr: 2.000e-04, eta: 3:28:43, time: 3.084, data_time: 1.564, memory: 11277, loss_rpn_cls: 0.0048, loss_rpn_bbox: 0.0210, loss_cls: 0.0839, acc: 96.7538, loss_bbox: 0.1544, loss: 0.2641\n",
      "2022-12-08 07:27:39,403 - mmdet - INFO - Epoch [13][400/1494]\tlr: 2.000e-04, eta: 3:23:46, time: 3.085, data_time: 1.564, memory: 11277, loss_rpn_cls: 0.0046, loss_rpn_bbox: 0.0205, loss_cls: 0.0828, acc: 96.7835, loss_bbox: 0.1541, loss: 0.2621\n",
      "2022-12-08 07:32:48,682 - mmdet - INFO - Epoch [13][500/1494]\tlr: 2.000e-04, eta: 3:18:49, time: 3.093, data_time: 1.567, memory: 11277, loss_rpn_cls: 0.0045, loss_rpn_bbox: 0.0202, loss_cls: 0.0818, acc: 96.8383, loss_bbox: 0.1511, loss: 0.2577\n",
      "2022-12-08 07:37:57,524 - mmdet - INFO - Epoch [13][600/1494]\tlr: 2.000e-04, eta: 3:13:51, time: 3.088, data_time: 1.556, memory: 11277, loss_rpn_cls: 0.0048, loss_rpn_bbox: 0.0218, loss_cls: 0.0849, acc: 96.6888, loss_bbox: 0.1568, loss: 0.2683\n",
      "2022-12-08 07:43:09,237 - mmdet - INFO - Epoch [13][700/1494]\tlr: 2.000e-04, eta: 3:08:54, time: 3.117, data_time: 1.581, memory: 11277, loss_rpn_cls: 0.0043, loss_rpn_bbox: 0.0203, loss_cls: 0.0816, acc: 96.8277, loss_bbox: 0.1503, loss: 0.2566\n",
      "2022-12-08 07:48:18,782 - mmdet - INFO - Epoch [13][800/1494]\tlr: 2.000e-04, eta: 3:03:56, time: 3.095, data_time: 1.555, memory: 11277, loss_rpn_cls: 0.0046, loss_rpn_bbox: 0.0204, loss_cls: 0.0822, acc: 96.7840, loss_bbox: 0.1528, loss: 0.2601\n",
      "2022-12-08 07:53:29,737 - mmdet - INFO - Epoch [13][900/1494]\tlr: 2.000e-04, eta: 2:58:58, time: 3.110, data_time: 1.565, memory: 11277, loss_rpn_cls: 0.0047, loss_rpn_bbox: 0.0205, loss_cls: 0.0833, acc: 96.7639, loss_bbox: 0.1528, loss: 0.2613\n",
      "2022-12-08 07:58:40,449 - mmdet - INFO - Epoch [13][1000/1494]\tlr: 2.000e-04, eta: 2:54:01, time: 3.107, data_time: 1.562, memory: 11277, loss_rpn_cls: 0.0049, loss_rpn_bbox: 0.0206, loss_cls: 0.0829, acc: 96.7825, loss_bbox: 0.1545, loss: 0.2629\n",
      "2022-12-08 08:03:51,604 - mmdet - INFO - Epoch [13][1100/1494]\tlr: 2.000e-04, eta: 2:49:03, time: 3.112, data_time: 1.567, memory: 11277, loss_rpn_cls: 0.0043, loss_rpn_bbox: 0.0202, loss_cls: 0.0817, acc: 96.8235, loss_bbox: 0.1529, loss: 0.2591\n",
      "2022-12-08 08:09:02,313 - mmdet - INFO - Epoch [13][1200/1494]\tlr: 2.000e-04, eta: 2:44:05, time: 3.107, data_time: 1.563, memory: 11277, loss_rpn_cls: 0.0048, loss_rpn_bbox: 0.0214, loss_cls: 0.0856, acc: 96.6708, loss_bbox: 0.1562, loss: 0.2681\n",
      "2022-12-08 08:14:13,339 - mmdet - INFO - Epoch [13][1300/1494]\tlr: 2.000e-04, eta: 2:39:07, time: 3.110, data_time: 1.565, memory: 11277, loss_rpn_cls: 0.0046, loss_rpn_bbox: 0.0200, loss_cls: 0.0840, acc: 96.7694, loss_bbox: 0.1530, loss: 0.2615\n",
      "2022-12-08 08:19:24,388 - mmdet - INFO - Epoch [13][1400/1494]\tlr: 2.000e-04, eta: 2:34:08, time: 3.110, data_time: 1.567, memory: 11277, loss_rpn_cls: 0.0044, loss_rpn_bbox: 0.0210, loss_cls: 0.0850, acc: 96.6812, loss_bbox: 0.1535, loss: 0.2640\n",
      "2022-12-08 08:24:16,336 - mmdet - INFO - Saving checkpoint at 13 epochs\n"
     ]
    },
    {
     "name": "stdout",
     "output_type": "stream",
     "text": [
      "[>>>>>>>>>>>>>>>>>>>>>>>>>>>] 2323/2323, 5.3 task/s, elapsed: 437s, ETA:     0s\n",
      "---------------iou_thr: 0.5---------------\n"
     ]
    },
    {
     "name": "stderr",
     "output_type": "stream",
     "text": [
      "2022-12-08 08:31:35,997 - mmdet - INFO - \n",
      "+------------+-------+-------+--------+-------+\n",
      "| class      | gts   | dets  | recall | ap    |\n",
      "+------------+-------+-------+--------+-------+\n",
      "| car        | 13124 | 19457 | 0.961  | 0.945 |\n",
      "| truck      | 3084  | 6208  | 0.923  | 0.881 |\n",
      "| bus        | 1786  | 3028  | 0.930  | 0.903 |\n",
      "| pedestrian | 3063  | 6393  | 0.855  | 0.779 |\n",
      "+------------+-------+-------+--------+-------+\n",
      "| mAP        |       |       |        | 0.877 |\n",
      "+------------+-------+-------+--------+-------+\n",
      "2022-12-08 08:31:36,108 - mmdet - INFO - Epoch(val) [13][2323]\tAP50: 0.8770, mAP: 0.8769\n",
      "2022-12-08 08:36:46,424 - mmdet - INFO - Epoch [14][100/1494]\tlr: 2.000e-04, eta: 2:23:46, time: 3.097, data_time: 1.583, memory: 11277, loss_rpn_cls: 0.0045, loss_rpn_bbox: 0.0208, loss_cls: 0.0834, acc: 96.7407, loss_bbox: 0.1546, loss: 0.2633\n",
      "2022-12-08 08:41:56,398 - mmdet - INFO - Epoch [14][200/1494]\tlr: 2.000e-04, eta: 2:18:49, time: 3.100, data_time: 1.556, memory: 11277, loss_rpn_cls: 0.0050, loss_rpn_bbox: 0.0212, loss_cls: 0.0831, acc: 96.7836, loss_bbox: 0.1540, loss: 0.2633\n",
      "2022-12-08 08:47:09,019 - mmdet - INFO - Epoch [14][300/1494]\tlr: 2.000e-04, eta: 2:13:52, time: 3.126, data_time: 1.578, memory: 11277, loss_rpn_cls: 0.0049, loss_rpn_bbox: 0.0204, loss_cls: 0.0832, acc: 96.7591, loss_bbox: 0.1516, loss: 0.2601\n",
      "2022-12-08 08:52:20,047 - mmdet - INFO - Epoch [14][400/1494]\tlr: 2.000e-04, eta: 2:08:55, time: 3.110, data_time: 1.569, memory: 11277, loss_rpn_cls: 0.0048, loss_rpn_bbox: 0.0215, loss_cls: 0.0854, acc: 96.6908, loss_bbox: 0.1556, loss: 0.2673\n",
      "2022-12-08 08:57:30,304 - mmdet - INFO - Epoch [14][500/1494]\tlr: 2.000e-04, eta: 2:03:57, time: 3.103, data_time: 1.569, memory: 11277, loss_rpn_cls: 0.0048, loss_rpn_bbox: 0.0212, loss_cls: 0.0856, acc: 96.7171, loss_bbox: 0.1559, loss: 0.2674\n",
      "2022-12-08 09:02:40,936 - mmdet - INFO - Epoch [14][600/1494]\tlr: 2.000e-04, eta: 1:59:00, time: 3.106, data_time: 1.578, memory: 11277, loss_rpn_cls: 0.0045, loss_rpn_bbox: 0.0213, loss_cls: 0.0856, acc: 96.6865, loss_bbox: 0.1549, loss: 0.2664\n",
      "2022-12-08 09:07:55,333 - mmdet - INFO - Epoch [14][700/1494]\tlr: 2.000e-04, eta: 1:54:02, time: 3.144, data_time: 1.617, memory: 11277, loss_rpn_cls: 0.0049, loss_rpn_bbox: 0.0200, loss_cls: 0.0830, acc: 96.7776, loss_bbox: 0.1536, loss: 0.2615\n",
      "2022-12-08 09:13:09,558 - mmdet - INFO - Epoch [14][800/1494]\tlr: 2.000e-04, eta: 1:49:05, time: 3.142, data_time: 1.605, memory: 11277, loss_rpn_cls: 0.0045, loss_rpn_bbox: 0.0210, loss_cls: 0.0826, acc: 96.7878, loss_bbox: 0.1531, loss: 0.2611\n",
      "2022-12-08 09:18:20,503 - mmdet - INFO - Epoch [14][900/1494]\tlr: 2.000e-04, eta: 1:44:07, time: 3.110, data_time: 1.577, memory: 11277, loss_rpn_cls: 0.0045, loss_rpn_bbox: 0.0209, loss_cls: 0.0822, acc: 96.8018, loss_bbox: 0.1538, loss: 0.2614\n",
      "2022-12-08 09:23:31,128 - mmdet - INFO - Epoch [14][1000/1494]\tlr: 2.000e-04, eta: 1:39:09, time: 3.106, data_time: 1.568, memory: 11277, loss_rpn_cls: 0.0047, loss_rpn_bbox: 0.0208, loss_cls: 0.0850, acc: 96.7111, loss_bbox: 0.1548, loss: 0.2654\n",
      "2022-12-08 09:28:44,852 - mmdet - INFO - Epoch [14][1100/1494]\tlr: 2.000e-04, eta: 1:34:11, time: 3.137, data_time: 1.592, memory: 11277, loss_rpn_cls: 0.0049, loss_rpn_bbox: 0.0201, loss_cls: 0.0829, acc: 96.7861, loss_bbox: 0.1532, loss: 0.2611\n",
      "2022-12-08 09:33:59,747 - mmdet - INFO - Epoch [14][1200/1494]\tlr: 2.000e-04, eta: 1:29:13, time: 3.149, data_time: 1.607, memory: 11277, loss_rpn_cls: 0.0049, loss_rpn_bbox: 0.0200, loss_cls: 0.0801, acc: 96.8802, loss_bbox: 0.1484, loss: 0.2534\n",
      "2022-12-08 09:39:13,589 - mmdet - INFO - Epoch [14][1300/1494]\tlr: 2.000e-04, eta: 1:24:15, time: 3.138, data_time: 1.596, memory: 11277, loss_rpn_cls: 0.0047, loss_rpn_bbox: 0.0210, loss_cls: 0.0825, acc: 96.8036, loss_bbox: 0.1529, loss: 0.2611\n",
      "2022-12-08 09:44:28,622 - mmdet - INFO - Epoch [14][1400/1494]\tlr: 2.000e-04, eta: 1:19:16, time: 3.150, data_time: 1.605, memory: 11277, loss_rpn_cls: 0.0044, loss_rpn_bbox: 0.0205, loss_cls: 0.0820, acc: 96.8323, loss_bbox: 0.1520, loss: 0.2589\n",
      "2022-12-08 09:49:26,971 - mmdet - INFO - Saving checkpoint at 14 epochs\n"
     ]
    },
    {
     "name": "stdout",
     "output_type": "stream",
     "text": [
      "[>>>>>>>>>>>>>>>>>>>>>>>>>>>] 2323/2323, 5.1 task/s, elapsed: 454s, ETA:     0s\n",
      "---------------iou_thr: 0.5---------------\n"
     ]
    },
    {
     "name": "stderr",
     "output_type": "stream",
     "text": [
      "2022-12-08 09:57:03,633 - mmdet - INFO - \n",
      "+------------+-------+-------+--------+-------+\n",
      "| class      | gts   | dets  | recall | ap    |\n",
      "+------------+-------+-------+--------+-------+\n",
      "| car        | 13124 | 19177 | 0.960  | 0.945 |\n",
      "| truck      | 3084  | 6207  | 0.921  | 0.879 |\n",
      "| bus        | 1786  | 3093  | 0.936  | 0.907 |\n",
      "| pedestrian | 3063  | 6527  | 0.854  | 0.777 |\n",
      "+------------+-------+-------+--------+-------+\n",
      "| mAP        |       |       |        | 0.877 |\n",
      "+------------+-------+-------+--------+-------+\n",
      "2022-12-08 09:57:03,766 - mmdet - INFO - Epoch(val) [14][2323]\tAP50: 0.8770, mAP: 0.8769\n",
      "2022-12-08 10:02:22,239 - mmdet - INFO - Epoch [15][100/1494]\tlr: 2.000e-04, eta: 1:09:18, time: 3.179, data_time: 1.597, memory: 11277, loss_rpn_cls: 0.0047, loss_rpn_bbox: 0.0206, loss_cls: 0.0816, acc: 96.8391, loss_bbox: 0.1515, loss: 0.2584\n",
      "2022-12-08 10:07:40,386 - mmdet - INFO - Epoch [15][200/1494]\tlr: 2.000e-04, eta: 1:04:21, time: 3.181, data_time: 1.601, memory: 11277, loss_rpn_cls: 0.0049, loss_rpn_bbox: 0.0203, loss_cls: 0.0838, acc: 96.7574, loss_bbox: 0.1536, loss: 0.2625\n",
      "2022-12-08 10:12:58,840 - mmdet - INFO - Epoch [15][300/1494]\tlr: 2.000e-04, eta: 0:59:23, time: 3.185, data_time: 1.603, memory: 11277, loss_rpn_cls: 0.0050, loss_rpn_bbox: 0.0213, loss_cls: 0.0855, acc: 96.6705, loss_bbox: 0.1557, loss: 0.2675\n",
      "2022-12-08 10:18:17,883 - mmdet - INFO - Epoch [15][400/1494]\tlr: 2.000e-04, eta: 0:54:26, time: 3.190, data_time: 1.612, memory: 11277, loss_rpn_cls: 0.0047, loss_rpn_bbox: 0.0201, loss_cls: 0.0821, acc: 96.8111, loss_bbox: 0.1505, loss: 0.2574\n",
      "2022-12-08 10:23:36,284 - mmdet - INFO - Epoch [15][500/1494]\tlr: 2.000e-04, eta: 0:49:28, time: 3.184, data_time: 1.604, memory: 11277, loss_rpn_cls: 0.0047, loss_rpn_bbox: 0.0211, loss_cls: 0.0841, acc: 96.7473, loss_bbox: 0.1532, loss: 0.2631\n",
      "2022-12-08 10:28:55,875 - mmdet - INFO - Epoch [15][600/1494]\tlr: 2.000e-04, eta: 0:44:31, time: 3.196, data_time: 1.615, memory: 11277, loss_rpn_cls: 0.0044, loss_rpn_bbox: 0.0209, loss_cls: 0.0839, acc: 96.7655, loss_bbox: 0.1539, loss: 0.2631\n",
      "2022-12-08 10:34:15,653 - mmdet - INFO - Epoch [15][700/1494]\tlr: 2.000e-04, eta: 0:39:33, time: 3.198, data_time: 1.620, memory: 11277, loss_rpn_cls: 0.0044, loss_rpn_bbox: 0.0209, loss_cls: 0.0835, acc: 96.7606, loss_bbox: 0.1539, loss: 0.2627\n",
      "2022-12-08 10:39:35,895 - mmdet - INFO - Epoch [15][800/1494]\tlr: 2.000e-04, eta: 0:34:34, time: 3.202, data_time: 1.624, memory: 11277, loss_rpn_cls: 0.0044, loss_rpn_bbox: 0.0204, loss_cls: 0.0806, acc: 96.8591, loss_bbox: 0.1503, loss: 0.2556\n",
      "2022-12-08 10:44:56,354 - mmdet - INFO - Epoch [15][900/1494]\tlr: 2.000e-04, eta: 0:29:36, time: 3.205, data_time: 1.625, memory: 11277, loss_rpn_cls: 0.0053, loss_rpn_bbox: 0.0214, loss_cls: 0.0854, acc: 96.6747, loss_bbox: 0.1561, loss: 0.2682\n",
      "2022-12-08 10:50:16,409 - mmdet - INFO - Epoch [15][1000/1494]\tlr: 2.000e-04, eta: 0:24:37, time: 3.201, data_time: 1.624, memory: 11277, loss_rpn_cls: 0.0046, loss_rpn_bbox: 0.0209, loss_cls: 0.0838, acc: 96.6959, loss_bbox: 0.1552, loss: 0.2645\n",
      "2022-12-08 10:55:34,955 - mmdet - INFO - Epoch [15][1100/1494]\tlr: 2.000e-04, eta: 0:19:39, time: 3.185, data_time: 1.607, memory: 11277, loss_rpn_cls: 0.0048, loss_rpn_bbox: 0.0203, loss_cls: 0.0841, acc: 96.7592, loss_bbox: 0.1526, loss: 0.2617\n",
      "2022-12-08 11:00:54,762 - mmdet - INFO - Epoch [15][1200/1494]\tlr: 2.000e-04, eta: 0:14:40, time: 3.198, data_time: 1.618, memory: 11277, loss_rpn_cls: 0.0047, loss_rpn_bbox: 0.0201, loss_cls: 0.0811, acc: 96.8637, loss_bbox: 0.1510, loss: 0.2569\n",
      "2022-12-08 11:06:15,165 - mmdet - INFO - Epoch [15][1300/1494]\tlr: 2.000e-04, eta: 0:09:40, time: 3.204, data_time: 1.625, memory: 11277, loss_rpn_cls: 0.0045, loss_rpn_bbox: 0.0211, loss_cls: 0.0830, acc: 96.7814, loss_bbox: 0.1524, loss: 0.2609\n",
      "2022-12-08 11:11:35,025 - mmdet - INFO - Epoch [15][1400/1494]\tlr: 2.000e-04, eta: 0:04:41, time: 3.199, data_time: 1.621, memory: 11277, loss_rpn_cls: 0.0046, loss_rpn_bbox: 0.0207, loss_cls: 0.0835, acc: 96.7441, loss_bbox: 0.1537, loss: 0.2626\n",
      "2022-12-08 11:16:34,456 - mmdet - INFO - Saving checkpoint at 15 epochs\n"
     ]
    },
    {
     "name": "stdout",
     "output_type": "stream",
     "text": [
      "[>>>>>>>>>>>>>>>>>>>>>>>>>>>] 2323/2323, 5.0 task/s, elapsed: 462s, ETA:     0s\n",
      "---------------iou_thr: 0.5---------------\n"
     ]
    },
    {
     "name": "stderr",
     "output_type": "stream",
     "text": [
      "2022-12-08 11:24:19,346 - mmdet - INFO - \n",
      "+------------+-------+-------+--------+-------+\n",
      "| class      | gts   | dets  | recall | ap    |\n",
      "+------------+-------+-------+--------+-------+\n",
      "| car        | 13124 | 19192 | 0.961  | 0.945 |\n",
      "| truck      | 3084  | 6096  | 0.920  | 0.879 |\n",
      "| bus        | 1786  | 3066  | 0.934  | 0.906 |\n",
      "| pedestrian | 3063  | 6490  | 0.854  | 0.777 |\n",
      "+------------+-------+-------+--------+-------+\n",
      "| mAP        |       |       |        | 0.877 |\n",
      "+------------+-------+-------+--------+-------+\n",
      "2022-12-08 11:24:19,472 - mmdet - INFO - Epoch(val) [15][2323]\tAP50: 0.8770, mAP: 0.8767\n"
     ]
    },
    {
     "data": {
      "text/html": [
       "Waiting for W&B process to finish... <strong style=\"color:green\">(success).</strong>"
      ],
      "text/plain": [
       "<IPython.core.display.HTML object>"
      ]
     },
     "metadata": {},
     "output_type": "display_data"
    },
    {
     "data": {
      "application/vnd.jupyter.widget-view+json": {
       "model_id": "21646d42483948e79d6a4afcc89fd1fe",
       "version_major": 2,
       "version_minor": 0
      },
      "text/plain": [
       "VBox(children=(Label(value='0.051 MB of 0.051 MB uploaded (0.000 MB deduped)\\r'), FloatProgress(value=1.0, max…"
      ]
     },
     "metadata": {},
     "output_type": "display_data"
    },
    {
     "data": {
      "text/html": [
       "<style>\n",
       "    table.wandb td:nth-child(1) { padding: 0 10px; text-align: left ; width: auto;} td:nth-child(2) {text-align: left ; width: 100%}\n",
       "    .wandb-row { display: flex; flex-direction: row; flex-wrap: wrap; justify-content: flex-start; width: 100% }\n",
       "    .wandb-col { display: flex; flex-direction: column; flex-basis: 100%; flex: 1; padding: 10px; }\n",
       "    </style>\n",
       "<div class=\"wandb-row\"><div class=\"wandb-col\"><h3>Run history:</h3><br/><table class=\"wandb\"><tr><td>learning_rate</td><td>▄█████████████████████▂▂▂▂▂▂▂▁▁▁▁▁▁▁▁▁▁▁</td></tr><tr><td>momentum</td><td>▁▁▁▁▁▁▁▁▁▁▁▁▁▁▁▁▁▁▁▁▁▁▁▁▁▁▁▁▁▁▁▁▁▁▁▁▁▁▁▁</td></tr><tr><td>train/acc</td><td>▁▂▃▄▄▄▅▅▅▅▅▆▆▆▆▆▆▆▆▆▆▇▇▇▇▇▇█████████████</td></tr><tr><td>train/loss</td><td>█▇▆▅▅▅▄▄▄▄▃▃▃▃▃▃▃▃▃▃▃▂▂▂▂▂▁▁▁▁▁▁▁▁▁▁▁▁▁▁</td></tr><tr><td>train/loss_bbox</td><td>█▇▆▅▅▅▄▄▄▄▄▃▄▃▃▃▃▃▃▃▃▂▂▂▂▂▂▁▁▁▁▁▁▁▁▁▁▁▁▁</td></tr><tr><td>train/loss_cls</td><td>█▇▅▅▄▄▄▄▃▄▃▃▃▃▃▃▃▃▃▃▃▂▂▂▂▂▁▁▁▁▁▁▁▁▁▁▁▁▁▁</td></tr><tr><td>train/loss_rpn_bbox</td><td>██▇▆▅▅▅▅▄▄▄▄▄▄▄▃▃▃▃▃▄▂▂▂▂▂▁▂▂▁▁▁▁▁▁▁▁▁▁▁</td></tr><tr><td>train/loss_rpn_cls</td><td>█▇▅▅▄▄▄▄▃▃▃▃▃▃▃▃▂▂▂▂▂▂▁▁▁▁▁▁▁▁▁▁▁▁▁▁▁▁▁▁</td></tr><tr><td>val/AP50</td><td>▁▃▅▅▆▇▇▇███████</td></tr><tr><td>val/mAP</td><td>▁▃▅▅▆▇▇▇███████</td></tr></table><br/></div><div class=\"wandb-col\"><h3>Run summary:</h3><br/><table class=\"wandb\"><tr><td>learning_rate</td><td>0.0002</td></tr><tr><td>momentum</td><td>0.9</td></tr><tr><td>train/acc</td><td>96.74414</td></tr><tr><td>train/loss</td><td>0.26256</td></tr><tr><td>train/loss_bbox</td><td>0.15369</td></tr><tr><td>train/loss_cls</td><td>0.08348</td></tr><tr><td>train/loss_rpn_bbox</td><td>0.02074</td></tr><tr><td>train/loss_rpn_cls</td><td>0.00465</td></tr><tr><td>val/AP50</td><td>0.877</td></tr><tr><td>val/mAP</td><td>0.87673</td></tr></table><br/></div></div>"
      ],
      "text/plain": [
       "<IPython.core.display.HTML object>"
      ]
     },
     "metadata": {},
     "output_type": "display_data"
    },
    {
     "data": {
      "text/html": [
       "Synced <strong style=\"color:#cdcd00\">fulldata</strong>: <a href=\"https://wandb.ai/aimmo/r-cnn/runs/3ho5450h\" target=\"_blank\">https://wandb.ai/aimmo/r-cnn/runs/3ho5450h</a><br/>Synced 5 W&B file(s), 0 media file(s), 1 artifact file(s) and 0 other file(s)"
      ],
      "text/plain": [
       "<IPython.core.display.HTML object>"
      ]
     },
     "metadata": {},
     "output_type": "display_data"
    },
    {
     "data": {
      "text/html": [
       "Find logs at: <code>./wandb/run-20221207_133953-3ho5450h/logs</code>"
      ],
      "text/plain": [
       "<IPython.core.display.HTML object>"
      ]
     },
     "metadata": {},
     "output_type": "display_data"
    }
   ],
   "source": [
    "# Build dataset\n",
    "datasets = [build_dataset(cfg.data.train)]\n",
    "\n",
    "# Build the detector\n",
    "model = build_detector(cfg.model, train_cfg=cfg.get('train_cfg'), test_cfg=cfg.get('test_cfg'))\n",
    "# Add an attribute for visualization convenience\n",
    "model.CLASSES = datasets[0].CLASSES\n",
    "\n",
    "# Create work_dir\n",
    "mmcv.mkdir_or_exist(osp.abspath(cfg.work_dir))\n",
    "train_detector(model, datasets, cfg, distributed=False, validate=True)"
   ]
  }
 ],
 "metadata": {
  "kernelspec": {
   "display_name": "Python 3 (ipykernel)",
   "language": "python",
   "name": "python3"
  },
  "language_info": {
   "codemirror_mode": {
    "name": "ipython",
    "version": 3
   },
   "file_extension": ".py",
   "mimetype": "text/x-python",
   "name": "python",
   "nbconvert_exporter": "python",
   "pygments_lexer": "ipython3",
   "version": "3.9.7"
  }
 },
 "nbformat": 4,
 "nbformat_minor": 5
}
