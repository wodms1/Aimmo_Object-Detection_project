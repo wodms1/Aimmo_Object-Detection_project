{
 "cells": [
  {
   "cell_type": "code",
   "execution_count": 13,
   "id": "b0d7aa5d",
   "metadata": {},
   "outputs": [
    {
     "name": "stdout",
     "output_type": "stream",
     "text": [
      "/aiffel/aiffel/aimmo/mmdetection\n"
     ]
    }
   ],
   "source": [
    "%cd mmdetection\n",
    "\n",
    "# !pip install -q --upgrade wandb\n",
    "# !pip3 install openmim\n",
    "# !mim install mmcv-full\n",
    "# !pip install -e ."
   ]
  },
  {
   "cell_type": "code",
   "execution_count": 14,
   "id": "c1cbf1e0",
   "metadata": {},
   "outputs": [
    {
     "name": "stdout",
     "output_type": "stream",
     "text": [
      "0.13.5\n"
     ]
    }
   ],
   "source": [
    "from mmdet.apis import init_detector, inference_detector, show_result_pyplot\n",
    "import mmcv\n",
    "from mmcv import Config\n",
    "from mmdet.datasets import build_dataset\n",
    "from mmdet.models import build_detector\n",
    "from mmdet.apis import train_detector\n",
    "from mmdet.datasets.builder import DATASETS\n",
    "from mmdet.datasets.coco import CocoDataset,CustomDataset\n",
    "from mmdet.apis import set_random_seed\n",
    "import os.path as osp\n",
    "import os\n",
    "import numpy as np\n",
    "\n",
    "import wandb\n",
    "print(wandb.__version__)"
   ]
  },
  {
   "cell_type": "code",
   "execution_count": 15,
   "id": "3d202936",
   "metadata": {},
   "outputs": [
    {
     "name": "stderr",
     "output_type": "stream",
     "text": [
      "\u001b[34m\u001b[1mwandb\u001b[0m: \u001b[33mWARNING\u001b[0m Calling wandb.login() after wandb.init() has no effect.\n"
     ]
    },
    {
     "data": {
      "text/plain": [
       "True"
      ]
     },
     "execution_count": 15,
     "metadata": {},
     "output_type": "execute_result"
    }
   ],
   "source": [
    "# # 완디비 로그인\n",
    "wandb.login(key= '')"
   ]
  },
  {
   "cell_type": "code",
   "execution_count": 16,
   "id": "dd696a76",
   "metadata": {},
   "outputs": [
    {
     "data": {
      "text/html": [
       "Finishing last run (ID:y56yp9r8) before initializing another..."
      ],
      "text/plain": [
       "<IPython.core.display.HTML object>"
      ]
     },
     "metadata": {},
     "output_type": "display_data"
    },
    {
     "data": {
      "text/html": [
       "Waiting for W&B process to finish... <strong style=\"color:green\">(success).</strong>"
      ],
      "text/plain": [
       "<IPython.core.display.HTML object>"
      ]
     },
     "metadata": {},
     "output_type": "display_data"
    },
    {
     "data": {
      "application/vnd.jupyter.widget-view+json": {
       "model_id": "ded79c43c6da4433bec3f0f43a5cc172",
       "version_major": 2,
       "version_minor": 0
      },
      "text/plain": [
       "VBox(children=(Label(value='0.001 MB of 0.001 MB uploaded (0.000 MB deduped)\\r'), FloatProgress(value=1.0, max…"
      ]
     },
     "metadata": {},
     "output_type": "display_data"
    },
    {
     "data": {
      "text/html": [
       "Synced <strong style=\"color:#cdcd00\">lyric-sunset-61</strong>: <a href=\"https://wandb.ai/aimmo/r-cnn/runs/y56yp9r8\" target=\"_blank\">https://wandb.ai/aimmo/r-cnn/runs/y56yp9r8</a><br/>Synced 5 W&B file(s), 0 media file(s), 0 artifact file(s) and 0 other file(s)"
      ],
      "text/plain": [
       "<IPython.core.display.HTML object>"
      ]
     },
     "metadata": {},
     "output_type": "display_data"
    },
    {
     "data": {
      "text/html": [
       "Find logs at: <code>/aiffel/aiffel/aimmo/wandb/run-20221209_105459-y56yp9r8/logs</code>"
      ],
      "text/plain": [
       "<IPython.core.display.HTML object>"
      ]
     },
     "metadata": {},
     "output_type": "display_data"
    },
    {
     "data": {
      "text/html": [
       "Successfully finished last run (ID:y56yp9r8). Initializing new run:<br/>"
      ],
      "text/plain": [
       "<IPython.core.display.HTML object>"
      ]
     },
     "metadata": {},
     "output_type": "display_data"
    },
    {
     "data": {
      "application/vnd.jupyter.widget-view+json": {
       "model_id": "8285ebfe13d1429aab7060de3fe5d140",
       "version_major": 2,
       "version_minor": 0
      },
      "text/plain": [
       "VBox(children=(Label(value='Waiting for wandb.init()...\\r'), FloatProgress(value=0.016669350949814542, max=1.0…"
      ]
     },
     "metadata": {},
     "output_type": "display_data"
    },
    {
     "data": {
      "text/html": [
       "wandb version 0.13.6 is available!  To upgrade, please run:\n",
       " $ pip install wandb --upgrade"
      ],
      "text/plain": [
       "<IPython.core.display.HTML object>"
      ]
     },
     "metadata": {},
     "output_type": "display_data"
    },
    {
     "data": {
      "text/html": [
       "Tracking run with wandb version 0.13.5"
      ],
      "text/plain": [
       "<IPython.core.display.HTML object>"
      ]
     },
     "metadata": {},
     "output_type": "display_data"
    },
    {
     "data": {
      "text/html": [
       "Run data is saved locally in <code>/aiffel/aiffel/aimmo/wandb/run-20221209_105510-u1mwleo9</code>"
      ],
      "text/plain": [
       "<IPython.core.display.HTML object>"
      ]
     },
     "metadata": {},
     "output_type": "display_data"
    },
    {
     "data": {
      "text/html": [
       "Syncing run <strong><a href=\"https://wandb.ai/aimmo/r-cnn/runs/u1mwleo9\" target=\"_blank\">comfy-bird-62</a></strong> to <a href=\"https://wandb.ai/aimmo/r-cnn\" target=\"_blank\">Weights & Biases</a> (<a href=\"https://wandb.me/run\" target=\"_blank\">docs</a>)<br/>"
      ],
      "text/plain": [
       "<IPython.core.display.HTML object>"
      ]
     },
     "metadata": {},
     "output_type": "display_data"
    },
    {
     "data": {
      "text/html": [
       "<button onClick=\"this.nextSibling.style.display='block';this.style.display='none';\">Display W&B run</button><iframe src=\"https://wandb.ai/aimmo/r-cnn/runs/u1mwleo9?jupyter=true\" style=\"border:none;width:100%;height:420px;display:none;\"></iframe>"
      ],
      "text/plain": [
       "<wandb.sdk.wandb_run.Run at 0x7f77d869e7c0>"
      ]
     },
     "execution_count": 16,
     "metadata": {},
     "output_type": "execute_result"
    }
   ],
   "source": [
    "wandb.init(project=\"r-cnn\", entity=\"aimmo\")"
   ]
  },
  {
   "cell_type": "code",
   "execution_count": 17,
   "id": "253111cd",
   "metadata": {},
   "outputs": [],
   "source": [
    "@DATASETS.register_module(force=True)\n",
    "class Aimmo(CustomDataset):\n",
    "    CLASSES = ('car', 'truck', 'bus','pedestrian')\n",
    "    def load_annotations(self, ann_file):\n",
    "        cat2label = {k:i for i, k in enumerate(self.CLASSES)}\n",
    "        image_list = mmcv.list_from_file(self.ann_file)\n",
    "        data_infos = []\n",
    "    \n",
    "        for image_id in image_list:\n",
    "            filename = os.path.splitext(image_id)[0]#os.path.splitext('{0:}/{1:}'.format(img_prefix, image_id))[0]\n",
    "            #image = cv2.imread(filename)\n",
    "            data_info = {'filename': filename,\n",
    "                         'width': 1920, \n",
    "                         'height': 1024}\n",
    "            label_prefix = self.img_prefix.replace('image', 'middle_texts')\n",
    "            lines = mmcv.list_from_file(osp.join(label_prefix, str(image_id)))\n",
    "\n",
    "            content = [line.strip().split(' ') for line in lines]\n",
    "            bbox_names = [x[0] for x in content]\n",
    "            bboxes = [ [float(info) for info in x[1:5]] for x in content]\n",
    "\n",
    "            gt_bboxes = []\n",
    "            gt_labels = []\n",
    "            gt_bboxes_ignore = []\n",
    "            gt_labels_ignore = []\n",
    "\n",
    "            for bbox_name, bbox in zip(bbox_names, bboxes):\n",
    "                if bbox_name in cat2label:\n",
    "                    gt_bboxes.append(bbox)\n",
    "                    gt_labels.append(cat2label[bbox_name])\n",
    "                else:\n",
    "                    gt_bboxes_ignore.append(bbox)\n",
    "                    gt_labels_ignore.append(-1)\n",
    "            \n",
    "            data_anno = {\n",
    "              'bboxes': np.array(gt_bboxes, dtype=np.float32).reshape(-1, 4),\n",
    "              'labels': np.array(gt_labels, dtype=np.compat.long),\n",
    "              'bboxes_ignore': np.array(gt_bboxes_ignore, dtype=np.float32).reshape(-1, 4),\n",
    "              'labels_ignore': np.array(gt_labels_ignore, dtype=np.compat.long)\n",
    "            }\n",
    "            data_info.update(ann=data_anno)\n",
    "            data_infos.append(data_info)\n",
    "        return data_infos"
   ]
  },
  {
   "cell_type": "code",
   "execution_count": null,
   "id": "a9922e62",
   "metadata": {},
   "outputs": [],
   "source": [
    "config_file = 'configs/faster_rcnn/faster_rcnn_r50_fpn_1x_coco.py'\n",
    "checkpoint_file = 'checkpoints/faster_rcnn_r50_fpn_1x_coco_20200130-047c8118.pth'\n",
    "cfg = Config.fromfile(config_file)\n",
    "\n",
    "cfg.dataset_type = 'Aimmo'\n",
    "cfg.data_root = 'data/'\n",
    "\n",
    "cfg.data.train.type = 'Aimmo'\n",
    "cfg.data.train.data_root = 'data/'\n",
    "cfg.data.train.ann_file = 'middle_train.txt'\n",
    "cfg.data.train.img_prefix = 'image'\n",
    "\n",
    "\n",
    "cfg.data.val.type = 'Aimmo'\n",
    "cfg.data.val.data_root = 'data/'\n",
    "cfg.data.val.ann_file = 'middle_val.txt'\n",
    "cfg.data.val.img_prefix = 'image'\n",
    "\n",
    "\n",
    "cfg.data.test.type = 'Aimmo'\n",
    "cfg.data.test.data_root = 'data/'\n",
    "cfg.data.test.ann_file = 'middle_sunday_test.txt'\n",
    "cfg.data.test.img_prefix = 'test/image'\n",
    "\n",
    "cfg.model.roi_head.bbox_head.num_classes = 4\n",
    "\n",
    "cfg.load_from = 'checkpoints/faster_rcnn_r50_fpn_1x_coco_20200130-047c8118.pth'\n",
    "cfg.work_dir = 'middle_fulldata_fullsize'\n",
    "\n",
    "#cfg.lr_config.policy='step'\n",
    "cfg.seed = 0\n",
    "set_random_seed(0, deterministic=False)\n",
    "cfg.gpu_ids = range(1)\n",
    "cfg.device='cuda'\n",
    "cfg.evaluation.metric='mAP'\n",
    "\n",
    "cfg.log_config.interval = 100\n",
    "cfg.evaluation.interval = 1\n",
    "# We can set the checkpoint saving interval to reduce the storage cost\n",
    "cfg.checkpoint_config.interval = 1\n",
    "#cfg.evaluation.save_best='auto'\n",
    "cfg.data.train.pipeline[2].img_scale=[(960,960)]#['Resize']\n",
    "cfg.train_pipeline[2].img_scale=[(960,960)]\n",
    "cfg.test_pipeline[1].img_scale=[(960,960)]\n",
    "cfg.data.val.pipeline[1].img_scale = [(960,960)]\n",
    "cfg.data.test.pipeline[1].img_scale = [(960,960)]\n",
    "cfg.runner.max_epochs = 15\n",
    "\n",
    "cfg.data.samples_per_gpu = 12 # Batch size of a single GPU used in testing\n",
    "cfg.data.workers_per_gpu = 0 # Worker to pre-fetch data for each single GPU\n",
    "print(cfg.pretty_text)"
   ]
  },
  {
   "cell_type": "code",
   "execution_count": 7,
   "id": "91522fd0",
   "metadata": {},
   "outputs": [],
   "source": [
    "cfg.log_config.hooks = [\n",
    "    dict(type='TextLoggerHook'),\n",
    "    dict(type='WandbLoggerHook',\n",
    "         init_kwargs={'project': 'r-cnn', 'entity' : 'aimmo', 'name' : 'fulldata_fullsize'},)] "
   ]
  },
  {
   "cell_type": "code",
   "execution_count": 8,
   "id": "09396acf",
   "metadata": {},
   "outputs": [
    {
     "name": "stderr",
     "output_type": "stream",
     "text": [
      "/aiffel/aiffel/aimmo/mmdetection/mmdet/datasets/custom.py:181: UserWarning: CustomDataset does not support filtering empty gt images.\n",
      "  warnings.warn(\n"
     ]
    },
    {
     "data": {
      "text/plain": [
       "[\n",
       " Aimmo Train dataset with number of images 797, and instance counts: \n",
       " +----------+-------+-----------+-------+----------+-------+----------------+-------+---------------+-------+\n",
       " | category | count | category  | count | category | count | category       | count | category      | count |\n",
       " +----------+-------+-----------+-------+----------+-------+----------------+-------+---------------+-------+\n",
       " | 0 [car]  | 3482  | 1 [truck] | 1143  | 2 [bus]  | 696   | 3 [pedestrian] | 1030  | -1 background | 0     |\n",
       " +----------+-------+-----------+-------+----------+-------+----------------+-------+---------------+-------+]"
      ]
     },
     "execution_count": 8,
     "metadata": {},
     "output_type": "execute_result"
    }
   ],
   "source": [
    "[build_dataset(cfg.data.test)]"
   ]
  },
  {
   "cell_type": "code",
   "execution_count": 9,
   "id": "3d281f15",
   "metadata": {
    "scrolled": true
   },
   "outputs": [
    {
     "name": "stderr",
     "output_type": "stream",
     "text": [
      "2022-12-08 11:26:31,859 - mmdet - INFO - Automatic scaling of learning rate (LR) has been disabled.\n",
      "2022-12-08 11:26:34,135 - mmdet - INFO - load checkpoint from local path: checkpoints/faster_rcnn_r50_fpn_1x_coco_20200130-047c8118.pth\n",
      "2022-12-08 11:26:35,551 - mmdet - WARNING - The model and loaded state dict do not match exactly\n",
      "\n",
      "size mismatch for roi_head.bbox_head.fc_cls.weight: copying a param with shape torch.Size([81, 1024]) from checkpoint, the shape in current model is torch.Size([5, 1024]).\n",
      "size mismatch for roi_head.bbox_head.fc_cls.bias: copying a param with shape torch.Size([81]) from checkpoint, the shape in current model is torch.Size([5]).\n",
      "size mismatch for roi_head.bbox_head.fc_reg.weight: copying a param with shape torch.Size([320, 1024]) from checkpoint, the shape in current model is torch.Size([16, 1024]).\n",
      "size mismatch for roi_head.bbox_head.fc_reg.bias: copying a param with shape torch.Size([320]) from checkpoint, the shape in current model is torch.Size([16]).\n",
      "2022-12-08 11:26:35,558 - mmdet - INFO - Start running, host: root@we2kgoyg698qgck3y4o0k4ctf-5c9c676596-9nbgk, work_dir: /aiffel/aiffel/aimmo/mmdetection/middle_fulldata_fullsize\n",
      "2022-12-08 11:26:35,559 - mmdet - INFO - Hooks will be executed in the following order:\n",
      "before_run:\n",
      "(VERY_HIGH   ) StepLrUpdaterHook                  \n",
      "(NORMAL      ) CheckpointHook                     \n",
      "(LOW         ) EvalHook                           \n",
      "(VERY_LOW    ) TextLoggerHook                     \n",
      "(VERY_LOW    ) WandbLoggerHook                    \n",
      " -------------------- \n",
      "before_train_epoch:\n",
      "(VERY_HIGH   ) StepLrUpdaterHook                  \n",
      "(NORMAL      ) NumClassCheckHook                  \n",
      "(LOW         ) IterTimerHook                      \n",
      "(LOW         ) EvalHook                           \n",
      "(VERY_LOW    ) TextLoggerHook                     \n",
      "(VERY_LOW    ) WandbLoggerHook                    \n",
      " -------------------- \n",
      "before_train_iter:\n",
      "(VERY_HIGH   ) StepLrUpdaterHook                  \n",
      "(LOW         ) IterTimerHook                      \n",
      "(LOW         ) EvalHook                           \n",
      " -------------------- \n",
      "after_train_iter:\n",
      "(ABOVE_NORMAL) OptimizerHook                      \n",
      "(NORMAL      ) CheckpointHook                     \n",
      "(LOW         ) IterTimerHook                      \n",
      "(LOW         ) EvalHook                           \n",
      "(VERY_LOW    ) TextLoggerHook                     \n",
      "(VERY_LOW    ) WandbLoggerHook                    \n",
      " -------------------- \n",
      "after_train_epoch:\n",
      "(NORMAL      ) CheckpointHook                     \n",
      "(LOW         ) EvalHook                           \n",
      "(VERY_LOW    ) TextLoggerHook                     \n",
      "(VERY_LOW    ) WandbLoggerHook                    \n",
      " -------------------- \n",
      "before_val_epoch:\n",
      "(NORMAL      ) NumClassCheckHook                  \n",
      "(LOW         ) IterTimerHook                      \n",
      "(VERY_LOW    ) TextLoggerHook                     \n",
      "(VERY_LOW    ) WandbLoggerHook                    \n",
      " -------------------- \n",
      "before_val_iter:\n",
      "(LOW         ) IterTimerHook                      \n",
      " -------------------- \n",
      "after_val_iter:\n",
      "(LOW         ) IterTimerHook                      \n",
      " -------------------- \n",
      "after_val_epoch:\n",
      "(VERY_LOW    ) TextLoggerHook                     \n",
      "(VERY_LOW    ) WandbLoggerHook                    \n",
      " -------------------- \n",
      "after_run:\n",
      "(VERY_LOW    ) TextLoggerHook                     \n",
      "(VERY_LOW    ) WandbLoggerHook                    \n",
      " -------------------- \n",
      "2022-12-08 11:26:35,560 - mmdet - INFO - workflow: [('train', 1)], max: 15 epochs\n",
      "2022-12-08 11:26:35,561 - mmdet - INFO - Checkpoints will be saved to /aiffel/aiffel/aimmo/mmdetection/middle_fulldata_fullsize by HardDiskBackend.\n"
     ]
    },
    {
     "data": {
      "text/html": [
       "Finishing last run (ID:1lbo230j) before initializing another..."
      ],
      "text/plain": [
       "<IPython.core.display.HTML object>"
      ]
     },
     "metadata": {},
     "output_type": "display_data"
    },
    {
     "data": {
      "text/html": [
       "Waiting for W&B process to finish... <strong style=\"color:green\">(success).</strong>"
      ],
      "text/plain": [
       "<IPython.core.display.HTML object>"
      ]
     },
     "metadata": {},
     "output_type": "display_data"
    },
    {
     "data": {
      "application/vnd.jupyter.widget-view+json": {
       "model_id": "f6b28a9270b644e28e29e0526922f9d7",
       "version_major": 2,
       "version_minor": 0
      },
      "text/plain": [
       "VBox(children=(Label(value='0.001 MB of 0.001 MB uploaded (0.000 MB deduped)\\r'), FloatProgress(value=1.0, max…"
      ]
     },
     "metadata": {},
     "output_type": "display_data"
    },
    {
     "data": {
      "text/html": [
       "Synced <strong style=\"color:#cdcd00\">gallant-surf-58</strong>: <a href=\"https://wandb.ai/aimmo/r-cnn/runs/1lbo230j\" target=\"_blank\">https://wandb.ai/aimmo/r-cnn/runs/1lbo230j</a><br/>Synced 5 W&B file(s), 0 media file(s), 0 artifact file(s) and 0 other file(s)"
      ],
      "text/plain": [
       "<IPython.core.display.HTML object>"
      ]
     },
     "metadata": {},
     "output_type": "display_data"
    },
    {
     "data": {
      "text/html": [
       "Find logs at: <code>./wandb/run-20221208_112602-1lbo230j/logs</code>"
      ],
      "text/plain": [
       "<IPython.core.display.HTML object>"
      ]
     },
     "metadata": {},
     "output_type": "display_data"
    },
    {
     "data": {
      "text/html": [
       "Successfully finished last run (ID:1lbo230j). Initializing new run:<br/>"
      ],
      "text/plain": [
       "<IPython.core.display.HTML object>"
      ]
     },
     "metadata": {},
     "output_type": "display_data"
    },
    {
     "data": {
      "application/vnd.jupyter.widget-view+json": {
       "model_id": "7b7d37c1f6c94411915c80018476d6a6",
       "version_major": 2,
       "version_minor": 0
      },
      "text/plain": [
       "VBox(children=(Label(value='Waiting for wandb.init()...\\r'), FloatProgress(value=0.016669108549831436, max=1.0…"
      ]
     },
     "metadata": {},
     "output_type": "display_data"
    },
    {
     "data": {
      "text/html": [
       "wandb version 0.13.6 is available!  To upgrade, please run:\n",
       " $ pip install wandb --upgrade"
      ],
      "text/plain": [
       "<IPython.core.display.HTML object>"
      ]
     },
     "metadata": {},
     "output_type": "display_data"
    },
    {
     "data": {
      "text/html": [
       "Tracking run with wandb version 0.13.5"
      ],
      "text/plain": [
       "<IPython.core.display.HTML object>"
      ]
     },
     "metadata": {},
     "output_type": "display_data"
    },
    {
     "data": {
      "text/html": [
       "Run data is saved locally in <code>/aiffel/aiffel/aimmo/mmdetection/wandb/run-20221208_112635-2jbrm53d</code>"
      ],
      "text/plain": [
       "<IPython.core.display.HTML object>"
      ]
     },
     "metadata": {},
     "output_type": "display_data"
    },
    {
     "data": {
      "text/html": [
       "Syncing run <strong><a href=\"https://wandb.ai/aimmo/r-cnn/runs/2jbrm53d\" target=\"_blank\">fulldata_fullsize</a></strong> to <a href=\"https://wandb.ai/aimmo/r-cnn\" target=\"_blank\">Weights & Biases</a> (<a href=\"https://wandb.me/run\" target=\"_blank\">docs</a>)<br/>"
      ],
      "text/plain": [
       "<IPython.core.display.HTML object>"
      ]
     },
     "metadata": {},
     "output_type": "display_data"
    },
    {
     "name": "stderr",
     "output_type": "stream",
     "text": [
      "2022-12-08 11:31:17,726 - mmdet - INFO - Epoch [1][100/1742]\tlr: 3.976e-03, eta: 19:56:03, time: 2.757, data_time: 1.427, memory: 10037, loss_rpn_cls: 0.0393, loss_rpn_bbox: 0.0433, loss_cls: 0.5259, acc: 81.6624, loss_bbox: 0.5051, loss: 1.1136\n",
      "2022-12-08 11:35:53,144 - mmdet - INFO - Epoch [1][200/1742]\tlr: 7.972e-03, eta: 19:50:53, time: 2.754, data_time: 1.401, memory: 10037, loss_rpn_cls: 0.0318, loss_rpn_bbox: 0.0439, loss_cls: 0.2446, acc: 91.5996, loss_bbox: 0.3328, loss: 0.6531\n",
      "2022-12-08 11:40:28,390 - mmdet - INFO - Epoch [1][300/1742]\tlr: 1.197e-02, eta: 19:45:50, time: 2.752, data_time: 1.400, memory: 10037, loss_rpn_cls: 0.0273, loss_rpn_bbox: 0.0391, loss_cls: 0.2200, acc: 92.3740, loss_bbox: 0.2978, loss: 0.5841\n",
      "2022-12-08 11:45:03,192 - mmdet - INFO - Epoch [1][400/1742]\tlr: 1.596e-02, eta: 19:40:33, time: 2.748, data_time: 1.394, memory: 10037, loss_rpn_cls: 0.0276, loss_rpn_bbox: 0.0399, loss_cls: 0.2173, acc: 92.3079, loss_bbox: 0.3011, loss: 0.5859\n",
      "2022-12-08 11:49:41,563 - mmdet - INFO - Epoch [1][500/1742]\tlr: 1.996e-02, eta: 19:38:35, time: 2.784, data_time: 1.429, memory: 10037, loss_rpn_cls: 0.0275, loss_rpn_bbox: 0.0409, loss_cls: 0.2102, acc: 92.5913, loss_bbox: 0.2880, loss: 0.5666\n",
      "2022-12-08 11:54:18,536 - mmdet - INFO - Epoch [1][600/1742]\tlr: 2.000e-02, eta: 19:34:44, time: 2.770, data_time: 1.414, memory: 10037, loss_rpn_cls: 0.0268, loss_rpn_bbox: 0.0408, loss_cls: 0.2061, acc: 92.6947, loss_bbox: 0.2906, loss: 0.5643\n",
      "2022-12-08 11:58:54,692 - mmdet - INFO - Epoch [1][700/1742]\tlr: 2.000e-02, eta: 19:30:10, time: 2.761, data_time: 1.407, memory: 10037, loss_rpn_cls: 0.0249, loss_rpn_bbox: 0.0403, loss_cls: 0.2000, acc: 92.8643, loss_bbox: 0.2810, loss: 0.5463\n",
      "2022-12-08 12:03:31,708 - mmdet - INFO - Epoch [1][800/1742]\tlr: 2.000e-02, eta: 19:26:04, time: 2.770, data_time: 1.416, memory: 10037, loss_rpn_cls: 0.0244, loss_rpn_bbox: 0.0385, loss_cls: 0.1948, acc: 93.0981, loss_bbox: 0.2776, loss: 0.5352\n",
      "2022-12-08 12:08:10,586 - mmdet - INFO - Epoch [1][900/1742]\tlr: 2.000e-02, eta: 19:22:42, time: 2.789, data_time: 1.435, memory: 10037, loss_rpn_cls: 0.0232, loss_rpn_bbox: 0.0391, loss_cls: 0.1919, acc: 93.0514, loss_bbox: 0.2770, loss: 0.5313\n",
      "2022-12-08 12:12:50,036 - mmdet - INFO - Epoch [1][1000/1742]\tlr: 2.000e-02, eta: 19:19:20, time: 2.795, data_time: 1.440, memory: 10037, loss_rpn_cls: 0.0224, loss_rpn_bbox: 0.0380, loss_cls: 0.1944, acc: 93.0563, loss_bbox: 0.2753, loss: 0.5302\n",
      "2022-12-08 12:17:31,679 - mmdet - INFO - Epoch [1][1100/1742]\tlr: 2.000e-02, eta: 19:16:33, time: 2.816, data_time: 1.464, memory: 10037, loss_rpn_cls: 0.0218, loss_rpn_bbox: 0.0384, loss_cls: 0.1855, acc: 93.2604, loss_bbox: 0.2722, loss: 0.5180\n",
      "2022-12-08 12:22:13,449 - mmdet - INFO - Epoch [1][1200/1742]\tlr: 2.000e-02, eta: 19:13:30, time: 2.818, data_time: 1.462, memory: 10037, loss_rpn_cls: 0.0207, loss_rpn_bbox: 0.0368, loss_cls: 0.1782, acc: 93.5913, loss_bbox: 0.2585, loss: 0.4942\n",
      "2022-12-08 12:26:52,957 - mmdet - INFO - Epoch [1][1300/1742]\tlr: 2.000e-02, eta: 19:09:28, time: 2.795, data_time: 1.440, memory: 10037, loss_rpn_cls: 0.0216, loss_rpn_bbox: 0.0373, loss_cls: 0.1810, acc: 93.4850, loss_bbox: 0.2623, loss: 0.5022\n",
      "2022-12-08 12:31:33,369 - mmdet - INFO - Epoch [1][1400/1742]\tlr: 2.000e-02, eta: 19:05:37, time: 2.804, data_time: 1.448, memory: 10037, loss_rpn_cls: 0.0205, loss_rpn_bbox: 0.0361, loss_cls: 0.1787, acc: 93.5570, loss_bbox: 0.2591, loss: 0.4944\n",
      "2022-12-08 12:36:15,697 - mmdet - INFO - Epoch [1][1500/1742]\tlr: 2.000e-02, eta: 19:02:11, time: 2.823, data_time: 1.469, memory: 10037, loss_rpn_cls: 0.0205, loss_rpn_bbox: 0.0365, loss_cls: 0.1751, acc: 93.6673, loss_bbox: 0.2567, loss: 0.4888\n",
      "2022-12-08 12:40:56,895 - mmdet - INFO - Epoch [1][1600/1742]\tlr: 2.000e-02, eta: 18:58:18, time: 2.812, data_time: 1.456, memory: 10037, loss_rpn_cls: 0.0211, loss_rpn_bbox: 0.0370, loss_cls: 0.1805, acc: 93.4227, loss_bbox: 0.2695, loss: 0.5080\n",
      "2022-12-08 12:45:39,029 - mmdet - INFO - Epoch [1][1700/1742]\tlr: 2.000e-02, eta: 18:54:33, time: 2.821, data_time: 1.467, memory: 10037, loss_rpn_cls: 0.0223, loss_rpn_bbox: 0.0387, loss_cls: 0.1737, acc: 93.6707, loss_bbox: 0.2583, loss: 0.4930\n",
      "2022-12-08 12:47:38,166 - mmdet - INFO - Saving checkpoint at 1 epochs\n"
     ]
    },
    {
     "name": "stdout",
     "output_type": "stream",
     "text": [
      "[>>>>>>>>>>>>>>>>>>>>>>>>>>>] 2323/2323, 4.9 task/s, elapsed: 476s, ETA:     0s\n",
      "---------------iou_thr: 0.5---------------\n"
     ]
    },
    {
     "name": "stderr",
     "output_type": "stream",
     "text": [
      "2022-12-08 12:55:36,837 - mmdet - INFO - \n",
      "+------------+-------+-------+--------+-------+\n",
      "| class      | gts   | dets  | recall | ap    |\n",
      "+------------+-------+-------+--------+-------+\n",
      "| car        | 13124 | 25544 | 0.940  | 0.902 |\n",
      "| truck      | 3084  | 14021 | 0.892  | 0.765 |\n",
      "| bus        | 1786  | 8875  | 0.914  | 0.825 |\n",
      "| pedestrian | 3063  | 9411  | 0.766  | 0.622 |\n",
      "+------------+-------+-------+--------+-------+\n",
      "| mAP        |       |       |        | 0.779 |\n",
      "+------------+-------+-------+--------+-------+\n",
      "2022-12-08 12:55:36,963 - mmdet - INFO - Epoch(val) [1][2323]\tAP50: 0.7790, mAP: 0.7788\n",
      "2022-12-08 13:00:18,908 - mmdet - INFO - Epoch [2][100/1742]\tlr: 2.000e-02, eta: 18:22:50, time: 2.814, data_time: 1.455, memory: 10037, loss_rpn_cls: 0.0183, loss_rpn_bbox: 0.0366, loss_cls: 0.1686, acc: 93.8564, loss_bbox: 0.2553, loss: 0.4788\n",
      "2022-12-08 13:04:58,934 - mmdet - INFO - Epoch [2][200/1742]\tlr: 2.000e-02, eta: 18:19:52, time: 2.800, data_time: 1.444, memory: 10037, loss_rpn_cls: 0.0186, loss_rpn_bbox: 0.0348, loss_cls: 0.1629, acc: 94.0395, loss_bbox: 0.2445, loss: 0.4608\n",
      "2022-12-08 13:09:39,138 - mmdet - INFO - Epoch [2][300/1742]\tlr: 2.000e-02, eta: 18:16:47, time: 2.802, data_time: 1.448, memory: 10037, loss_rpn_cls: 0.0188, loss_rpn_bbox: 0.0343, loss_cls: 0.1659, acc: 93.9492, loss_bbox: 0.2510, loss: 0.4701\n",
      "2022-12-08 13:14:19,045 - mmdet - INFO - Epoch [2][400/1742]\tlr: 2.000e-02, eta: 18:13:29, time: 2.799, data_time: 1.444, memory: 10037, loss_rpn_cls: 0.0167, loss_rpn_bbox: 0.0325, loss_cls: 0.1579, acc: 94.2272, loss_bbox: 0.2421, loss: 0.4493\n",
      "2022-12-08 13:18:58,915 - mmdet - INFO - Epoch [2][500/1742]\tlr: 2.000e-02, eta: 18:10:03, time: 2.799, data_time: 1.445, memory: 10037, loss_rpn_cls: 0.0182, loss_rpn_bbox: 0.0347, loss_cls: 0.1639, acc: 94.0348, loss_bbox: 0.2484, loss: 0.4652\n",
      "2022-12-08 13:23:40,074 - mmdet - INFO - Epoch [2][600/1742]\tlr: 2.000e-02, eta: 18:06:44, time: 2.812, data_time: 1.456, memory: 10037, loss_rpn_cls: 0.0183, loss_rpn_bbox: 0.0339, loss_cls: 0.1635, acc: 94.0698, loss_bbox: 0.2483, loss: 0.4639\n",
      "2022-12-08 13:28:21,133 - mmdet - INFO - Epoch [2][700/1742]\tlr: 2.000e-02, eta: 18:03:17, time: 2.811, data_time: 1.454, memory: 10037, loss_rpn_cls: 0.0167, loss_rpn_bbox: 0.0339, loss_cls: 0.1589, acc: 94.2080, loss_bbox: 0.2437, loss: 0.4532\n",
      "2022-12-08 13:33:02,854 - mmdet - INFO - Epoch [2][800/1742]\tlr: 2.000e-02, eta: 17:59:51, time: 2.817, data_time: 1.460, memory: 10037, loss_rpn_cls: 0.0180, loss_rpn_bbox: 0.0359, loss_cls: 0.1623, acc: 94.0612, loss_bbox: 0.2504, loss: 0.4666\n",
      "2022-12-08 13:37:44,895 - mmdet - INFO - Epoch [2][900/1742]\tlr: 2.000e-02, eta: 17:56:22, time: 2.820, data_time: 1.464, memory: 10037, loss_rpn_cls: 0.0171, loss_rpn_bbox: 0.0351, loss_cls: 0.1628, acc: 94.0796, loss_bbox: 0.2461, loss: 0.4610\n",
      "2022-12-08 13:42:27,289 - mmdet - INFO - Epoch [2][1000/1742]\tlr: 2.000e-02, eta: 17:52:50, time: 2.824, data_time: 1.468, memory: 10037, loss_rpn_cls: 0.0165, loss_rpn_bbox: 0.0332, loss_cls: 0.1596, acc: 94.1838, loss_bbox: 0.2389, loss: 0.4482\n",
      "2022-12-08 13:47:08,663 - mmdet - INFO - Epoch [2][1100/1742]\tlr: 2.000e-02, eta: 17:49:05, time: 2.814, data_time: 1.457, memory: 10037, loss_rpn_cls: 0.0172, loss_rpn_bbox: 0.0338, loss_cls: 0.1584, acc: 94.1540, loss_bbox: 0.2429, loss: 0.4524\n",
      "2022-12-08 13:51:51,677 - mmdet - INFO - Epoch [2][1200/1742]\tlr: 2.000e-02, eta: 17:45:29, time: 2.830, data_time: 1.475, memory: 10037, loss_rpn_cls: 0.0173, loss_rpn_bbox: 0.0329, loss_cls: 0.1575, acc: 94.2948, loss_bbox: 0.2400, loss: 0.4477\n",
      "2022-12-08 13:56:32,869 - mmdet - INFO - Epoch [2][1300/1742]\tlr: 2.000e-02, eta: 17:41:35, time: 2.812, data_time: 1.452, memory: 10037, loss_rpn_cls: 0.0171, loss_rpn_bbox: 0.0322, loss_cls: 0.1554, acc: 94.3367, loss_bbox: 0.2354, loss: 0.4402\n",
      "2022-12-08 14:01:12,560 - mmdet - INFO - Epoch [2][1400/1742]\tlr: 2.000e-02, eta: 17:37:27, time: 2.797, data_time: 1.440, memory: 10037, loss_rpn_cls: 0.0169, loss_rpn_bbox: 0.0324, loss_cls: 0.1523, acc: 94.3537, loss_bbox: 0.2333, loss: 0.4348\n",
      "2022-12-08 14:05:53,559 - mmdet - INFO - Epoch [2][1500/1742]\tlr: 2.000e-02, eta: 17:33:27, time: 2.810, data_time: 1.452, memory: 10037, loss_rpn_cls: 0.0163, loss_rpn_bbox: 0.0323, loss_cls: 0.1587, acc: 94.2020, loss_bbox: 0.2414, loss: 0.4487\n",
      "2022-12-08 14:10:35,242 - mmdet - INFO - Epoch [2][1600/1742]\tlr: 2.000e-02, eta: 17:29:28, time: 2.817, data_time: 1.460, memory: 10037, loss_rpn_cls: 0.0152, loss_rpn_bbox: 0.0313, loss_cls: 0.1524, acc: 94.3784, loss_bbox: 0.2320, loss: 0.4310\n",
      "2022-12-08 14:15:16,674 - mmdet - INFO - Epoch [2][1700/1742]\tlr: 2.000e-02, eta: 17:25:25, time: 2.814, data_time: 1.457, memory: 10037, loss_rpn_cls: 0.0169, loss_rpn_bbox: 0.0337, loss_cls: 0.1553, acc: 94.2679, loss_bbox: 0.2366, loss: 0.4426\n",
      "2022-12-08 14:17:13,820 - mmdet - INFO - Saving checkpoint at 2 epochs\n"
     ]
    },
    {
     "name": "stdout",
     "output_type": "stream",
     "text": [
      "[>>>>>>>>>>>>>>>>>>>>>>>>>>>] 2323/2323, 4.9 task/s, elapsed: 472s, ETA:     0s\n",
      "---------------iou_thr: 0.5---------------\n"
     ]
    },
    {
     "name": "stderr",
     "output_type": "stream",
     "text": [
      "2022-12-08 14:25:08,486 - mmdet - INFO - \n",
      "+------------+-------+-------+--------+-------+\n",
      "| class      | gts   | dets  | recall | ap    |\n",
      "+------------+-------+-------+--------+-------+\n",
      "| car        | 13124 | 26811 | 0.955  | 0.925 |\n",
      "| truck      | 3084  | 10082 | 0.900  | 0.804 |\n",
      "| bus        | 1786  | 6727  | 0.928  | 0.858 |\n",
      "| pedestrian | 3063  | 11891 | 0.829  | 0.681 |\n",
      "+------------+-------+-------+--------+-------+\n",
      "| mAP        |       |       |        | 0.817 |\n",
      "+------------+-------+-------+--------+-------+\n",
      "2022-12-08 14:25:08,591 - mmdet - INFO - Epoch(val) [2][2323]\tAP50: 0.8170, mAP: 0.8170\n",
      "2022-12-08 14:29:50,268 - mmdet - INFO - Epoch [3][100/1742]\tlr: 2.000e-02, eta: 17:07:12, time: 2.811, data_time: 1.452, memory: 10037, loss_rpn_cls: 0.0150, loss_rpn_bbox: 0.0317, loss_cls: 0.1452, acc: 94.6667, loss_bbox: 0.2261, loss: 0.4180\n",
      "2022-12-08 14:34:32,058 - mmdet - INFO - Epoch [3][200/1742]\tlr: 2.000e-02, eta: 17:03:30, time: 2.818, data_time: 1.461, memory: 10037, loss_rpn_cls: 0.0147, loss_rpn_bbox: 0.0310, loss_cls: 0.1449, acc: 94.6248, loss_bbox: 0.2287, loss: 0.4193\n",
      "2022-12-08 14:39:14,424 - mmdet - INFO - Epoch [3][300/1742]\tlr: 2.000e-02, eta: 16:59:48, time: 2.824, data_time: 1.463, memory: 10037, loss_rpn_cls: 0.0136, loss_rpn_bbox: 0.0310, loss_cls: 0.1487, acc: 94.5335, loss_bbox: 0.2298, loss: 0.4230\n",
      "2022-12-08 14:43:55,444 - mmdet - INFO - Epoch [3][400/1742]\tlr: 2.000e-02, eta: 16:55:55, time: 2.810, data_time: 1.453, memory: 10037, loss_rpn_cls: 0.0145, loss_rpn_bbox: 0.0319, loss_cls: 0.1477, acc: 94.5246, loss_bbox: 0.2278, loss: 0.4219\n",
      "2022-12-08 14:48:35,690 - mmdet - INFO - Epoch [3][500/1742]\tlr: 2.000e-02, eta: 16:51:56, time: 2.802, data_time: 1.443, memory: 10037, loss_rpn_cls: 0.0140, loss_rpn_bbox: 0.0306, loss_cls: 0.1437, acc: 94.6603, loss_bbox: 0.2249, loss: 0.4132\n",
      "2022-12-08 14:53:15,898 - mmdet - INFO - Epoch [3][600/1742]\tlr: 2.000e-02, eta: 16:47:54, time: 2.802, data_time: 1.448, memory: 10037, loss_rpn_cls: 0.0154, loss_rpn_bbox: 0.0327, loss_cls: 0.1478, acc: 94.5436, loss_bbox: 0.2296, loss: 0.4256\n",
      "2022-12-08 14:57:57,469 - mmdet - INFO - Epoch [3][700/1742]\tlr: 2.000e-02, eta: 16:43:58, time: 2.816, data_time: 1.457, memory: 10037, loss_rpn_cls: 0.0142, loss_rpn_bbox: 0.0319, loss_cls: 0.1440, acc: 94.6349, loss_bbox: 0.2300, loss: 0.4201\n",
      "2022-12-08 15:02:39,381 - mmdet - INFO - Epoch [3][800/1742]\tlr: 2.000e-02, eta: 16:40:02, time: 2.819, data_time: 1.461, memory: 10037, loss_rpn_cls: 0.0137, loss_rpn_bbox: 0.0306, loss_cls: 0.1441, acc: 94.7176, loss_bbox: 0.2233, loss: 0.4116\n",
      "2022-12-08 15:07:19,646 - mmdet - INFO - Epoch [3][900/1742]\tlr: 2.000e-02, eta: 16:35:55, time: 2.803, data_time: 1.446, memory: 10037, loss_rpn_cls: 0.0153, loss_rpn_bbox: 0.0319, loss_cls: 0.1462, acc: 94.5796, loss_bbox: 0.2281, loss: 0.4215\n",
      "2022-12-08 15:12:00,067 - mmdet - INFO - Epoch [3][1000/1742]\tlr: 2.000e-02, eta: 16:31:47, time: 2.804, data_time: 1.445, memory: 10037, loss_rpn_cls: 0.0149, loss_rpn_bbox: 0.0322, loss_cls: 0.1462, acc: 94.6307, loss_bbox: 0.2291, loss: 0.4225\n",
      "2022-12-08 15:16:39,563 - mmdet - INFO - Epoch [3][1100/1742]\tlr: 2.000e-02, eta: 16:27:34, time: 2.795, data_time: 1.438, memory: 10037, loss_rpn_cls: 0.0146, loss_rpn_bbox: 0.0308, loss_cls: 0.1393, acc: 94.8477, loss_bbox: 0.2226, loss: 0.4072\n",
      "2022-12-08 15:21:19,133 - mmdet - INFO - Epoch [3][1200/1742]\tlr: 2.000e-02, eta: 16:23:20, time: 2.796, data_time: 1.438, memory: 10037, loss_rpn_cls: 0.0141, loss_rpn_bbox: 0.0310, loss_cls: 0.1410, acc: 94.7853, loss_bbox: 0.2237, loss: 0.4098\n",
      "2022-12-08 15:25:57,633 - mmdet - INFO - Epoch [3][1300/1742]\tlr: 2.000e-02, eta: 16:19:00, time: 2.785, data_time: 1.426, memory: 10037, loss_rpn_cls: 0.0140, loss_rpn_bbox: 0.0316, loss_cls: 0.1486, acc: 94.5667, loss_bbox: 0.2319, loss: 0.4260\n",
      "2022-12-08 15:30:36,958 - mmdet - INFO - Epoch [3][1400/1742]\tlr: 2.000e-02, eta: 16:14:42, time: 2.793, data_time: 1.434, memory: 10037, loss_rpn_cls: 0.0159, loss_rpn_bbox: 0.0331, loss_cls: 0.1460, acc: 94.6317, loss_bbox: 0.2304, loss: 0.4255\n",
      "2022-12-08 15:35:16,047 - mmdet - INFO - Epoch [3][1500/1742]\tlr: 2.000e-02, eta: 16:10:23, time: 2.791, data_time: 1.436, memory: 10037, loss_rpn_cls: 0.0150, loss_rpn_bbox: 0.0301, loss_cls: 0.1398, acc: 94.8315, loss_bbox: 0.2193, loss: 0.4044\n",
      "2022-12-08 15:39:53,078 - mmdet - INFO - Epoch [3][1600/1742]\tlr: 2.000e-02, eta: 16:05:55, time: 2.770, data_time: 1.416, memory: 10037, loss_rpn_cls: 0.0139, loss_rpn_bbox: 0.0316, loss_cls: 0.1456, acc: 94.5693, loss_bbox: 0.2305, loss: 0.4216\n",
      "2022-12-08 15:44:30,629 - mmdet - INFO - Epoch [3][1700/1742]\tlr: 2.000e-02, eta: 16:01:28, time: 2.775, data_time: 1.419, memory: 10037, loss_rpn_cls: 0.0147, loss_rpn_bbox: 0.0296, loss_cls: 0.1411, acc: 94.7868, loss_bbox: 0.2203, loss: 0.4057\n",
      "2022-12-08 15:46:27,182 - mmdet - INFO - Saving checkpoint at 3 epochs\n"
     ]
    },
    {
     "name": "stdout",
     "output_type": "stream",
     "text": [
      "[>>>>>>>>>>>>>>>>>>>>>>>>>>>] 2323/2323, 5.0 task/s, elapsed: 469s, ETA:     0s\n",
      "---------------iou_thr: 0.5---------------\n"
     ]
    },
    {
     "name": "stderr",
     "output_type": "stream",
     "text": [
      "2022-12-08 15:54:18,306 - mmdet - INFO - \n",
      "+------------+-------+-------+--------+-------+\n",
      "| class      | gts   | dets  | recall | ap    |\n",
      "+------------+-------+-------+--------+-------+\n",
      "| car        | 13124 | 31654 | 0.965  | 0.932 |\n",
      "| truck      | 3084  | 15023 | 0.926  | 0.824 |\n",
      "| bus        | 1786  | 6202  | 0.940  | 0.874 |\n",
      "| pedestrian | 3063  | 10650 | 0.836  | 0.697 |\n",
      "+------------+-------+-------+--------+-------+\n",
      "| mAP        |       |       |        | 0.832 |\n",
      "+------------+-------+-------+--------+-------+\n",
      "2022-12-08 15:54:18,402 - mmdet - INFO - Epoch(val) [3][2323]\tAP50: 0.8320, mAP: 0.8319\n",
      "2022-12-08 15:58:56,346 - mmdet - INFO - Epoch [4][100/1742]\tlr: 2.000e-02, eta: 15:47:33, time: 2.774, data_time: 1.413, memory: 10037, loss_rpn_cls: 0.0127, loss_rpn_bbox: 0.0302, loss_cls: 0.1367, acc: 94.9145, loss_bbox: 0.2200, loss: 0.3997\n",
      "2022-12-08 16:03:32,653 - mmdet - INFO - Epoch [4][200/1742]\tlr: 2.000e-02, eta: 15:43:12, time: 2.763, data_time: 1.405, memory: 10037, loss_rpn_cls: 0.0129, loss_rpn_bbox: 0.0299, loss_cls: 0.1344, acc: 94.9997, loss_bbox: 0.2170, loss: 0.3942\n",
      "2022-12-08 16:08:08,918 - mmdet - INFO - Epoch [4][300/1742]\tlr: 2.000e-02, eta: 15:38:49, time: 2.763, data_time: 1.404, memory: 10037, loss_rpn_cls: 0.0127, loss_rpn_bbox: 0.0300, loss_cls: 0.1331, acc: 94.9909, loss_bbox: 0.2184, loss: 0.3943\n",
      "2022-12-08 16:12:44,548 - mmdet - INFO - Epoch [4][400/1742]\tlr: 2.000e-02, eta: 15:34:24, time: 2.756, data_time: 1.398, memory: 10037, loss_rpn_cls: 0.0137, loss_rpn_bbox: 0.0296, loss_cls: 0.1356, acc: 95.0254, loss_bbox: 0.2145, loss: 0.3935\n",
      "2022-12-08 16:17:21,382 - mmdet - INFO - Epoch [4][500/1742]\tlr: 2.000e-02, eta: 15:30:03, time: 2.768, data_time: 1.411, memory: 10037, loss_rpn_cls: 0.0124, loss_rpn_bbox: 0.0300, loss_cls: 0.1345, acc: 94.9528, loss_bbox: 0.2150, loss: 0.3920\n",
      "2022-12-08 16:21:59,551 - mmdet - INFO - Epoch [4][600/1742]\tlr: 2.000e-02, eta: 15:25:45, time: 2.782, data_time: 1.422, memory: 10037, loss_rpn_cls: 0.0125, loss_rpn_bbox: 0.0320, loss_cls: 0.1398, acc: 94.7664, loss_bbox: 0.2206, loss: 0.4049\n",
      "2022-12-08 16:26:39,797 - mmdet - INFO - Epoch [4][700/1742]\tlr: 2.000e-02, eta: 15:21:35, time: 2.802, data_time: 1.441, memory: 10037, loss_rpn_cls: 0.0129, loss_rpn_bbox: 0.0290, loss_cls: 0.1314, acc: 95.0996, loss_bbox: 0.2134, loss: 0.3867\n",
      "2022-12-08 16:31:18,800 - mmdet - INFO - Epoch [4][800/1742]\tlr: 2.000e-02, eta: 15:17:19, time: 2.790, data_time: 1.432, memory: 10037, loss_rpn_cls: 0.0129, loss_rpn_bbox: 0.0297, loss_cls: 0.1324, acc: 95.0457, loss_bbox: 0.2143, loss: 0.3894\n",
      "2022-12-08 16:35:57,961 - mmdet - INFO - Epoch [4][900/1742]\tlr: 2.000e-02, eta: 15:13:02, time: 2.792, data_time: 1.433, memory: 10037, loss_rpn_cls: 0.0123, loss_rpn_bbox: 0.0295, loss_cls: 0.1348, acc: 94.9489, loss_bbox: 0.2148, loss: 0.3913\n",
      "2022-12-08 16:40:34,279 - mmdet - INFO - Epoch [4][1000/1742]\tlr: 2.000e-02, eta: 15:08:36, time: 2.763, data_time: 1.407, memory: 10037, loss_rpn_cls: 0.0126, loss_rpn_bbox: 0.0293, loss_cls: 0.1297, acc: 95.1471, loss_bbox: 0.2102, loss: 0.3819\n",
      "2022-12-08 16:45:10,034 - mmdet - INFO - Epoch [4][1100/1742]\tlr: 2.000e-02, eta: 15:04:08, time: 2.758, data_time: 1.402, memory: 10037, loss_rpn_cls: 0.0126, loss_rpn_bbox: 0.0291, loss_cls: 0.1353, acc: 94.9657, loss_bbox: 0.2159, loss: 0.3929\n",
      "2022-12-08 16:49:47,477 - mmdet - INFO - Epoch [4][1200/1742]\tlr: 2.000e-02, eta: 14:59:45, time: 2.774, data_time: 1.416, memory: 10037, loss_rpn_cls: 0.0132, loss_rpn_bbox: 0.0298, loss_cls: 0.1398, acc: 94.8675, loss_bbox: 0.2188, loss: 0.4015\n",
      "2022-12-08 16:54:22,940 - mmdet - INFO - Epoch [4][1300/1742]\tlr: 2.000e-02, eta: 14:55:16, time: 2.754, data_time: 1.402, memory: 10037, loss_rpn_cls: 0.0128, loss_rpn_bbox: 0.0285, loss_cls: 0.1301, acc: 95.1357, loss_bbox: 0.2089, loss: 0.3803\n",
      "2022-12-08 16:58:59,814 - mmdet - INFO - Epoch [4][1400/1742]\tlr: 2.000e-02, eta: 14:50:50, time: 2.769, data_time: 1.412, memory: 10037, loss_rpn_cls: 0.0128, loss_rpn_bbox: 0.0294, loss_cls: 0.1328, acc: 95.0894, loss_bbox: 0.2149, loss: 0.3899\n",
      "2022-12-08 17:03:35,815 - mmdet - INFO - Epoch [4][1500/1742]\tlr: 2.000e-02, eta: 14:46:22, time: 2.760, data_time: 1.402, memory: 10037, loss_rpn_cls: 0.0134, loss_rpn_bbox: 0.0297, loss_cls: 0.1386, acc: 94.8483, loss_bbox: 0.2208, loss: 0.4025\n",
      "2022-12-08 17:08:10,996 - mmdet - INFO - Epoch [4][1600/1742]\tlr: 2.000e-02, eta: 14:41:51, time: 2.752, data_time: 1.395, memory: 10037, loss_rpn_cls: 0.0127, loss_rpn_bbox: 0.0298, loss_cls: 0.1357, acc: 94.9352, loss_bbox: 0.2158, loss: 0.3939\n",
      "2022-12-08 17:12:47,211 - mmdet - INFO - Epoch [4][1700/1742]\tlr: 2.000e-02, eta: 14:37:23, time: 2.762, data_time: 1.404, memory: 10037, loss_rpn_cls: 0.0133, loss_rpn_bbox: 0.0298, loss_cls: 0.1348, acc: 94.9762, loss_bbox: 0.2182, loss: 0.3960\n",
      "2022-12-08 17:14:42,384 - mmdet - INFO - Saving checkpoint at 4 epochs\n"
     ]
    },
    {
     "name": "stdout",
     "output_type": "stream",
     "text": [
      "[>>>>>>>>>>>>>>>>>>>>>>>>>>>] 2323/2323, 5.0 task/s, elapsed: 460s, ETA:     0s\n",
      "---------------iou_thr: 0.5---------------\n"
     ]
    },
    {
     "name": "stderr",
     "output_type": "stream",
     "text": [
      "2022-12-08 17:22:25,139 - mmdet - INFO - \n",
      "+------------+-------+-------+--------+-------+\n",
      "| class      | gts   | dets  | recall | ap    |\n",
      "+------------+-------+-------+--------+-------+\n",
      "| car        | 13124 | 25136 | 0.958  | 0.934 |\n",
      "| truck      | 3084  | 7995  | 0.904  | 0.834 |\n",
      "| bus        | 1786  | 3568  | 0.913  | 0.873 |\n",
      "| pedestrian | 3063  | 8107  | 0.828  | 0.725 |\n",
      "+------------+-------+-------+--------+-------+\n",
      "| mAP        |       |       |        | 0.842 |\n",
      "+------------+-------+-------+--------+-------+\n",
      "2022-12-08 17:22:25,259 - mmdet - INFO - Epoch(val) [4][2323]\tAP50: 0.8420, mAP: 0.8417\n",
      "2022-12-08 17:27:01,465 - mmdet - INFO - Epoch [5][100/1742]\tlr: 2.000e-02, eta: 14:25:47, time: 2.756, data_time: 1.399, memory: 10037, loss_rpn_cls: 0.0119, loss_rpn_bbox: 0.0298, loss_cls: 0.1278, acc: 95.1418, loss_bbox: 0.2082, loss: 0.3778\n",
      "2022-12-08 17:31:35,776 - mmdet - INFO - Epoch [5][200/1742]\tlr: 2.000e-02, eta: 14:21:19, time: 2.743, data_time: 1.386, memory: 10037, loss_rpn_cls: 0.0108, loss_rpn_bbox: 0.0279, loss_cls: 0.1273, acc: 95.2251, loss_bbox: 0.2086, loss: 0.3746\n",
      "2022-12-08 17:36:09,679 - mmdet - INFO - Epoch [5][300/1742]\tlr: 2.000e-02, eta: 14:16:50, time: 2.739, data_time: 1.379, memory: 10037, loss_rpn_cls: 0.0113, loss_rpn_bbox: 0.0300, loss_cls: 0.1312, acc: 95.0674, loss_bbox: 0.2122, loss: 0.3846\n",
      "2022-12-08 17:40:44,247 - mmdet - INFO - Epoch [5][400/1742]\tlr: 2.000e-02, eta: 14:12:23, time: 2.746, data_time: 1.386, memory: 10037, loss_rpn_cls: 0.0105, loss_rpn_bbox: 0.0280, loss_cls: 0.1228, acc: 95.3571, loss_bbox: 0.2054, loss: 0.3667\n",
      "2022-12-08 17:45:18,566 - mmdet - INFO - Epoch [5][500/1742]\tlr: 2.000e-02, eta: 14:07:54, time: 2.743, data_time: 1.383, memory: 10037, loss_rpn_cls: 0.0110, loss_rpn_bbox: 0.0282, loss_cls: 0.1277, acc: 95.2106, loss_bbox: 0.2080, loss: 0.3749\n",
      "2022-12-08 17:49:55,361 - mmdet - INFO - Epoch [5][600/1742]\tlr: 2.000e-02, eta: 14:03:32, time: 2.768, data_time: 1.408, memory: 10037, loss_rpn_cls: 0.0115, loss_rpn_bbox: 0.0286, loss_cls: 0.1269, acc: 95.2798, loss_bbox: 0.2060, loss: 0.3731\n",
      "2022-12-08 17:54:31,116 - mmdet - INFO - Epoch [5][700/1742]\tlr: 2.000e-02, eta: 13:59:07, time: 2.758, data_time: 1.400, memory: 10037, loss_rpn_cls: 0.0109, loss_rpn_bbox: 0.0280, loss_cls: 0.1254, acc: 95.2562, loss_bbox: 0.2061, loss: 0.3705\n",
      "2022-12-08 17:59:08,043 - mmdet - INFO - Epoch [5][800/1742]\tlr: 2.000e-02, eta: 13:54:44, time: 2.769, data_time: 1.411, memory: 10037, loss_rpn_cls: 0.0122, loss_rpn_bbox: 0.0290, loss_cls: 0.1281, acc: 95.1719, loss_bbox: 0.2066, loss: 0.3760\n",
      "2022-12-08 18:03:45,436 - mmdet - INFO - Epoch [5][900/1742]\tlr: 2.000e-02, eta: 13:50:22, time: 2.774, data_time: 1.415, memory: 10037, loss_rpn_cls: 0.0114, loss_rpn_bbox: 0.0279, loss_cls: 0.1240, acc: 95.3263, loss_bbox: 0.2018, loss: 0.3651\n",
      "2022-12-08 18:08:21,526 - mmdet - INFO - Epoch [5][1000/1742]\tlr: 2.000e-02, eta: 13:45:57, time: 2.761, data_time: 1.401, memory: 10037, loss_rpn_cls: 0.0120, loss_rpn_bbox: 0.0297, loss_cls: 0.1328, acc: 95.0741, loss_bbox: 0.2118, loss: 0.3862\n",
      "2022-12-08 18:12:56,643 - mmdet - INFO - Epoch [5][1100/1742]\tlr: 2.000e-02, eta: 13:41:29, time: 2.751, data_time: 1.393, memory: 10037, loss_rpn_cls: 0.0112, loss_rpn_bbox: 0.0295, loss_cls: 0.1320, acc: 95.0881, loss_bbox: 0.2119, loss: 0.3846\n",
      "2022-12-08 18:17:34,338 - mmdet - INFO - Epoch [5][1200/1742]\tlr: 2.000e-02, eta: 13:37:07, time: 2.777, data_time: 1.420, memory: 10037, loss_rpn_cls: 0.0110, loss_rpn_bbox: 0.0281, loss_cls: 0.1287, acc: 95.2031, loss_bbox: 0.2081, loss: 0.3760\n",
      "2022-12-08 18:22:11,742 - mmdet - INFO - Epoch [5][1300/1742]\tlr: 2.000e-02, eta: 13:32:43, time: 2.774, data_time: 1.415, memory: 10037, loss_rpn_cls: 0.0111, loss_rpn_bbox: 0.0281, loss_cls: 0.1271, acc: 95.2619, loss_bbox: 0.2077, loss: 0.3740\n",
      "2022-12-08 18:26:52,103 - mmdet - INFO - Epoch [5][1400/1742]\tlr: 2.000e-02, eta: 13:28:26, time: 2.804, data_time: 1.443, memory: 10037, loss_rpn_cls: 0.0117, loss_rpn_bbox: 0.0291, loss_cls: 0.1310, acc: 95.0923, loss_bbox: 0.2113, loss: 0.3832\n",
      "2022-12-08 18:31:31,017 - mmdet - INFO - Epoch [5][1500/1742]\tlr: 2.000e-02, eta: 13:24:05, time: 2.789, data_time: 1.432, memory: 10037, loss_rpn_cls: 0.0120, loss_rpn_bbox: 0.0283, loss_cls: 0.1274, acc: 95.2212, loss_bbox: 0.2073, loss: 0.3750\n",
      "2022-12-08 18:36:11,143 - mmdet - INFO - Epoch [5][1600/1742]\tlr: 2.000e-02, eta: 13:19:46, time: 2.801, data_time: 1.440, memory: 10037, loss_rpn_cls: 0.0110, loss_rpn_bbox: 0.0276, loss_cls: 0.1231, acc: 95.3916, loss_bbox: 0.2043, loss: 0.3661\n",
      "2022-12-08 18:40:51,602 - mmdet - INFO - Epoch [5][1700/1742]\tlr: 2.000e-02, eta: 13:15:27, time: 2.805, data_time: 1.440, memory: 10037, loss_rpn_cls: 0.0116, loss_rpn_bbox: 0.0298, loss_cls: 0.1283, acc: 95.2008, loss_bbox: 0.2090, loss: 0.3787\n",
      "2022-12-08 18:42:48,606 - mmdet - INFO - Saving checkpoint at 5 epochs\n"
     ]
    },
    {
     "name": "stdout",
     "output_type": "stream",
     "text": [
      "[>>>>>>>>>>>>>>>>>>>>>>>>>>>] 2323/2323, 5.0 task/s, elapsed: 468s, ETA:     0s\n",
      "---------------iou_thr: 0.5---------------\n"
     ]
    },
    {
     "name": "stderr",
     "output_type": "stream",
     "text": [
      "2022-12-08 18:50:39,184 - mmdet - INFO - \n",
      "+------------+-------+-------+--------+-------+\n",
      "| class      | gts   | dets  | recall | ap    |\n",
      "+------------+-------+-------+--------+-------+\n",
      "| car        | 13124 | 25920 | 0.964  | 0.939 |\n",
      "| truck      | 3084  | 9183  | 0.917  | 0.842 |\n",
      "| bus        | 1786  | 4238  | 0.933  | 0.885 |\n",
      "| pedestrian | 3063  | 8728  | 0.841  | 0.732 |\n",
      "+------------+-------+-------+--------+-------+\n",
      "| mAP        |       |       |        | 0.849 |\n",
      "+------------+-------+-------+--------+-------+\n",
      "2022-12-08 18:50:39,291 - mmdet - INFO - Epoch(val) [5][2323]\tAP50: 0.8490, mAP: 0.8493\n",
      "2022-12-08 18:55:19,239 - mmdet - INFO - Epoch [6][100/1742]\tlr: 2.000e-02, eta: 13:05:25, time: 2.794, data_time: 1.433, memory: 10037, loss_rpn_cls: 0.0105, loss_rpn_bbox: 0.0277, loss_cls: 0.1203, acc: 95.4611, loss_bbox: 0.2009, loss: 0.3594\n",
      "2022-12-08 18:59:57,502 - mmdet - INFO - Epoch [6][200/1742]\tlr: 2.000e-02, eta: 13:01:05, time: 2.783, data_time: 1.425, memory: 10037, loss_rpn_cls: 0.0099, loss_rpn_bbox: 0.0273, loss_cls: 0.1192, acc: 95.4819, loss_bbox: 0.1986, loss: 0.3549\n",
      "2022-12-08 19:04:40,829 - mmdet - INFO - Epoch [6][300/1742]\tlr: 2.000e-02, eta: 12:56:54, time: 2.833, data_time: 1.468, memory: 10037, loss_rpn_cls: 0.0102, loss_rpn_bbox: 0.0292, loss_cls: 0.1247, acc: 95.2588, loss_bbox: 0.2071, loss: 0.3711\n",
      "2022-12-08 19:09:19,260 - mmdet - INFO - Epoch [6][400/1742]\tlr: 2.000e-02, eta: 12:52:34, time: 2.784, data_time: 1.424, memory: 10037, loss_rpn_cls: 0.0101, loss_rpn_bbox: 0.0278, loss_cls: 0.1264, acc: 95.2809, loss_bbox: 0.2059, loss: 0.3702\n",
      "2022-12-08 19:13:59,640 - mmdet - INFO - Epoch [6][500/1742]\tlr: 2.000e-02, eta: 12:48:16, time: 2.804, data_time: 1.442, memory: 10037, loss_rpn_cls: 0.0101, loss_rpn_bbox: 0.0275, loss_cls: 0.1215, acc: 95.3773, loss_bbox: 0.2024, loss: 0.3615\n",
      "2022-12-08 19:18:36,631 - mmdet - INFO - Epoch [6][600/1742]\tlr: 2.000e-02, eta: 12:43:52, time: 2.770, data_time: 1.410, memory: 10037, loss_rpn_cls: 0.0095, loss_rpn_bbox: 0.0259, loss_cls: 0.1171, acc: 95.5578, loss_bbox: 0.1933, loss: 0.3457\n",
      "2022-12-08 19:23:13,785 - mmdet - INFO - Epoch [6][700/1742]\tlr: 2.000e-02, eta: 12:39:28, time: 2.771, data_time: 1.412, memory: 10037, loss_rpn_cls: 0.0106, loss_rpn_bbox: 0.0284, loss_cls: 0.1230, acc: 95.3346, loss_bbox: 0.2031, loss: 0.3651\n",
      "2022-12-08 19:27:50,908 - mmdet - INFO - Epoch [6][800/1742]\tlr: 2.000e-02, eta: 12:35:03, time: 2.771, data_time: 1.413, memory: 10037, loss_rpn_cls: 0.0103, loss_rpn_bbox: 0.0276, loss_cls: 0.1191, acc: 95.5215, loss_bbox: 0.1990, loss: 0.3560\n",
      "2022-12-08 19:32:29,824 - mmdet - INFO - Epoch [6][900/1742]\tlr: 2.000e-02, eta: 12:30:41, time: 2.789, data_time: 1.428, memory: 10037, loss_rpn_cls: 0.0104, loss_rpn_bbox: 0.0269, loss_cls: 0.1246, acc: 95.3201, loss_bbox: 0.2071, loss: 0.3690\n",
      "2022-12-08 19:37:09,381 - mmdet - INFO - Epoch [6][1000/1742]\tlr: 2.000e-02, eta: 12:26:20, time: 2.796, data_time: 1.437, memory: 10037, loss_rpn_cls: 0.0106, loss_rpn_bbox: 0.0270, loss_cls: 0.1229, acc: 95.3934, loss_bbox: 0.2019, loss: 0.3624\n",
      "2022-12-08 19:41:50,131 - mmdet - INFO - Epoch [6][1100/1742]\tlr: 2.000e-02, eta: 12:22:01, time: 2.807, data_time: 1.443, memory: 10037, loss_rpn_cls: 0.0106, loss_rpn_bbox: 0.0295, loss_cls: 0.1254, acc: 95.2869, loss_bbox: 0.2044, loss: 0.3698\n",
      "2022-12-08 19:46:31,005 - mmdet - INFO - Epoch [6][1200/1742]\tlr: 2.000e-02, eta: 12:17:41, time: 2.809, data_time: 1.449, memory: 10037, loss_rpn_cls: 0.0107, loss_rpn_bbox: 0.0283, loss_cls: 0.1242, acc: 95.3151, loss_bbox: 0.2030, loss: 0.3662\n",
      "2022-12-08 19:51:09,330 - mmdet - INFO - Epoch [6][1300/1742]\tlr: 2.000e-02, eta: 12:13:17, time: 2.783, data_time: 1.422, memory: 10037, loss_rpn_cls: 0.0101, loss_rpn_bbox: 0.0269, loss_cls: 0.1196, acc: 95.4492, loss_bbox: 0.2002, loss: 0.3568\n",
      "2022-12-08 19:55:47,541 - mmdet - INFO - Epoch [6][1400/1742]\tlr: 2.000e-02, eta: 12:08:53, time: 2.782, data_time: 1.421, memory: 10037, loss_rpn_cls: 0.0103, loss_rpn_bbox: 0.0280, loss_cls: 0.1209, acc: 95.4648, loss_bbox: 0.2000, loss: 0.3591\n",
      "2022-12-08 20:00:28,070 - mmdet - INFO - Epoch [6][1500/1742]\tlr: 2.000e-02, eta: 12:04:31, time: 2.805, data_time: 1.445, memory: 10037, loss_rpn_cls: 0.0105, loss_rpn_bbox: 0.0287, loss_cls: 0.1225, acc: 95.3823, loss_bbox: 0.2044, loss: 0.3661\n",
      "2022-12-08 20:05:07,623 - mmdet - INFO - Epoch [6][1600/1742]\tlr: 2.000e-02, eta: 12:00:08, time: 2.796, data_time: 1.435, memory: 10037, loss_rpn_cls: 0.0112, loss_rpn_bbox: 0.0279, loss_cls: 0.1244, acc: 95.3301, loss_bbox: 0.2050, loss: 0.3685\n",
      "2022-12-08 20:09:47,392 - mmdet - INFO - Epoch [6][1700/1742]\tlr: 2.000e-02, eta: 11:55:45, time: 2.798, data_time: 1.433, memory: 10037, loss_rpn_cls: 0.0101, loss_rpn_bbox: 0.0288, loss_cls: 0.1240, acc: 95.3345, loss_bbox: 0.2040, loss: 0.3669\n",
      "2022-12-08 20:11:44,889 - mmdet - INFO - Saving checkpoint at 6 epochs\n"
     ]
    },
    {
     "name": "stdout",
     "output_type": "stream",
     "text": [
      "[>>>>>>>>>>>>>>>>>>>>>>>>>>>] 2323/2323, 5.0 task/s, elapsed: 466s, ETA:     0s\n",
      "---------------iou_thr: 0.5---------------\n"
     ]
    },
    {
     "name": "stderr",
     "output_type": "stream",
     "text": [
      "2022-12-08 20:19:33,168 - mmdet - INFO - \n",
      "+------------+-------+-------+--------+-------+\n",
      "| class      | gts   | dets  | recall | ap    |\n",
      "+------------+-------+-------+--------+-------+\n",
      "| car        | 13124 | 25380 | 0.963  | 0.939 |\n",
      "| truck      | 3084  | 8255  | 0.906  | 0.838 |\n",
      "| bus        | 1786  | 4075  | 0.927  | 0.879 |\n",
      "| pedestrian | 3063  | 12112 | 0.851  | 0.722 |\n",
      "+------------+-------+-------+--------+-------+\n",
      "| mAP        |       |       |        | 0.845 |\n",
      "+------------+-------+-------+--------+-------+\n",
      "2022-12-08 20:19:33,283 - mmdet - INFO - Epoch(val) [6][2323]\tAP50: 0.8450, mAP: 0.8446\n",
      "2022-12-08 20:24:14,858 - mmdet - INFO - Epoch [7][100/1742]\tlr: 2.000e-02, eta: 11:46:40, time: 2.810, data_time: 1.449, memory: 10037, loss_rpn_cls: 0.0090, loss_rpn_bbox: 0.0279, loss_cls: 0.1159, acc: 95.5819, loss_bbox: 0.1997, loss: 0.3525\n",
      "2022-12-08 20:28:55,245 - mmdet - INFO - Epoch [7][200/1742]\tlr: 2.000e-02, eta: 11:42:19, time: 2.804, data_time: 1.444, memory: 10037, loss_rpn_cls: 0.0098, loss_rpn_bbox: 0.0275, loss_cls: 0.1192, acc: 95.4831, loss_bbox: 0.1998, loss: 0.3562\n",
      "2022-12-08 20:33:36,629 - mmdet - INFO - Epoch [7][300/1742]\tlr: 2.000e-02, eta: 11:38:00, time: 2.814, data_time: 1.453, memory: 10037, loss_rpn_cls: 0.0095, loss_rpn_bbox: 0.0265, loss_cls: 0.1155, acc: 95.6239, loss_bbox: 0.1935, loss: 0.3450\n",
      "2022-12-08 20:38:17,390 - mmdet - INFO - Epoch [7][400/1742]\tlr: 2.000e-02, eta: 11:33:40, time: 2.808, data_time: 1.445, memory: 10037, loss_rpn_cls: 0.0083, loss_rpn_bbox: 0.0268, loss_cls: 0.1145, acc: 95.6082, loss_bbox: 0.1926, loss: 0.3422\n",
      "2022-12-08 20:42:57,666 - mmdet - INFO - Epoch [7][500/1742]\tlr: 2.000e-02, eta: 11:29:18, time: 2.803, data_time: 1.441, memory: 10037, loss_rpn_cls: 0.0097, loss_rpn_bbox: 0.0264, loss_cls: 0.1169, acc: 95.5674, loss_bbox: 0.1934, loss: 0.3463\n",
      "2022-12-08 20:47:37,693 - mmdet - INFO - Epoch [7][600/1742]\tlr: 2.000e-02, eta: 11:24:56, time: 2.800, data_time: 1.437, memory: 10037, loss_rpn_cls: 0.0096, loss_rpn_bbox: 0.0286, loss_cls: 0.1247, acc: 95.2897, loss_bbox: 0.2038, loss: 0.3667\n",
      "2022-12-08 20:52:17,481 - mmdet - INFO - Epoch [7][700/1742]\tlr: 2.000e-02, eta: 11:20:33, time: 2.798, data_time: 1.438, memory: 10037, loss_rpn_cls: 0.0097, loss_rpn_bbox: 0.0274, loss_cls: 0.1190, acc: 95.4992, loss_bbox: 0.1975, loss: 0.3536\n",
      "2022-12-08 20:56:56,912 - mmdet - INFO - Epoch [7][800/1742]\tlr: 2.000e-02, eta: 11:16:09, time: 2.794, data_time: 1.432, memory: 10037, loss_rpn_cls: 0.0106, loss_rpn_bbox: 0.0286, loss_cls: 0.1227, acc: 95.3452, loss_bbox: 0.2025, loss: 0.3644\n",
      "2022-12-08 21:01:36,820 - mmdet - INFO - Epoch [7][900/1742]\tlr: 2.000e-02, eta: 11:11:46, time: 2.799, data_time: 1.439, memory: 10037, loss_rpn_cls: 0.0099, loss_rpn_bbox: 0.0271, loss_cls: 0.1166, acc: 95.5822, loss_bbox: 0.1989, loss: 0.3525\n",
      "2022-12-08 21:06:15,071 - mmdet - INFO - Epoch [7][1000/1742]\tlr: 2.000e-02, eta: 11:07:20, time: 2.783, data_time: 1.421, memory: 10037, loss_rpn_cls: 0.0095, loss_rpn_bbox: 0.0276, loss_cls: 0.1204, acc: 95.4419, loss_bbox: 0.1994, loss: 0.3569\n",
      "2022-12-08 21:10:53,504 - mmdet - INFO - Epoch [7][1100/1742]\tlr: 2.000e-02, eta: 11:02:55, time: 2.784, data_time: 1.422, memory: 10037, loss_rpn_cls: 0.0090, loss_rpn_bbox: 0.0266, loss_cls: 0.1196, acc: 95.4567, loss_bbox: 0.1981, loss: 0.3533\n",
      "2022-12-08 21:15:32,368 - mmdet - INFO - Epoch [7][1200/1742]\tlr: 2.000e-02, eta: 10:58:29, time: 2.789, data_time: 1.426, memory: 10037, loss_rpn_cls: 0.0093, loss_rpn_bbox: 0.0266, loss_cls: 0.1196, acc: 95.5257, loss_bbox: 0.1965, loss: 0.3520\n",
      "2022-12-08 21:20:09,759 - mmdet - INFO - Epoch [7][1300/1742]\tlr: 2.000e-02, eta: 10:54:02, time: 2.774, data_time: 1.414, memory: 10037, loss_rpn_cls: 0.0099, loss_rpn_bbox: 0.0272, loss_cls: 0.1166, acc: 95.5492, loss_bbox: 0.1969, loss: 0.3506\n",
      "2022-12-08 21:24:46,261 - mmdet - INFO - Epoch [7][1400/1742]\tlr: 2.000e-02, eta: 10:49:33, time: 2.765, data_time: 1.402, memory: 10037, loss_rpn_cls: 0.0089, loss_rpn_bbox: 0.0261, loss_cls: 0.1175, acc: 95.5755, loss_bbox: 0.1961, loss: 0.3486\n",
      "2022-12-08 21:29:23,998 - mmdet - INFO - Epoch [7][1500/1742]\tlr: 2.000e-02, eta: 10:45:06, time: 2.777, data_time: 1.418, memory: 10037, loss_rpn_cls: 0.0099, loss_rpn_bbox: 0.0259, loss_cls: 0.1155, acc: 95.6038, loss_bbox: 0.1935, loss: 0.3449\n",
      "2022-12-08 21:34:01,702 - mmdet - INFO - Epoch [7][1600/1742]\tlr: 2.000e-02, eta: 10:40:38, time: 2.777, data_time: 1.413, memory: 10037, loss_rpn_cls: 0.0104, loss_rpn_bbox: 0.0282, loss_cls: 0.1209, acc: 95.4271, loss_bbox: 0.2001, loss: 0.3596\n",
      "2022-12-08 21:38:41,943 - mmdet - INFO - Epoch [7][1700/1742]\tlr: 2.000e-02, eta: 10:36:14, time: 2.803, data_time: 1.439, memory: 10037, loss_rpn_cls: 0.0112, loss_rpn_bbox: 0.0283, loss_cls: 0.1213, acc: 95.4684, loss_bbox: 0.1981, loss: 0.3589\n",
      "2022-12-08 21:40:40,161 - mmdet - INFO - Saving checkpoint at 7 epochs\n"
     ]
    },
    {
     "name": "stdout",
     "output_type": "stream",
     "text": [
      "[>>>>>>>>>>>>>>>>>>>>>>>>>>>] 2323/2323, 4.9 task/s, elapsed: 473s, ETA:     0s\n",
      "---------------iou_thr: 0.5---------------\n"
     ]
    },
    {
     "name": "stderr",
     "output_type": "stream",
     "text": [
      "2022-12-08 21:48:35,661 - mmdet - INFO - \n",
      "+------------+-------+-------+--------+-------+\n",
      "| class      | gts   | dets  | recall | ap    |\n",
      "+------------+-------+-------+--------+-------+\n",
      "| car        | 13124 | 26679 | 0.965  | 0.940 |\n",
      "| truck      | 3084  | 6880  | 0.899  | 0.836 |\n",
      "| bus        | 1786  | 5049  | 0.937  | 0.889 |\n",
      "| pedestrian | 3063  | 6287  | 0.815  | 0.728 |\n",
      "+------------+-------+-------+--------+-------+\n",
      "| mAP        |       |       |        | 0.848 |\n",
      "+------------+-------+-------+--------+-------+\n",
      "2022-12-08 21:48:35,781 - mmdet - INFO - Epoch(val) [7][2323]\tAP50: 0.8480, mAP: 0.8484\n",
      "2022-12-08 21:53:15,691 - mmdet - INFO - Epoch [8][100/1742]\tlr: 2.000e-02, eta: 10:27:44, time: 2.794, data_time: 1.431, memory: 10037, loss_rpn_cls: 0.0086, loss_rpn_bbox: 0.0259, loss_cls: 0.1118, acc: 95.7721, loss_bbox: 0.1889, loss: 0.3351\n",
      "2022-12-08 21:57:52,636 - mmdet - INFO - Epoch [8][200/1742]\tlr: 2.000e-02, eta: 10:23:17, time: 2.769, data_time: 1.405, memory: 10037, loss_rpn_cls: 0.0078, loss_rpn_bbox: 0.0263, loss_cls: 0.1123, acc: 95.6689, loss_bbox: 0.1954, loss: 0.3417\n",
      "2022-12-08 22:02:31,810 - mmdet - INFO - Epoch [8][300/1742]\tlr: 2.000e-02, eta: 10:18:52, time: 2.792, data_time: 1.429, memory: 10037, loss_rpn_cls: 0.0088, loss_rpn_bbox: 0.0272, loss_cls: 0.1137, acc: 95.6383, loss_bbox: 0.1961, loss: 0.3459\n",
      "2022-12-08 22:07:10,204 - mmdet - INFO - Epoch [8][400/1742]\tlr: 2.000e-02, eta: 10:14:26, time: 2.784, data_time: 1.421, memory: 10037, loss_rpn_cls: 0.0086, loss_rpn_bbox: 0.0274, loss_cls: 0.1127, acc: 95.6665, loss_bbox: 0.1932, loss: 0.3419\n",
      "2022-12-08 22:11:48,622 - mmdet - INFO - Epoch [8][500/1742]\tlr: 2.000e-02, eta: 10:10:00, time: 2.784, data_time: 1.418, memory: 10037, loss_rpn_cls: 0.0091, loss_rpn_bbox: 0.0269, loss_cls: 0.1169, acc: 95.5272, loss_bbox: 0.1932, loss: 0.3461\n",
      "2022-12-08 22:16:25,962 - mmdet - INFO - Epoch [8][600/1742]\tlr: 2.000e-02, eta: 10:05:33, time: 2.773, data_time: 1.411, memory: 10037, loss_rpn_cls: 0.0083, loss_rpn_bbox: 0.0253, loss_cls: 0.1134, acc: 95.6761, loss_bbox: 0.1884, loss: 0.3353\n",
      "2022-12-08 22:21:03,507 - mmdet - INFO - Epoch [8][700/1742]\tlr: 2.000e-02, eta: 10:01:06, time: 2.775, data_time: 1.410, memory: 10037, loss_rpn_cls: 0.0087, loss_rpn_bbox: 0.0261, loss_cls: 0.1137, acc: 95.6178, loss_bbox: 0.1935, loss: 0.3421\n",
      "2022-12-08 22:25:42,862 - mmdet - INFO - Epoch [8][800/1742]\tlr: 2.000e-02, eta: 9:56:40, time: 2.793, data_time: 1.428, memory: 10037, loss_rpn_cls: 0.0086, loss_rpn_bbox: 0.0271, loss_cls: 0.1143, acc: 95.6354, loss_bbox: 0.1958, loss: 0.3457\n",
      "2022-12-08 22:30:20,173 - mmdet - INFO - Epoch [8][900/1742]\tlr: 2.000e-02, eta: 9:52:13, time: 2.773, data_time: 1.410, memory: 10037, loss_rpn_cls: 0.0092, loss_rpn_bbox: 0.0263, loss_cls: 0.1123, acc: 95.6908, loss_bbox: 0.1911, loss: 0.3388\n",
      "2022-12-08 22:34:58,791 - mmdet - INFO - Epoch [8][1000/1742]\tlr: 2.000e-02, eta: 9:47:46, time: 2.786, data_time: 1.425, memory: 10037, loss_rpn_cls: 0.0082, loss_rpn_bbox: 0.0259, loss_cls: 0.1135, acc: 95.7324, loss_bbox: 0.1898, loss: 0.3374\n",
      "2022-12-08 22:39:39,289 - mmdet - INFO - Epoch [8][1100/1742]\tlr: 2.000e-02, eta: 9:43:21, time: 2.805, data_time: 1.443, memory: 10037, loss_rpn_cls: 0.0090, loss_rpn_bbox: 0.0262, loss_cls: 0.1139, acc: 95.6333, loss_bbox: 0.1917, loss: 0.3408\n",
      "2022-12-08 22:44:17,793 - mmdet - INFO - Epoch [8][1200/1742]\tlr: 2.000e-02, eta: 9:38:54, time: 2.785, data_time: 1.421, memory: 10037, loss_rpn_cls: 0.0096, loss_rpn_bbox: 0.0265, loss_cls: 0.1150, acc: 95.6683, loss_bbox: 0.1902, loss: 0.3414\n",
      "2022-12-08 22:48:56,459 - mmdet - INFO - Epoch [8][1300/1742]\tlr: 2.000e-02, eta: 9:34:27, time: 2.787, data_time: 1.421, memory: 10037, loss_rpn_cls: 0.0099, loss_rpn_bbox: 0.0269, loss_cls: 0.1169, acc: 95.5319, loss_bbox: 0.1942, loss: 0.3478\n",
      "2022-12-08 22:53:35,374 - mmdet - INFO - Epoch [8][1400/1742]\tlr: 2.000e-02, eta: 9:30:00, time: 2.789, data_time: 1.428, memory: 10037, loss_rpn_cls: 0.0094, loss_rpn_bbox: 0.0282, loss_cls: 0.1199, acc: 95.4730, loss_bbox: 0.1981, loss: 0.3556\n",
      "2022-12-08 22:58:12,596 - mmdet - INFO - Epoch [8][1500/1742]\tlr: 2.000e-02, eta: 9:25:31, time: 2.772, data_time: 1.412, memory: 10037, loss_rpn_cls: 0.0093, loss_rpn_bbox: 0.0271, loss_cls: 0.1140, acc: 95.7000, loss_bbox: 0.1908, loss: 0.3411\n",
      "2022-12-08 23:02:52,824 - mmdet - INFO - Epoch [8][1600/1742]\tlr: 2.000e-02, eta: 9:21:04, time: 2.802, data_time: 1.443, memory: 10037, loss_rpn_cls: 0.0090, loss_rpn_bbox: 0.0266, loss_cls: 0.1148, acc: 95.6431, loss_bbox: 0.1932, loss: 0.3436\n",
      "2022-12-08 23:07:30,451 - mmdet - INFO - Epoch [8][1700/1742]\tlr: 2.000e-02, eta: 9:16:36, time: 2.776, data_time: 1.413, memory: 10037, loss_rpn_cls: 0.0092, loss_rpn_bbox: 0.0270, loss_cls: 0.1153, acc: 95.6182, loss_bbox: 0.1918, loss: 0.3433\n",
      "2022-12-08 23:09:26,226 - mmdet - INFO - Saving checkpoint at 8 epochs\n"
     ]
    },
    {
     "name": "stdout",
     "output_type": "stream",
     "text": [
      "[>>>>>>>>>>>>>>>>>>>>>>>>>>>] 2323/2323, 5.0 task/s, elapsed: 468s, ETA:     0s\n",
      "---------------iou_thr: 0.5---------------\n"
     ]
    },
    {
     "name": "stderr",
     "output_type": "stream",
     "text": [
      "2022-12-08 23:17:17,091 - mmdet - INFO - \n",
      "+------------+-------+-------+--------+-------+\n",
      "| class      | gts   | dets  | recall | ap    |\n",
      "+------------+-------+-------+--------+-------+\n",
      "| car        | 13124 | 20976 | 0.957  | 0.937 |\n",
      "| truck      | 3084  | 7048  | 0.909  | 0.847 |\n",
      "| bus        | 1786  | 3782  | 0.932  | 0.893 |\n",
      "| pedestrian | 3063  | 10637 | 0.858  | 0.744 |\n",
      "+------------+-------+-------+--------+-------+\n",
      "| mAP        |       |       |        | 0.855 |\n",
      "+------------+-------+-------+--------+-------+\n",
      "2022-12-08 23:17:17,194 - mmdet - INFO - Epoch(val) [8][2323]\tAP50: 0.8550, mAP: 0.8552\n",
      "2022-12-08 23:21:57,264 - mmdet - INFO - Epoch [9][100/1742]\tlr: 2.000e-03, eta: 9:08:35, time: 2.795, data_time: 1.433, memory: 10037, loss_rpn_cls: 0.0070, loss_rpn_bbox: 0.0228, loss_cls: 0.0989, acc: 96.2344, loss_bbox: 0.1693, loss: 0.2980\n",
      "2022-12-08 23:26:36,461 - mmdet - INFO - Epoch [9][200/1742]\tlr: 2.000e-03, eta: 9:04:09, time: 2.792, data_time: 1.430, memory: 10037, loss_rpn_cls: 0.0066, loss_rpn_bbox: 0.0231, loss_cls: 0.0996, acc: 96.1691, loss_bbox: 0.1741, loss: 0.3034\n",
      "2022-12-08 23:31:13,883 - mmdet - INFO - Epoch [9][300/1742]\tlr: 2.000e-03, eta: 8:59:41, time: 2.774, data_time: 1.411, memory: 10037, loss_rpn_cls: 0.0064, loss_rpn_bbox: 0.0226, loss_cls: 0.0952, acc: 96.3110, loss_bbox: 0.1697, loss: 0.2940\n",
      "2022-12-08 23:35:52,259 - mmdet - INFO - Epoch [9][400/1742]\tlr: 2.000e-03, eta: 8:55:14, time: 2.784, data_time: 1.419, memory: 10037, loss_rpn_cls: 0.0066, loss_rpn_bbox: 0.0225, loss_cls: 0.0957, acc: 96.3239, loss_bbox: 0.1687, loss: 0.2935\n",
      "2022-12-08 23:40:30,706 - mmdet - INFO - Epoch [9][500/1742]\tlr: 2.000e-03, eta: 8:50:47, time: 2.784, data_time: 1.421, memory: 10037, loss_rpn_cls: 0.0061, loss_rpn_bbox: 0.0227, loss_cls: 0.0973, acc: 96.2461, loss_bbox: 0.1721, loss: 0.2983\n",
      "2022-12-08 23:45:10,401 - mmdet - INFO - Epoch [9][600/1742]\tlr: 2.000e-03, eta: 8:46:20, time: 2.797, data_time: 1.432, memory: 10037, loss_rpn_cls: 0.0063, loss_rpn_bbox: 0.0235, loss_cls: 0.0968, acc: 96.2655, loss_bbox: 0.1736, loss: 0.3002\n",
      "2022-12-08 23:49:49,414 - mmdet - INFO - Epoch [9][700/1742]\tlr: 2.000e-03, eta: 8:41:53, time: 2.790, data_time: 1.428, memory: 10037, loss_rpn_cls: 0.0060, loss_rpn_bbox: 0.0226, loss_cls: 0.0943, acc: 96.3820, loss_bbox: 0.1665, loss: 0.2893\n",
      "2022-12-08 23:54:28,425 - mmdet - INFO - Epoch [9][800/1742]\tlr: 2.000e-03, eta: 8:37:26, time: 2.790, data_time: 1.425, memory: 10037, loss_rpn_cls: 0.0058, loss_rpn_bbox: 0.0230, loss_cls: 0.0925, acc: 96.4017, loss_bbox: 0.1665, loss: 0.2878\n",
      "2022-12-08 23:59:06,159 - mmdet - INFO - Epoch [9][900/1742]\tlr: 2.000e-03, eta: 8:32:57, time: 2.777, data_time: 1.412, memory: 10037, loss_rpn_cls: 0.0066, loss_rpn_bbox: 0.0224, loss_cls: 0.0951, acc: 96.3239, loss_bbox: 0.1664, loss: 0.2905\n",
      "2022-12-09 00:03:43,983 - mmdet - INFO - Epoch [9][1000/1742]\tlr: 2.000e-03, eta: 8:28:29, time: 2.778, data_time: 1.413, memory: 10037, loss_rpn_cls: 0.0056, loss_rpn_bbox: 0.0219, loss_cls: 0.0938, acc: 96.4069, loss_bbox: 0.1673, loss: 0.2885\n",
      "2022-12-09 00:08:22,224 - mmdet - INFO - Epoch [9][1100/1742]\tlr: 2.000e-03, eta: 8:24:00, time: 2.782, data_time: 1.419, memory: 10037, loss_rpn_cls: 0.0058, loss_rpn_bbox: 0.0217, loss_cls: 0.0922, acc: 96.4365, loss_bbox: 0.1642, loss: 0.2839\n",
      "2022-12-09 00:13:00,435 - mmdet - INFO - Epoch [9][1200/1742]\tlr: 2.000e-03, eta: 8:19:32, time: 2.782, data_time: 1.417, memory: 10037, loss_rpn_cls: 0.0062, loss_rpn_bbox: 0.0227, loss_cls: 0.0957, acc: 96.2860, loss_bbox: 0.1699, loss: 0.2944\n",
      "2022-12-09 00:17:39,127 - mmdet - INFO - Epoch [9][1300/1742]\tlr: 2.000e-03, eta: 8:15:03, time: 2.787, data_time: 1.422, memory: 10037, loss_rpn_cls: 0.0061, loss_rpn_bbox: 0.0220, loss_cls: 0.0914, acc: 96.4652, loss_bbox: 0.1641, loss: 0.2836\n",
      "2022-12-09 00:22:17,154 - mmdet - INFO - Epoch [9][1400/1742]\tlr: 2.000e-03, eta: 8:10:34, time: 2.780, data_time: 1.415, memory: 10037, loss_rpn_cls: 0.0061, loss_rpn_bbox: 0.0226, loss_cls: 0.0921, acc: 96.4385, loss_bbox: 0.1663, loss: 0.2871\n",
      "2022-12-09 00:26:55,424 - mmdet - INFO - Epoch [9][1500/1742]\tlr: 2.000e-03, eta: 8:06:06, time: 2.783, data_time: 1.417, memory: 10037, loss_rpn_cls: 0.0058, loss_rpn_bbox: 0.0218, loss_cls: 0.0915, acc: 96.4862, loss_bbox: 0.1642, loss: 0.2834\n",
      "2022-12-09 00:31:33,526 - mmdet - INFO - Epoch [9][1600/1742]\tlr: 2.000e-03, eta: 8:01:37, time: 2.781, data_time: 1.416, memory: 10037, loss_rpn_cls: 0.0058, loss_rpn_bbox: 0.0223, loss_cls: 0.0941, acc: 96.3434, loss_bbox: 0.1661, loss: 0.2884\n",
      "2022-12-09 00:36:10,974 - mmdet - INFO - Epoch [9][1700/1742]\tlr: 2.000e-03, eta: 7:57:07, time: 2.775, data_time: 1.409, memory: 10037, loss_rpn_cls: 0.0058, loss_rpn_bbox: 0.0214, loss_cls: 0.0924, acc: 96.5063, loss_bbox: 0.1610, loss: 0.2806\n",
      "2022-12-09 00:38:07,925 - mmdet - INFO - Saving checkpoint at 9 epochs\n"
     ]
    },
    {
     "name": "stdout",
     "output_type": "stream",
     "text": [
      "[>>>>>>>>>>>>>>>>>>>>>>>>>>>] 2323/2323, 5.0 task/s, elapsed: 466s, ETA:     0s\n",
      "---------------iou_thr: 0.5---------------\n"
     ]
    },
    {
     "name": "stderr",
     "output_type": "stream",
     "text": [
      "2022-12-09 00:45:55,818 - mmdet - INFO - \n",
      "+------------+-------+-------+--------+-------+\n",
      "| class      | gts   | dets  | recall | ap    |\n",
      "+------------+-------+-------+--------+-------+\n",
      "| car        | 13124 | 21085 | 0.967  | 0.949 |\n",
      "| truck      | 3084  | 6717  | 0.927  | 0.877 |\n",
      "| bus        | 1786  | 3154  | 0.936  | 0.908 |\n",
      "| pedestrian | 3063  | 7543  | 0.862  | 0.773 |\n",
      "+------------+-------+-------+--------+-------+\n",
      "| mAP        |       |       |        | 0.877 |\n",
      "+------------+-------+-------+--------+-------+\n",
      "2022-12-09 00:45:55,952 - mmdet - INFO - Epoch(val) [9][2323]\tAP50: 0.8770, mAP: 0.8768\n",
      "2022-12-09 00:50:36,792 - mmdet - INFO - Epoch [10][100/1742]\tlr: 2.000e-03, eta: 7:49:29, time: 2.803, data_time: 1.439, memory: 10037, loss_rpn_cls: 0.0058, loss_rpn_bbox: 0.0223, loss_cls: 0.0922, acc: 96.4508, loss_bbox: 0.1662, loss: 0.2866\n",
      "2022-12-09 00:55:13,851 - mmdet - INFO - Epoch [10][200/1742]\tlr: 2.000e-03, eta: 7:45:00, time: 2.771, data_time: 1.406, memory: 10037, loss_rpn_cls: 0.0051, loss_rpn_bbox: 0.0213, loss_cls: 0.0890, acc: 96.6141, loss_bbox: 0.1581, loss: 0.2734\n",
      "2022-12-09 00:59:50,770 - mmdet - INFO - Epoch [10][300/1742]\tlr: 2.000e-03, eta: 7:40:31, time: 2.769, data_time: 1.406, memory: 10037, loss_rpn_cls: 0.0054, loss_rpn_bbox: 0.0225, loss_cls: 0.0916, acc: 96.4412, loss_bbox: 0.1632, loss: 0.2826\n",
      "2022-12-09 01:04:27,294 - mmdet - INFO - Epoch [10][400/1742]\tlr: 2.000e-03, eta: 7:36:02, time: 2.765, data_time: 1.403, memory: 10037, loss_rpn_cls: 0.0049, loss_rpn_bbox: 0.0214, loss_cls: 0.0888, acc: 96.5480, loss_bbox: 0.1629, loss: 0.2780\n",
      "2022-12-09 01:09:04,934 - mmdet - INFO - Epoch [10][500/1742]\tlr: 2.000e-03, eta: 7:31:33, time: 2.776, data_time: 1.412, memory: 10037, loss_rpn_cls: 0.0057, loss_rpn_bbox: 0.0212, loss_cls: 0.0911, acc: 96.4528, loss_bbox: 0.1630, loss: 0.2810\n",
      "2022-12-09 01:13:44,538 - mmdet - INFO - Epoch [10][600/1742]\tlr: 2.000e-03, eta: 7:27:05, time: 2.796, data_time: 1.433, memory: 10037, loss_rpn_cls: 0.0053, loss_rpn_bbox: 0.0207, loss_cls: 0.0886, acc: 96.6287, loss_bbox: 0.1585, loss: 0.2731\n",
      "2022-12-09 01:18:21,517 - mmdet - INFO - Epoch [10][700/1742]\tlr: 2.000e-03, eta: 7:22:36, time: 2.770, data_time: 1.408, memory: 10037, loss_rpn_cls: 0.0054, loss_rpn_bbox: 0.0213, loss_cls: 0.0897, acc: 96.5555, loss_bbox: 0.1601, loss: 0.2766\n",
      "2022-12-09 01:23:01,397 - mmdet - INFO - Epoch [10][800/1742]\tlr: 2.000e-03, eta: 7:18:08, time: 2.799, data_time: 1.434, memory: 10037, loss_rpn_cls: 0.0055, loss_rpn_bbox: 0.0228, loss_cls: 0.0891, acc: 96.5046, loss_bbox: 0.1633, loss: 0.2806\n",
      "2022-12-09 01:27:39,634 - mmdet - INFO - Epoch [10][900/1742]\tlr: 2.000e-03, eta: 7:13:39, time: 2.782, data_time: 1.419, memory: 10037, loss_rpn_cls: 0.0054, loss_rpn_bbox: 0.0231, loss_cls: 0.0886, acc: 96.5566, loss_bbox: 0.1635, loss: 0.2806\n",
      "2022-12-09 01:32:18,211 - mmdet - INFO - Epoch [10][1000/1742]\tlr: 2.000e-03, eta: 7:09:10, time: 2.786, data_time: 1.422, memory: 10037, loss_rpn_cls: 0.0054, loss_rpn_bbox: 0.0210, loss_cls: 0.0875, acc: 96.6377, loss_bbox: 0.1575, loss: 0.2714\n",
      "2022-12-09 01:36:58,999 - mmdet - INFO - Epoch [10][1100/1742]\tlr: 2.000e-03, eta: 7:04:42, time: 2.808, data_time: 1.444, memory: 10037, loss_rpn_cls: 0.0055, loss_rpn_bbox: 0.0216, loss_cls: 0.0872, acc: 96.5980, loss_bbox: 0.1586, loss: 0.2729\n",
      "2022-12-09 01:41:39,450 - mmdet - INFO - Epoch [10][1200/1742]\tlr: 2.000e-03, eta: 7:00:14, time: 2.805, data_time: 1.439, memory: 10037, loss_rpn_cls: 0.0053, loss_rpn_bbox: 0.0216, loss_cls: 0.0910, acc: 96.5135, loss_bbox: 0.1610, loss: 0.2788\n",
      "2022-12-09 01:46:20,600 - mmdet - INFO - Epoch [10][1300/1742]\tlr: 2.000e-03, eta: 6:55:46, time: 2.811, data_time: 1.447, memory: 10037, loss_rpn_cls: 0.0053, loss_rpn_bbox: 0.0217, loss_cls: 0.0916, acc: 96.4248, loss_bbox: 0.1641, loss: 0.2827\n",
      "2022-12-09 01:51:00,447 - mmdet - INFO - Epoch [10][1400/1742]\tlr: 2.000e-03, eta: 6:51:17, time: 2.798, data_time: 1.435, memory: 10037, loss_rpn_cls: 0.0055, loss_rpn_bbox: 0.0225, loss_cls: 0.0900, acc: 96.5037, loss_bbox: 0.1617, loss: 0.2797\n",
      "2022-12-09 01:55:40,456 - mmdet - INFO - Epoch [10][1500/1742]\tlr: 2.000e-03, eta: 6:46:49, time: 2.800, data_time: 1.436, memory: 10037, loss_rpn_cls: 0.0053, loss_rpn_bbox: 0.0215, loss_cls: 0.0890, acc: 96.5430, loss_bbox: 0.1614, loss: 0.2772\n",
      "2022-12-09 02:00:20,027 - mmdet - INFO - Epoch [10][1600/1742]\tlr: 2.000e-03, eta: 6:42:20, time: 2.796, data_time: 1.431, memory: 10037, loss_rpn_cls: 0.0054, loss_rpn_bbox: 0.0219, loss_cls: 0.0904, acc: 96.5324, loss_bbox: 0.1613, loss: 0.2790\n",
      "2022-12-09 02:04:59,666 - mmdet - INFO - Epoch [10][1700/1742]\tlr: 2.000e-03, eta: 6:37:50, time: 2.796, data_time: 1.433, memory: 10037, loss_rpn_cls: 0.0050, loss_rpn_bbox: 0.0207, loss_cls: 0.0867, acc: 96.6349, loss_bbox: 0.1570, loss: 0.2694\n",
      "2022-12-09 02:06:56,816 - mmdet - INFO - Saving checkpoint at 10 epochs\n"
     ]
    },
    {
     "name": "stdout",
     "output_type": "stream",
     "text": [
      "[>>>>>>>>>>>>>>>>>>>>>>>>>>>] 2323/2323, 4.9 task/s, elapsed: 471s, ETA:     0s\n",
      "---------------iou_thr: 0.5---------------\n"
     ]
    },
    {
     "name": "stderr",
     "output_type": "stream",
     "text": [
      "2022-12-09 02:14:49,905 - mmdet - INFO - \n",
      "+------------+-------+-------+--------+-------+\n",
      "| class      | gts   | dets  | recall | ap    |\n",
      "+------------+-------+-------+--------+-------+\n",
      "| car        | 13124 | 19698 | 0.964  | 0.948 |\n",
      "| truck      | 3084  | 6258  | 0.923  | 0.878 |\n",
      "| bus        | 1786  | 3205  | 0.938  | 0.910 |\n",
      "| pedestrian | 3063  | 6140  | 0.849  | 0.773 |\n",
      "+------------+-------+-------+--------+-------+\n",
      "| mAP        |       |       |        | 0.877 |\n",
      "+------------+-------+-------+--------+-------+\n",
      "2022-12-09 02:14:50,017 - mmdet - INFO - Epoch(val) [10][2323]\tAP50: 0.8770, mAP: 0.8771\n",
      "2022-12-09 02:19:31,133 - mmdet - INFO - Epoch [11][100/1742]\tlr: 2.000e-03, eta: 6:30:31, time: 2.806, data_time: 1.440, memory: 10037, loss_rpn_cls: 0.0050, loss_rpn_bbox: 0.0220, loss_cls: 0.0890, acc: 96.5495, loss_bbox: 0.1631, loss: 0.2791\n",
      "2022-12-09 02:24:10,476 - mmdet - INFO - Epoch [11][200/1742]\tlr: 2.000e-03, eta: 6:26:02, time: 2.793, data_time: 1.431, memory: 10037, loss_rpn_cls: 0.0048, loss_rpn_bbox: 0.0211, loss_cls: 0.0854, acc: 96.7104, loss_bbox: 0.1579, loss: 0.2692\n",
      "2022-12-09 02:28:46,467 - mmdet - INFO - Epoch [11][300/1742]\tlr: 2.000e-03, eta: 6:21:32, time: 2.760, data_time: 1.399, memory: 10037, loss_rpn_cls: 0.0051, loss_rpn_bbox: 0.0209, loss_cls: 0.0853, acc: 96.6641, loss_bbox: 0.1577, loss: 0.2690\n",
      "2022-12-09 02:33:23,280 - mmdet - INFO - Epoch [11][400/1742]\tlr: 2.000e-03, eta: 6:17:01, time: 2.768, data_time: 1.407, memory: 10037, loss_rpn_cls: 0.0050, loss_rpn_bbox: 0.0204, loss_cls: 0.0852, acc: 96.7350, loss_bbox: 0.1553, loss: 0.2659\n",
      "2022-12-09 02:38:02,121 - mmdet - INFO - Epoch [11][500/1742]\tlr: 2.000e-03, eta: 6:12:32, time: 2.788, data_time: 1.428, memory: 10037, loss_rpn_cls: 0.0047, loss_rpn_bbox: 0.0209, loss_cls: 0.0870, acc: 96.6307, loss_bbox: 0.1573, loss: 0.2700\n",
      "2022-12-09 02:42:39,805 - mmdet - INFO - Epoch [11][600/1742]\tlr: 2.000e-03, eta: 6:08:02, time: 2.777, data_time: 1.416, memory: 10037, loss_rpn_cls: 0.0046, loss_rpn_bbox: 0.0211, loss_cls: 0.0841, acc: 96.7129, loss_bbox: 0.1530, loss: 0.2629\n",
      "2022-12-09 02:47:18,139 - mmdet - INFO - Epoch [11][700/1742]\tlr: 2.000e-03, eta: 6:03:33, time: 2.783, data_time: 1.422, memory: 10037, loss_rpn_cls: 0.0049, loss_rpn_bbox: 0.0216, loss_cls: 0.0863, acc: 96.6138, loss_bbox: 0.1600, loss: 0.2729\n",
      "2022-12-09 02:51:55,554 - mmdet - INFO - Epoch [11][800/1742]\tlr: 2.000e-03, eta: 5:59:03, time: 2.774, data_time: 1.414, memory: 10037, loss_rpn_cls: 0.0049, loss_rpn_bbox: 0.0216, loss_cls: 0.0852, acc: 96.6437, loss_bbox: 0.1576, loss: 0.2693\n",
      "2022-12-09 02:56:33,090 - mmdet - INFO - Epoch [11][900/1742]\tlr: 2.000e-03, eta: 5:54:33, time: 2.775, data_time: 1.415, memory: 10037, loss_rpn_cls: 0.0052, loss_rpn_bbox: 0.0214, loss_cls: 0.0894, acc: 96.5168, loss_bbox: 0.1599, loss: 0.2759\n",
      "2022-12-09 03:01:11,105 - mmdet - INFO - Epoch [11][1000/1742]\tlr: 2.000e-03, eta: 5:50:03, time: 2.780, data_time: 1.420, memory: 10037, loss_rpn_cls: 0.0050, loss_rpn_bbox: 0.0205, loss_cls: 0.0867, acc: 96.6465, loss_bbox: 0.1555, loss: 0.2677\n",
      "2022-12-09 03:05:47,507 - mmdet - INFO - Epoch [11][1100/1742]\tlr: 2.000e-03, eta: 5:45:32, time: 2.764, data_time: 1.404, memory: 10037, loss_rpn_cls: 0.0052, loss_rpn_bbox: 0.0211, loss_cls: 0.0863, acc: 96.6631, loss_bbox: 0.1549, loss: 0.2675\n",
      "2022-12-09 03:10:25,218 - mmdet - INFO - Epoch [11][1200/1742]\tlr: 2.000e-03, eta: 5:41:01, time: 2.777, data_time: 1.416, memory: 10037, loss_rpn_cls: 0.0054, loss_rpn_bbox: 0.0214, loss_cls: 0.0855, acc: 96.6821, loss_bbox: 0.1563, loss: 0.2686\n",
      "2022-12-09 03:15:02,649 - mmdet - INFO - Epoch [11][1300/1742]\tlr: 2.000e-03, eta: 5:36:31, time: 2.774, data_time: 1.410, memory: 10037, loss_rpn_cls: 0.0049, loss_rpn_bbox: 0.0227, loss_cls: 0.0910, acc: 96.4494, loss_bbox: 0.1637, loss: 0.2823\n",
      "2022-12-09 03:19:38,849 - mmdet - INFO - Epoch [11][1400/1742]\tlr: 2.000e-03, eta: 5:32:00, time: 2.762, data_time: 1.399, memory: 10037, loss_rpn_cls: 0.0048, loss_rpn_bbox: 0.0207, loss_cls: 0.0852, acc: 96.6761, loss_bbox: 0.1543, loss: 0.2651\n",
      "2022-12-09 03:24:16,758 - mmdet - INFO - Epoch [11][1500/1742]\tlr: 2.000e-03, eta: 5:27:29, time: 2.779, data_time: 1.417, memory: 10037, loss_rpn_cls: 0.0054, loss_rpn_bbox: 0.0226, loss_cls: 0.0905, acc: 96.5117, loss_bbox: 0.1617, loss: 0.2802\n",
      "2022-12-09 03:28:55,170 - mmdet - INFO - Epoch [11][1600/1742]\tlr: 2.000e-03, eta: 5:22:59, time: 2.784, data_time: 1.422, memory: 10037, loss_rpn_cls: 0.0056, loss_rpn_bbox: 0.0213, loss_cls: 0.0865, acc: 96.6579, loss_bbox: 0.1584, loss: 0.2719\n",
      "2022-12-09 03:33:32,863 - mmdet - INFO - Epoch [11][1700/1742]\tlr: 2.000e-03, eta: 5:18:28, time: 2.777, data_time: 1.416, memory: 10037, loss_rpn_cls: 0.0055, loss_rpn_bbox: 0.0209, loss_cls: 0.0873, acc: 96.5915, loss_bbox: 0.1583, loss: 0.2721\n",
      "2022-12-09 03:35:29,445 - mmdet - INFO - Saving checkpoint at 11 epochs\n"
     ]
    },
    {
     "name": "stdout",
     "output_type": "stream",
     "text": [
      "[>>>>>>>>>>>>>>>>>>>>>>>>>>>] 2323/2323, 5.0 task/s, elapsed: 464s, ETA:     0s\n",
      "---------------iou_thr: 0.5---------------\n"
     ]
    },
    {
     "name": "stderr",
     "output_type": "stream",
     "text": [
      "2022-12-09 03:43:16,037 - mmdet - INFO - \n",
      "+------------+-------+-------+--------+-------+\n",
      "| class      | gts   | dets  | recall | ap    |\n",
      "+------------+-------+-------+--------+-------+\n",
      "| car        | 13124 | 19147 | 0.964  | 0.947 |\n",
      "| truck      | 3084  | 6333  | 0.924  | 0.879 |\n",
      "| bus        | 1786  | 3061  | 0.937  | 0.910 |\n",
      "| pedestrian | 3063  | 6355  | 0.844  | 0.770 |\n",
      "+------------+-------+-------+--------+-------+\n",
      "| mAP        |       |       |        | 0.877 |\n",
      "+------------+-------+-------+--------+-------+\n",
      "2022-12-09 03:43:16,155 - mmdet - INFO - Epoch(val) [11][2323]\tAP50: 0.8770, mAP: 0.8766\n",
      "2022-12-09 03:47:56,190 - mmdet - INFO - Epoch [12][100/1742]\tlr: 2.000e-04, eta: 5:11:23, time: 2.795, data_time: 1.433, memory: 10037, loss_rpn_cls: 0.0047, loss_rpn_bbox: 0.0210, loss_cls: 0.0845, acc: 96.7489, loss_bbox: 0.1532, loss: 0.2634\n",
      "2022-12-09 03:52:33,597 - mmdet - INFO - Epoch [12][200/1742]\tlr: 2.000e-04, eta: 5:06:53, time: 2.774, data_time: 1.412, memory: 10037, loss_rpn_cls: 0.0043, loss_rpn_bbox: 0.0202, loss_cls: 0.0819, acc: 96.7819, loss_bbox: 0.1517, loss: 0.2582\n",
      "2022-12-09 03:57:13,126 - mmdet - INFO - Epoch [12][300/1742]\tlr: 2.000e-04, eta: 5:02:23, time: 2.795, data_time: 1.433, memory: 10037, loss_rpn_cls: 0.0046, loss_rpn_bbox: 0.0213, loss_cls: 0.0849, acc: 96.6969, loss_bbox: 0.1567, loss: 0.2675\n",
      "2022-12-09 04:01:51,859 - mmdet - INFO - Epoch [12][400/1742]\tlr: 2.000e-04, eta: 4:57:53, time: 2.787, data_time: 1.426, memory: 10037, loss_rpn_cls: 0.0047, loss_rpn_bbox: 0.0203, loss_cls: 0.0827, acc: 96.7925, loss_bbox: 0.1517, loss: 0.2594\n",
      "2022-12-09 04:06:33,383 - mmdet - INFO - Epoch [12][500/1742]\tlr: 2.000e-04, eta: 4:53:24, time: 2.815, data_time: 1.452, memory: 10037, loss_rpn_cls: 0.0051, loss_rpn_bbox: 0.0210, loss_cls: 0.0846, acc: 96.6945, loss_bbox: 0.1541, loss: 0.2647\n",
      "2022-12-09 04:11:12,773 - mmdet - INFO - Epoch [12][600/1742]\tlr: 2.000e-04, eta: 4:48:55, time: 2.794, data_time: 1.432, memory: 10037, loss_rpn_cls: 0.0046, loss_rpn_bbox: 0.0214, loss_cls: 0.0872, acc: 96.6297, loss_bbox: 0.1563, loss: 0.2696\n",
      "2022-12-09 04:15:54,402 - mmdet - INFO - Epoch [12][700/1742]\tlr: 2.000e-04, eta: 4:44:25, time: 2.816, data_time: 1.455, memory: 10037, loss_rpn_cls: 0.0048, loss_rpn_bbox: 0.0202, loss_cls: 0.0819, acc: 96.8084, loss_bbox: 0.1506, loss: 0.2575\n",
      "2022-12-09 04:20:35,072 - mmdet - INFO - Epoch [12][800/1742]\tlr: 2.000e-04, eta: 4:39:56, time: 2.807, data_time: 1.444, memory: 10037, loss_rpn_cls: 0.0046, loss_rpn_bbox: 0.0203, loss_cls: 0.0836, acc: 96.7505, loss_bbox: 0.1537, loss: 0.2623\n",
      "2022-12-09 04:25:16,695 - mmdet - INFO - Epoch [12][900/1742]\tlr: 2.000e-04, eta: 4:35:26, time: 2.816, data_time: 1.454, memory: 10037, loss_rpn_cls: 0.0050, loss_rpn_bbox: 0.0210, loss_cls: 0.0837, acc: 96.7661, loss_bbox: 0.1533, loss: 0.2631\n",
      "2022-12-09 04:29:56,444 - mmdet - INFO - Epoch [12][1000/1742]\tlr: 2.000e-04, eta: 4:30:56, time: 2.797, data_time: 1.435, memory: 10037, loss_rpn_cls: 0.0047, loss_rpn_bbox: 0.0203, loss_cls: 0.0823, acc: 96.7909, loss_bbox: 0.1528, loss: 0.2602\n",
      "2022-12-09 04:34:37,074 - mmdet - INFO - Epoch [12][1100/1742]\tlr: 2.000e-04, eta: 4:26:26, time: 2.806, data_time: 1.445, memory: 10037, loss_rpn_cls: 0.0045, loss_rpn_bbox: 0.0212, loss_cls: 0.0852, acc: 96.6950, loss_bbox: 0.1561, loss: 0.2670\n",
      "2022-12-09 04:39:17,945 - mmdet - INFO - Epoch [12][1200/1742]\tlr: 2.000e-04, eta: 4:21:56, time: 2.809, data_time: 1.445, memory: 10037, loss_rpn_cls: 0.0042, loss_rpn_bbox: 0.0206, loss_cls: 0.0844, acc: 96.7295, loss_bbox: 0.1552, loss: 0.2644\n",
      "2022-12-09 04:43:57,571 - mmdet - INFO - Epoch [12][1300/1742]\tlr: 2.000e-04, eta: 4:17:25, time: 2.796, data_time: 1.432, memory: 10037, loss_rpn_cls: 0.0045, loss_rpn_bbox: 0.0203, loss_cls: 0.0820, acc: 96.8104, loss_bbox: 0.1520, loss: 0.2588\n",
      "2022-12-09 04:48:36,665 - mmdet - INFO - Epoch [12][1400/1742]\tlr: 2.000e-04, eta: 4:12:55, time: 2.791, data_time: 1.426, memory: 10037, loss_rpn_cls: 0.0050, loss_rpn_bbox: 0.0209, loss_cls: 0.0824, acc: 96.7938, loss_bbox: 0.1526, loss: 0.2609\n",
      "2022-12-09 04:53:19,367 - mmdet - INFO - Epoch [12][1500/1742]\tlr: 2.000e-04, eta: 4:08:25, time: 2.827, data_time: 1.462, memory: 10037, loss_rpn_cls: 0.0049, loss_rpn_bbox: 0.0209, loss_cls: 0.0834, acc: 96.7666, loss_bbox: 0.1538, loss: 0.2630\n",
      "2022-12-09 04:58:01,337 - mmdet - INFO - Epoch [12][1600/1742]\tlr: 2.000e-04, eta: 4:03:55, time: 2.820, data_time: 1.457, memory: 10037, loss_rpn_cls: 0.0047, loss_rpn_bbox: 0.0204, loss_cls: 0.0818, acc: 96.8839, loss_bbox: 0.1488, loss: 0.2557\n",
      "2022-12-09 05:02:42,728 - mmdet - INFO - Epoch [12][1700/1742]\tlr: 2.000e-04, eta: 3:59:24, time: 2.814, data_time: 1.450, memory: 10037, loss_rpn_cls: 0.0046, loss_rpn_bbox: 0.0213, loss_cls: 0.0844, acc: 96.7262, loss_bbox: 0.1571, loss: 0.2675\n",
      "2022-12-09 05:04:41,091 - mmdet - INFO - Saving checkpoint at 12 epochs\n"
     ]
    },
    {
     "name": "stdout",
     "output_type": "stream",
     "text": [
      "[>>>>>>>>>>>>>>>>>>>>>>>>>>>] 2323/2323, 4.8 task/s, elapsed: 479s, ETA:     0s\n",
      "---------------iou_thr: 0.5---------------\n"
     ]
    },
    {
     "name": "stderr",
     "output_type": "stream",
     "text": [
      "2022-12-09 05:12:42,774 - mmdet - INFO - \n",
      "+------------+-------+-------+--------+-------+\n",
      "| class      | gts   | dets  | recall | ap    |\n",
      "+------------+-------+-------+--------+-------+\n",
      "| car        | 13124 | 19230 | 0.964  | 0.948 |\n",
      "| truck      | 3084  | 6022  | 0.920  | 0.877 |\n",
      "| bus        | 1786  | 2934  | 0.933  | 0.909 |\n",
      "| pedestrian | 3063  | 6369  | 0.843  | 0.769 |\n",
      "+------------+-------+-------+--------+-------+\n",
      "| mAP        |       |       |        | 0.876 |\n",
      "+------------+-------+-------+--------+-------+\n",
      "2022-12-09 05:12:42,887 - mmdet - INFO - Epoch(val) [12][2323]\tAP50: 0.8760, mAP: 0.8757\n",
      "2022-12-09 05:17:24,323 - mmdet - INFO - Epoch [13][100/1742]\tlr: 2.000e-04, eta: 3:52:31, time: 2.809, data_time: 1.443, memory: 10037, loss_rpn_cls: 0.0051, loss_rpn_bbox: 0.0210, loss_cls: 0.0851, acc: 96.7163, loss_bbox: 0.1533, loss: 0.2644\n",
      "2022-12-09 05:22:04,824 - mmdet - INFO - Epoch [13][200/1742]\tlr: 2.000e-04, eta: 3:48:01, time: 2.805, data_time: 1.441, memory: 10037, loss_rpn_cls: 0.0045, loss_rpn_bbox: 0.0209, loss_cls: 0.0826, acc: 96.8000, loss_bbox: 0.1533, loss: 0.2613\n",
      "2022-12-09 05:26:43,500 - mmdet - INFO - Epoch [13][300/1742]\tlr: 2.000e-04, eta: 3:43:30, time: 2.787, data_time: 1.424, memory: 10037, loss_rpn_cls: 0.0046, loss_rpn_bbox: 0.0201, loss_cls: 0.0824, acc: 96.7871, loss_bbox: 0.1501, loss: 0.2571\n",
      "2022-12-09 05:31:21,720 - mmdet - INFO - Epoch [13][400/1742]\tlr: 2.000e-04, eta: 3:38:59, time: 2.782, data_time: 1.418, memory: 10037, loss_rpn_cls: 0.0046, loss_rpn_bbox: 0.0212, loss_cls: 0.0838, acc: 96.7456, loss_bbox: 0.1548, loss: 0.2644\n",
      "2022-12-09 05:36:00,816 - mmdet - INFO - Epoch [13][500/1742]\tlr: 2.000e-04, eta: 3:34:29, time: 2.791, data_time: 1.427, memory: 10037, loss_rpn_cls: 0.0047, loss_rpn_bbox: 0.0210, loss_cls: 0.0839, acc: 96.7821, loss_bbox: 0.1532, loss: 0.2629\n",
      "2022-12-09 05:40:38,959 - mmdet - INFO - Epoch [13][600/1742]\tlr: 2.000e-04, eta: 3:29:57, time: 2.781, data_time: 1.418, memory: 10037, loss_rpn_cls: 0.0044, loss_rpn_bbox: 0.0208, loss_cls: 0.0822, acc: 96.8063, loss_bbox: 0.1533, loss: 0.2606\n",
      "2022-12-09 05:45:15,653 - mmdet - INFO - Epoch [13][700/1742]\tlr: 2.000e-04, eta: 3:25:26, time: 2.767, data_time: 1.403, memory: 10037, loss_rpn_cls: 0.0045, loss_rpn_bbox: 0.0203, loss_cls: 0.0848, acc: 96.7474, loss_bbox: 0.1560, loss: 0.2656\n",
      "2022-12-09 05:49:55,351 - mmdet - INFO - Epoch [13][800/1742]\tlr: 2.000e-04, eta: 3:20:55, time: 2.797, data_time: 1.434, memory: 10037, loss_rpn_cls: 0.0049, loss_rpn_bbox: 0.0207, loss_cls: 0.0845, acc: 96.6769, loss_bbox: 0.1557, loss: 0.2657\n",
      "2022-12-09 05:54:32,543 - mmdet - INFO - Epoch [13][900/1742]\tlr: 2.000e-04, eta: 3:16:24, time: 2.772, data_time: 1.408, memory: 10037, loss_rpn_cls: 0.0046, loss_rpn_bbox: 0.0204, loss_cls: 0.0830, acc: 96.7689, loss_bbox: 0.1523, loss: 0.2603\n",
      "2022-12-09 05:59:12,117 - mmdet - INFO - Epoch [13][1000/1742]\tlr: 2.000e-04, eta: 3:11:53, time: 2.796, data_time: 1.431, memory: 10037, loss_rpn_cls: 0.0045, loss_rpn_bbox: 0.0207, loss_cls: 0.0832, acc: 96.7770, loss_bbox: 0.1510, loss: 0.2594\n",
      "2022-12-09 06:03:51,899 - mmdet - INFO - Epoch [13][1100/1742]\tlr: 2.000e-04, eta: 3:07:22, time: 2.798, data_time: 1.434, memory: 10037, loss_rpn_cls: 0.0049, loss_rpn_bbox: 0.0203, loss_cls: 0.0819, acc: 96.7980, loss_bbox: 0.1509, loss: 0.2580\n",
      "2022-12-09 06:08:30,248 - mmdet - INFO - Epoch [13][1200/1742]\tlr: 2.000e-04, eta: 3:02:50, time: 2.783, data_time: 1.419, memory: 10037, loss_rpn_cls: 0.0049, loss_rpn_bbox: 0.0212, loss_cls: 0.0841, acc: 96.7061, loss_bbox: 0.1547, loss: 0.2648\n",
      "2022-12-09 06:13:08,728 - mmdet - INFO - Epoch [13][1300/1742]\tlr: 2.000e-04, eta: 2:58:19, time: 2.785, data_time: 1.419, memory: 10037, loss_rpn_cls: 0.0047, loss_rpn_bbox: 0.0215, loss_cls: 0.0835, acc: 96.7396, loss_bbox: 0.1531, loss: 0.2628\n",
      "2022-12-09 06:17:45,635 - mmdet - INFO - Epoch [13][1400/1742]\tlr: 2.000e-04, eta: 2:53:47, time: 2.769, data_time: 1.405, memory: 10037, loss_rpn_cls: 0.0046, loss_rpn_bbox: 0.0202, loss_cls: 0.0829, acc: 96.7686, loss_bbox: 0.1501, loss: 0.2578\n",
      "2022-12-09 06:22:22,589 - mmdet - INFO - Epoch [13][1500/1742]\tlr: 2.000e-04, eta: 2:49:15, time: 2.769, data_time: 1.404, memory: 10037, loss_rpn_cls: 0.0048, loss_rpn_bbox: 0.0208, loss_cls: 0.0839, acc: 96.7581, loss_bbox: 0.1542, loss: 0.2637\n",
      "2022-12-09 06:27:00,424 - mmdet - INFO - Epoch [13][1600/1742]\tlr: 2.000e-04, eta: 2:44:44, time: 2.778, data_time: 1.412, memory: 10037, loss_rpn_cls: 0.0047, loss_rpn_bbox: 0.0210, loss_cls: 0.0817, acc: 96.8167, loss_bbox: 0.1526, loss: 0.2600\n",
      "2022-12-09 06:31:38,772 - mmdet - INFO - Epoch [13][1700/1742]\tlr: 2.000e-04, eta: 2:40:12, time: 2.783, data_time: 1.416, memory: 10037, loss_rpn_cls: 0.0045, loss_rpn_bbox: 0.0197, loss_cls: 0.0801, acc: 96.9032, loss_bbox: 0.1472, loss: 0.2515\n",
      "2022-12-09 06:33:36,042 - mmdet - INFO - Saving checkpoint at 13 epochs\n"
     ]
    },
    {
     "name": "stdout",
     "output_type": "stream",
     "text": [
      "[>>>>>>>>>>>>>>>>>>>>>>>>>>>] 2323/2323, 5.0 task/s, elapsed: 468s, ETA:     0s\n",
      "---------------iou_thr: 0.5---------------\n"
     ]
    },
    {
     "name": "stderr",
     "output_type": "stream",
     "text": [
      "2022-12-09 06:41:26,690 - mmdet - INFO - \n",
      "+------------+-------+-------+--------+-------+\n",
      "| class      | gts   | dets  | recall | ap    |\n",
      "+------------+-------+-------+--------+-------+\n",
      "| car        | 13124 | 19073 | 0.964  | 0.948 |\n",
      "| truck      | 3084  | 6153  | 0.922  | 0.878 |\n",
      "| bus        | 1786  | 2959  | 0.936  | 0.910 |\n",
      "| pedestrian | 3063  | 6373  | 0.845  | 0.771 |\n",
      "+------------+-------+-------+--------+-------+\n",
      "| mAP        |       |       |        | 0.877 |\n",
      "+------------+-------+-------+--------+-------+\n",
      "2022-12-09 06:41:26,792 - mmdet - INFO - Epoch(val) [13][2323]\tAP50: 0.8770, mAP: 0.8766\n",
      "2022-12-09 06:46:07,134 - mmdet - INFO - Epoch [14][100/1742]\tlr: 2.000e-04, eta: 2:33:29, time: 2.798, data_time: 1.431, memory: 10037, loss_rpn_cls: 0.0042, loss_rpn_bbox: 0.0214, loss_cls: 0.0841, acc: 96.7150, loss_bbox: 0.1557, loss: 0.2654\n",
      "2022-12-09 06:50:45,762 - mmdet - INFO - Epoch [14][200/1742]\tlr: 2.000e-04, eta: 2:28:58, time: 2.786, data_time: 1.420, memory: 10037, loss_rpn_cls: 0.0045, loss_rpn_bbox: 0.0199, loss_cls: 0.0823, acc: 96.7913, loss_bbox: 0.1516, loss: 0.2583\n",
      "2022-12-09 06:55:24,751 - mmdet - INFO - Epoch [14][300/1742]\tlr: 2.000e-04, eta: 2:24:26, time: 2.790, data_time: 1.426, memory: 10037, loss_rpn_cls: 0.0048, loss_rpn_bbox: 0.0209, loss_cls: 0.0858, acc: 96.7017, loss_bbox: 0.1565, loss: 0.2681\n",
      "2022-12-09 07:00:06,952 - mmdet - INFO - Epoch [14][400/1742]\tlr: 2.000e-04, eta: 2:19:55, time: 2.822, data_time: 1.457, memory: 10037, loss_rpn_cls: 0.0045, loss_rpn_bbox: 0.0209, loss_cls: 0.0828, acc: 96.7791, loss_bbox: 0.1520, loss: 0.2602\n",
      "2022-12-09 07:04:47,271 - mmdet - INFO - Epoch [14][500/1742]\tlr: 2.000e-04, eta: 2:15:24, time: 2.803, data_time: 1.438, memory: 10037, loss_rpn_cls: 0.0049, loss_rpn_bbox: 0.0201, loss_cls: 0.0809, acc: 96.8885, loss_bbox: 0.1468, loss: 0.2527\n",
      "2022-12-09 07:09:28,067 - mmdet - INFO - Epoch [14][600/1742]\tlr: 2.000e-04, eta: 2:10:53, time: 2.808, data_time: 1.443, memory: 10037, loss_rpn_cls: 0.0047, loss_rpn_bbox: 0.0210, loss_cls: 0.0844, acc: 96.7238, loss_bbox: 0.1542, loss: 0.2643\n",
      "2022-12-09 07:14:09,954 - mmdet - INFO - Epoch [14][700/1742]\tlr: 2.000e-04, eta: 2:06:22, time: 2.819, data_time: 1.455, memory: 10037, loss_rpn_cls: 0.0044, loss_rpn_bbox: 0.0211, loss_cls: 0.0844, acc: 96.7059, loss_bbox: 0.1543, loss: 0.2643\n",
      "2022-12-09 07:18:49,894 - mmdet - INFO - Epoch [14][800/1742]\tlr: 2.000e-04, eta: 2:01:50, time: 2.799, data_time: 1.435, memory: 10037, loss_rpn_cls: 0.0043, loss_rpn_bbox: 0.0204, loss_cls: 0.0823, acc: 96.7856, loss_bbox: 0.1524, loss: 0.2594\n",
      "2022-12-09 07:23:30,688 - mmdet - INFO - Epoch [14][900/1742]\tlr: 2.000e-04, eta: 1:57:19, time: 2.808, data_time: 1.445, memory: 10037, loss_rpn_cls: 0.0047, loss_rpn_bbox: 0.0210, loss_cls: 0.0836, acc: 96.7371, loss_bbox: 0.1541, loss: 0.2634\n",
      "2022-12-09 07:28:11,089 - mmdet - INFO - Epoch [14][1000/1742]\tlr: 2.000e-04, eta: 1:52:47, time: 2.804, data_time: 1.439, memory: 10037, loss_rpn_cls: 0.0049, loss_rpn_bbox: 0.0203, loss_cls: 0.0834, acc: 96.7474, loss_bbox: 0.1527, loss: 0.2613\n",
      "2022-12-09 07:32:50,068 - mmdet - INFO - Epoch [14][1100/1742]\tlr: 2.000e-04, eta: 1:48:16, time: 2.790, data_time: 1.425, memory: 10037, loss_rpn_cls: 0.0049, loss_rpn_bbox: 0.0206, loss_cls: 0.0826, acc: 96.7969, loss_bbox: 0.1529, loss: 0.2610\n",
      "2022-12-09 07:37:28,964 - mmdet - INFO - Epoch [14][1200/1742]\tlr: 2.000e-04, eta: 1:43:44, time: 2.789, data_time: 1.424, memory: 10037, loss_rpn_cls: 0.0046, loss_rpn_bbox: 0.0203, loss_cls: 0.0827, acc: 96.8058, loss_bbox: 0.1526, loss: 0.2602\n",
      "2022-12-09 07:42:11,371 - mmdet - INFO - Epoch [14][1300/1742]\tlr: 2.000e-04, eta: 1:39:12, time: 2.824, data_time: 1.457, memory: 10037, loss_rpn_cls: 0.0049, loss_rpn_bbox: 0.0204, loss_cls: 0.0812, acc: 96.8317, loss_bbox: 0.1504, loss: 0.2570\n",
      "2022-12-09 07:46:51,989 - mmdet - INFO - Epoch [14][1400/1742]\tlr: 2.000e-04, eta: 1:34:40, time: 2.806, data_time: 1.440, memory: 10037, loss_rpn_cls: 0.0054, loss_rpn_bbox: 0.0217, loss_cls: 0.0849, acc: 96.7080, loss_bbox: 0.1550, loss: 0.2671\n",
      "2022-12-09 07:51:30,286 - mmdet - INFO - Epoch [14][1500/1742]\tlr: 2.000e-04, eta: 1:30:08, time: 2.783, data_time: 1.419, memory: 10037, loss_rpn_cls: 0.0051, loss_rpn_bbox: 0.0210, loss_cls: 0.0833, acc: 96.7917, loss_bbox: 0.1539, loss: 0.2633\n",
      "2022-12-09 07:56:08,204 - mmdet - INFO - Epoch [14][1600/1742]\tlr: 2.000e-04, eta: 1:25:36, time: 2.779, data_time: 1.444, memory: 10037, loss_rpn_cls: 0.0046, loss_rpn_bbox: 0.0204, loss_cls: 0.0810, acc: 96.8252, loss_bbox: 0.1487, loss: 0.2547\n",
      "2022-12-09 08:00:46,523 - mmdet - INFO - Epoch [14][1700/1742]\tlr: 2.000e-04, eta: 1:21:04, time: 2.783, data_time: 1.445, memory: 10037, loss_rpn_cls: 0.0039, loss_rpn_bbox: 0.0197, loss_cls: 0.0819, acc: 96.8061, loss_bbox: 0.1491, loss: 0.2545\n",
      "2022-12-09 08:02:42,841 - mmdet - INFO - Saving checkpoint at 14 epochs\n"
     ]
    },
    {
     "name": "stdout",
     "output_type": "stream",
     "text": [
      "[>>>>>>>>>>>>>>>>>>>>>>>>>>>] 2323/2323, 5.0 task/s, elapsed: 462s, ETA:     0s\n",
      "---------------iou_thr: 0.5---------------\n"
     ]
    },
    {
     "name": "stderr",
     "output_type": "stream",
     "text": [
      "2022-12-09 08:10:26,900 - mmdet - INFO - \n",
      "+------------+-------+-------+--------+-------+\n",
      "| class      | gts   | dets  | recall | ap    |\n",
      "+------------+-------+-------+--------+-------+\n",
      "| car        | 13124 | 19275 | 0.965  | 0.949 |\n",
      "| truck      | 3084  | 6031  | 0.921  | 0.878 |\n",
      "| bus        | 1786  | 2987  | 0.934  | 0.909 |\n",
      "| pedestrian | 3063  | 6357  | 0.845  | 0.771 |\n",
      "+------------+-------+-------+--------+-------+\n",
      "| mAP        |       |       |        | 0.877 |\n",
      "+------------+-------+-------+--------+-------+\n",
      "2022-12-09 08:10:27,012 - mmdet - INFO - Epoch(val) [14][2323]\tAP50: 0.8770, mAP: 0.8766\n",
      "2022-12-09 08:15:01,062 - mmdet - INFO - Epoch [15][100/1742]\tlr: 2.000e-04, eta: 1:14:29, time: 2.736, data_time: 1.435, memory: 10037, loss_rpn_cls: 0.0051, loss_rpn_bbox: 0.0207, loss_cls: 0.0823, acc: 96.8273, loss_bbox: 0.1528, loss: 0.2609\n",
      "2022-12-09 08:19:35,576 - mmdet - INFO - Epoch [15][200/1742]\tlr: 2.000e-04, eta: 1:09:57, time: 2.745, data_time: 1.428, memory: 10037, loss_rpn_cls: 0.0044, loss_rpn_bbox: 0.0203, loss_cls: 0.0808, acc: 96.8625, loss_bbox: 0.1515, loss: 0.2569\n",
      "2022-12-09 08:24:09,325 - mmdet - INFO - Epoch [15][300/1742]\tlr: 2.000e-04, eta: 1:05:25, time: 2.737, data_time: 1.403, memory: 10037, loss_rpn_cls: 0.0045, loss_rpn_bbox: 0.0201, loss_cls: 0.0802, acc: 96.8599, loss_bbox: 0.1512, loss: 0.2560\n",
      "2022-12-09 08:28:44,577 - mmdet - INFO - Epoch [15][400/1742]\tlr: 2.000e-04, eta: 1:00:53, time: 2.753, data_time: 1.428, memory: 10037, loss_rpn_cls: 0.0042, loss_rpn_bbox: 0.0205, loss_cls: 0.0829, acc: 96.7334, loss_bbox: 0.1531, loss: 0.2608\n",
      "2022-12-09 08:33:19,803 - mmdet - INFO - Epoch [15][500/1742]\tlr: 2.000e-04, eta: 0:56:21, time: 2.752, data_time: 1.419, memory: 10037, loss_rpn_cls: 0.0048, loss_rpn_bbox: 0.0216, loss_cls: 0.0860, acc: 96.6465, loss_bbox: 0.1578, loss: 0.2702\n",
      "2022-12-09 08:37:52,900 - mmdet - INFO - Epoch [15][600/1742]\tlr: 2.000e-04, eta: 0:51:48, time: 2.731, data_time: 1.409, memory: 10037, loss_rpn_cls: 0.0047, loss_rpn_bbox: 0.0213, loss_cls: 0.0835, acc: 96.7681, loss_bbox: 0.1523, loss: 0.2618\n",
      "2022-12-09 08:42:27,760 - mmdet - INFO - Epoch [15][700/1742]\tlr: 2.000e-04, eta: 0:47:16, time: 2.749, data_time: 1.416, memory: 10037, loss_rpn_cls: 0.0043, loss_rpn_bbox: 0.0202, loss_cls: 0.0816, acc: 96.8507, loss_bbox: 0.1520, loss: 0.2581\n",
      "2022-12-09 08:47:02,134 - mmdet - INFO - Epoch [15][800/1742]\tlr: 2.000e-04, eta: 0:42:44, time: 2.744, data_time: 1.417, memory: 10037, loss_rpn_cls: 0.0042, loss_rpn_bbox: 0.0203, loss_cls: 0.0850, acc: 96.7183, loss_bbox: 0.1566, loss: 0.2661\n",
      "2022-12-09 08:51:38,379 - mmdet - INFO - Epoch [15][900/1742]\tlr: 2.000e-04, eta: 0:38:12, time: 2.762, data_time: 1.431, memory: 10037, loss_rpn_cls: 0.0049, loss_rpn_bbox: 0.0202, loss_cls: 0.0803, acc: 96.8501, loss_bbox: 0.1499, loss: 0.2553\n",
      "2022-12-09 08:56:13,377 - mmdet - INFO - Epoch [15][1000/1742]\tlr: 2.000e-04, eta: 0:33:40, time: 2.750, data_time: 1.420, memory: 10037, loss_rpn_cls: 0.0044, loss_rpn_bbox: 0.0200, loss_cls: 0.0823, acc: 96.7954, loss_bbox: 0.1516, loss: 0.2583\n",
      "2022-12-09 09:00:47,511 - mmdet - INFO - Epoch [15][1100/1742]\tlr: 2.000e-04, eta: 0:29:08, time: 2.741, data_time: 1.410, memory: 10037, loss_rpn_cls: 0.0042, loss_rpn_bbox: 0.0207, loss_cls: 0.0837, acc: 96.7500, loss_bbox: 0.1532, loss: 0.2618\n",
      "2022-12-09 09:05:22,203 - mmdet - INFO - Epoch [15][1200/1742]\tlr: 2.000e-04, eta: 0:24:35, time: 2.747, data_time: 1.421, memory: 10037, loss_rpn_cls: 0.0043, loss_rpn_bbox: 0.0197, loss_cls: 0.0800, acc: 96.8714, loss_bbox: 0.1488, loss: 0.2527\n",
      "2022-12-09 09:09:58,156 - mmdet - INFO - Epoch [15][1300/1742]\tlr: 2.000e-04, eta: 0:20:03, time: 2.759, data_time: 1.440, memory: 10037, loss_rpn_cls: 0.0047, loss_rpn_bbox: 0.0215, loss_cls: 0.0852, acc: 96.6686, loss_bbox: 0.1548, loss: 0.2662\n",
      "2022-12-09 09:14:34,533 - mmdet - INFO - Epoch [15][1400/1742]\tlr: 2.000e-04, eta: 0:15:31, time: 2.764, data_time: 1.433, memory: 10037, loss_rpn_cls: 0.0047, loss_rpn_bbox: 0.0207, loss_cls: 0.0812, acc: 96.8537, loss_bbox: 0.1484, loss: 0.2549\n",
      "2022-12-09 09:19:07,156 - mmdet - INFO - Epoch [15][1500/1742]\tlr: 2.000e-04, eta: 0:10:59, time: 2.726, data_time: 1.409, memory: 10037, loss_rpn_cls: 0.0047, loss_rpn_bbox: 0.0209, loss_cls: 0.0819, acc: 96.7856, loss_bbox: 0.1527, loss: 0.2601\n",
      "2022-12-09 09:23:44,012 - mmdet - INFO - Epoch [15][1600/1742]\tlr: 2.000e-04, eta: 0:06:26, time: 2.768, data_time: 1.433, memory: 10037, loss_rpn_cls: 0.0046, loss_rpn_bbox: 0.0207, loss_cls: 0.0825, acc: 96.8133, loss_bbox: 0.1510, loss: 0.2587\n",
      "2022-12-09 09:28:20,253 - mmdet - INFO - Epoch [15][1700/1742]\tlr: 2.000e-04, eta: 0:01:54, time: 2.763, data_time: 1.444, memory: 10037, loss_rpn_cls: 0.0045, loss_rpn_bbox: 0.0206, loss_cls: 0.0825, acc: 96.8166, loss_bbox: 0.1503, loss: 0.2580\n",
      "2022-12-09 09:30:16,838 - mmdet - INFO - Saving checkpoint at 15 epochs\n"
     ]
    },
    {
     "name": "stdout",
     "output_type": "stream",
     "text": [
      "[>>>>>>>>>>>>>>>>>>>>>>>>>>>] 2323/2323, 5.1 task/s, elapsed: 458s, ETA:     0s\n",
      "---------------iou_thr: 0.5---------------\n"
     ]
    },
    {
     "name": "stderr",
     "output_type": "stream",
     "text": [
      "2022-12-09 09:37:56,974 - mmdet - INFO - \n",
      "+------------+-------+-------+--------+-------+\n",
      "| class      | gts   | dets  | recall | ap    |\n",
      "+------------+-------+-------+--------+-------+\n",
      "| car        | 13124 | 19069 | 0.964  | 0.948 |\n",
      "| truck      | 3084  | 6022  | 0.922  | 0.878 |\n",
      "| bus        | 1786  | 2936  | 0.935  | 0.910 |\n",
      "| pedestrian | 3063  | 6374  | 0.847  | 0.772 |\n",
      "+------------+-------+-------+--------+-------+\n",
      "| mAP        |       |       |        | 0.877 |\n",
      "+------------+-------+-------+--------+-------+\n",
      "2022-12-09 09:37:57,083 - mmdet - INFO - Epoch(val) [15][2323]\tAP50: 0.8770, mAP: 0.8772\n"
     ]
    },
    {
     "data": {
      "text/html": [
       "Waiting for W&B process to finish... <strong style=\"color:green\">(success).</strong>"
      ],
      "text/plain": [
       "<IPython.core.display.HTML object>"
      ]
     },
     "metadata": {},
     "output_type": "display_data"
    },
    {
     "data": {
      "application/vnd.jupyter.widget-view+json": {
       "model_id": "118d5b11cb674bcc8af1f9c00ae88295",
       "version_major": 2,
       "version_minor": 0
      },
      "text/plain": [
       "VBox(children=(Label(value='0.061 MB of 0.061 MB uploaded (0.000 MB deduped)\\r'), FloatProgress(value=1.0, max…"
      ]
     },
     "metadata": {},
     "output_type": "display_data"
    },
    {
     "data": {
      "text/html": [
       "<style>\n",
       "    table.wandb td:nth-child(1) { padding: 0 10px; text-align: left ; width: auto;} td:nth-child(2) {text-align: left ; width: 100%}\n",
       "    .wandb-row { display: flex; flex-direction: row; flex-wrap: wrap; justify-content: flex-start; width: 100% }\n",
       "    .wandb-col { display: flex; flex-direction: column; flex-basis: 100%; flex: 1; padding: 10px; }\n",
       "    </style>\n",
       "<div class=\"wandb-row\"><div class=\"wandb-col\"><h3>Run history:</h3><br/><table class=\"wandb\"><tr><td>learning_rate</td><td>▇█████████████████████▂▂▂▂▂▂▂▁▁▁▁▁▁▁▁▁▁▁</td></tr><tr><td>momentum</td><td>▁▁▁▁▁▁▁▁▁▁▁▁▁▁▁▁▁▁▁▁▁▁▁▁▁▁▁▁▁▁▁▁▁▁▁▁▁▁▁▁</td></tr><tr><td>train/acc</td><td>▁▃▄▄▄▅▅▅▅▅▅▆▆▆▆▆▆▆▆▆▆▆▇▇▇███████████████</td></tr><tr><td>train/loss</td><td>█▆▅▅▅▄▄▄▄▃▄▃▃▃▃▃▃▃▃▃▂▃▂▂▁▁▁▁▁▁▁▁▁▁▁▁▁▁▁▁</td></tr><tr><td>train/loss_bbox</td><td>█▆▅▅▅▄▄▄▄▃▄▃▃▃▃▃▃▃▃▃▃▃▂▂▁▂▁▁▁▁▁▁▁▁▁▁▁▁▁▁</td></tr><tr><td>train/loss_cls</td><td>█▆▅▅▅▄▄▄▃▃▃▃▃▃▃▃▃▃▃▃▂▂▂▁▁▁▁▁▁▁▁▁▁▁▁▁▁▁▁▁</td></tr><tr><td>train/loss_rpn_bbox</td><td>█▆▆▅▅▅▅▄▄▄▄▃▄▃▃▃▃▃▃▃▃▃▂▂▂▂▁▁▁▁▁▁▁▁▁▁▁▁▁▁</td></tr><tr><td>train/loss_rpn_cls</td><td>█▆▅▅▄▄▄▄▃▃▃▃▃▃▃▂▂▃▃▂▂▂▁▁▁▁▁▁▁▁▁▁▁▁▁▁▁▁▁▁</td></tr><tr><td>val/AP50</td><td>▁▄▅▆▆▆▆▆███████</td></tr><tr><td>val/mAP</td><td>▁▄▅▅▆▆▆▆███████</td></tr></table><br/></div><div class=\"wandb-col\"><h3>Run summary:</h3><br/><table class=\"wandb\"><tr><td>learning_rate</td><td>0.0002</td></tr><tr><td>momentum</td><td>0.9</td></tr><tr><td>train/acc</td><td>96.81657</td></tr><tr><td>train/loss</td><td>0.25799</td></tr><tr><td>train/loss_bbox</td><td>0.15027</td></tr><tr><td>train/loss_cls</td><td>0.08255</td></tr><tr><td>train/loss_rpn_bbox</td><td>0.02064</td></tr><tr><td>train/loss_rpn_cls</td><td>0.00452</td></tr><tr><td>val/AP50</td><td>0.877</td></tr><tr><td>val/mAP</td><td>0.87718</td></tr></table><br/></div></div>"
      ],
      "text/plain": [
       "<IPython.core.display.HTML object>"
      ]
     },
     "metadata": {},
     "output_type": "display_data"
    },
    {
     "data": {
      "text/html": [
       "Synced <strong style=\"color:#cdcd00\">fulldata_fullsize</strong>: <a href=\"https://wandb.ai/aimmo/r-cnn/runs/2jbrm53d\" target=\"_blank\">https://wandb.ai/aimmo/r-cnn/runs/2jbrm53d</a><br/>Synced 5 W&B file(s), 0 media file(s), 1 artifact file(s) and 0 other file(s)"
      ],
      "text/plain": [
       "<IPython.core.display.HTML object>"
      ]
     },
     "metadata": {},
     "output_type": "display_data"
    },
    {
     "data": {
      "text/html": [
       "Find logs at: <code>./wandb/run-20221208_112635-2jbrm53d/logs</code>"
      ],
      "text/plain": [
       "<IPython.core.display.HTML object>"
      ]
     },
     "metadata": {},
     "output_type": "display_data"
    }
   ],
   "source": [
    "# Build dataset\n",
    "datasets = [build_dataset(cfg.data.train)]\n",
    "\n",
    "# Build the detector\n",
    "model = build_detector(cfg.model, train_cfg=cfg.get('train_cfg'), test_cfg=cfg.get('test_cfg'))\n",
    "# Add an attribute for visualization convenience\n",
    "model.CLASSES = datasets[0].CLASSES\n",
    "\n",
    "# Create work_dir\n",
    "mmcv.mkdir_or_exist(osp.abspath(cfg.work_dir))\n",
    "train_detector(model, datasets, cfg, distributed=False, validate=True)"
   ]
  }
 ],
 "metadata": {
  "kernelspec": {
   "display_name": "Python 3 (ipykernel)",
   "language": "python",
   "name": "python3"
  },
  "language_info": {
   "codemirror_mode": {
    "name": "ipython",
    "version": 3
   },
   "file_extension": ".py",
   "mimetype": "text/x-python",
   "name": "python",
   "nbconvert_exporter": "python",
   "pygments_lexer": "ipython3",
   "version": "3.9.7"
  }
 },
 "nbformat": 4,
 "nbformat_minor": 5
}
