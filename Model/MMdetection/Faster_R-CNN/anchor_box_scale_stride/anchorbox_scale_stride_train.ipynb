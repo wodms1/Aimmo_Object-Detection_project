{
 "cells": [
  {
   "cell_type": "code",
   "execution_count": 1,
   "id": "90be7f6c",
   "metadata": {},
   "outputs": [
    {
     "name": "stdout",
     "output_type": "stream",
     "text": [
      "/aiffel/aiffel/Aimmo\r\n"
     ]
    }
   ],
   "source": [
    "!pwd"
   ]
  },
  {
   "cell_type": "code",
   "execution_count": 2,
   "id": "6b4387ab",
   "metadata": {},
   "outputs": [
    {
     "name": "stdout",
     "output_type": "stream",
     "text": [
      "/aiffel/aiffel/Aimmo/mmdetection\n"
     ]
    }
   ],
   "source": [
    "%cd mmdetection\n",
    "\n",
    "#완디비 설치\n",
    "#!pip install -q --upgrade wandb\n",
    "#!pip3 install openmim\n",
    "#!mim install mmcv-full\n",
    "#!pip install -e ."
   ]
  },
  {
   "cell_type": "code",
   "execution_count": 3,
   "id": "9d052f51",
   "metadata": {},
   "outputs": [
    {
     "name": "stderr",
     "output_type": "stream",
     "text": [
      "/opt/conda/lib/python3.9/site-packages/mmcv/__init__.py:20: UserWarning: On January 1, 2023, MMCV will release v2.0.0, in which it will remove components related to the training process and add a data transformation module. In addition, it will rename the package names mmcv to mmcv-lite and mmcv-full to mmcv. See https://github.com/open-mmlab/mmcv/blob/master/docs/en/compatibility.md for more details.\n",
      "  warnings.warn(\n"
     ]
    },
    {
     "name": "stdout",
     "output_type": "stream",
     "text": [
      "0.13.6\n"
     ]
    }
   ],
   "source": [
    "from mmdet.apis import init_detector, inference_detector, show_result_pyplot\n",
    "import mmcv\n",
    "from mmcv import Config\n",
    "from mmdet.datasets import build_dataset\n",
    "from mmdet.models import build_detector\n",
    "from mmdet.apis import train_detector\n",
    "from mmdet.datasets.builder import DATASETS\n",
    "from mmdet.datasets.coco import CocoDataset,CustomDataset\n",
    "from mmdet.apis import set_random_seed\n",
    "import os.path as osp\n",
    "import os\n",
    "import numpy as np\n",
    "\n",
    "import wandb\n",
    "print(wandb.__version__)"
   ]
  },
  {
   "cell_type": "code",
   "execution_count": 4,
   "id": "06dcec6e",
   "metadata": {},
   "outputs": [
    {
     "name": "stderr",
     "output_type": "stream",
     "text": [
      "\u001b[34m\u001b[1mwandb\u001b[0m: Currently logged in as: \u001b[33mcychuckpark\u001b[0m (\u001b[33myolo_x\u001b[0m). Use \u001b[1m`wandb login --relogin`\u001b[0m to force relogin\n",
      "\u001b[34m\u001b[1mwandb\u001b[0m: \u001b[33mWARNING\u001b[0m If you're specifying your api key in code, ensure this code is not shared publicly.\n",
      "\u001b[34m\u001b[1mwandb\u001b[0m: \u001b[33mWARNING\u001b[0m Consider setting the WANDB_API_KEY environment variable, or running `wandb login` from the command line.\n",
      "\u001b[34m\u001b[1mwandb\u001b[0m: Appending key for api.wandb.ai to your netrc file: /aiffel/.netrc\n"
     ]
    },
    {
     "data": {
      "text/plain": [
       "True"
      ]
     },
     "execution_count": 4,
     "metadata": {},
     "output_type": "execute_result"
    }
   ],
   "source": [
    "# # 완디비 로그인\n",
    "wandb.login(key= '')"
   ]
  },
  {
   "cell_type": "code",
   "execution_count": 5,
   "id": "012e9ecd",
   "metadata": {},
   "outputs": [
    {
     "data": {
      "text/html": [
       "Tracking run with wandb version 0.13.6"
      ],
      "text/plain": [
       "<IPython.core.display.HTML object>"
      ]
     },
     "metadata": {},
     "output_type": "display_data"
    },
    {
     "data": {
      "text/html": [
       "Run data is saved locally in <code>/aiffel/aiffel/Aimmo/mmdetection/wandb/run-20221208_104515-2gpb24n5</code>"
      ],
      "text/plain": [
       "<IPython.core.display.HTML object>"
      ]
     },
     "metadata": {},
     "output_type": "display_data"
    },
    {
     "data": {
      "text/html": [
       "Syncing run <strong><a href=\"https://wandb.ai/yolo_x/test-project/runs/2gpb24n5\" target=\"_blank\">stoic-shape-15</a></strong> to <a href=\"https://wandb.ai/yolo_x/test-project\" target=\"_blank\">Weights & Biases</a> (<a href=\"https://wandb.me/run\" target=\"_blank\">docs</a>)<br/>"
      ],
      "text/plain": [
       "<IPython.core.display.HTML object>"
      ]
     },
     "metadata": {},
     "output_type": "display_data"
    },
    {
     "data": {
      "text/html": [
       "<button onClick=\"this.nextSibling.style.display='block';this.style.display='none';\">Display W&B run</button><iframe src=\"https://wandb.ai/yolo_x/test-project/runs/2gpb24n5?jupyter=true\" style=\"border:none;width:100%;height:420px;display:none;\"></iframe>"
      ],
      "text/plain": [
       "<wandb.sdk.wandb_run.Run at 0x7f0b0c953250>"
      ]
     },
     "execution_count": 5,
     "metadata": {},
     "output_type": "execute_result"
    }
   ],
   "source": [
    "wandb.init(project=\"test-project\", entity=\"yolo_x\")"
   ]
  },
  {
   "cell_type": "code",
   "execution_count": 6,
   "id": "892234ec",
   "metadata": {},
   "outputs": [],
   "source": [
    "@DATASETS.register_module(force=True)\n",
    "class Aimmo(CustomDataset):\n",
    "    CLASSES = ('car', 'bus', 'truck','pedestrian')\n",
    "    def load_annotations(self, ann_file):\n",
    "        cat2label = {k:i for i, k in enumerate(self.CLASSES)}\n",
    "        image_list = mmcv.list_from_file(self.ann_file)\n",
    "        data_infos = []\n",
    "    \n",
    "        for image_id in image_list:\n",
    "            filename = os.path.splitext(image_id)[0]#os.path.splitext('{0:}/{1:}'.format(img_prefix, image_id))[0]\n",
    "            #image = cv2.imread(filename)\n",
    "            data_info = {'filename': filename,\n",
    "                         'width': 1920, \n",
    "                         'height': 1024}\n",
    "            label_prefix = self.img_prefix.replace('image', 'middle_txt')\n",
    "            lines = mmcv.list_from_file(osp.join(label_prefix, str(image_id)))\n",
    "\n",
    "            content = [line.strip().split(' ') for line in lines]\n",
    "            bbox_names = [x[0] for x in content]\n",
    "            bboxes = [ [float(info) for info in x[1:5]] for x in content]\n",
    "\n",
    "            gt_bboxes = []\n",
    "            gt_labels = []\n",
    "            gt_bboxes_ignore = []\n",
    "            gt_labels_ignore = []\n",
    "\n",
    "            for bbox_name, bbox in zip(bbox_names, bboxes):\n",
    "                if bbox_name in cat2label:\n",
    "                    gt_bboxes.append(bbox)\n",
    "                    gt_labels.append(cat2label[bbox_name])\n",
    "                else:\n",
    "                    gt_bboxes_ignore.append(bbox)\n",
    "                    gt_labels_ignore.append(-1)\n",
    "            \n",
    "            data_anno = {\n",
    "              'bboxes': np.array(gt_bboxes, dtype=np.float32).reshape(-1, 4),\n",
    "              'labels': np.array(gt_labels, dtype=np.compat.long),\n",
    "              'bboxes_ignore': np.array(gt_bboxes_ignore, dtype=np.float32).reshape(-1, 4),\n",
    "              'labels_ignore': np.array(gt_labels_ignore, dtype=np.compat.long)\n",
    "            }\n",
    "            data_info.update(ann=data_anno)\n",
    "            data_infos.append(data_info)\n",
    "        return data_infos"
   ]
  },
  {
   "cell_type": "code",
   "execution_count": 7,
   "id": "42e4e13a",
   "metadata": {
    "scrolled": true
   },
   "outputs": [
    {
     "name": "stdout",
     "output_type": "stream",
     "text": [
      "model = dict(\n",
      "    type='FasterRCNN',\n",
      "    backbone=dict(\n",
      "        type='ResNet',\n",
      "        depth=50,\n",
      "        num_stages=4,\n",
      "        out_indices=(0, 1, 2, 3),\n",
      "        frozen_stages=1,\n",
      "        norm_cfg=dict(type='BN', requires_grad=True),\n",
      "        norm_eval=True,\n",
      "        style='pytorch',\n",
      "        init_cfg=dict(type='Pretrained', checkpoint='torchvision://resnet50')),\n",
      "    neck=dict(\n",
      "        type='FPN',\n",
      "        in_channels=[256, 512, 1024, 2048],\n",
      "        out_channels=256,\n",
      "        num_outs=5),\n",
      "    rpn_head=dict(\n",
      "        type='RPNHead',\n",
      "        in_channels=256,\n",
      "        feat_channels=256,\n",
      "        anchor_generator=dict(\n",
      "            type='AnchorGenerator',\n",
      "            scales=[8],\n",
      "            ratios=[0.5, 1.0, 2.0],\n",
      "            strides=[4, 8, 16, 32, 64]),\n",
      "        bbox_coder=dict(\n",
      "            type='DeltaXYWHBBoxCoder',\n",
      "            target_means=[0.0, 0.0, 0.0, 0.0],\n",
      "            target_stds=[1.0, 1.0, 1.0, 1.0]),\n",
      "        loss_cls=dict(\n",
      "            type='CrossEntropyLoss', use_sigmoid=True, loss_weight=1.0),\n",
      "        loss_bbox=dict(type='L1Loss', loss_weight=1.0)),\n",
      "    roi_head=dict(\n",
      "        type='StandardRoIHead',\n",
      "        bbox_roi_extractor=dict(\n",
      "            type='SingleRoIExtractor',\n",
      "            roi_layer=dict(type='RoIAlign', output_size=7, sampling_ratio=0),\n",
      "            out_channels=256,\n",
      "            featmap_strides=[4, 8, 16, 32]),\n",
      "        bbox_head=dict(\n",
      "            type='Shared2FCBBoxHead',\n",
      "            in_channels=256,\n",
      "            fc_out_channels=1024,\n",
      "            roi_feat_size=7,\n",
      "            num_classes=4,\n",
      "            bbox_coder=dict(\n",
      "                type='DeltaXYWHBBoxCoder',\n",
      "                target_means=[0.0, 0.0, 0.0, 0.0],\n",
      "                target_stds=[0.1, 0.1, 0.2, 0.2]),\n",
      "            reg_class_agnostic=False,\n",
      "            loss_cls=dict(\n",
      "                type='CrossEntropyLoss', use_sigmoid=False, loss_weight=1.0),\n",
      "            loss_bbox=dict(type='L1Loss', loss_weight=1.0))),\n",
      "    train_cfg=dict(\n",
      "        rpn=dict(\n",
      "            assigner=dict(\n",
      "                type='MaxIoUAssigner',\n",
      "                pos_iou_thr=0.7,\n",
      "                neg_iou_thr=0.3,\n",
      "                min_pos_iou=0.3,\n",
      "                match_low_quality=True,\n",
      "                ignore_iof_thr=-1),\n",
      "            sampler=dict(\n",
      "                type='RandomSampler',\n",
      "                num=256,\n",
      "                pos_fraction=0.5,\n",
      "                neg_pos_ub=-1,\n",
      "                add_gt_as_proposals=False),\n",
      "            allowed_border=-1,\n",
      "            pos_weight=-1,\n",
      "            debug=False),\n",
      "        rpn_proposal=dict(\n",
      "            nms_pre=2000,\n",
      "            max_per_img=1000,\n",
      "            nms=dict(type='nms', iou_threshold=0.7),\n",
      "            min_bbox_size=0),\n",
      "        rcnn=dict(\n",
      "            assigner=dict(\n",
      "                type='MaxIoUAssigner',\n",
      "                pos_iou_thr=0.5,\n",
      "                neg_iou_thr=0.5,\n",
      "                min_pos_iou=0.5,\n",
      "                match_low_quality=False,\n",
      "                ignore_iof_thr=-1),\n",
      "            sampler=dict(\n",
      "                type='RandomSampler',\n",
      "                num=512,\n",
      "                pos_fraction=0.25,\n",
      "                neg_pos_ub=-1,\n",
      "                add_gt_as_proposals=True),\n",
      "            pos_weight=-1,\n",
      "            debug=False)),\n",
      "    test_cfg=dict(\n",
      "        rpn=dict(\n",
      "            nms_pre=1000,\n",
      "            max_per_img=1000,\n",
      "            nms=dict(type='nms', iou_threshold=0.7),\n",
      "            min_bbox_size=0),\n",
      "        rcnn=dict(\n",
      "            score_thr=0.05,\n",
      "            nms=dict(type='nms', iou_threshold=0.5),\n",
      "            max_per_img=100)))\n",
      "dataset_type = 'Aimmo'\n",
      "data_root = 'data/'\n",
      "img_norm_cfg = dict(\n",
      "    mean=[123.675, 116.28, 103.53], std=[58.395, 57.12, 57.375], to_rgb=True)\n",
      "train_pipeline = [\n",
      "    dict(type='LoadImageFromFile'),\n",
      "    dict(type='LoadAnnotations', with_bbox=True),\n",
      "    dict(type='Resize', img_scale=[(960, 512)], keep_ratio=True),\n",
      "    dict(type='RandomFlip', flip_ratio=0.5),\n",
      "    dict(\n",
      "        type='Normalize',\n",
      "        mean=[123.675, 116.28, 103.53],\n",
      "        std=[58.395, 57.12, 57.375],\n",
      "        to_rgb=True),\n",
      "    dict(type='Pad', size_divisor=32),\n",
      "    dict(type='DefaultFormatBundle'),\n",
      "    dict(type='Collect', keys=['img', 'gt_bboxes', 'gt_labels'])\n",
      "]\n",
      "test_pipeline = [\n",
      "    dict(type='LoadImageFromFile'),\n",
      "    dict(\n",
      "        type='MultiScaleFlipAug',\n",
      "        img_scale=[(960, 512)],\n",
      "        flip=False,\n",
      "        transforms=[\n",
      "            dict(type='Resize', keep_ratio=True),\n",
      "            dict(type='RandomFlip'),\n",
      "            dict(\n",
      "                type='Normalize',\n",
      "                mean=[123.675, 116.28, 103.53],\n",
      "                std=[58.395, 57.12, 57.375],\n",
      "                to_rgb=True),\n",
      "            dict(type='Pad', size_divisor=32),\n",
      "            dict(type='ImageToTensor', keys=['img']),\n",
      "            dict(type='Collect', keys=['img'])\n",
      "        ])\n",
      "]\n",
      "data = dict(\n",
      "    samples_per_gpu=14,\n",
      "    workers_per_gpu=0,\n",
      "    train=dict(\n",
      "        type='Aimmo',\n",
      "        ann_file='middle_train.txt',\n",
      "        img_prefix='image',\n",
      "        pipeline=[\n",
      "            dict(type='LoadImageFromFile'),\n",
      "            dict(type='LoadAnnotations', with_bbox=True),\n",
      "            dict(type='Resize', img_scale=[(960, 512)], keep_ratio=True),\n",
      "            dict(type='RandomFlip', flip_ratio=0.5),\n",
      "            dict(\n",
      "                type='Normalize',\n",
      "                mean=[123.675, 116.28, 103.53],\n",
      "                std=[58.395, 57.12, 57.375],\n",
      "                to_rgb=True),\n",
      "            dict(type='Pad', size_divisor=32),\n",
      "            dict(type='DefaultFormatBundle'),\n",
      "            dict(type='Collect', keys=['img', 'gt_bboxes', 'gt_labels'])\n",
      "        ],\n",
      "        data_root='data/'),\n",
      "    val=dict(\n",
      "        type='Aimmo',\n",
      "        ann_file='middle_val.txt',\n",
      "        img_prefix='image',\n",
      "        pipeline=[\n",
      "            dict(type='LoadImageFromFile'),\n",
      "            dict(\n",
      "                type='MultiScaleFlipAug',\n",
      "                img_scale=[(960, 512)],\n",
      "                flip=False,\n",
      "                transforms=[\n",
      "                    dict(type='Resize', keep_ratio=True),\n",
      "                    dict(type='RandomFlip'),\n",
      "                    dict(\n",
      "                        type='Normalize',\n",
      "                        mean=[123.675, 116.28, 103.53],\n",
      "                        std=[58.395, 57.12, 57.375],\n",
      "                        to_rgb=True),\n",
      "                    dict(type='Pad', size_divisor=32),\n",
      "                    dict(type='ImageToTensor', keys=['img']),\n",
      "                    dict(type='Collect', keys=['img'])\n",
      "                ])\n",
      "        ],\n",
      "        data_root='data/'),\n",
      "    test=dict(\n",
      "        type='Aimmo',\n",
      "        ann_file='test/middle_test.txt',\n",
      "        img_prefix='test/image',\n",
      "        pipeline=[\n",
      "            dict(type='LoadImageFromFile'),\n",
      "            dict(\n",
      "                type='MultiScaleFlipAug',\n",
      "                img_scale=[(960, 512)],\n",
      "                flip=False,\n",
      "                transforms=[\n",
      "                    dict(type='Resize', keep_ratio=True),\n",
      "                    dict(type='RandomFlip'),\n",
      "                    dict(\n",
      "                        type='Normalize',\n",
      "                        mean=[123.675, 116.28, 103.53],\n",
      "                        std=[58.395, 57.12, 57.375],\n",
      "                        to_rgb=True),\n",
      "                    dict(type='Pad', size_divisor=32),\n",
      "                    dict(type='ImageToTensor', keys=['img']),\n",
      "                    dict(type='Collect', keys=['img'])\n",
      "                ])\n",
      "        ],\n",
      "        data_root='data/'))\n",
      "evaluation = dict(interval=1, metric='mAP')\n",
      "optimizer = dict(type='SGD', lr=0.02, momentum=0.9, weight_decay=0.0001)\n",
      "optimizer_config = dict(grad_clip=None)\n",
      "lr_config = dict(\n",
      "    policy='step',\n",
      "    warmup='linear',\n",
      "    warmup_iters=500,\n",
      "    warmup_ratio=0.001,\n",
      "    step=[8, 11])\n",
      "runner = dict(type='EpochBasedRunner', max_epochs=15)\n",
      "checkpoint_config = dict(interval=1)\n",
      "log_config = dict(interval=100, hooks=[dict(type='TextLoggerHook')])\n",
      "custom_hooks = [dict(type='NumClassCheckHook')]\n",
      "dist_params = dict(backend='nccl')\n",
      "log_level = 'INFO'\n",
      "load_from = 'checkpoints/faster_rcnn_r50_fpn_1x_coco_20200130-047c8118.pth'\n",
      "resume_from = None\n",
      "workflow = [('train', 1)]\n",
      "opencv_num_threads = 0\n",
      "mp_start_method = 'fork'\n",
      "auto_scale_lr = dict(enable=False, base_batch_size=16)\n",
      "work_dir = 'middle'\n",
      "seed = 0\n",
      "gpu_ids = range(0, 1)\n",
      "device = 'cuda'\n",
      "\n"
     ]
    }
   ],
   "source": [
    "config_file = 'configs/faster_rcnn/faster_rcnn_r50_fpn_1x_coco.py'\n",
    "checkpoint_file = 'checkpoints/faster_rcnn_r50_fpn_1x_coco_20200130-047c8118.pth'\n",
    "cfg = Config.fromfile(config_file)\n",
    "\n",
    "cfg.dataset_type = 'Aimmo'\n",
    "cfg.data_root = 'data/'\n",
    "\n",
    "cfg.data.train.type = 'Aimmo'\n",
    "cfg.data.train.data_root = 'data/'\n",
    "cfg.data.train.ann_file = 'middle_train.txt'\n",
    "cfg.data.train.img_prefix = 'image'\n",
    "\n",
    "\n",
    "cfg.data.val.type = 'Aimmo'\n",
    "cfg.data.val.data_root = 'data/'\n",
    "cfg.data.val.ann_file = 'middle_val.txt'\n",
    "cfg.data.val.img_prefix = 'image'\n",
    "\n",
    "\n",
    "cfg.data.test.type = 'Aimmo'\n",
    "cfg.data.test.data_root = 'data/'\n",
    "cfg.data.test.ann_file = 'test/middle_test.txt'\n",
    "cfg.data.test.img_prefix = 'test/image'\n",
    "\n",
    "cfg.model.roi_head.bbox_head.num_classes = 4\n",
    "\n",
    "cfg.load_from = 'checkpoints/faster_rcnn_r50_fpn_1x_coco_20200130-047c8118.pth'\n",
    "cfg.work_dir = 'middle'\n",
    "\n",
    "cfg.lr_config.policy='step'\n",
    "cfg.seed = 0\n",
    "set_random_seed(0, deterministic=False)\n",
    "cfg.gpu_ids = range(1)\n",
    "cfg.device='cuda'\n",
    "cfg.evaluation.metric='mAP'\n",
    "\n",
    "cfg.log_config.interval = 100\n",
    "cfg.evaluation.interval = 1\n",
    "# We can set the checkpoint saving interval to reduce the storage cost\n",
    "cfg.checkpoint_config.interval = 1\n",
    "#cfg.evaluation.save_best='auto'\n",
    "cfg.data.train.pipeline[2].img_scale=[(960,512)]#['Resize']\n",
    "cfg.train_pipeline[2].img_scale=[(960,512)]\n",
    "cfg.test_pipeline[1].img_scale=[(960,512)]\n",
    "cfg.data.val.pipeline[1].img_scale = [(960,512)]\n",
    "cfg.data.test.pipeline[1].img_scale = [(960,512)]\n",
    "cfg.runner.max_epochs = 15\n",
    "\n",
    "cfg.data.samples_per_gpu = 14 # Batch size of a single GPU used in testing\n",
    "cfg.data.workers_per_gpu = 0 # Worker to pre-fetch data for each single GPU\n",
    "print(cfg.pretty_text)"
   ]
  },
  {
   "cell_type": "code",
   "execution_count": 8,
   "id": "dae90659",
   "metadata": {},
   "outputs": [
    {
     "data": {
      "text/plain": [
       "{'type': 'AnchorGenerator',\n",
       " 'scales': [8],\n",
       " 'ratios': [0.5, 1.0, 2.0],\n",
       " 'strides': [4, 8, 16, 32, 64]}"
      ]
     },
     "execution_count": 8,
     "metadata": {},
     "output_type": "execute_result"
    }
   ],
   "source": [
    "cfg.model.rpn_head.anchor_generator"
   ]
  },
  {
   "cell_type": "code",
   "execution_count": 9,
   "id": "4500ea1f",
   "metadata": {},
   "outputs": [],
   "source": [
    "cfg.model.rpn_head.anchor_generator['scales'] = [4]\n",
    "cfg.model.rpn_head.anchor_generator['strides'] = [2,8,16,32,64]"
   ]
  },
  {
   "cell_type": "code",
   "execution_count": 10,
   "id": "ee0b1a88",
   "metadata": {},
   "outputs": [],
   "source": [
    "cfg.log_config.hooks = [\n",
    "    dict(type='TextLoggerHook'),\n",
    "    dict(type='WandbLoggerHook',\n",
    "         init_kwargs={'project': 'test-project', 'entity' : 'yolo_x', 'name' : 'middle'})] "
   ]
  },
  {
   "cell_type": "code",
   "execution_count": 11,
   "id": "2f50cf2f",
   "metadata": {
    "scrolled": true
   },
   "outputs": [
    {
     "name": "stderr",
     "output_type": "stream",
     "text": [
      "/aiffel/aiffel/Aimmo/mmdetection/mmdet/datasets/custom.py:181: UserWarning: CustomDataset does not support filtering empty gt images.\n",
      "  warnings.warn(\n"
     ]
    },
    {
     "data": {
      "text/plain": [
       "[\n",
       " Aimmo Train dataset with number of images 2323, and instance counts: \n",
       " +----------+-------+----------+-------+-----------+-------+----------------+-------+---------------+-------+\n",
       " | category | count | category | count | category  | count | category       | count | category      | count |\n",
       " +----------+-------+----------+-------+-----------+-------+----------------+-------+---------------+-------+\n",
       " | 0 [car]  | 13124 | 1 [bus]  | 1786  | 2 [truck] | 3084  | 3 [pedestrian] | 3063  | -1 background | 0     |\n",
       " +----------+-------+----------+-------+-----------+-------+----------------+-------+---------------+-------+]"
      ]
     },
     "execution_count": 11,
     "metadata": {},
     "output_type": "execute_result"
    }
   ],
   "source": [
    "[build_dataset(cfg.data.val)]"
   ]
  },
  {
   "cell_type": "code",
   "execution_count": 12,
   "id": "7eedd204",
   "metadata": {
    "scrolled": true
   },
   "outputs": [
    {
     "name": "stderr",
     "output_type": "stream",
     "text": [
      "2022-12-08 10:45:38,264 - mmdet - INFO - Automatic scaling of learning rate (LR) has been disabled.\n",
      "2022-12-08 10:45:38,422 - mmdet - INFO - load checkpoint from local path: checkpoints/faster_rcnn_r50_fpn_1x_coco_20200130-047c8118.pth\n",
      "2022-12-08 10:45:38,600 - mmdet - WARNING - The model and loaded state dict do not match exactly\n",
      "\n",
      "size mismatch for roi_head.bbox_head.fc_cls.weight: copying a param with shape torch.Size([81, 1024]) from checkpoint, the shape in current model is torch.Size([5, 1024]).\n",
      "size mismatch for roi_head.bbox_head.fc_cls.bias: copying a param with shape torch.Size([81]) from checkpoint, the shape in current model is torch.Size([5]).\n",
      "size mismatch for roi_head.bbox_head.fc_reg.weight: copying a param with shape torch.Size([320, 1024]) from checkpoint, the shape in current model is torch.Size([16, 1024]).\n",
      "size mismatch for roi_head.bbox_head.fc_reg.bias: copying a param with shape torch.Size([320]) from checkpoint, the shape in current model is torch.Size([16]).\n",
      "2022-12-08 10:45:38,609 - mmdet - INFO - Start running, host: root@wtodwm6j1h3utgaqg1u8vg9tc-78646f45df-gm99b, work_dir: /aiffel/aiffel/Aimmo/mmdetection/middle\n",
      "2022-12-08 10:45:38,611 - mmdet - INFO - Hooks will be executed in the following order:\n",
      "before_run:\n",
      "(VERY_HIGH   ) StepLrUpdaterHook                  \n",
      "(NORMAL      ) CheckpointHook                     \n",
      "(LOW         ) EvalHook                           \n",
      "(VERY_LOW    ) TextLoggerHook                     \n",
      "(VERY_LOW    ) WandbLoggerHook                    \n",
      " -------------------- \n",
      "before_train_epoch:\n",
      "(VERY_HIGH   ) StepLrUpdaterHook                  \n",
      "(NORMAL      ) NumClassCheckHook                  \n",
      "(LOW         ) IterTimerHook                      \n",
      "(LOW         ) EvalHook                           \n",
      "(VERY_LOW    ) TextLoggerHook                     \n",
      "(VERY_LOW    ) WandbLoggerHook                    \n",
      " -------------------- \n",
      "before_train_iter:\n",
      "(VERY_HIGH   ) StepLrUpdaterHook                  \n",
      "(LOW         ) IterTimerHook                      \n",
      "(LOW         ) EvalHook                           \n",
      " -------------------- \n",
      "after_train_iter:\n",
      "(ABOVE_NORMAL) OptimizerHook                      \n",
      "(NORMAL      ) CheckpointHook                     \n",
      "(LOW         ) IterTimerHook                      \n",
      "(LOW         ) EvalHook                           \n",
      "(VERY_LOW    ) TextLoggerHook                     \n",
      "(VERY_LOW    ) WandbLoggerHook                    \n",
      " -------------------- \n",
      "after_train_epoch:\n",
      "(NORMAL      ) CheckpointHook                     \n",
      "(LOW         ) EvalHook                           \n",
      "(VERY_LOW    ) TextLoggerHook                     \n",
      "(VERY_LOW    ) WandbLoggerHook                    \n",
      " -------------------- \n",
      "before_val_epoch:\n",
      "(NORMAL      ) NumClassCheckHook                  \n",
      "(LOW         ) IterTimerHook                      \n",
      "(VERY_LOW    ) TextLoggerHook                     \n",
      "(VERY_LOW    ) WandbLoggerHook                    \n",
      " -------------------- \n",
      "before_val_iter:\n",
      "(LOW         ) IterTimerHook                      \n",
      " -------------------- \n",
      "after_val_iter:\n",
      "(LOW         ) IterTimerHook                      \n",
      " -------------------- \n",
      "after_val_epoch:\n",
      "(VERY_LOW    ) TextLoggerHook                     \n",
      "(VERY_LOW    ) WandbLoggerHook                    \n",
      " -------------------- \n",
      "after_run:\n",
      "(VERY_LOW    ) TextLoggerHook                     \n",
      "(VERY_LOW    ) WandbLoggerHook                    \n",
      " -------------------- \n",
      "2022-12-08 10:45:38,612 - mmdet - INFO - workflow: [('train', 1)], max: 15 epochs\n",
      "2022-12-08 10:45:38,612 - mmdet - INFO - Checkpoints will be saved to /aiffel/aiffel/Aimmo/mmdetection/middle by HardDiskBackend.\n"
     ]
    },
    {
     "data": {
      "text/html": [
       "Finishing last run (ID:2gpb24n5) before initializing another..."
      ],
      "text/plain": [
       "<IPython.core.display.HTML object>"
      ]
     },
     "metadata": {},
     "output_type": "display_data"
    },
    {
     "data": {
      "text/html": [
       "Waiting for W&B process to finish... <strong style=\"color:green\">(success).</strong>"
      ],
      "text/plain": [
       "<IPython.core.display.HTML object>"
      ]
     },
     "metadata": {},
     "output_type": "display_data"
    },
    {
     "data": {
      "application/vnd.jupyter.widget-view+json": {
       "model_id": "84e7f62233e8423d9141586d6ed3958b",
       "version_major": 2,
       "version_minor": 0
      },
      "text/plain": [
       "VBox(children=(Label(value='0.001 MB of 0.018 MB uploaded (0.000 MB deduped)\\r'), FloatProgress(value=0.081737…"
      ]
     },
     "metadata": {},
     "output_type": "display_data"
    },
    {
     "data": {
      "text/html": [
       "Synced <strong style=\"color:#cdcd00\">stoic-shape-15</strong>: <a href=\"https://wandb.ai/yolo_x/test-project/runs/2gpb24n5\" target=\"_blank\">https://wandb.ai/yolo_x/test-project/runs/2gpb24n5</a><br/>Synced 5 W&B file(s), 0 media file(s), 0 artifact file(s) and 0 other file(s)"
      ],
      "text/plain": [
       "<IPython.core.display.HTML object>"
      ]
     },
     "metadata": {},
     "output_type": "display_data"
    },
    {
     "data": {
      "text/html": [
       "Find logs at: <code>./wandb/run-20221208_104515-2gpb24n5/logs</code>"
      ],
      "text/plain": [
       "<IPython.core.display.HTML object>"
      ]
     },
     "metadata": {},
     "output_type": "display_data"
    },
    {
     "data": {
      "text/html": [
       "Successfully finished last run (ID:2gpb24n5). Initializing new run:<br/>"
      ],
      "text/plain": [
       "<IPython.core.display.HTML object>"
      ]
     },
     "metadata": {},
     "output_type": "display_data"
    },
    {
     "data": {
      "application/vnd.jupyter.widget-view+json": {
       "model_id": "e9921526a10049599a5811f44285d8eb",
       "version_major": 2,
       "version_minor": 0
      },
      "text/plain": [
       "VBox(children=(Label(value='Waiting for wandb.init()...\\r'), FloatProgress(value=0.01667061196664387, max=1.0)…"
      ]
     },
     "metadata": {},
     "output_type": "display_data"
    },
    {
     "data": {
      "text/html": [
       "Tracking run with wandb version 0.13.6"
      ],
      "text/plain": [
       "<IPython.core.display.HTML object>"
      ]
     },
     "metadata": {},
     "output_type": "display_data"
    },
    {
     "data": {
      "text/html": [
       "Run data is saved locally in <code>/aiffel/aiffel/Aimmo/mmdetection/wandb/run-20221208_104538-1pohg3al</code>"
      ],
      "text/plain": [
       "<IPython.core.display.HTML object>"
      ]
     },
     "metadata": {},
     "output_type": "display_data"
    },
    {
     "data": {
      "text/html": [
       "Syncing run <strong><a href=\"https://wandb.ai/yolo_x/test-project/runs/1pohg3al\" target=\"_blank\">middle</a></strong> to <a href=\"https://wandb.ai/yolo_x/test-project\" target=\"_blank\">Weights & Biases</a> (<a href=\"https://wandb.me/run\" target=\"_blank\">docs</a>)<br/>"
      ],
      "text/plain": [
       "<IPython.core.display.HTML object>"
      ]
     },
     "metadata": {},
     "output_type": "display_data"
    },
    {
     "name": "stderr",
     "output_type": "stream",
     "text": [
      "2022-12-08 10:50:17,053 - mmdet - INFO - Epoch [1][100/1494]\tlr: 3.976e-03, eta: 16:53:42, time: 2.726, data_time: 1.196, memory: 11276, loss_rpn_cls: 0.0474, loss_rpn_bbox: 0.0308, loss_cls: 0.3012, acc: 91.5008, loss_bbox: 0.2171, loss: 0.5964\n",
      "2022-12-08 10:54:45,324 - mmdet - INFO - Epoch [1][200/1494]\tlr: 7.972e-03, eta: 16:41:07, time: 2.683, data_time: 1.092, memory: 11276, loss_rpn_cls: 0.0175, loss_rpn_bbox: 0.0197, loss_cls: 0.1841, acc: 93.6959, loss_bbox: 0.2336, loss: 0.4550\n",
      "2022-12-08 11:00:03,397 - mmdet - INFO - Epoch [1][300/1494]\tlr: 1.197e-02, eta: 17:35:04, time: 3.180, data_time: 1.611, memory: 11276, loss_rpn_cls: 0.0142, loss_rpn_bbox: 0.0183, loss_cls: 0.1643, acc: 94.3209, loss_bbox: 0.2241, loss: 0.4209\n",
      "2022-12-08 11:05:29,798 - mmdet - INFO - Epoch [1][400/1494]\tlr: 1.596e-02, eta: 18:07:02, time: 3.264, data_time: 1.607, memory: 11276, loss_rpn_cls: 0.0122, loss_rpn_bbox: 0.0170, loss_cls: 0.1612, acc: 94.4255, loss_bbox: 0.2226, loss: 0.4129\n",
      "2022-12-08 11:10:55,297 - mmdet - INFO - Epoch [1][500/1494]\tlr: 1.996e-02, eta: 18:23:24, time: 3.255, data_time: 1.591, memory: 11276, loss_rpn_cls: 0.0112, loss_rpn_bbox: 0.0164, loss_cls: 0.1511, acc: 94.7017, loss_bbox: 0.2176, loss: 0.3964\n",
      "2022-12-08 11:16:21,838 - mmdet - INFO - Epoch [1][600/1494]\tlr: 2.000e-02, eta: 18:33:08, time: 3.265, data_time: 1.610, memory: 11276, loss_rpn_cls: 0.0103, loss_rpn_bbox: 0.0156, loss_cls: 0.1468, acc: 94.8411, loss_bbox: 0.2143, loss: 0.3870\n",
      "2022-12-08 11:21:47,804 - mmdet - INFO - Epoch [1][700/1494]\tlr: 2.000e-02, eta: 18:38:14, time: 3.260, data_time: 1.606, memory: 11276, loss_rpn_cls: 0.0112, loss_rpn_bbox: 0.0155, loss_cls: 0.1420, acc: 95.0031, loss_bbox: 0.2110, loss: 0.3797\n",
      "2022-12-08 11:27:14,553 - mmdet - INFO - Epoch [1][800/1494]\tlr: 2.000e-02, eta: 18:41:03, time: 3.267, data_time: 1.610, memory: 11276, loss_rpn_cls: 0.0092, loss_rpn_bbox: 0.0153, loss_cls: 0.1393, acc: 95.0671, loss_bbox: 0.2066, loss: 0.3704\n",
      "2022-12-08 11:32:38,761 - mmdet - INFO - Epoch [1][900/1494]\tlr: 2.000e-02, eta: 18:41:02, time: 3.242, data_time: 1.620, memory: 11276, loss_rpn_cls: 0.0099, loss_rpn_bbox: 0.0150, loss_cls: 0.1365, acc: 95.1398, loss_bbox: 0.2009, loss: 0.3623\n",
      "2022-12-08 11:37:56,961 - mmdet - INFO - Epoch [1][1000/1494]\tlr: 2.000e-02, eta: 18:37:47, time: 3.182, data_time: 1.621, memory: 11276, loss_rpn_cls: 0.0090, loss_rpn_bbox: 0.0149, loss_cls: 0.1344, acc: 95.2151, loss_bbox: 0.2045, loss: 0.3627\n",
      "2022-12-08 11:43:14,725 - mmdet - INFO - Epoch [1][1100/1494]\tlr: 2.000e-02, eta: 18:34:01, time: 3.178, data_time: 1.624, memory: 11276, loss_rpn_cls: 0.0087, loss_rpn_bbox: 0.0141, loss_cls: 0.1287, acc: 95.3966, loss_bbox: 0.1960, loss: 0.3475\n",
      "2022-12-08 11:48:31,993 - mmdet - INFO - Epoch [1][1200/1494]\tlr: 2.000e-02, eta: 18:29:51, time: 3.173, data_time: 1.618, memory: 11276, loss_rpn_cls: 0.0080, loss_rpn_bbox: 0.0141, loss_cls: 0.1271, acc: 95.4480, loss_bbox: 0.2000, loss: 0.3493\n",
      "2022-12-08 11:53:48,127 - mmdet - INFO - Epoch [1][1300/1494]\tlr: 2.000e-02, eta: 18:25:13, time: 3.161, data_time: 1.613, memory: 11276, loss_rpn_cls: 0.0078, loss_rpn_bbox: 0.0134, loss_cls: 0.1278, acc: 95.4967, loss_bbox: 0.1910, loss: 0.3401\n",
      "2022-12-08 11:59:05,574 - mmdet - INFO - Epoch [1][1400/1494]\tlr: 2.000e-02, eta: 18:20:48, time: 3.174, data_time: 1.622, memory: 11276, loss_rpn_cls: 0.0079, loss_rpn_bbox: 0.0134, loss_cls: 0.1248, acc: 95.5596, loss_bbox: 0.1928, loss: 0.3388\n",
      "2022-12-08 12:04:03,630 - mmdet - INFO - Saving checkpoint at 1 epochs\n"
     ]
    },
    {
     "name": "stdout",
     "output_type": "stream",
     "text": [
      "[>>>>>>>>>>>>>>>>>>>>>>>>>>>] 2323/2323, 5.0 task/s, elapsed: 460s, ETA:     0s\n",
      "---------------iou_thr: 0.5---------------\n"
     ]
    },
    {
     "name": "stderr",
     "output_type": "stream",
     "text": [
      "2022-12-08 12:11:48,583 - mmdet - INFO - \n",
      "+------------+-------+-------+--------+-------+\n",
      "| class      | gts   | dets  | recall | ap    |\n",
      "+------------+-------+-------+--------+-------+\n",
      "| car        | 13124 | 37625 | 0.953  | 0.907 |\n",
      "| bus        | 1786  | 5871  | 0.892  | 0.805 |\n",
      "| truck      | 3084  | 10763 | 0.874  | 0.734 |\n",
      "| pedestrian | 3063  | 13976 | 0.771  | 0.595 |\n",
      "+------------+-------+-------+--------+-------+\n",
      "| mAP        |       |       |        | 0.760 |\n",
      "+------------+-------+-------+--------+-------+\n",
      "2022-12-08 12:11:48,671 - mmdet - INFO - Epoch(val) [1][2323]\tAP50: 0.7600, mAP: 0.7603\n",
      "2022-12-08 12:17:09,123 - mmdet - INFO - Epoch [2][100/1494]\tlr: 2.000e-02, eta: 17:07:31, time: 3.199, data_time: 1.671, memory: 11276, loss_rpn_cls: 0.0075, loss_rpn_bbox: 0.0132, loss_cls: 0.1169, acc: 95.8129, loss_bbox: 0.1843, loss: 0.3218\n",
      "2022-12-08 12:22:31,947 - mmdet - INFO - Epoch [2][200/1494]\tlr: 2.000e-02, eta: 17:08:01, time: 3.228, data_time: 1.682, memory: 11276, loss_rpn_cls: 0.0074, loss_rpn_bbox: 0.0131, loss_cls: 0.1206, acc: 95.6653, loss_bbox: 0.1920, loss: 0.3331\n",
      "2022-12-08 12:27:53,710 - mmdet - INFO - Epoch [2][300/1494]\tlr: 2.000e-02, eta: 17:07:39, time: 3.218, data_time: 1.667, memory: 11276, loss_rpn_cls: 0.0062, loss_rpn_bbox: 0.0122, loss_cls: 0.1117, acc: 95.9756, loss_bbox: 0.1801, loss: 0.3102\n",
      "2022-12-08 12:33:17,096 - mmdet - INFO - Epoch [2][400/1494]\tlr: 2.000e-02, eta: 17:07:03, time: 3.234, data_time: 1.681, memory: 11276, loss_rpn_cls: 0.0076, loss_rpn_bbox: 0.0131, loss_cls: 0.1170, acc: 95.8090, loss_bbox: 0.1856, loss: 0.3233\n",
      "2022-12-08 12:38:39,293 - mmdet - INFO - Epoch [2][500/1494]\tlr: 2.000e-02, eta: 17:05:46, time: 3.222, data_time: 1.673, memory: 11276, loss_rpn_cls: 0.0071, loss_rpn_bbox: 0.0131, loss_cls: 0.1152, acc: 95.8401, loss_bbox: 0.1856, loss: 0.3210\n",
      "2022-12-08 12:44:01,143 - mmdet - INFO - Epoch [2][600/1494]\tlr: 2.000e-02, eta: 17:04:03, time: 3.219, data_time: 1.666, memory: 11276, loss_rpn_cls: 0.0071, loss_rpn_bbox: 0.0131, loss_cls: 0.1152, acc: 95.7980, loss_bbox: 0.1863, loss: 0.3216\n",
      "2022-12-08 12:49:27,199 - mmdet - INFO - Epoch [2][700/1494]\tlr: 2.000e-02, eta: 17:02:37, time: 3.260, data_time: 1.655, memory: 11276, loss_rpn_cls: 0.0067, loss_rpn_bbox: 0.0129, loss_cls: 0.1126, acc: 95.9474, loss_bbox: 0.1827, loss: 0.3148\n",
      "2022-12-08 12:54:57,580 - mmdet - INFO - Epoch [2][800/1494]\tlr: 2.000e-02, eta: 17:01:30, time: 3.304, data_time: 1.656, memory: 11276, loss_rpn_cls: 0.0064, loss_rpn_bbox: 0.0123, loss_cls: 0.1096, acc: 96.0412, loss_bbox: 0.1767, loss: 0.3050\n",
      "2022-12-08 13:00:30,772 - mmdet - INFO - Epoch [2][900/1494]\tlr: 2.000e-02, eta: 17:00:23, time: 3.332, data_time: 1.683, memory: 11276, loss_rpn_cls: 0.0076, loss_rpn_bbox: 0.0126, loss_cls: 0.1082, acc: 96.1126, loss_bbox: 0.1791, loss: 0.3075\n",
      "2022-12-08 13:06:05,306 - mmdet - INFO - Epoch [2][1000/1494]\tlr: 2.000e-02, eta: 16:59:06, time: 3.345, data_time: 1.687, memory: 11276, loss_rpn_cls: 0.0068, loss_rpn_bbox: 0.0125, loss_cls: 0.1110, acc: 96.0120, loss_bbox: 0.1803, loss: 0.3105\n",
      "2022-12-08 13:11:37,748 - mmdet - INFO - Epoch [2][1100/1494]\tlr: 2.000e-02, eta: 16:57:13, time: 3.324, data_time: 1.666, memory: 11276, loss_rpn_cls: 0.0070, loss_rpn_bbox: 0.0125, loss_cls: 0.1117, acc: 96.0102, loss_bbox: 0.1817, loss: 0.3128\n",
      "2022-12-08 13:17:08,133 - mmdet - INFO - Epoch [2][1200/1494]\tlr: 2.000e-02, eta: 16:54:49, time: 3.304, data_time: 1.655, memory: 11276, loss_rpn_cls: 0.0068, loss_rpn_bbox: 0.0125, loss_cls: 0.1102, acc: 95.9957, loss_bbox: 0.1785, loss: 0.3080\n",
      "2022-12-08 13:22:40,585 - mmdet - INFO - Epoch [2][1300/1494]\tlr: 2.000e-02, eta: 16:52:26, time: 3.325, data_time: 1.675, memory: 11276, loss_rpn_cls: 0.0073, loss_rpn_bbox: 0.0125, loss_cls: 0.1125, acc: 95.8694, loss_bbox: 0.1841, loss: 0.3163\n",
      "2022-12-08 13:28:13,525 - mmdet - INFO - Epoch [2][1400/1494]\tlr: 2.000e-02, eta: 16:49:53, time: 3.329, data_time: 1.676, memory: 11276, loss_rpn_cls: 0.0068, loss_rpn_bbox: 0.0122, loss_cls: 0.1084, acc: 96.0679, loss_bbox: 0.1783, loss: 0.3057\n",
      "2022-12-08 13:33:25,624 - mmdet - INFO - Saving checkpoint at 2 epochs\n"
     ]
    },
    {
     "name": "stdout",
     "output_type": "stream",
     "text": [
      "[>>>>>>>>>>>>>>>>>>>>>>>>>>>] 2323/2323, 5.0 task/s, elapsed: 468s, ETA:     0s\n",
      "---------------iou_thr: 0.5---------------\n"
     ]
    },
    {
     "name": "stderr",
     "output_type": "stream",
     "text": [
      "2022-12-08 13:41:18,875 - mmdet - INFO - \n",
      "+------------+-------+-------+--------+-------+\n",
      "| class      | gts   | dets  | recall | ap    |\n",
      "+------------+-------+-------+--------+-------+\n",
      "| car        | 13124 | 26552 | 0.950  | 0.917 |\n",
      "| bus        | 1786  | 4154  | 0.913  | 0.851 |\n",
      "| truck      | 3084  | 13231 | 0.909  | 0.804 |\n",
      "| pedestrian | 3063  | 8831  | 0.772  | 0.651 |\n",
      "+------------+-------+-------+--------+-------+\n",
      "| mAP        |       |       |        | 0.806 |\n",
      "+------------+-------+-------+--------+-------+\n",
      "2022-12-08 13:41:18,966 - mmdet - INFO - Epoch(val) [2][2323]\tAP50: 0.8060, mAP: 0.8059\n",
      "2022-12-08 13:46:55,492 - mmdet - INFO - Epoch [3][100/1494]\tlr: 2.000e-02, eta: 16:12:04, time: 3.359, data_time: 1.703, memory: 11276, loss_rpn_cls: 0.0070, loss_rpn_bbox: 0.0124, loss_cls: 0.1051, acc: 96.1321, loss_bbox: 0.1785, loss: 0.3030\n",
      "2022-12-08 13:52:24,640 - mmdet - INFO - Epoch [3][200/1494]\tlr: 2.000e-02, eta: 16:09:47, time: 3.291, data_time: 1.640, memory: 11276, loss_rpn_cls: 0.0056, loss_rpn_bbox: 0.0123, loss_cls: 0.1082, acc: 96.0642, loss_bbox: 0.1783, loss: 0.3043\n",
      "2022-12-08 13:57:55,217 - mmdet - INFO - Epoch [3][300/1494]\tlr: 2.000e-02, eta: 16:07:26, time: 3.306, data_time: 1.658, memory: 11276, loss_rpn_cls: 0.0062, loss_rpn_bbox: 0.0121, loss_cls: 0.1053, acc: 96.2055, loss_bbox: 0.1747, loss: 0.2983\n",
      "2022-12-08 14:03:25,855 - mmdet - INFO - Epoch [3][400/1494]\tlr: 2.000e-02, eta: 16:04:54, time: 3.306, data_time: 1.654, memory: 11276, loss_rpn_cls: 0.0063, loss_rpn_bbox: 0.0122, loss_cls: 0.1037, acc: 96.2231, loss_bbox: 0.1754, loss: 0.2976\n",
      "2022-12-08 14:08:57,167 - mmdet - INFO - Epoch [3][500/1494]\tlr: 2.000e-02, eta: 16:02:16, time: 3.313, data_time: 1.664, memory: 11276, loss_rpn_cls: 0.0065, loss_rpn_bbox: 0.0118, loss_cls: 0.1019, acc: 96.2836, loss_bbox: 0.1708, loss: 0.2910\n",
      "2022-12-08 14:14:27,049 - mmdet - INFO - Epoch [3][600/1494]\tlr: 2.000e-02, eta: 15:59:21, time: 3.299, data_time: 1.646, memory: 11276, loss_rpn_cls: 0.0062, loss_rpn_bbox: 0.0124, loss_cls: 0.1037, acc: 96.2125, loss_bbox: 0.1738, loss: 0.2961\n",
      "2022-12-08 14:19:58,797 - mmdet - INFO - Epoch [3][700/1494]\tlr: 2.000e-02, eta: 15:56:27, time: 3.317, data_time: 1.662, memory: 11276, loss_rpn_cls: 0.0054, loss_rpn_bbox: 0.0110, loss_cls: 0.1005, acc: 96.3435, loss_bbox: 0.1674, loss: 0.2844\n",
      "2022-12-08 14:25:29,241 - mmdet - INFO - Epoch [3][800/1494]\tlr: 2.000e-02, eta: 15:53:18, time: 3.304, data_time: 1.650, memory: 11276, loss_rpn_cls: 0.0060, loss_rpn_bbox: 0.0116, loss_cls: 0.1019, acc: 96.3026, loss_bbox: 0.1712, loss: 0.2906\n",
      "2022-12-08 14:31:01,373 - mmdet - INFO - Epoch [3][900/1494]\tlr: 2.000e-02, eta: 15:50:10, time: 3.321, data_time: 1.666, memory: 11276, loss_rpn_cls: 0.0061, loss_rpn_bbox: 0.0114, loss_cls: 0.0986, acc: 96.4156, loss_bbox: 0.1665, loss: 0.2826\n",
      "2022-12-08 14:36:33,796 - mmdet - INFO - Epoch [3][1000/1494]\tlr: 2.000e-02, eta: 15:46:56, time: 3.324, data_time: 1.673, memory: 11276, loss_rpn_cls: 0.0059, loss_rpn_bbox: 0.0118, loss_cls: 0.1018, acc: 96.2691, loss_bbox: 0.1713, loss: 0.2908\n",
      "2022-12-08 14:42:05,085 - mmdet - INFO - Epoch [3][1100/1494]\tlr: 2.000e-02, eta: 15:43:30, time: 3.313, data_time: 1.659, memory: 11276, loss_rpn_cls: 0.0055, loss_rpn_bbox: 0.0111, loss_cls: 0.0991, acc: 96.3827, loss_bbox: 0.1657, loss: 0.2813\n",
      "2022-12-08 14:47:36,527 - mmdet - INFO - Epoch [3][1200/1494]\tlr: 2.000e-02, eta: 15:39:59, time: 3.314, data_time: 1.665, memory: 11276, loss_rpn_cls: 0.0055, loss_rpn_bbox: 0.0112, loss_cls: 0.0973, acc: 96.4508, loss_bbox: 0.1656, loss: 0.2796\n",
      "2022-12-08 14:53:06,523 - mmdet - INFO - Epoch [3][1300/1494]\tlr: 2.000e-02, eta: 15:36:16, time: 3.300, data_time: 1.643, memory: 11276, loss_rpn_cls: 0.0057, loss_rpn_bbox: 0.0113, loss_cls: 0.0998, acc: 96.3401, loss_bbox: 0.1683, loss: 0.2851\n",
      "2022-12-08 14:58:40,025 - mmdet - INFO - Epoch [3][1400/1494]\tlr: 2.000e-02, eta: 15:32:42, time: 3.335, data_time: 1.680, memory: 11276, loss_rpn_cls: 0.0067, loss_rpn_bbox: 0.0113, loss_cls: 0.1005, acc: 96.3732, loss_bbox: 0.1681, loss: 0.2865\n",
      "2022-12-08 15:03:50,847 - mmdet - INFO - Saving checkpoint at 3 epochs\n"
     ]
    },
    {
     "name": "stdout",
     "output_type": "stream",
     "text": [
      "[>>>>>>>>>>>>>>>>>>>>>>>>>>>] 2323/2323, 4.9 task/s, elapsed: 470s, ETA:     0s\n",
      "---------------iou_thr: 0.5---------------\n"
     ]
    },
    {
     "name": "stderr",
     "output_type": "stream",
     "text": [
      "2022-12-08 15:11:45,929 - mmdet - INFO - \n",
      "+------------+-------+-------+--------+-------+\n",
      "| class      | gts   | dets  | recall | ap    |\n",
      "+------------+-------+-------+--------+-------+\n",
      "| car        | 13124 | 26153 | 0.956  | 0.928 |\n",
      "| bus        | 1786  | 6595  | 0.940  | 0.867 |\n",
      "| truck      | 3084  | 10541 | 0.915  | 0.824 |\n",
      "| pedestrian | 3063  | 10975 | 0.812  | 0.682 |\n",
      "+------------+-------+-------+--------+-------+\n",
      "| mAP        |       |       |        | 0.825 |\n",
      "+------------+-------+-------+--------+-------+\n",
      "2022-12-08 15:11:46,048 - mmdet - INFO - Epoch(val) [3][2323]\tAP50: 0.8250, mAP: 0.8252\n",
      "2022-12-08 15:17:19,620 - mmdet - INFO - Epoch [4][100/1494]\tlr: 2.000e-02, eta: 15:05:11, time: 3.329, data_time: 1.676, memory: 11276, loss_rpn_cls: 0.0054, loss_rpn_bbox: 0.0111, loss_cls: 0.0952, acc: 96.5275, loss_bbox: 0.1653, loss: 0.2769\n",
      "2022-12-08 15:22:51,478 - mmdet - INFO - Epoch [4][200/1494]\tlr: 2.000e-02, eta: 15:01:50, time: 3.319, data_time: 1.666, memory: 11276, loss_rpn_cls: 0.0052, loss_rpn_bbox: 0.0110, loss_cls: 0.0937, acc: 96.5629, loss_bbox: 0.1631, loss: 0.2730\n",
      "2022-12-08 15:28:23,524 - mmdet - INFO - Epoch [4][300/1494]\tlr: 2.000e-02, eta: 14:58:23, time: 3.320, data_time: 1.664, memory: 11276, loss_rpn_cls: 0.0051, loss_rpn_bbox: 0.0109, loss_cls: 0.0922, acc: 96.5958, loss_bbox: 0.1628, loss: 0.2710\n",
      "2022-12-08 15:33:54,266 - mmdet - INFO - Epoch [4][400/1494]\tlr: 2.000e-02, eta: 14:54:47, time: 3.307, data_time: 1.653, memory: 11276, loss_rpn_cls: 0.0055, loss_rpn_bbox: 0.0112, loss_cls: 0.0954, acc: 96.4893, loss_bbox: 0.1664, loss: 0.2784\n",
      "2022-12-08 15:39:23,725 - mmdet - INFO - Epoch [4][500/1494]\tlr: 2.000e-02, eta: 14:51:02, time: 3.295, data_time: 1.641, memory: 11276, loss_rpn_cls: 0.0050, loss_rpn_bbox: 0.0113, loss_cls: 0.0959, acc: 96.4449, loss_bbox: 0.1676, loss: 0.2797\n",
      "2022-12-08 15:44:51,982 - mmdet - INFO - Epoch [4][600/1494]\tlr: 2.000e-02, eta: 14:47:08, time: 3.283, data_time: 1.629, memory: 11276, loss_rpn_cls: 0.0051, loss_rpn_bbox: 0.0108, loss_cls: 0.0929, acc: 96.6095, loss_bbox: 0.1621, loss: 0.2709\n",
      "2022-12-08 15:50:21,865 - mmdet - INFO - Epoch [4][700/1494]\tlr: 2.000e-02, eta: 14:43:17, time: 3.299, data_time: 1.645, memory: 11276, loss_rpn_cls: 0.0049, loss_rpn_bbox: 0.0111, loss_cls: 0.0931, acc: 96.5756, loss_bbox: 0.1603, loss: 0.2695\n",
      "2022-12-08 15:55:53,259 - mmdet - INFO - Epoch [4][800/1494]\tlr: 2.000e-02, eta: 14:39:26, time: 3.314, data_time: 1.656, memory: 11276, loss_rpn_cls: 0.0055, loss_rpn_bbox: 0.0112, loss_cls: 0.0955, acc: 96.4835, loss_bbox: 0.1626, loss: 0.2747\n",
      "2022-12-08 16:01:23,588 - mmdet - INFO - Epoch [4][900/1494]\tlr: 2.000e-02, eta: 14:35:28, time: 3.303, data_time: 1.651, memory: 11276, loss_rpn_cls: 0.0053, loss_rpn_bbox: 0.0108, loss_cls: 0.0928, acc: 96.6016, loss_bbox: 0.1601, loss: 0.2690\n",
      "2022-12-08 16:06:54,642 - mmdet - INFO - Epoch [4][1000/1494]\tlr: 2.000e-02, eta: 14:31:30, time: 3.311, data_time: 1.656, memory: 11276, loss_rpn_cls: 0.0055, loss_rpn_bbox: 0.0114, loss_cls: 0.0968, acc: 96.4840, loss_bbox: 0.1639, loss: 0.2776\n",
      "2022-12-08 16:12:23,704 - mmdet - INFO - Epoch [4][1100/1494]\tlr: 2.000e-02, eta: 14:27:22, time: 3.291, data_time: 1.643, memory: 11276, loss_rpn_cls: 0.0053, loss_rpn_bbox: 0.0113, loss_cls: 0.0957, acc: 96.5159, loss_bbox: 0.1651, loss: 0.2774\n",
      "2022-12-08 16:17:52,657 - mmdet - INFO - Epoch [4][1200/1494]\tlr: 2.000e-02, eta: 14:23:10, time: 3.290, data_time: 1.635, memory: 11276, loss_rpn_cls: 0.0054, loss_rpn_bbox: 0.0108, loss_cls: 0.0911, acc: 96.6412, loss_bbox: 0.1594, loss: 0.2667\n",
      "2022-12-08 16:23:24,567 - mmdet - INFO - Epoch [4][1300/1494]\tlr: 2.000e-02, eta: 14:19:05, time: 3.319, data_time: 1.662, memory: 11276, loss_rpn_cls: 0.0055, loss_rpn_bbox: 0.0106, loss_cls: 0.0904, acc: 96.6805, loss_bbox: 0.1569, loss: 0.2634\n",
      "2022-12-08 16:28:55,911 - mmdet - INFO - Epoch [4][1400/1494]\tlr: 2.000e-02, eta: 14:14:55, time: 3.313, data_time: 1.653, memory: 11276, loss_rpn_cls: 0.0053, loss_rpn_bbox: 0.0115, loss_cls: 0.0934, acc: 96.5646, loss_bbox: 0.1666, loss: 0.2767\n",
      "2022-12-08 16:34:07,123 - mmdet - INFO - Saving checkpoint at 4 epochs\n"
     ]
    },
    {
     "name": "stdout",
     "output_type": "stream",
     "text": [
      "[>>>>>>>>>>>>>>>>>>>>>>>>>>>] 2323/2323, 5.0 task/s, elapsed: 461s, ETA:     0s\n",
      "---------------iou_thr: 0.5---------------\n"
     ]
    },
    {
     "name": "stderr",
     "output_type": "stream",
     "text": [
      "2022-12-08 16:41:53,509 - mmdet - INFO - \n",
      "+------------+-------+-------+--------+-------+\n",
      "| class      | gts   | dets  | recall | ap    |\n",
      "+------------+-------+-------+--------+-------+\n",
      "| car        | 13124 | 25112 | 0.958  | 0.931 |\n",
      "| bus        | 1786  | 3456  | 0.908  | 0.859 |\n",
      "| truck      | 3084  | 10041 | 0.916  | 0.835 |\n",
      "| pedestrian | 3063  | 8024  | 0.796  | 0.688 |\n",
      "+------------+-------+-------+--------+-------+\n",
      "| mAP        |       |       |        | 0.828 |\n",
      "+------------+-------+-------+--------+-------+\n",
      "2022-12-08 16:41:53,606 - mmdet - INFO - Epoch(val) [4][2323]\tAP50: 0.8280, mAP: 0.8282\n",
      "2022-12-08 16:47:25,844 - mmdet - INFO - Epoch [5][100/1494]\tlr: 2.000e-02, eta: 13:52:46, time: 3.316, data_time: 1.658, memory: 11276, loss_rpn_cls: 0.0044, loss_rpn_bbox: 0.0105, loss_cls: 0.0853, acc: 96.8477, loss_bbox: 0.1546, loss: 0.2547\n",
      "2022-12-08 16:52:55,303 - mmdet - INFO - Epoch [5][200/1494]\tlr: 2.000e-02, eta: 13:48:42, time: 3.294, data_time: 1.639, memory: 11276, loss_rpn_cls: 0.0043, loss_rpn_bbox: 0.0103, loss_cls: 0.0874, acc: 96.7515, loss_bbox: 0.1561, loss: 0.2580\n",
      "2022-12-08 16:58:25,856 - mmdet - INFO - Epoch [5][300/1494]\tlr: 2.000e-02, eta: 13:44:38, time: 3.306, data_time: 1.648, memory: 11276, loss_rpn_cls: 0.0049, loss_rpn_bbox: 0.0106, loss_cls: 0.0888, acc: 96.7094, loss_bbox: 0.1569, loss: 0.2611\n",
      "2022-12-08 17:03:54,470 - mmdet - INFO - Epoch [5][400/1494]\tlr: 2.000e-02, eta: 13:40:26, time: 3.286, data_time: 1.634, memory: 11276, loss_rpn_cls: 0.0050, loss_rpn_bbox: 0.0103, loss_cls: 0.0849, acc: 96.8556, loss_bbox: 0.1497, loss: 0.2498\n",
      "2022-12-08 17:09:21,295 - mmdet - INFO - Epoch [5][500/1494]\tlr: 2.000e-02, eta: 13:36:08, time: 3.268, data_time: 1.617, memory: 11276, loss_rpn_cls: 0.0060, loss_rpn_bbox: 0.0114, loss_cls: 0.0910, acc: 96.6177, loss_bbox: 0.1592, loss: 0.2675\n",
      "2022-12-08 17:14:47,482 - mmdet - INFO - Epoch [5][600/1494]\tlr: 2.000e-02, eta: 13:31:46, time: 3.262, data_time: 1.610, memory: 11276, loss_rpn_cls: 0.0051, loss_rpn_bbox: 0.0109, loss_cls: 0.0909, acc: 96.6868, loss_bbox: 0.1612, loss: 0.2682\n",
      "2022-12-08 17:20:14,876 - mmdet - INFO - Epoch [5][700/1494]\tlr: 2.000e-02, eta: 13:27:25, time: 3.274, data_time: 1.620, memory: 11276, loss_rpn_cls: 0.0050, loss_rpn_bbox: 0.0110, loss_cls: 0.0944, acc: 96.5315, loss_bbox: 0.1621, loss: 0.2725\n",
      "2022-12-08 17:25:41,747 - mmdet - INFO - Epoch [5][800/1494]\tlr: 2.000e-02, eta: 13:23:01, time: 3.269, data_time: 1.615, memory: 11276, loss_rpn_cls: 0.0050, loss_rpn_bbox: 0.0105, loss_cls: 0.0884, acc: 96.6896, loss_bbox: 0.1576, loss: 0.2616\n",
      "2022-12-08 17:31:06,190 - mmdet - INFO - Epoch [5][900/1494]\tlr: 2.000e-02, eta: 13:18:30, time: 3.244, data_time: 1.583, memory: 11276, loss_rpn_cls: 0.0044, loss_rpn_bbox: 0.0106, loss_cls: 0.0903, acc: 96.5992, loss_bbox: 0.1607, loss: 0.2659\n",
      "2022-12-08 17:36:30,817 - mmdet - INFO - Epoch [5][1000/1494]\tlr: 2.000e-02, eta: 13:13:57, time: 3.246, data_time: 1.596, memory: 11276, loss_rpn_cls: 0.0053, loss_rpn_bbox: 0.0105, loss_cls: 0.0910, acc: 96.6408, loss_bbox: 0.1585, loss: 0.2652\n",
      "2022-12-08 17:41:55,462 - mmdet - INFO - Epoch [5][1100/1494]\tlr: 2.000e-02, eta: 13:09:23, time: 3.246, data_time: 1.599, memory: 11276, loss_rpn_cls: 0.0056, loss_rpn_bbox: 0.0111, loss_cls: 0.0894, acc: 96.7168, loss_bbox: 0.1591, loss: 0.2651\n",
      "2022-12-08 17:47:22,183 - mmdet - INFO - Epoch [5][1200/1494]\tlr: 2.000e-02, eta: 13:04:52, time: 3.267, data_time: 1.620, memory: 11276, loss_rpn_cls: 0.0052, loss_rpn_bbox: 0.0107, loss_cls: 0.0897, acc: 96.7087, loss_bbox: 0.1578, loss: 0.2634\n",
      "2022-12-08 17:52:48,919 - mmdet - INFO - Epoch [5][1300/1494]\tlr: 2.000e-02, eta: 13:00:19, time: 3.267, data_time: 1.609, memory: 11276, loss_rpn_cls: 0.0048, loss_rpn_bbox: 0.0104, loss_cls: 0.0908, acc: 96.6669, loss_bbox: 0.1593, loss: 0.2654\n",
      "2022-12-08 17:58:21,419 - mmdet - INFO - Epoch [5][1400/1494]\tlr: 2.000e-02, eta: 12:55:57, time: 3.325, data_time: 1.670, memory: 11276, loss_rpn_cls: 0.0044, loss_rpn_bbox: 0.0105, loss_cls: 0.0907, acc: 96.6660, loss_bbox: 0.1585, loss: 0.2641\n",
      "2022-12-08 18:03:30,714 - mmdet - INFO - Saving checkpoint at 5 epochs\n"
     ]
    },
    {
     "name": "stdout",
     "output_type": "stream",
     "text": [
      "[>>>>>>>>>>>>>>>>>>>>>>>>>>>] 2323/2323, 5.1 task/s, elapsed: 456s, ETA:     0s\n",
      "---------------iou_thr: 0.5---------------\n"
     ]
    },
    {
     "name": "stderr",
     "output_type": "stream",
     "text": [
      "2022-12-08 18:11:11,454 - mmdet - INFO - \n",
      "+------------+-------+-------+--------+-------+\n",
      "| class      | gts   | dets  | recall | ap    |\n",
      "+------------+-------+-------+--------+-------+\n",
      "| car        | 13124 | 23808 | 0.959  | 0.935 |\n",
      "| bus        | 1786  | 4185  | 0.934  | 0.887 |\n",
      "| truck      | 3084  | 6843  | 0.898  | 0.835 |\n",
      "| pedestrian | 3063  | 9466  | 0.829  | 0.711 |\n",
      "+------------+-------+-------+--------+-------+\n",
      "| mAP        |       |       |        | 0.842 |\n",
      "+------------+-------+-------+--------+-------+\n",
      "2022-12-08 18:11:11,556 - mmdet - INFO - Epoch(val) [5][2323]\tAP50: 0.8420, mAP: 0.8420\n",
      "2022-12-08 18:16:42,765 - mmdet - INFO - Epoch [6][100/1494]\tlr: 2.000e-02, eta: 12:37:07, time: 3.306, data_time: 1.647, memory: 11276, loss_rpn_cls: 0.0044, loss_rpn_bbox: 0.0104, loss_cls: 0.0818, acc: 96.9311, loss_bbox: 0.1518, loss: 0.2484\n",
      "2022-12-08 18:22:12,766 - mmdet - INFO - Epoch [6][200/1494]\tlr: 2.000e-02, eta: 12:32:47, time: 3.300, data_time: 1.644, memory: 11276, loss_rpn_cls: 0.0045, loss_rpn_bbox: 0.0106, loss_cls: 0.0863, acc: 96.8100, loss_bbox: 0.1554, loss: 0.2569\n",
      "2022-12-08 18:27:43,059 - mmdet - INFO - Epoch [6][300/1494]\tlr: 2.000e-02, eta: 12:28:25, time: 3.303, data_time: 1.649, memory: 11276, loss_rpn_cls: 0.0045, loss_rpn_bbox: 0.0106, loss_cls: 0.0850, acc: 96.8422, loss_bbox: 0.1540, loss: 0.2541\n",
      "2022-12-08 18:33:12,949 - mmdet - INFO - Epoch [6][400/1494]\tlr: 2.000e-02, eta: 12:24:01, time: 3.299, data_time: 1.646, memory: 11276, loss_rpn_cls: 0.0042, loss_rpn_bbox: 0.0103, loss_cls: 0.0840, acc: 96.8783, loss_bbox: 0.1538, loss: 0.2524\n",
      "2022-12-08 18:38:43,448 - mmdet - INFO - Epoch [6][500/1494]\tlr: 2.000e-02, eta: 12:19:37, time: 3.305, data_time: 1.653, memory: 11276, loss_rpn_cls: 0.0049, loss_rpn_bbox: 0.0100, loss_cls: 0.0835, acc: 96.8887, loss_bbox: 0.1489, loss: 0.2472\n",
      "2022-12-08 18:44:13,363 - mmdet - INFO - Epoch [6][600/1494]\tlr: 2.000e-02, eta: 12:15:09, time: 3.299, data_time: 1.651, memory: 11276, loss_rpn_cls: 0.0047, loss_rpn_bbox: 0.0101, loss_cls: 0.0848, acc: 96.8601, loss_bbox: 0.1515, loss: 0.2511\n",
      "2022-12-08 18:49:43,203 - mmdet - INFO - Epoch [6][700/1494]\tlr: 2.000e-02, eta: 12:10:41, time: 3.298, data_time: 1.652, memory: 11276, loss_rpn_cls: 0.0046, loss_rpn_bbox: 0.0106, loss_cls: 0.0847, acc: 96.8209, loss_bbox: 0.1564, loss: 0.2563\n",
      "2022-12-08 18:55:13,045 - mmdet - INFO - Epoch [6][800/1494]\tlr: 2.000e-02, eta: 12:06:10, time: 3.298, data_time: 1.645, memory: 11276, loss_rpn_cls: 0.0045, loss_rpn_bbox: 0.0099, loss_cls: 0.0816, acc: 96.9407, loss_bbox: 0.1492, loss: 0.2452\n",
      "2022-12-08 19:00:42,993 - mmdet - INFO - Epoch [6][900/1494]\tlr: 2.000e-02, eta: 12:01:39, time: 3.300, data_time: 1.647, memory: 11276, loss_rpn_cls: 0.0053, loss_rpn_bbox: 0.0104, loss_cls: 0.0835, acc: 96.9085, loss_bbox: 0.1521, loss: 0.2513\n",
      "2022-12-08 19:06:14,391 - mmdet - INFO - Epoch [6][1000/1494]\tlr: 2.000e-02, eta: 11:57:08, time: 3.314, data_time: 1.662, memory: 11276, loss_rpn_cls: 0.0045, loss_rpn_bbox: 0.0102, loss_cls: 0.0869, acc: 96.7939, loss_bbox: 0.1536, loss: 0.2552\n",
      "2022-12-08 19:11:47,035 - mmdet - INFO - Epoch [6][1100/1494]\tlr: 2.000e-02, eta: 11:52:38, time: 3.326, data_time: 1.671, memory: 11276, loss_rpn_cls: 0.0044, loss_rpn_bbox: 0.0107, loss_cls: 0.0846, acc: 96.8464, loss_bbox: 0.1541, loss: 0.2539\n",
      "2022-12-08 19:17:19,773 - mmdet - INFO - Epoch [6][1200/1494]\tlr: 2.000e-02, eta: 11:48:07, time: 3.327, data_time: 1.670, memory: 11276, loss_rpn_cls: 0.0043, loss_rpn_bbox: 0.0100, loss_cls: 0.0820, acc: 96.9766, loss_bbox: 0.1487, loss: 0.2450\n",
      "2022-12-08 19:22:49,595 - mmdet - INFO - Epoch [6][1300/1494]\tlr: 2.000e-02, eta: 11:43:30, time: 3.298, data_time: 1.641, memory: 11276, loss_rpn_cls: 0.0043, loss_rpn_bbox: 0.0104, loss_cls: 0.0851, acc: 96.8443, loss_bbox: 0.1526, loss: 0.2524\n",
      "2022-12-08 19:28:20,959 - mmdet - INFO - Epoch [6][1400/1494]\tlr: 2.000e-02, eta: 11:38:54, time: 3.314, data_time: 1.656, memory: 11276, loss_rpn_cls: 0.0045, loss_rpn_bbox: 0.0105, loss_cls: 0.0865, acc: 96.7874, loss_bbox: 0.1541, loss: 0.2556\n",
      "2022-12-08 19:33:31,471 - mmdet - INFO - Saving checkpoint at 6 epochs\n"
     ]
    },
    {
     "name": "stdout",
     "output_type": "stream",
     "text": [
      "[>>>>>>>>>>>>>>>>>>>>>>>>>>>] 2323/2323, 4.9 task/s, elapsed: 472s, ETA:     0s\n",
      "---------------iou_thr: 0.5---------------\n"
     ]
    },
    {
     "name": "stderr",
     "output_type": "stream",
     "text": [
      "2022-12-08 19:41:27,955 - mmdet - INFO - \n",
      "+------------+-------+-------+--------+-------+\n",
      "| class      | gts   | dets  | recall | ap    |\n",
      "+------------+-------+-------+--------+-------+\n",
      "| car        | 13124 | 25629 | 0.964  | 0.939 |\n",
      "| bus        | 1786  | 5635  | 0.945  | 0.893 |\n",
      "| truck      | 3084  | 10537 | 0.929  | 0.851 |\n",
      "| pedestrian | 3063  | 10916 | 0.832  | 0.714 |\n",
      "+------------+-------+-------+--------+-------+\n",
      "| mAP        |       |       |        | 0.849 |\n",
      "+------------+-------+-------+--------+-------+\n",
      "2022-12-08 19:41:28,052 - mmdet - INFO - Epoch(val) [6][2323]\tAP50: 0.8490, mAP: 0.8495\n",
      "2022-12-08 19:47:02,372 - mmdet - INFO - Epoch [7][100/1494]\tlr: 2.000e-02, eta: 11:22:20, time: 3.337, data_time: 1.680, memory: 11276, loss_rpn_cls: 0.0039, loss_rpn_bbox: 0.0103, loss_cls: 0.0810, acc: 96.9671, loss_bbox: 0.1513, loss: 0.2465\n",
      "2022-12-08 19:52:31,978 - mmdet - INFO - Epoch [7][200/1494]\tlr: 2.000e-02, eta: 11:17:46, time: 3.296, data_time: 1.641, memory: 11276, loss_rpn_cls: 0.0047, loss_rpn_bbox: 0.0101, loss_cls: 0.0787, acc: 97.0352, loss_bbox: 0.1483, loss: 0.2418\n",
      "2022-12-08 19:58:03,423 - mmdet - INFO - Epoch [7][300/1494]\tlr: 2.000e-02, eta: 11:13:14, time: 3.314, data_time: 1.657, memory: 11276, loss_rpn_cls: 0.0042, loss_rpn_bbox: 0.0098, loss_cls: 0.0778, acc: 97.0628, loss_bbox: 0.1458, loss: 0.2375\n",
      "2022-12-08 20:03:34,161 - mmdet - INFO - Epoch [7][400/1494]\tlr: 2.000e-02, eta: 11:08:39, time: 3.307, data_time: 1.657, memory: 11276, loss_rpn_cls: 0.0035, loss_rpn_bbox: 0.0099, loss_cls: 0.0799, acc: 96.9937, loss_bbox: 0.1468, loss: 0.2400\n",
      "2022-12-08 20:09:05,629 - mmdet - INFO - Epoch [7][500/1494]\tlr: 2.000e-02, eta: 11:04:04, time: 3.315, data_time: 1.660, memory: 11276, loss_rpn_cls: 0.0039, loss_rpn_bbox: 0.0098, loss_cls: 0.0813, acc: 96.9644, loss_bbox: 0.1508, loss: 0.2457\n",
      "2022-12-08 20:14:37,509 - mmdet - INFO - Epoch [7][600/1494]\tlr: 2.000e-02, eta: 10:59:29, time: 3.319, data_time: 1.665, memory: 11276, loss_rpn_cls: 0.0042, loss_rpn_bbox: 0.0101, loss_cls: 0.0807, acc: 96.9866, loss_bbox: 0.1483, loss: 0.2433\n",
      "2022-12-08 20:20:09,677 - mmdet - INFO - Epoch [7][700/1494]\tlr: 2.000e-02, eta: 10:54:53, time: 3.322, data_time: 1.669, memory: 11276, loss_rpn_cls: 0.0042, loss_rpn_bbox: 0.0100, loss_cls: 0.0809, acc: 96.9985, loss_bbox: 0.1482, loss: 0.2432\n",
      "2022-12-08 20:25:43,068 - mmdet - INFO - Epoch [7][800/1494]\tlr: 2.000e-02, eta: 10:50:17, time: 3.334, data_time: 1.685, memory: 11276, loss_rpn_cls: 0.0041, loss_rpn_bbox: 0.0100, loss_cls: 0.0804, acc: 97.0218, loss_bbox: 0.1488, loss: 0.2432\n",
      "2022-12-08 20:31:16,996 - mmdet - INFO - Epoch [7][900/1494]\tlr: 2.000e-02, eta: 10:45:41, time: 3.339, data_time: 1.686, memory: 11276, loss_rpn_cls: 0.0043, loss_rpn_bbox: 0.0100, loss_cls: 0.0816, acc: 96.9576, loss_bbox: 0.1493, loss: 0.2453\n",
      "2022-12-08 20:36:48,968 - mmdet - INFO - Epoch [7][1000/1494]\tlr: 2.000e-02, eta: 10:41:01, time: 3.320, data_time: 1.667, memory: 11276, loss_rpn_cls: 0.0047, loss_rpn_bbox: 0.0100, loss_cls: 0.0812, acc: 96.9696, loss_bbox: 0.1474, loss: 0.2432\n",
      "2022-12-08 20:42:21,733 - mmdet - INFO - Epoch [7][1100/1494]\tlr: 2.000e-02, eta: 10:36:21, time: 3.328, data_time: 1.675, memory: 11276, loss_rpn_cls: 0.0044, loss_rpn_bbox: 0.0098, loss_cls: 0.0810, acc: 96.9973, loss_bbox: 0.1466, loss: 0.2418\n",
      "2022-12-08 20:47:57,205 - mmdet - INFO - Epoch [7][1200/1494]\tlr: 2.000e-02, eta: 10:31:43, time: 3.355, data_time: 1.699, memory: 11276, loss_rpn_cls: 0.0048, loss_rpn_bbox: 0.0100, loss_cls: 0.0791, acc: 97.0315, loss_bbox: 0.1493, loss: 0.2431\n",
      "2022-12-08 20:53:27,476 - mmdet - INFO - Epoch [7][1300/1494]\tlr: 2.000e-02, eta: 10:26:58, time: 3.303, data_time: 1.655, memory: 11276, loss_rpn_cls: 0.0042, loss_rpn_bbox: 0.0104, loss_cls: 0.0816, acc: 96.9333, loss_bbox: 0.1512, loss: 0.2474\n",
      "2022-12-08 20:58:57,724 - mmdet - INFO - Epoch [7][1400/1494]\tlr: 2.000e-02, eta: 10:22:12, time: 3.303, data_time: 1.652, memory: 11276, loss_rpn_cls: 0.0044, loss_rpn_bbox: 0.0099, loss_cls: 0.0815, acc: 96.9767, loss_bbox: 0.1481, loss: 0.2438\n",
      "2022-12-08 21:04:06,626 - mmdet - INFO - Saving checkpoint at 7 epochs\n"
     ]
    },
    {
     "name": "stdout",
     "output_type": "stream",
     "text": [
      "[>>>>>>>>>>>>>>>>>>>>>>>>>>>] 2323/2323, 5.0 task/s, elapsed: 465s, ETA:     0s\n",
      "---------------iou_thr: 0.5---------------\n"
     ]
    },
    {
     "name": "stderr",
     "output_type": "stream",
     "text": [
      "2022-12-08 21:11:56,357 - mmdet - INFO - \n",
      "+------------+-------+-------+--------+-------+\n",
      "| class      | gts   | dets  | recall | ap    |\n",
      "+------------+-------+-------+--------+-------+\n",
      "| car        | 13124 | 20949 | 0.954  | 0.933 |\n",
      "| bus        | 1786  | 3640  | 0.926  | 0.886 |\n",
      "| truck      | 3084  | 11530 | 0.930  | 0.850 |\n",
      "| pedestrian | 3063  | 10516 | 0.841  | 0.729 |\n",
      "+------------+-------+-------+--------+-------+\n",
      "| mAP        |       |       |        | 0.850 |\n",
      "+------------+-------+-------+--------+-------+\n",
      "2022-12-08 21:11:56,460 - mmdet - INFO - Epoch(val) [7][2323]\tAP50: 0.8500, mAP: 0.8495\n",
      "2022-12-08 21:17:26,318 - mmdet - INFO - Epoch [8][100/1494]\tlr: 2.000e-02, eta: 10:07:06, time: 3.292, data_time: 1.634, memory: 11276, loss_rpn_cls: 0.0040, loss_rpn_bbox: 0.0103, loss_cls: 0.0771, acc: 97.0932, loss_bbox: 0.1491, loss: 0.2405\n",
      "2022-12-08 21:22:54,461 - mmdet - INFO - Epoch [8][200/1494]\tlr: 2.000e-02, eta: 10:02:21, time: 3.281, data_time: 1.628, memory: 11276, loss_rpn_cls: 0.0038, loss_rpn_bbox: 0.0096, loss_cls: 0.0751, acc: 97.1649, loss_bbox: 0.1440, loss: 0.2325\n",
      "2022-12-08 21:28:22,849 - mmdet - INFO - Epoch [8][300/1494]\tlr: 2.000e-02, eta: 9:57:36, time: 3.284, data_time: 1.635, memory: 11276, loss_rpn_cls: 0.0039, loss_rpn_bbox: 0.0098, loss_cls: 0.0786, acc: 97.0770, loss_bbox: 0.1480, loss: 0.2402\n",
      "2022-12-08 21:33:51,551 - mmdet - INFO - Epoch [8][400/1494]\tlr: 2.000e-02, eta: 9:52:51, time: 3.287, data_time: 1.634, memory: 11276, loss_rpn_cls: 0.0033, loss_rpn_bbox: 0.0096, loss_cls: 0.0788, acc: 97.0488, loss_bbox: 0.1463, loss: 0.2379\n",
      "2022-12-08 21:39:24,093 - mmdet - INFO - Epoch [8][500/1494]\tlr: 2.000e-02, eta: 9:48:09, time: 3.325, data_time: 1.674, memory: 11276, loss_rpn_cls: 0.0041, loss_rpn_bbox: 0.0096, loss_cls: 0.0764, acc: 97.1260, loss_bbox: 0.1451, loss: 0.2352\n",
      "2022-12-08 21:44:54,897 - mmdet - INFO - Epoch [8][600/1494]\tlr: 2.000e-02, eta: 9:43:24, time: 3.308, data_time: 1.655, memory: 11276, loss_rpn_cls: 0.0041, loss_rpn_bbox: 0.0098, loss_cls: 0.0762, acc: 97.1214, loss_bbox: 0.1439, loss: 0.2340\n",
      "2022-12-08 21:50:26,587 - mmdet - INFO - Epoch [8][700/1494]\tlr: 2.000e-02, eta: 9:38:39, time: 3.317, data_time: 1.662, memory: 11276, loss_rpn_cls: 0.0036, loss_rpn_bbox: 0.0098, loss_cls: 0.0786, acc: 97.0349, loss_bbox: 0.1463, loss: 0.2384\n",
      "2022-12-08 21:55:57,046 - mmdet - INFO - Epoch [8][800/1494]\tlr: 2.000e-02, eta: 9:33:52, time: 3.305, data_time: 1.659, memory: 11276, loss_rpn_cls: 0.0044, loss_rpn_bbox: 0.0096, loss_cls: 0.0739, acc: 97.2076, loss_bbox: 0.1384, loss: 0.2262\n",
      "2022-12-08 22:01:27,527 - mmdet - INFO - Epoch [8][900/1494]\tlr: 2.000e-02, eta: 9:29:05, time: 3.305, data_time: 1.650, memory: 11276, loss_rpn_cls: 0.0045, loss_rpn_bbox: 0.0100, loss_cls: 0.0784, acc: 97.0505, loss_bbox: 0.1457, loss: 0.2386\n",
      "2022-12-08 22:06:57,179 - mmdet - INFO - Epoch [8][1000/1494]\tlr: 2.000e-02, eta: 9:24:15, time: 3.297, data_time: 1.638, memory: 11276, loss_rpn_cls: 0.0040, loss_rpn_bbox: 0.0100, loss_cls: 0.0792, acc: 97.0286, loss_bbox: 0.1466, loss: 0.2398\n",
      "2022-12-08 22:12:25,104 - mmdet - INFO - Epoch [8][1100/1494]\tlr: 2.000e-02, eta: 9:19:24, time: 3.279, data_time: 1.626, memory: 11276, loss_rpn_cls: 0.0040, loss_rpn_bbox: 0.0094, loss_cls: 0.0769, acc: 97.0981, loss_bbox: 0.1421, loss: 0.2324\n",
      "2022-12-08 22:17:54,132 - mmdet - INFO - Epoch [8][1200/1494]\tlr: 2.000e-02, eta: 9:14:33, time: 3.290, data_time: 1.632, memory: 11276, loss_rpn_cls: 0.0035, loss_rpn_bbox: 0.0095, loss_cls: 0.0780, acc: 97.0632, loss_bbox: 0.1450, loss: 0.2360\n",
      "2022-12-08 22:23:21,856 - mmdet - INFO - Epoch [8][1300/1494]\tlr: 2.000e-02, eta: 9:09:40, time: 3.277, data_time: 1.626, memory: 11276, loss_rpn_cls: 0.0041, loss_rpn_bbox: 0.0100, loss_cls: 0.0780, acc: 97.0766, loss_bbox: 0.1466, loss: 0.2387\n",
      "2022-12-08 22:28:49,916 - mmdet - INFO - Epoch [8][1400/1494]\tlr: 2.000e-02, eta: 9:04:47, time: 3.281, data_time: 1.626, memory: 11276, loss_rpn_cls: 0.0039, loss_rpn_bbox: 0.0096, loss_cls: 0.0797, acc: 97.0176, loss_bbox: 0.1474, loss: 0.2406\n",
      "2022-12-08 22:33:57,959 - mmdet - INFO - Saving checkpoint at 8 epochs\n"
     ]
    },
    {
     "name": "stdout",
     "output_type": "stream",
     "text": [
      "[>>>>>>>>>>>>>>>>>>>>>>>>>>>] 2323/2323, 5.0 task/s, elapsed: 467s, ETA:     0s\n",
      "---------------iou_thr: 0.5---------------\n"
     ]
    },
    {
     "name": "stderr",
     "output_type": "stream",
     "text": [
      "2022-12-08 22:41:50,110 - mmdet - INFO - \n",
      "+------------+-------+-------+--------+-------+\n",
      "| class      | gts   | dets  | recall | ap    |\n",
      "+------------+-------+-------+--------+-------+\n",
      "| car        | 13124 | 27150 | 0.966  | 0.940 |\n",
      "| bus        | 1786  | 5906  | 0.946  | 0.899 |\n",
      "| truck      | 3084  | 12311 | 0.936  | 0.857 |\n",
      "| pedestrian | 3063  | 10396 | 0.846  | 0.723 |\n",
      "+------------+-------+-------+--------+-------+\n",
      "| mAP        |       |       |        | 0.855 |\n",
      "+------------+-------+-------+--------+-------+\n",
      "2022-12-08 22:41:50,210 - mmdet - INFO - Epoch(val) [8][2323]\tAP50: 0.8550, mAP: 0.8546\n",
      "2022-12-08 22:47:22,821 - mmdet - INFO - Epoch [9][100/1494]\tlr: 2.000e-03, eta: 8:50:55, time: 3.320, data_time: 1.654, memory: 11276, loss_rpn_cls: 0.0032, loss_rpn_bbox: 0.0093, loss_cls: 0.0694, acc: 97.3814, loss_bbox: 0.1350, loss: 0.2169\n",
      "2022-12-08 22:52:52,194 - mmdet - INFO - Epoch [9][200/1494]\tlr: 2.000e-03, eta: 8:46:05, time: 3.294, data_time: 1.633, memory: 11276, loss_rpn_cls: 0.0032, loss_rpn_bbox: 0.0084, loss_cls: 0.0650, acc: 97.5509, loss_bbox: 0.1291, loss: 0.2057\n",
      "2022-12-08 22:58:23,753 - mmdet - INFO - Epoch [9][300/1494]\tlr: 2.000e-03, eta: 8:41:18, time: 3.316, data_time: 1.653, memory: 11276, loss_rpn_cls: 0.0033, loss_rpn_bbox: 0.0090, loss_cls: 0.0662, acc: 97.4646, loss_bbox: 0.1325, loss: 0.2110\n",
      "2022-12-08 23:03:56,835 - mmdet - INFO - Epoch [9][400/1494]\tlr: 2.000e-03, eta: 8:36:30, time: 3.331, data_time: 1.667, memory: 11276, loss_rpn_cls: 0.0031, loss_rpn_bbox: 0.0087, loss_cls: 0.0650, acc: 97.5253, loss_bbox: 0.1296, loss: 0.2064\n",
      "2022-12-08 23:09:32,156 - mmdet - INFO - Epoch [9][500/1494]\tlr: 2.000e-03, eta: 8:31:44, time: 3.353, data_time: 1.688, memory: 11276, loss_rpn_cls: 0.0030, loss_rpn_bbox: 0.0088, loss_cls: 0.0670, acc: 97.4467, loss_bbox: 0.1328, loss: 0.2116\n",
      "2022-12-08 23:15:07,226 - mmdet - INFO - Epoch [9][600/1494]\tlr: 2.000e-03, eta: 8:26:56, time: 3.351, data_time: 1.688, memory: 11276, loss_rpn_cls: 0.0029, loss_rpn_bbox: 0.0085, loss_cls: 0.0655, acc: 97.5332, loss_bbox: 0.1299, loss: 0.2068\n",
      "2022-12-08 23:20:40,009 - mmdet - INFO - Epoch [9][700/1494]\tlr: 2.000e-03, eta: 8:22:07, time: 3.328, data_time: 1.665, memory: 11276, loss_rpn_cls: 0.0030, loss_rpn_bbox: 0.0086, loss_cls: 0.0640, acc: 97.5818, loss_bbox: 0.1266, loss: 0.2022\n",
      "2022-12-08 23:26:11,936 - mmdet - INFO - Epoch [9][800/1494]\tlr: 2.000e-03, eta: 8:17:15, time: 3.319, data_time: 1.656, memory: 11276, loss_rpn_cls: 0.0026, loss_rpn_bbox: 0.0084, loss_cls: 0.0619, acc: 97.6162, loss_bbox: 0.1261, loss: 0.1991\n",
      "2022-12-08 23:31:42,679 - mmdet - INFO - Epoch [9][900/1494]\tlr: 2.000e-03, eta: 8:12:23, time: 3.307, data_time: 1.648, memory: 11276, loss_rpn_cls: 0.0030, loss_rpn_bbox: 0.0084, loss_cls: 0.0613, acc: 97.6724, loss_bbox: 0.1241, loss: 0.1968\n",
      "2022-12-08 23:37:17,475 - mmdet - INFO - Epoch [9][1000/1494]\tlr: 2.000e-03, eta: 8:07:32, time: 3.348, data_time: 1.688, memory: 11276, loss_rpn_cls: 0.0031, loss_rpn_bbox: 0.0085, loss_cls: 0.0645, acc: 97.5956, loss_bbox: 0.1283, loss: 0.2044\n",
      "2022-12-08 23:42:53,232 - mmdet - INFO - Epoch [9][1100/1494]\tlr: 2.000e-03, eta: 8:02:42, time: 3.358, data_time: 1.694, memory: 11276, loss_rpn_cls: 0.0032, loss_rpn_bbox: 0.0088, loss_cls: 0.0638, acc: 97.5918, loss_bbox: 0.1277, loss: 0.2036\n",
      "2022-12-08 23:48:26,477 - mmdet - INFO - Epoch [9][1200/1494]\tlr: 2.000e-03, eta: 7:57:49, time: 3.332, data_time: 1.674, memory: 11276, loss_rpn_cls: 0.0038, loss_rpn_bbox: 0.0089, loss_cls: 0.0646, acc: 97.5643, loss_bbox: 0.1292, loss: 0.2065\n",
      "2022-12-08 23:54:00,838 - mmdet - INFO - Epoch [9][1300/1494]\tlr: 2.000e-03, eta: 7:52:57, time: 3.344, data_time: 1.686, memory: 11276, loss_rpn_cls: 0.0030, loss_rpn_bbox: 0.0087, loss_cls: 0.0640, acc: 97.5469, loss_bbox: 0.1301, loss: 0.2058\n",
      "2022-12-08 23:59:35,226 - mmdet - INFO - Epoch [9][1400/1494]\tlr: 2.000e-03, eta: 7:48:03, time: 3.344, data_time: 1.684, memory: 11276, loss_rpn_cls: 0.0029, loss_rpn_bbox: 0.0084, loss_cls: 0.0641, acc: 97.6021, loss_bbox: 0.1273, loss: 0.2026\n",
      "2022-12-09 00:04:48,178 - mmdet - INFO - Saving checkpoint at 9 epochs\n"
     ]
    },
    {
     "name": "stdout",
     "output_type": "stream",
     "text": [
      "[>>>>>>>>>>>>>>>>>>>>>>>>>>>] 2323/2323, 4.9 task/s, elapsed: 474s, ETA:     0s\n",
      "---------------iou_thr: 0.5---------------\n"
     ]
    },
    {
     "name": "stderr",
     "output_type": "stream",
     "text": [
      "2022-12-09 00:12:47,019 - mmdet - INFO - \n",
      "+------------+-------+-------+--------+-------+\n",
      "| class      | gts   | dets  | recall | ap    |\n",
      "+------------+-------+-------+--------+-------+\n",
      "| car        | 13124 | 20653 | 0.963  | 0.945 |\n",
      "| bus        | 1786  | 3317  | 0.938  | 0.909 |\n",
      "| truck      | 3084  | 6634  | 0.921  | 0.872 |\n",
      "| pedestrian | 3063  | 7440  | 0.840  | 0.748 |\n",
      "+------------+-------+-------+--------+-------+\n",
      "| mAP        |       |       |        | 0.869 |\n",
      "+------------+-------+-------+--------+-------+\n",
      "2022-12-09 00:12:47,112 - mmdet - INFO - Epoch(val) [9][2323]\tAP50: 0.8690, mAP: 0.8688\n",
      "2022-12-09 00:18:22,179 - mmdet - INFO - Epoch [10][100/1494]\tlr: 2.000e-03, eta: 7:35:07, time: 3.344, data_time: 1.686, memory: 11276, loss_rpn_cls: 0.0025, loss_rpn_bbox: 0.0080, loss_cls: 0.0602, acc: 97.7193, loss_bbox: 0.1233, loss: 0.1939\n",
      "2022-12-09 00:23:55,688 - mmdet - INFO - Epoch [10][200/1494]\tlr: 2.000e-03, eta: 7:30:15, time: 3.335, data_time: 1.676, memory: 11276, loss_rpn_cls: 0.0026, loss_rpn_bbox: 0.0085, loss_cls: 0.0606, acc: 97.6821, loss_bbox: 0.1248, loss: 0.1965\n",
      "2022-12-09 00:29:29,161 - mmdet - INFO - Epoch [10][300/1494]\tlr: 2.000e-03, eta: 7:25:23, time: 3.335, data_time: 1.675, memory: 11276, loss_rpn_cls: 0.0034, loss_rpn_bbox: 0.0089, loss_cls: 0.0633, acc: 97.6105, loss_bbox: 0.1288, loss: 0.2044\n",
      "2022-12-09 00:35:01,709 - mmdet - INFO - Epoch [10][400/1494]\tlr: 2.000e-03, eta: 7:20:30, time: 3.326, data_time: 1.669, memory: 11276, loss_rpn_cls: 0.0025, loss_rpn_bbox: 0.0083, loss_cls: 0.0615, acc: 97.6542, loss_bbox: 0.1250, loss: 0.1973\n",
      "2022-12-09 00:40:32,455 - mmdet - INFO - Epoch [10][500/1494]\tlr: 2.000e-03, eta: 7:15:34, time: 3.307, data_time: 1.651, memory: 11276, loss_rpn_cls: 0.0028, loss_rpn_bbox: 0.0083, loss_cls: 0.0612, acc: 97.6569, loss_bbox: 0.1265, loss: 0.1988\n",
      "2022-12-09 00:46:06,502 - mmdet - INFO - Epoch [10][600/1494]\tlr: 2.000e-03, eta: 7:10:41, time: 3.340, data_time: 1.680, memory: 11276, loss_rpn_cls: 0.0031, loss_rpn_bbox: 0.0087, loss_cls: 0.0633, acc: 97.6032, loss_bbox: 0.1267, loss: 0.2018\n",
      "2022-12-09 00:51:38,337 - mmdet - INFO - Epoch [10][700/1494]\tlr: 2.000e-03, eta: 7:05:45, time: 3.318, data_time: 1.661, memory: 11276, loss_rpn_cls: 0.0025, loss_rpn_bbox: 0.0080, loss_cls: 0.0591, acc: 97.7679, loss_bbox: 0.1205, loss: 0.1901\n",
      "2022-12-09 00:57:10,582 - mmdet - INFO - Epoch [10][800/1494]\tlr: 2.000e-03, eta: 7:00:49, time: 3.322, data_time: 1.665, memory: 11276, loss_rpn_cls: 0.0031, loss_rpn_bbox: 0.0084, loss_cls: 0.0633, acc: 97.6046, loss_bbox: 0.1272, loss: 0.2020\n",
      "2022-12-09 01:02:40,630 - mmdet - INFO - Epoch [10][900/1494]\tlr: 2.000e-03, eta: 6:55:52, time: 3.300, data_time: 1.646, memory: 11276, loss_rpn_cls: 0.0030, loss_rpn_bbox: 0.0086, loss_cls: 0.0612, acc: 97.6618, loss_bbox: 0.1236, loss: 0.1963\n",
      "2022-12-09 01:08:12,236 - mmdet - INFO - Epoch [10][1000/1494]\tlr: 2.000e-03, eta: 6:50:54, time: 3.316, data_time: 1.655, memory: 11276, loss_rpn_cls: 0.0029, loss_rpn_bbox: 0.0085, loss_cls: 0.0627, acc: 97.5964, loss_bbox: 0.1276, loss: 0.2017\n",
      "2022-12-09 01:13:44,094 - mmdet - INFO - Epoch [10][1100/1494]\tlr: 2.000e-03, eta: 6:45:57, time: 3.319, data_time: 1.666, memory: 11276, loss_rpn_cls: 0.0032, loss_rpn_bbox: 0.0087, loss_cls: 0.0606, acc: 97.6868, loss_bbox: 0.1276, loss: 0.2002\n",
      "2022-12-09 01:19:13,812 - mmdet - INFO - Epoch [10][1200/1494]\tlr: 2.000e-03, eta: 6:40:58, time: 3.297, data_time: 1.645, memory: 11276, loss_rpn_cls: 0.0030, loss_rpn_bbox: 0.0083, loss_cls: 0.0600, acc: 97.7144, loss_bbox: 0.1231, loss: 0.1944\n",
      "2022-12-09 01:24:45,033 - mmdet - INFO - Epoch [10][1300/1494]\tlr: 2.000e-03, eta: 6:35:59, time: 3.312, data_time: 1.657, memory: 11276, loss_rpn_cls: 0.0026, loss_rpn_bbox: 0.0083, loss_cls: 0.0605, acc: 97.7306, loss_bbox: 0.1234, loss: 0.1947\n",
      "2022-12-09 01:30:18,139 - mmdet - INFO - Epoch [10][1400/1494]\tlr: 2.000e-03, eta: 6:31:01, time: 3.331, data_time: 1.674, memory: 11276, loss_rpn_cls: 0.0033, loss_rpn_bbox: 0.0084, loss_cls: 0.0616, acc: 97.6738, loss_bbox: 0.1244, loss: 0.1978\n",
      "2022-12-09 01:35:31,374 - mmdet - INFO - Saving checkpoint at 10 epochs\n"
     ]
    },
    {
     "name": "stdout",
     "output_type": "stream",
     "text": [
      "[>>>>>>>>>>>>>>>>>>>>>>>>>>>] 2323/2323, 4.9 task/s, elapsed: 471s, ETA:     0s\n",
      "---------------iou_thr: 0.5---------------\n"
     ]
    },
    {
     "name": "stderr",
     "output_type": "stream",
     "text": [
      "2022-12-09 01:43:26,810 - mmdet - INFO - \n",
      "+------------+-------+-------+--------+-------+\n",
      "| class      | gts   | dets  | recall | ap    |\n",
      "+------------+-------+-------+--------+-------+\n",
      "| car        | 13124 | 20780 | 0.964  | 0.946 |\n",
      "| bus        | 1786  | 3339  | 0.941  | 0.912 |\n",
      "| truck      | 3084  | 6708  | 0.923  | 0.874 |\n",
      "| pedestrian | 3063  | 7636  | 0.845  | 0.751 |\n",
      "+------------+-------+-------+--------+-------+\n",
      "| mAP        |       |       |        | 0.871 |\n",
      "+------------+-------+-------+--------+-------+\n",
      "2022-12-09 01:43:26,903 - mmdet - INFO - Epoch(val) [10][2323]\tAP50: 0.8710, mAP: 0.8710\n",
      "2022-12-09 01:49:03,162 - mmdet - INFO - Epoch [11][100/1494]\tlr: 2.000e-03, eta: 6:18:49, time: 3.356, data_time: 1.704, memory: 11276, loss_rpn_cls: 0.0029, loss_rpn_bbox: 0.0085, loss_cls: 0.0605, acc: 97.6928, loss_bbox: 0.1245, loss: 0.1965\n",
      "2022-12-09 01:54:35,840 - mmdet - INFO - Epoch [11][200/1494]\tlr: 2.000e-03, eta: 6:13:52, time: 3.327, data_time: 1.672, memory: 11276, loss_rpn_cls: 0.0026, loss_rpn_bbox: 0.0085, loss_cls: 0.0599, acc: 97.7150, loss_bbox: 0.1229, loss: 0.1939\n",
      "2022-12-09 02:00:10,567 - mmdet - INFO - Epoch [11][300/1494]\tlr: 2.000e-03, eta: 6:08:56, time: 3.347, data_time: 1.694, memory: 11276, loss_rpn_cls: 0.0025, loss_rpn_bbox: 0.0083, loss_cls: 0.0584, acc: 97.7935, loss_bbox: 0.1219, loss: 0.1911\n",
      "2022-12-09 02:05:44,027 - mmdet - INFO - Epoch [11][400/1494]\tlr: 2.000e-03, eta: 6:03:58, time: 3.335, data_time: 1.680, memory: 11276, loss_rpn_cls: 0.0026, loss_rpn_bbox: 0.0083, loss_cls: 0.0607, acc: 97.6892, loss_bbox: 0.1244, loss: 0.1961\n",
      "2022-12-09 02:11:16,976 - mmdet - INFO - Epoch [11][500/1494]\tlr: 2.000e-03, eta: 5:59:00, time: 3.329, data_time: 1.676, memory: 11276, loss_rpn_cls: 0.0032, loss_rpn_bbox: 0.0083, loss_cls: 0.0596, acc: 97.7074, loss_bbox: 0.1227, loss: 0.1938\n",
      "2022-12-09 02:16:52,419 - mmdet - INFO - Epoch [11][600/1494]\tlr: 2.000e-03, eta: 5:54:03, time: 3.354, data_time: 1.699, memory: 11276, loss_rpn_cls: 0.0027, loss_rpn_bbox: 0.0084, loss_cls: 0.0602, acc: 97.6805, loss_bbox: 0.1230, loss: 0.1943\n",
      "2022-12-09 02:22:24,429 - mmdet - INFO - Epoch [11][700/1494]\tlr: 2.000e-03, eta: 5:49:03, time: 3.320, data_time: 1.663, memory: 11276, loss_rpn_cls: 0.0025, loss_rpn_bbox: 0.0083, loss_cls: 0.0602, acc: 97.7017, loss_bbox: 0.1231, loss: 0.1941\n",
      "2022-12-09 02:27:58,251 - mmdet - INFO - Epoch [11][800/1494]\tlr: 2.000e-03, eta: 5:44:04, time: 3.338, data_time: 1.681, memory: 11276, loss_rpn_cls: 0.0028, loss_rpn_bbox: 0.0084, loss_cls: 0.0613, acc: 97.6709, loss_bbox: 0.1257, loss: 0.1982\n",
      "2022-12-09 02:33:34,228 - mmdet - INFO - Epoch [11][900/1494]\tlr: 2.000e-03, eta: 5:39:06, time: 3.360, data_time: 1.702, memory: 11276, loss_rpn_cls: 0.0030, loss_rpn_bbox: 0.0083, loss_cls: 0.0598, acc: 97.7274, loss_bbox: 0.1232, loss: 0.1943\n",
      "2022-12-09 02:39:06,188 - mmdet - INFO - Epoch [11][1000/1494]\tlr: 2.000e-03, eta: 5:34:05, time: 3.320, data_time: 1.663, memory: 11276, loss_rpn_cls: 0.0030, loss_rpn_bbox: 0.0084, loss_cls: 0.0602, acc: 97.6928, loss_bbox: 0.1255, loss: 0.1971\n",
      "2022-12-09 02:44:41,102 - mmdet - INFO - Epoch [11][1100/1494]\tlr: 2.000e-03, eta: 5:29:05, time: 3.349, data_time: 1.692, memory: 11276, loss_rpn_cls: 0.0026, loss_rpn_bbox: 0.0082, loss_cls: 0.0599, acc: 97.7246, loss_bbox: 0.1234, loss: 0.1941\n",
      "2022-12-09 02:50:15,871 - mmdet - INFO - Epoch [11][1200/1494]\tlr: 2.000e-03, eta: 5:24:05, time: 3.348, data_time: 1.685, memory: 11276, loss_rpn_cls: 0.0030, loss_rpn_bbox: 0.0082, loss_cls: 0.0603, acc: 97.7134, loss_bbox: 0.1228, loss: 0.1944\n",
      "2022-12-09 02:55:49,182 - mmdet - INFO - Epoch [11][1300/1494]\tlr: 2.000e-03, eta: 5:19:04, time: 3.333, data_time: 1.679, memory: 11276, loss_rpn_cls: 0.0029, loss_rpn_bbox: 0.0081, loss_cls: 0.0586, acc: 97.7891, loss_bbox: 0.1212, loss: 0.1908\n",
      "2022-12-09 03:01:22,888 - mmdet - INFO - Epoch [11][1400/1494]\tlr: 2.000e-03, eta: 5:14:02, time: 3.337, data_time: 1.677, memory: 11276, loss_rpn_cls: 0.0026, loss_rpn_bbox: 0.0082, loss_cls: 0.0588, acc: 97.7666, loss_bbox: 0.1230, loss: 0.1927\n",
      "2022-12-09 03:06:38,512 - mmdet - INFO - Saving checkpoint at 11 epochs\n"
     ]
    },
    {
     "name": "stdout",
     "output_type": "stream",
     "text": [
      "[>>>>>>>>>>>>>>>>>>>>>>>>>>>] 2323/2323, 4.9 task/s, elapsed: 479s, ETA:     0s\n",
      "---------------iou_thr: 0.5---------------\n"
     ]
    },
    {
     "name": "stderr",
     "output_type": "stream",
     "text": [
      "2022-12-09 03:14:42,301 - mmdet - INFO - \n",
      "+------------+-------+-------+--------+-------+\n",
      "| class      | gts   | dets  | recall | ap    |\n",
      "+------------+-------+-------+--------+-------+\n",
      "| car        | 13124 | 20673 | 0.964  | 0.946 |\n",
      "| bus        | 1786  | 3310  | 0.943  | 0.914 |\n",
      "| truck      | 3084  | 7198  | 0.926  | 0.876 |\n",
      "| pedestrian | 3063  | 7355  | 0.843  | 0.754 |\n",
      "+------------+-------+-------+--------+-------+\n",
      "| mAP        |       |       |        | 0.873 |\n",
      "+------------+-------+-------+--------+-------+\n",
      "2022-12-09 03:14:42,396 - mmdet - INFO - Epoch(val) [11][2323]\tAP50: 0.8730, mAP: 0.8726\n",
      "2022-12-09 03:20:16,740 - mmdet - INFO - Epoch [12][100/1494]\tlr: 2.000e-04, eta: 5:02:24, time: 3.337, data_time: 1.679, memory: 11276, loss_rpn_cls: 0.0025, loss_rpn_bbox: 0.0083, loss_cls: 0.0593, acc: 97.7536, loss_bbox: 0.1218, loss: 0.1919\n",
      "2022-12-09 03:25:52,157 - mmdet - INFO - Epoch [12][200/1494]\tlr: 2.000e-04, eta: 4:57:25, time: 3.354, data_time: 1.698, memory: 11276, loss_rpn_cls: 0.0028, loss_rpn_bbox: 0.0081, loss_cls: 0.0573, acc: 97.8218, loss_bbox: 0.1194, loss: 0.1877\n",
      "2022-12-09 03:31:24,412 - mmdet - INFO - Epoch [12][300/1494]\tlr: 2.000e-04, eta: 4:52:24, time: 3.323, data_time: 1.664, memory: 11276, loss_rpn_cls: 0.0030, loss_rpn_bbox: 0.0083, loss_cls: 0.0600, acc: 97.7356, loss_bbox: 0.1227, loss: 0.1939\n",
      "2022-12-09 03:36:55,756 - mmdet - INFO - Epoch [12][400/1494]\tlr: 2.000e-04, eta: 4:47:22, time: 3.313, data_time: 1.660, memory: 11276, loss_rpn_cls: 0.0027, loss_rpn_bbox: 0.0082, loss_cls: 0.0576, acc: 97.8052, loss_bbox: 0.1197, loss: 0.1883\n",
      "2022-12-09 03:42:28,611 - mmdet - INFO - Epoch [12][500/1494]\tlr: 2.000e-04, eta: 4:42:21, time: 3.329, data_time: 1.677, memory: 11276, loss_rpn_cls: 0.0027, loss_rpn_bbox: 0.0083, loss_cls: 0.0583, acc: 97.7637, loss_bbox: 0.1207, loss: 0.1901\n",
      "2022-12-09 03:47:59,435 - mmdet - INFO - Epoch [12][600/1494]\tlr: 2.000e-04, eta: 4:37:18, time: 3.308, data_time: 1.654, memory: 11276, loss_rpn_cls: 0.0026, loss_rpn_bbox: 0.0081, loss_cls: 0.0562, acc: 97.8606, loss_bbox: 0.1189, loss: 0.1858\n",
      "2022-12-09 03:53:31,205 - mmdet - INFO - Epoch [12][700/1494]\tlr: 2.000e-04, eta: 4:32:15, time: 3.318, data_time: 1.662, memory: 11276, loss_rpn_cls: 0.0027, loss_rpn_bbox: 0.0084, loss_cls: 0.0585, acc: 97.7637, loss_bbox: 0.1235, loss: 0.1930\n",
      "2022-12-09 03:59:04,146 - mmdet - INFO - Epoch [12][800/1494]\tlr: 2.000e-04, eta: 4:27:13, time: 3.329, data_time: 1.678, memory: 11276, loss_rpn_cls: 0.0028, loss_rpn_bbox: 0.0079, loss_cls: 0.0588, acc: 97.7828, loss_bbox: 0.1197, loss: 0.1893\n",
      "2022-12-09 04:04:36,847 - mmdet - INFO - Epoch [12][900/1494]\tlr: 2.000e-04, eta: 4:22:10, time: 3.327, data_time: 1.674, memory: 11276, loss_rpn_cls: 0.0024, loss_rpn_bbox: 0.0080, loss_cls: 0.0565, acc: 97.8560, loss_bbox: 0.1180, loss: 0.1850\n",
      "2022-12-09 04:10:09,400 - mmdet - INFO - Epoch [12][1000/1494]\tlr: 2.000e-04, eta: 4:17:06, time: 3.325, data_time: 1.670, memory: 11276, loss_rpn_cls: 0.0028, loss_rpn_bbox: 0.0080, loss_cls: 0.0583, acc: 97.7852, loss_bbox: 0.1203, loss: 0.1894\n",
      "2022-12-09 04:15:43,997 - mmdet - INFO - Epoch [12][1100/1494]\tlr: 2.000e-04, eta: 4:12:03, time: 3.346, data_time: 1.692, memory: 11276, loss_rpn_cls: 0.0028, loss_rpn_bbox: 0.0085, loss_cls: 0.0582, acc: 97.8058, loss_bbox: 0.1216, loss: 0.1911\n",
      "2022-12-09 04:21:17,203 - mmdet - INFO - Epoch [12][1200/1494]\tlr: 2.000e-04, eta: 4:06:59, time: 3.332, data_time: 1.679, memory: 11276, loss_rpn_cls: 0.0026, loss_rpn_bbox: 0.0082, loss_cls: 0.0581, acc: 97.7867, loss_bbox: 0.1210, loss: 0.1900\n",
      "2022-12-09 04:26:50,179 - mmdet - INFO - Epoch [12][1300/1494]\tlr: 2.000e-04, eta: 4:01:55, time: 3.330, data_time: 1.683, memory: 11276, loss_rpn_cls: 0.0025, loss_rpn_bbox: 0.0082, loss_cls: 0.0564, acc: 97.8570, loss_bbox: 0.1197, loss: 0.1867\n",
      "2022-12-09 04:32:22,409 - mmdet - INFO - Epoch [12][1400/1494]\tlr: 2.000e-04, eta: 3:56:50, time: 3.322, data_time: 1.670, memory: 11276, loss_rpn_cls: 0.0027, loss_rpn_bbox: 0.0080, loss_cls: 0.0562, acc: 97.8426, loss_bbox: 0.1197, loss: 0.1866\n",
      "2022-12-09 04:37:34,710 - mmdet - INFO - Saving checkpoint at 12 epochs\n"
     ]
    },
    {
     "name": "stdout",
     "output_type": "stream",
     "text": [
      "[>>>>>>>>>>>>>>>>>>>>>>>>>>>] 2323/2323, 4.9 task/s, elapsed: 475s, ETA:     0s\n",
      "---------------iou_thr: 0.5---------------\n"
     ]
    },
    {
     "name": "stderr",
     "output_type": "stream",
     "text": [
      "2022-12-09 04:45:34,299 - mmdet - INFO - \n",
      "+------------+-------+-------+--------+-------+\n",
      "| class      | gts   | dets  | recall | ap    |\n",
      "+------------+-------+-------+--------+-------+\n",
      "| car        | 13124 | 20382 | 0.964  | 0.946 |\n",
      "| bus        | 1786  | 3293  | 0.942  | 0.913 |\n",
      "| truck      | 3084  | 6742  | 0.924  | 0.876 |\n",
      "| pedestrian | 3063  | 7693  | 0.846  | 0.753 |\n",
      "+------------+-------+-------+--------+-------+\n",
      "| mAP        |       |       |        | 0.872 |\n",
      "+------------+-------+-------+--------+-------+\n",
      "2022-12-09 04:45:34,388 - mmdet - INFO - Epoch(val) [12][2323]\tAP50: 0.8720, mAP: 0.8721\n",
      "2022-12-09 04:51:09,128 - mmdet - INFO - Epoch [13][100/1494]\tlr: 2.000e-04, eta: 3:45:42, time: 3.341, data_time: 1.690, memory: 11276, loss_rpn_cls: 0.0026, loss_rpn_bbox: 0.0082, loss_cls: 0.0569, acc: 97.8372, loss_bbox: 0.1195, loss: 0.1873\n",
      "2022-12-09 04:56:40,758 - mmdet - INFO - Epoch [13][200/1494]\tlr: 2.000e-04, eta: 3:40:39, time: 3.316, data_time: 1.664, memory: 11276, loss_rpn_cls: 0.0031, loss_rpn_bbox: 0.0089, loss_cls: 0.0614, acc: 97.6758, loss_bbox: 0.1262, loss: 0.1996\n",
      "2022-12-09 05:02:13,827 - mmdet - INFO - Epoch [13][300/1494]\tlr: 2.000e-04, eta: 3:35:35, time: 3.331, data_time: 1.680, memory: 11276, loss_rpn_cls: 0.0029, loss_rpn_bbox: 0.0082, loss_cls: 0.0578, acc: 97.7909, loss_bbox: 0.1199, loss: 0.1888\n",
      "2022-12-09 05:07:47,436 - mmdet - INFO - Epoch [13][400/1494]\tlr: 2.000e-04, eta: 3:30:31, time: 3.336, data_time: 1.681, memory: 11276, loss_rpn_cls: 0.0023, loss_rpn_bbox: 0.0080, loss_cls: 0.0569, acc: 97.8309, loss_bbox: 0.1207, loss: 0.1878\n",
      "2022-12-09 05:13:20,711 - mmdet - INFO - Epoch [13][500/1494]\tlr: 2.000e-04, eta: 3:25:27, time: 3.333, data_time: 1.678, memory: 11276, loss_rpn_cls: 0.0025, loss_rpn_bbox: 0.0080, loss_cls: 0.0563, acc: 97.8863, loss_bbox: 0.1177, loss: 0.1845\n",
      "2022-12-09 05:18:51,469 - mmdet - INFO - Epoch [13][600/1494]\tlr: 2.000e-04, eta: 3:20:22, time: 3.308, data_time: 1.654, memory: 11276, loss_rpn_cls: 0.0030, loss_rpn_bbox: 0.0085, loss_cls: 0.0589, acc: 97.7776, loss_bbox: 0.1231, loss: 0.1935\n",
      "2022-12-09 05:24:21,393 - mmdet - INFO - Epoch [13][700/1494]\tlr: 2.000e-04, eta: 3:15:16, time: 3.299, data_time: 1.646, memory: 11276, loss_rpn_cls: 0.0024, loss_rpn_bbox: 0.0079, loss_cls: 0.0560, acc: 97.8680, loss_bbox: 0.1181, loss: 0.1844\n",
      "2022-12-09 05:29:51,004 - mmdet - INFO - Epoch [13][800/1494]\tlr: 2.000e-04, eta: 3:10:10, time: 3.296, data_time: 1.644, memory: 11276, loss_rpn_cls: 0.0028, loss_rpn_bbox: 0.0081, loss_cls: 0.0566, acc: 97.8313, loss_bbox: 0.1197, loss: 0.1872\n",
      "2022-12-09 05:35:24,933 - mmdet - INFO - Epoch [13][900/1494]\tlr: 2.000e-04, eta: 3:05:05, time: 3.339, data_time: 1.678, memory: 11276, loss_rpn_cls: 0.0027, loss_rpn_bbox: 0.0081, loss_cls: 0.0573, acc: 97.8206, loss_bbox: 0.1189, loss: 0.1871\n",
      "2022-12-09 05:41:00,810 - mmdet - INFO - Epoch [13][1000/1494]\tlr: 2.000e-04, eta: 2:59:59, time: 3.359, data_time: 1.697, memory: 11276, loss_rpn_cls: 0.0025, loss_rpn_bbox: 0.0080, loss_cls: 0.0565, acc: 97.8431, loss_bbox: 0.1203, loss: 0.1873\n",
      "2022-12-09 05:46:33,810 - mmdet - INFO - Epoch [13][1100/1494]\tlr: 2.000e-04, eta: 2:54:53, time: 3.330, data_time: 1.672, memory: 11276, loss_rpn_cls: 0.0024, loss_rpn_bbox: 0.0078, loss_cls: 0.0557, acc: 97.8697, loss_bbox: 0.1187, loss: 0.1847\n",
      "2022-12-09 05:52:05,587 - mmdet - INFO - Epoch [13][1200/1494]\tlr: 2.000e-04, eta: 2:49:47, time: 3.318, data_time: 1.662, memory: 11276, loss_rpn_cls: 0.0030, loss_rpn_bbox: 0.0085, loss_cls: 0.0585, acc: 97.7595, loss_bbox: 0.1224, loss: 0.1924\n",
      "2022-12-09 05:57:36,577 - mmdet - INFO - Epoch [13][1300/1494]\tlr: 2.000e-04, eta: 2:44:40, time: 3.310, data_time: 1.655, memory: 11276, loss_rpn_cls: 0.0025, loss_rpn_bbox: 0.0078, loss_cls: 0.0569, acc: 97.8411, loss_bbox: 0.1177, loss: 0.1849\n",
      "2022-12-09 06:03:10,481 - mmdet - INFO - Epoch [13][1400/1494]\tlr: 2.000e-04, eta: 2:39:33, time: 3.339, data_time: 1.685, memory: 11276, loss_rpn_cls: 0.0027, loss_rpn_bbox: 0.0084, loss_cls: 0.0584, acc: 97.7886, loss_bbox: 0.1213, loss: 0.1908\n",
      "2022-12-09 06:08:19,963 - mmdet - INFO - Saving checkpoint at 13 epochs\n"
     ]
    },
    {
     "name": "stdout",
     "output_type": "stream",
     "text": [
      "[>>>>>>>>>>>>>>>>>>>>>>>>>>>] 2323/2323, 5.0 task/s, elapsed: 467s, ETA:     0s\n",
      "---------------iou_thr: 0.5---------------\n"
     ]
    },
    {
     "name": "stderr",
     "output_type": "stream",
     "text": [
      "2022-12-09 06:16:11,710 - mmdet - INFO - \n",
      "+------------+-------+-------+--------+-------+\n",
      "| class      | gts   | dets  | recall | ap    |\n",
      "+------------+-------+-------+--------+-------+\n",
      "| car        | 13124 | 20438 | 0.964  | 0.947 |\n",
      "| bus        | 1786  | 3237  | 0.941  | 0.913 |\n",
      "| truck      | 3084  | 6758  | 0.924  | 0.876 |\n",
      "| pedestrian | 3063  | 7631  | 0.846  | 0.754 |\n",
      "+------------+-------+-------+--------+-------+\n",
      "| mAP        |       |       |        | 0.872 |\n",
      "+------------+-------+-------+--------+-------+\n",
      "2022-12-09 06:16:11,803 - mmdet - INFO - Epoch(val) [13][2323]\tAP50: 0.8720, mAP: 0.8722\n",
      "2022-12-09 06:21:44,272 - mmdet - INFO - Epoch [14][100/1494]\tlr: 2.000e-04, eta: 2:28:50, time: 3.318, data_time: 1.660, memory: 11276, loss_rpn_cls: 0.0025, loss_rpn_bbox: 0.0081, loss_cls: 0.0573, acc: 97.7962, loss_bbox: 0.1208, loss: 0.1887\n",
      "2022-12-09 06:27:13,086 - mmdet - INFO - Epoch [14][200/1494]\tlr: 2.000e-04, eta: 2:23:44, time: 3.288, data_time: 1.630, memory: 11276, loss_rpn_cls: 0.0027, loss_rpn_bbox: 0.0082, loss_cls: 0.0582, acc: 97.7974, loss_bbox: 0.1200, loss: 0.1892\n",
      "2022-12-09 06:32:42,505 - mmdet - INFO - Epoch [14][300/1494]\tlr: 2.000e-04, eta: 2:18:37, time: 3.294, data_time: 1.641, memory: 11276, loss_rpn_cls: 0.0024, loss_rpn_bbox: 0.0080, loss_cls: 0.0578, acc: 97.7976, loss_bbox: 0.1192, loss: 0.1875\n",
      "2022-12-09 06:38:11,625 - mmdet - INFO - Epoch [14][400/1494]\tlr: 2.000e-04, eta: 2:13:30, time: 3.291, data_time: 1.637, memory: 11276, loss_rpn_cls: 0.0028, loss_rpn_bbox: 0.0085, loss_cls: 0.0590, acc: 97.7585, loss_bbox: 0.1220, loss: 0.1923\n",
      "2022-12-09 06:43:39,499 - mmdet - INFO - Epoch [14][500/1494]\tlr: 2.000e-04, eta: 2:08:23, time: 3.279, data_time: 1.626, memory: 11276, loss_rpn_cls: 0.0028, loss_rpn_bbox: 0.0082, loss_cls: 0.0593, acc: 97.7482, loss_bbox: 0.1218, loss: 0.1920\n",
      "2022-12-09 06:49:07,109 - mmdet - INFO - Epoch [14][600/1494]\tlr: 2.000e-04, eta: 2:03:16, time: 3.276, data_time: 1.623, memory: 11276, loss_rpn_cls: 0.0024, loss_rpn_bbox: 0.0082, loss_cls: 0.0585, acc: 97.7879, loss_bbox: 0.1215, loss: 0.1906\n",
      "2022-12-09 06:54:37,428 - mmdet - INFO - Epoch [14][700/1494]\tlr: 2.000e-04, eta: 1:58:08, time: 3.303, data_time: 1.648, memory: 11276, loss_rpn_cls: 0.0032, loss_rpn_bbox: 0.0081, loss_cls: 0.0576, acc: 97.8011, loss_bbox: 0.1198, loss: 0.1886\n",
      "2022-12-09 07:00:08,528 - mmdet - INFO - Epoch [14][800/1494]\tlr: 2.000e-04, eta: 1:53:01, time: 3.311, data_time: 1.659, memory: 11276, loss_rpn_cls: 0.0022, loss_rpn_bbox: 0.0081, loss_cls: 0.0569, acc: 97.8348, loss_bbox: 0.1199, loss: 0.1871\n",
      "2022-12-09 07:05:39,448 - mmdet - INFO - Epoch [14][900/1494]\tlr: 2.000e-04, eta: 1:47:53, time: 3.309, data_time: 1.657, memory: 11276, loss_rpn_cls: 0.0023, loss_rpn_bbox: 0.0082, loss_cls: 0.0567, acc: 97.8405, loss_bbox: 0.1195, loss: 0.1866\n",
      "2022-12-09 07:11:10,583 - mmdet - INFO - Epoch [14][1000/1494]\tlr: 2.000e-04, eta: 1:42:45, time: 3.311, data_time: 1.656, memory: 11276, loss_rpn_cls: 0.0026, loss_rpn_bbox: 0.0081, loss_cls: 0.0585, acc: 97.7679, loss_bbox: 0.1213, loss: 0.1906\n",
      "2022-12-09 07:16:42,022 - mmdet - INFO - Epoch [14][1100/1494]\tlr: 2.000e-04, eta: 1:37:37, time: 3.314, data_time: 1.661, memory: 11276, loss_rpn_cls: 0.0025, loss_rpn_bbox: 0.0079, loss_cls: 0.0568, acc: 97.8364, loss_bbox: 0.1193, loss: 0.1865\n",
      "2022-12-09 07:22:12,846 - mmdet - INFO - Epoch [14][1200/1494]\tlr: 2.000e-04, eta: 1:32:28, time: 3.308, data_time: 1.654, memory: 11276, loss_rpn_cls: 0.0026, loss_rpn_bbox: 0.0078, loss_cls: 0.0548, acc: 97.9134, loss_bbox: 0.1151, loss: 0.1803\n",
      "2022-12-09 07:27:42,135 - mmdet - INFO - Epoch [14][1300/1494]\tlr: 2.000e-04, eta: 1:27:20, time: 3.293, data_time: 1.662, memory: 11276, loss_rpn_cls: 0.0024, loss_rpn_bbox: 0.0081, loss_cls: 0.0567, acc: 97.8432, loss_bbox: 0.1188, loss: 0.1861\n",
      "2022-12-09 07:33:06,335 - mmdet - INFO - Epoch [14][1400/1494]\tlr: 2.000e-04, eta: 1:22:10, time: 3.242, data_time: 1.663, memory: 11276, loss_rpn_cls: 0.0028, loss_rpn_bbox: 0.0081, loss_cls: 0.0567, acc: 97.8333, loss_bbox: 0.1182, loss: 0.1857\n",
      "2022-12-09 07:38:14,585 - mmdet - INFO - Saving checkpoint at 14 epochs\n"
     ]
    },
    {
     "name": "stdout",
     "output_type": "stream",
     "text": [
      "[>>>>>>>>>>>>>>>>>>>>>>>>>>>] 2323/2323, 4.9 task/s, elapsed: 472s, ETA:     0s\n",
      "---------------iou_thr: 0.5---------------\n"
     ]
    },
    {
     "name": "stderr",
     "output_type": "stream",
     "text": [
      "2022-12-09 07:46:11,823 - mmdet - INFO - \n",
      "+------------+-------+-------+--------+-------+\n",
      "| class      | gts   | dets  | recall | ap    |\n",
      "+------------+-------+-------+--------+-------+\n",
      "| car        | 13124 | 20295 | 0.964  | 0.946 |\n",
      "| bus        | 1786  | 3285  | 0.942  | 0.914 |\n",
      "| truck      | 3084  | 6772  | 0.924  | 0.876 |\n",
      "| pedestrian | 3063  | 7754  | 0.849  | 0.757 |\n",
      "+------------+-------+-------+--------+-------+\n",
      "| mAP        |       |       |        | 0.873 |\n",
      "+------------+-------+-------+--------+-------+\n",
      "2022-12-09 07:46:11,910 - mmdet - INFO - Epoch(val) [14][2323]\tAP50: 0.8730, mAP: 0.8731\n",
      "2022-12-09 07:51:40,375 - mmdet - INFO - Epoch [15][100/1494]\tlr: 2.000e-04, eta: 1:11:50, time: 3.279, data_time: 1.682, memory: 11276, loss_rpn_cls: 0.0025, loss_rpn_bbox: 0.0080, loss_cls: 0.0564, acc: 97.8425, loss_bbox: 0.1181, loss: 0.1850\n",
      "2022-12-09 07:57:04,469 - mmdet - INFO - Epoch [15][200/1494]\tlr: 2.000e-04, eta: 1:06:41, time: 3.241, data_time: 1.672, memory: 11276, loss_rpn_cls: 0.0028, loss_rpn_bbox: 0.0080, loss_cls: 0.0581, acc: 97.7838, loss_bbox: 0.1198, loss: 0.1888\n",
      "2022-12-09 08:02:28,284 - mmdet - INFO - Epoch [15][300/1494]\tlr: 2.000e-04, eta: 1:01:33, time: 3.238, data_time: 1.666, memory: 11276, loss_rpn_cls: 0.0025, loss_rpn_bbox: 0.0084, loss_cls: 0.0591, acc: 97.7709, loss_bbox: 0.1218, loss: 0.1919\n",
      "2022-12-09 08:07:54,047 - mmdet - INFO - Epoch [15][400/1494]\tlr: 2.000e-04, eta: 0:56:24, time: 3.258, data_time: 1.672, memory: 11276, loss_rpn_cls: 0.0028, loss_rpn_bbox: 0.0079, loss_cls: 0.0566, acc: 97.8564, loss_bbox: 0.1184, loss: 0.1858\n",
      "2022-12-09 08:13:15,853 - mmdet - INFO - Epoch [15][500/1494]\tlr: 2.000e-04, eta: 0:51:16, time: 3.218, data_time: 1.651, memory: 11276, loss_rpn_cls: 0.0027, loss_rpn_bbox: 0.0082, loss_cls: 0.0578, acc: 97.7898, loss_bbox: 0.1192, loss: 0.1879\n",
      "2022-12-09 08:18:37,573 - mmdet - INFO - Epoch [15][600/1494]\tlr: 2.000e-04, eta: 0:46:07, time: 3.217, data_time: 1.652, memory: 11276, loss_rpn_cls: 0.0026, loss_rpn_bbox: 0.0083, loss_cls: 0.0579, acc: 97.7970, loss_bbox: 0.1203, loss: 0.1891\n",
      "2022-12-09 08:24:02,217 - mmdet - INFO - Epoch [15][700/1494]\tlr: 2.000e-04, eta: 0:40:58, time: 3.246, data_time: 1.638, memory: 11276, loss_rpn_cls: 0.0022, loss_rpn_bbox: 0.0083, loss_cls: 0.0568, acc: 97.8186, loss_bbox: 0.1207, loss: 0.1879\n",
      "2022-12-09 08:29:32,917 - mmdet - INFO - Epoch [15][800/1494]\tlr: 2.000e-04, eta: 0:35:49, time: 3.307, data_time: 1.655, memory: 11276, loss_rpn_cls: 0.0023, loss_rpn_bbox: 0.0079, loss_cls: 0.0557, acc: 97.8887, loss_bbox: 0.1176, loss: 0.1835\n",
      "2022-12-09 08:35:02,104 - mmdet - INFO - Epoch [15][900/1494]\tlr: 2.000e-04, eta: 0:30:40, time: 3.292, data_time: 1.639, memory: 11276, loss_rpn_cls: 0.0027, loss_rpn_bbox: 0.0085, loss_cls: 0.0592, acc: 97.7593, loss_bbox: 0.1230, loss: 0.1935\n",
      "2022-12-09 08:40:29,961 - mmdet - INFO - Epoch [15][1000/1494]\tlr: 2.000e-04, eta: 0:25:30, time: 3.278, data_time: 1.625, memory: 11276, loss_rpn_cls: 0.0028, loss_rpn_bbox: 0.0082, loss_cls: 0.0577, acc: 97.7852, loss_bbox: 0.1213, loss: 0.1900\n",
      "2022-12-09 08:45:59,467 - mmdet - INFO - Epoch [15][1100/1494]\tlr: 2.000e-04, eta: 0:20:21, time: 3.295, data_time: 1.641, memory: 11276, loss_rpn_cls: 0.0025, loss_rpn_bbox: 0.0079, loss_cls: 0.0576, acc: 97.8362, loss_bbox: 0.1189, loss: 0.1870\n",
      "2022-12-09 08:51:28,036 - mmdet - INFO - Epoch [15][1200/1494]\tlr: 2.000e-04, eta: 0:15:11, time: 3.286, data_time: 1.632, memory: 11276, loss_rpn_cls: 0.0031, loss_rpn_bbox: 0.0080, loss_cls: 0.0560, acc: 97.8721, loss_bbox: 0.1172, loss: 0.1843\n",
      "2022-12-09 08:56:56,636 - mmdet - INFO - Epoch [15][1300/1494]\tlr: 2.000e-04, eta: 0:10:01, time: 3.286, data_time: 1.633, memory: 11276, loss_rpn_cls: 0.0026, loss_rpn_bbox: 0.0084, loss_cls: 0.0569, acc: 97.8177, loss_bbox: 0.1202, loss: 0.1881\n",
      "2022-12-09 09:02:25,603 - mmdet - INFO - Epoch [15][1400/1494]\tlr: 2.000e-04, eta: 0:04:51, time: 3.290, data_time: 1.637, memory: 11276, loss_rpn_cls: 0.0025, loss_rpn_bbox: 0.0081, loss_cls: 0.0569, acc: 97.8186, loss_bbox: 0.1201, loss: 0.1876\n",
      "2022-12-09 09:07:34,871 - mmdet - INFO - Saving checkpoint at 15 epochs\n"
     ]
    },
    {
     "name": "stdout",
     "output_type": "stream",
     "text": [
      "[>>>>>>>>>>>>>>>>>>>>>>>>>>>] 2323/2323, 5.0 task/s, elapsed: 465s, ETA:     0s\n",
      "---------------iou_thr: 0.5---------------\n"
     ]
    },
    {
     "name": "stderr",
     "output_type": "stream",
     "text": [
      "2022-12-09 09:15:24,643 - mmdet - INFO - \n",
      "+------------+-------+-------+--------+-------+\n",
      "| class      | gts   | dets  | recall | ap    |\n",
      "+------------+-------+-------+--------+-------+\n",
      "| car        | 13124 | 20451 | 0.964  | 0.947 |\n",
      "| bus        | 1786  | 3261  | 0.941  | 0.913 |\n",
      "| truck      | 3084  | 6776  | 0.925  | 0.876 |\n",
      "| pedestrian | 3063  | 7827  | 0.848  | 0.754 |\n",
      "+------------+-------+-------+--------+-------+\n",
      "| mAP        |       |       |        | 0.872 |\n",
      "+------------+-------+-------+--------+-------+\n",
      "2022-12-09 09:15:24,742 - mmdet - INFO - Epoch(val) [15][2323]\tAP50: 0.8720, mAP: 0.8723\n"
     ]
    },
    {
     "data": {
      "text/html": [
       "Waiting for W&B process to finish... <strong style=\"color:green\">(success).</strong>"
      ],
      "text/plain": [
       "<IPython.core.display.HTML object>"
      ]
     },
     "metadata": {},
     "output_type": "display_data"
    },
    {
     "data": {
      "application/vnd.jupyter.widget-view+json": {
       "model_id": "abff31b965474b30bc4bc2db63877b66",
       "version_major": 2,
       "version_minor": 0
      },
      "text/plain": [
       "VBox(children=(Label(value='0.618 MB of 0.618 MB uploaded (0.000 MB deduped)\\r'), FloatProgress(value=1.0, max…"
      ]
     },
     "metadata": {},
     "output_type": "display_data"
    },
    {
     "data": {
      "text/html": [
       "<style>\n",
       "    table.wandb td:nth-child(1) { padding: 0 10px; text-align: left ; width: auto;} td:nth-child(2) {text-align: left ; width: 100%}\n",
       "    .wandb-row { display: flex; flex-direction: row; flex-wrap: wrap; justify-content: flex-start; width: 100% }\n",
       "    .wandb-col { display: flex; flex-direction: column; flex-basis: 100%; flex: 1; padding: 10px; }\n",
       "    </style>\n",
       "<div class=\"wandb-row\"><div class=\"wandb-col\"><h3>Run history:</h3><br/><table class=\"wandb\"><tr><td>learning_rate</td><td>▄█████████████████████▂▂▂▂▂▂▂▁▁▁▁▁▁▁▁▁▁▁</td></tr><tr><td>momentum</td><td>▁▁▁▁▁▁▁▁▁▁▁▁▁▁▁▁▁▁▁▁▁▁▁▁▁▁▁▁▁▁▁▁▁▁▁▁▁▁▁▁</td></tr><tr><td>train/acc</td><td>▁▃▄▅▅▅▅▅▆▆▆▆▆▆▆▆▇▇▆▇▇▇▇▇█▇██████████████</td></tr><tr><td>train/loss</td><td>█▆▅▅▄▄▄▄▃▃▃▃▃▃▃▃▃▃▃▂▃▂▂▂▁▂▁▁▁▁▁▁▁▁▁▁▁▁▁▁</td></tr><tr><td>train/loss_bbox</td><td>█▇▆▅▅▅▄▄▄▄▄▃▄▄▃▃▃▃▃▃▃▂▂▂▂▂▂▁▂▁▁▁▁▁▁▁▁▁▁▁</td></tr><tr><td>train/loss_cls</td><td>█▆▅▄▄▄▄▄▃▃▃▃▃▃▃▂▂▂▂▂▂▂▂▂▁▁▁▁▁▁▁▁▁▁▁▁▁▁▁▁</td></tr><tr><td>train/loss_rpn_bbox</td><td>█▆▅▄▄▄▄▃▃▃▃▂▃▃▂▂▂▂▂▂▂▁▁▂▁▁▁▁▁▁▁▁▁▁▁▁▁▁▁▁</td></tr><tr><td>train/loss_rpn_cls</td><td>█▅▄▃▃▃▃▃▂▂▂▂▂▂▂▂▂▂▂▁▂▁▁▂▁▁▁▁▁▁▁▁▁▁▁▁▁▁▁▁</td></tr><tr><td>val/AP50</td><td>▁▄▅▅▆▇▇▇███████</td></tr><tr><td>val/mAP</td><td>▁▄▅▅▆▇▇▇███████</td></tr></table><br/></div><div class=\"wandb-col\"><h3>Run summary:</h3><br/><table class=\"wandb\"><tr><td>learning_rate</td><td>0.0002</td></tr><tr><td>momentum</td><td>0.9</td></tr><tr><td>train/acc</td><td>97.81864</td></tr><tr><td>train/loss</td><td>0.1876</td></tr><tr><td>train/loss_bbox</td><td>0.12006</td></tr><tr><td>train/loss_cls</td><td>0.05694</td></tr><tr><td>train/loss_rpn_bbox</td><td>0.00806</td></tr><tr><td>train/loss_rpn_cls</td><td>0.00254</td></tr><tr><td>val/AP50</td><td>0.872</td></tr><tr><td>val/mAP</td><td>0.87231</td></tr></table><br/></div></div>"
      ],
      "text/plain": [
       "<IPython.core.display.HTML object>"
      ]
     },
     "metadata": {},
     "output_type": "display_data"
    },
    {
     "data": {
      "text/html": [
       "Synced <strong style=\"color:#cdcd00\">middle</strong>: <a href=\"https://wandb.ai/yolo_x/test-project/runs/1pohg3al\" target=\"_blank\">https://wandb.ai/yolo_x/test-project/runs/1pohg3al</a><br/>Synced 5 W&B file(s), 0 media file(s), 1 artifact file(s) and 0 other file(s)"
      ],
      "text/plain": [
       "<IPython.core.display.HTML object>"
      ]
     },
     "metadata": {},
     "output_type": "display_data"
    },
    {
     "data": {
      "text/html": [
       "Find logs at: <code>./wandb/run-20221208_104538-1pohg3al/logs</code>"
      ],
      "text/plain": [
       "<IPython.core.display.HTML object>"
      ]
     },
     "metadata": {},
     "output_type": "display_data"
    }
   ],
   "source": [
    "# Build dataset\n",
    "datasets = [build_dataset(cfg.data.train)]\n",
    "\n",
    "# Build the detector\n",
    "model = build_detector(cfg.model, train_cfg=cfg.get('train_cfg'), test_cfg=cfg.get('test_cfg'))\n",
    "# Add an attribute for visualization convenience\n",
    "model.CLASSES = datasets[0].CLASSES\n",
    "\n",
    "# Create work_dir\n",
    "mmcv.mkdir_or_exist(osp.abspath(cfg.work_dir))\n",
    "train_detector(model, datasets, cfg, distributed=False, validate=True)"
   ]
  }
 ],
 "metadata": {
  "kernelspec": {
   "display_name": "Python 3 (ipykernel)",
   "language": "python",
   "name": "python3"
  },
  "language_info": {
   "codemirror_mode": {
    "name": "ipython",
    "version": 3
   },
   "file_extension": ".py",
   "mimetype": "text/x-python",
   "name": "python",
   "nbconvert_exporter": "python",
   "pygments_lexer": "ipython3",
   "version": "3.9.7"
  }
 },
 "nbformat": 4,
 "nbformat_minor": 5
}
