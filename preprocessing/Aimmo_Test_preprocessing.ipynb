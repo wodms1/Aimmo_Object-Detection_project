{
 "cells": [
  {
   "cell_type": "code",
   "execution_count": 1,
   "id": "hawaiian-administration",
   "metadata": {},
   "outputs": [],
   "source": [
    "# helper library\n",
    "import pandas as pd\n",
    "import matplotlib.pyplot as plt\n",
    "import numpy as np\n",
    "import seaborn as sns\n",
    "import os, re, cv2\n",
    "import json, shutil\n",
    "import collections\n",
    "import base64,random\n",
    "from tqdm import tqdm \n",
    "from typing import Dict, List\n",
    "import matplotlib.pyplot as plt\n",
    "from collections import defaultdict\n",
    "from glob import glob\n",
    "plt.style.use(\"seaborn\")\n",
    "pd.set_option('display.max_row', 50)\n",
    "pd.set_option('display.max_columns',50)\n",
    "from numpyencoder import NumpyEncoder\n",
    "from numpy import random\n",
    "\n",
    "# Image\n",
    "from PIL import Image,ImageDraw\n",
    "import cv2 as cv\n"
   ]
  },
  {
   "cell_type": "markdown",
   "id": "declared-sampling",
   "metadata": {},
   "source": [
    "# Function"
   ]
  },
  {
   "cell_type": "code",
   "execution_count": 2,
   "id": "constant-hearing",
   "metadata": {},
   "outputs": [],
   "source": [
    "# dataset의 개수를 파악하는 function\n",
    "def number_of_data(data_path,number_of_image = 0 ,number_of_annotation = 0,total_data = 0):\n",
    "    '''\n",
    "    data_path: data directory path\n",
    "    number_of_image: number of image\n",
    "    number_of_annotation: number of anntation\n",
    "    '''\n",
    "    for file in os.listdir(data_path):\n",
    "        path = os.path.join(data_path+'/',file)\n",
    "        if os.path.isfile(path):\n",
    "            total_data +=1\n",
    "            if file.endswith('json'):\n",
    "                number_of_annotation += 1\n",
    "            elif file.endswith('png'):\n",
    "                number_of_image += 1\n",
    "        elif os.path.isdir(path) :\n",
    "            number_of_image,number_of_annotation,total_data = number_of_data(path,number_of_image,number_of_annotation,total_data)\n",
    "    return number_of_image,number_of_annotation,total_data"
   ]
  },
  {
   "cell_type": "code",
   "execution_count": 3,
   "id": "eastern-settlement",
   "metadata": {},
   "outputs": [],
   "source": [
    "def get_annotation(data_path,annotation_list=[]):\n",
    "    '''\n",
    "    data_path: data directory path\n",
    "    annotation_list: list of annotaion(label)\n",
    "    '''\n",
    "    for file in os.listdir(data_path):\n",
    "        path = os.path.join(data_path+'/',file)\n",
    "        if os.path.isfile(path):\n",
    "            if file.endswith('json'):\n",
    "                with open(path,'r',encoding=\"UTF-8\") as annotation:\n",
    "                    annotation_list.append(json.load(annotation))\n",
    "        elif os.path.isdir(path) :\n",
    "            get_annotation(path,annotation_list)\n",
    "    return annotation_list"
   ]
  },
  {
   "cell_type": "code",
   "execution_count": 4,
   "id": "insured-search",
   "metadata": {},
   "outputs": [],
   "source": [
    "def annotation_summary(annotations):\n",
    "    '''\n",
    "    annotations: annotation of datas\n",
    "    \n",
    "    size : image width,height\n",
    "    sun_day: data annotaion\n",
    "    '''\n",
    "    size = []\n",
    "    sun_day = 0\n",
    "    train_annotation = 0\n",
    "    validation_annotation = 0\n",
    "    test_annotation = 0\n",
    "    attribute = []\n",
    "    label = []\n",
    "    for annotation in annotations:\n",
    "        size.append(annotation['size'])\n",
    "        if annotation['weather'] == 'sunny' and annotation['time'] == 'day':\n",
    "            sun_day +=1\n",
    "\n",
    "            if annotation['data_purpose'] == 'train':\n",
    "                train_annotation += 1\n",
    "            elif annotation['data_purpose'] == 'validation':\n",
    "                validation_annotaion += 1\n",
    "            else :\n",
    "                test_annotation += 1\n",
    "                \n",
    "            for annotaion_ in annotation['annotations']:\n",
    "                label.append(annotaion_['label'])\n",
    "                attribute.append(annotaion_ ['attribute'])\n",
    "                \n",
    "    print('size of image',set(size))\n",
    "    print('number of label',len(set(label)))\n",
    "    print('number of class',len(set(attribute)))\n",
    "    print('number of sunny and day image:', sun_day)\n",
    "    print('number of train annotation:', train_annotation)\n",
    "    print('number of validation annotation:', validation_annotation)\n",
    "    print('number of test annotation:', test_annotation)\n",
    "    \n",
    "    return size,label,attribute"
   ]
  },
  {
   "cell_type": "code",
   "execution_count": 5,
   "id": "final-canon",
   "metadata": {},
   "outputs": [],
   "source": [
    "# annotaion만 따로 list로 저장하는 함수\n",
    "def move_file(data_path,move_list=[],move_path = 'C:/Users/Lee/Desktop/AIFFEL/Test'):\n",
    "    '''\n",
    "    data_path: data directory path\n",
    "    annotation_list: list of annotaion(label)\n",
    "    '''\n",
    "    for file in os.listdir(data_path):\n",
    "        path = os.path.join(data_path+'/',file)\n",
    "        if os.path.isfile(path):\n",
    "            move_list.append(path)                             \n",
    "        elif os.path.isdir(path) :\n",
    "            move_file(path,move_list)\n",
    "    for i in move_list:\n",
    "        shutil.copy(i,move_path) \n",
    "    \n",
    "    return move_list"
   ]
  },
  {
   "cell_type": "code",
   "execution_count": 6,
   "id": "amino-cleveland",
   "metadata": {},
   "outputs": [],
   "source": [
    "def change_file_name(data_path):\n",
    "    for file in os.listdir(data_path):\n",
    "        if file.endswith('json'):\n",
    "            shutil.move(data_path+'/'+file,data_path+'/'+file[:-13]+'.json') "
   ]
  },
  {
   "cell_type": "code",
   "execution_count": 7,
   "id": "excessive-dover",
   "metadata": {},
   "outputs": [],
   "source": [
    "def adjust_annotation(path):\n",
    "    count=0\n",
    "    for file in os.listdir(path):\n",
    "        if file.endswith('json'):\n",
    "            id  = []\n",
    "            with open(path+'/'+file, 'r', encoding=\"UTF-8\") as annotations:\n",
    "                anno = json.load(annotations)\n",
    "                for index,annotation in enumerate(anno['annotations']):\n",
    "                    if (annotation['label'] == 'traffic_sign') or (annotation['label'] == 'traffic_light') or (annotation['label'] == 'ptw') or (annotation['label'] == 'rider') or (annotation['label'] == 'car_number') or (annotation['label'] == 'movable_object') or (annotation['label'] == 'unknown'):\n",
    "                        id.append(index)\n",
    "                    elif annotation['area']<625 :\n",
    "                        id.append(index)\n",
    "\n",
    "                id.reverse()\n",
    "                for index in id:\n",
    "                    del anno['annotations'][index]\n",
    "            try:\n",
    "                with open(path+'/'+file, 'w', encoding='utf-8') as ch_annotations:\n",
    "                    json.dump(anno, ch_annotations, indent=\"\\t\")\n",
    "            except:\n",
    "                count+=1\n",
    "    return count"
   ]
  },
  {
   "cell_type": "code",
   "execution_count": 8,
   "id": "hearing-jimmy",
   "metadata": {},
   "outputs": [],
   "source": [
    "def make_class(path):\n",
    "    count = 0\n",
    "    for file in os.listdir(path):\n",
    "        if file.endswith('json'):\n",
    "            id  = []\n",
    "            with open(path+'/'+file, 'r', encoding=\"UTF-8\") as annotations:\n",
    "                anno = json.load(annotations)\n",
    "\n",
    "                for index,annotation in enumerate(anno['annotations']):\n",
    "                    if (annotation['label'] == 'face') or (annotation['label'] == 'pedestrian'):\n",
    "                        annotation['class'] = 'pedestrian'\n",
    "                    elif annotation['attribute'] == 'car':\n",
    "                        annotation['class'] = 'car'\n",
    "                    elif (annotation['attribute'] == 'bus_l') or(annotation['attribute'] == 'bus_s'):\n",
    "                        annotation['class'] = 'bus'\n",
    "                    elif (annotation['attribute'] == 'truck_l') or(annotation['attribute'] == 'truck_s'):\n",
    "                        annotation['class'] = 'truck'\n",
    "                    else:\n",
    "                        annotation['class'] = 'other'\n",
    "                   \n",
    "            try:\n",
    "                with open(path+'/'+file, 'w', encoding='utf-8') as ch_annotations:\n",
    "                    json.dump(anno, ch_annotations, indent=\"\\t\")\n",
    "            except:\n",
    "                count+=1\n",
    "    return count"
   ]
  },
  {
   "cell_type": "code",
   "execution_count": 9,
   "id": "czech-float",
   "metadata": {},
   "outputs": [],
   "source": [
    "def split_image_annotation(root_path,image_path,annotation_path):\n",
    "    for file in os.listdir(root_path):\n",
    "        if file.endswith('png'):\n",
    "            shutil.move(root_path+file,image_path)\n",
    "        elif file.endswith('json'):\n",
    "            shutil.move(root_path+file,annotation_path)"
   ]
  },
  {
   "cell_type": "code",
   "execution_count": 10,
   "id": "previous-stanley",
   "metadata": {},
   "outputs": [],
   "source": [
    "def json_to_txt(json_path = 'C:/Users/Lee/Desktop/AIFFEL/Test/annotation', mov_path = 'C:/Users/Lee/Desktop/AIFFEL/Test/annotation_txt'):\n",
    "    '''\n",
    "    json_path: json file 경로\n",
    "    mov_path: txt 파일들 생성 경로 -> 디렉토리 생성 후에 경로 설정\n",
    "    '''\n",
    "    for file in glob(json_path+'/*.json'):\n",
    "        with open(file, 'r') as f:\n",
    "            annotations = json.load(f)\n",
    "        annotation = annotations['annotations']\n",
    "        for bbox in annotation:\n",
    "            x_min, x_max = (bbox['points'][0][0]), (bbox['points'][2][0])\n",
    "            y_min, y_max = (bbox['points'][0][1]), (bbox['points'][2][1])\n",
    "            label = bbox['class']\n",
    "\n",
    "            filename = annotations['filename']+'.txt'\n",
    "            if not os.path.exists(f\"{mov_path}/{filename}\"):\n",
    "                f = open(f\"{mov_path}/{filename}\",'w') \n",
    "                f.close()\n",
    "            with open(f\"{mov_path}/{filename}\", 'a') as f: \n",
    "                    f.writelines(f\"{label} {x_min} {y_min} {x_max} {y_max}\\n\")"
   ]
  },
  {
   "cell_type": "code",
   "execution_count": 11,
   "id": "promotional-snowboard",
   "metadata": {},
   "outputs": [],
   "source": [
    "def convert_aimmo_to_coco(\n",
    "    save_name = 'data',\n",
    "    data_path = 'C:/Users/Lee/Desktop/AIFFEL/Test/annotation' ,\n",
    "    save_path = 'C:/Users/Lee/Desktop/AIFFEL/Test/'):\n",
    "    \n",
    "    # first check\n",
    "    # !pip3 install numpyencoder\n",
    "    # \n",
    "    res ={\n",
    "        'images':[],\n",
    "        'annotations':[],\n",
    "        'categories':[]\n",
    "    }\n",
    "    categories = {\n",
    "        'car' : 0,\n",
    "        'bus' : 1,\n",
    "        'truck' : 2,\n",
    "        'pedestrian':3,\n",
    "    }\n",
    "\n",
    "    obj_count = 0\n",
    "\n",
    "    for index, file in enumerate(glob(os.path.join(data_path,'*.json'))):\n",
    "        with open(file,'r',encoding='utf-8') as annotations:\n",
    "            annotation = json.load(annotations)\n",
    "\n",
    "            # images \n",
    "            res['images'].append({\n",
    "                'file_name':annotation['filename'],\n",
    "                'width': 1920,\n",
    "                'height': 1024,\n",
    "                'id': index\n",
    "            })\n",
    "\n",
    "            # annotations\n",
    "            for anno in annotation['annotations']:\n",
    "                box = np.array(anno['points'])\n",
    "                x1 , y1 ,x2 ,y2  = min(box[:, 0], ), min(box[: , 1]) , max(box[: , 0]) , max(box[:, 1])\n",
    "                w, h = x2 - x1 , y2 - y1\n",
    "                if anno['class']!= 'other':\n",
    "                    res['annotations'].append({\n",
    "                        'bbox' : [x1,y1,w,h],\n",
    "                        'image_id': index,\n",
    "                        'area' : anno['area'],\n",
    "                        'iscrowd' : 0,\n",
    "                        'category_id' : categories[anno['class']],\n",
    "                        'id' : obj_count\n",
    "                    })\n",
    "                obj_count += 1\n",
    "    # categoories\n",
    "    for key,value in categories.items():\n",
    "        res['categories'].append({'id':value  , 'name': key})\n",
    "\n",
    "    with open(save_path + f'COCO_format_{save_name}.json','w') as file :\n",
    "        json.dump(res,file,cls = NumpyEncoder , indent ='\\t')"
   ]
  },
  {
   "cell_type": "code",
   "execution_count": 12,
   "id": "small-kidney",
   "metadata": {},
   "outputs": [],
   "source": [
    "def make_txt(png_list,move_path,file_name):\n",
    "    for txt in png_list:\n",
    "        if txt.endswith('txt'):\n",
    "            with open(move_path+f'/{file_name}.txt','a') as f:\n",
    "                f.writelines(f\"{txt}\\n\")"
   ]
  },
  {
   "cell_type": "markdown",
   "id": "severe-republic",
   "metadata": {},
   "source": [
    "# Convert"
   ]
  },
  {
   "cell_type": "code",
   "execution_count": 14,
   "id": "blond-weekend",
   "metadata": {},
   "outputs": [],
   "source": [
    "data_path = 'C:/Users/Lee/Desktop/AIFFEL/Test/annotation'"
   ]
  },
  {
   "cell_type": "code",
   "execution_count": 15,
   "id": "authorized-animal",
   "metadata": {},
   "outputs": [
    {
     "data": {
      "text/plain": [
       "(0, 800, 800)"
      ]
     },
     "execution_count": 15,
     "metadata": {},
     "output_type": "execute_result"
    }
   ],
   "source": [
    "number_of_data(data_path)"
   ]
  },
  {
   "cell_type": "code",
   "execution_count": 16,
   "id": "comparable-ordinary",
   "metadata": {},
   "outputs": [],
   "source": [
    "annotations = get_annotation(data_path)"
   ]
  },
  {
   "cell_type": "code",
   "execution_count": 16,
   "id": "framed-ghana",
   "metadata": {},
   "outputs": [
    {
     "name": "stdout",
     "output_type": "stream",
     "text": [
      "size of image {'1920*1024'}\n",
      "number of label 11\n",
      "number of class 18\n",
      "number of sunny and day image: 396\n",
      "number of train annotation: 396\n",
      "number of validation annotation: 0\n",
      "number of test annotation: 0\n"
     ]
    }
   ],
   "source": [
    "size, label ,attribute = annotation_summary(annotations)"
   ]
  },
  {
   "cell_type": "code",
   "execution_count": 49,
   "id": "opened-cylinder",
   "metadata": {
    "scrolled": true
   },
   "outputs": [],
   "source": [
    "move_list = move_file(data_path)"
   ]
  },
  {
   "cell_type": "code",
   "execution_count": 13,
   "id": "smart-sharing",
   "metadata": {},
   "outputs": [],
   "source": [
    "data_path = 'C:/Users/Lee/Desktop/AIFFEL/Test'"
   ]
  },
  {
   "cell_type": "code",
   "execution_count": 61,
   "id": "crazy-induction",
   "metadata": {},
   "outputs": [],
   "source": [
    "change_file_name(data_path)"
   ]
  },
  {
   "cell_type": "code",
   "execution_count": 64,
   "id": "suspected-platform",
   "metadata": {},
   "outputs": [
    {
     "data": {
      "text/plain": [
       "0"
      ]
     },
     "execution_count": 64,
     "metadata": {},
     "output_type": "execute_result"
    }
   ],
   "source": [
    "adjust_annotation(data_path)"
   ]
  },
  {
   "cell_type": "code",
   "execution_count": 67,
   "id": "trying-treatment",
   "metadata": {},
   "outputs": [
    {
     "data": {
      "text/plain": [
       "0"
      ]
     },
     "execution_count": 67,
     "metadata": {},
     "output_type": "execute_result"
    }
   ],
   "source": [
    "make_class(data_path)"
   ]
  },
  {
   "cell_type": "code",
   "execution_count": 72,
   "id": "brief-imagination",
   "metadata": {},
   "outputs": [],
   "source": [
    "root_path = 'C:/Users/Lee/Desktop/AIFFEL/Test/'\n",
    "image_path = 'C:/Users/Lee/Desktop/AIFFEL/Test/image/'\n",
    "annotation_path = 'C:/Users/Lee/Desktop/AIFFEL/Test/annotation/'\n",
    "split_image_annotation(root_path,image_path,annotation_path)"
   ]
  },
  {
   "cell_type": "code",
   "execution_count": 80,
   "id": "south-prisoner",
   "metadata": {},
   "outputs": [],
   "source": [
    "convert_aimmo_to_coco()"
   ]
  },
  {
   "cell_type": "code",
   "execution_count": 85,
   "id": "transsexual-funeral",
   "metadata": {},
   "outputs": [],
   "source": [
    "json_to_txt()"
   ]
  },
  {
   "cell_type": "code",
   "execution_count": 90,
   "id": "bizarre-signal",
   "metadata": {},
   "outputs": [],
   "source": [
    "png = os.listdir('C:/Users/Lee/Desktop/AIFFEL/Test/annotation_txt')\n",
    "test_png = random.choice(png, size = len(png), replace=False)"
   ]
  },
  {
   "cell_type": "code",
   "execution_count": 92,
   "id": "unlike-grass",
   "metadata": {},
   "outputs": [],
   "source": [
    "make_txt(test_png,move_path='C:/Users/Lee/Desktop/AIFFEL/Test',file_name='middle_test')"
   ]
  },
  {
   "cell_type": "markdown",
   "id": "analyzed-square",
   "metadata": {},
   "source": [
    "# test annotation"
   ]
  },
  {
   "cell_type": "code",
   "execution_count": 24,
   "id": "descending-graphic",
   "metadata": {},
   "outputs": [],
   "source": [
    "c = 0\n",
    "list_name = []\n",
    "for annotation in annotations:\n",
    "    if annotation['weather'] == 'sunny' and annotation['time'] == 'day':\n",
    "        c+=1\n",
    "        list_name.append(annotation['filename'])"
   ]
  },
  {
   "cell_type": "code",
   "execution_count": 38,
   "id": "binding-canal",
   "metadata": {},
   "outputs": [],
   "source": [
    "for i in list_name:\n",
    "    shutil.copy(f'C:/Users/Lee/Desktop/AIFFEL/Test/annotation/{i}',f'C:/Users/Lee/Desktop/AIFFEL/Test/sun_day_annotation')"
   ]
  },
  {
   "cell_type": "code",
   "execution_count": 52,
   "id": "jewish-enforcement",
   "metadata": {},
   "outputs": [],
   "source": [
    "convert_aimmo_to_coco()"
   ]
  },
  {
   "cell_type": "code",
   "execution_count": 28,
   "id": "residential-marker",
   "metadata": {},
   "outputs": [],
   "source": [
    "make_txt(list_name,move_path='C:/Users/Lee/Desktop/AIFFEL/Test',file_name='middle_sunday_test')"
   ]
  },
  {
   "cell_type": "code",
   "execution_count": 1,
   "id": "split-scheme",
   "metadata": {},
   "outputs": [],
   "source": [
    "def make_txt(png_list,move_path,file_name):\n",
    "    for txt in png_list:\n",
    "        if txt.endswith('txt'):\n",
    "            with open(move_path+f'/{file_name}.txt','a') as f:\n",
    "                f.writelines(f\"{txt}\\n\")"
   ]
  }
 ],
 "metadata": {
  "kernelspec": {
   "display_name": "Python 3",
   "language": "python",
   "name": "python3"
  },
  "language_info": {
   "codemirror_mode": {
    "name": "ipython",
    "version": 3
   },
   "file_extension": ".py",
   "mimetype": "text/x-python",
   "name": "python",
   "nbconvert_exporter": "python",
   "pygments_lexer": "ipython3",
   "version": "3.8.5"
  }
 },
 "nbformat": 4,
 "nbformat_minor": 5
}
