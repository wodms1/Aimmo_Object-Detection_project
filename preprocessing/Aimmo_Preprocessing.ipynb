{
 "cells": [
  {
   "cell_type": "code",
   "execution_count": 8,
   "id": "above-programming",
   "metadata": {},
   "outputs": [],
   "source": [
    "# helper library\n",
    "import pandas as pd\n",
    "import matplotlib.pyplot as plt\n",
    "import numpy as np\n",
    "import seaborn as sns\n",
    "import os, re, cv2\n",
    "import json, shutil\n",
    "import collections\n",
    "import base64,random\n",
    "from tqdm import tqdm \n",
    "from typing import Dict, List\n",
    "import matplotlib.pyplot as plt\n",
    "from collections import defaultdict\n",
    "from glob import glob\n",
    "plt.style.use(\"seaborn\")\n",
    "pd.set_option('display.max_row', 50)\n",
    "pd.set_option('display.max_columns',50)\n",
    "\n",
    "# Image\n",
    "from PIL import Image,ImageDraw\n",
    "import cv2 as cv\n"
   ]
  },
  {
   "cell_type": "markdown",
   "id": "cleared-original",
   "metadata": {},
   "source": [
    "# 1. Get sunny/day annotation"
   ]
  },
  {
   "cell_type": "code",
   "execution_count": 2,
   "id": "amber-identifier",
   "metadata": {},
   "outputs": [],
   "source": [
    "# annotation 파일명 lsit 생성 함수\n",
    "def get_annotation(data_path,annotation_list=[]):\n",
    "    '''\n",
    "    data_path: data directory path\n",
    "    annotation_list: list of annotaion(label)\n",
    "    '''\n",
    "    for file in os.listdir(data_path):\n",
    "        path = os.path.join(data_path+'/',file)\n",
    "        if os.path.isfile(path):\n",
    "            if file.endswith('json'):\n",
    "                with open(path,'r',encoding=\"UTF-8\") as annotation:\n",
    "                    annotation_list.append(json.load(annotation))\n",
    "        elif os.path.isdir(path) :\n",
    "            get_annotation(path,annotation_list)\n",
    "    return annotation_list"
   ]
  },
  {
   "cell_type": "code",
   "execution_count": 1,
   "id": "solar-latvia",
   "metadata": {},
   "outputs": [],
   "source": [
    "# dataset의 개수를 파악하는 function\n",
    "def number_of_data(data_path,number_of_image = 0 ,number_of_annotation = 0,total_data = 0):\n",
    "    '''\n",
    "    data_path: data directory path\n",
    "    number_of_image: number of image\n",
    "    number_of_annotation: number of anntation\n",
    "    '''\n",
    "    for file in os.listdir(data_path):\n",
    "        path = os.path.join(data_path+'/',file)\n",
    "        if os.path.isfile(path):\n",
    "            total_data +=1\n",
    "            if file.endswith('json'):\n",
    "                number_of_annotation += 1\n",
    "            elif file.endswith('png'):\n",
    "                number_of_image += 1\n",
    "        elif os.path.isdir(path) :\n",
    "            number_of_image,number_of_annotation,total_data = number_of_data(path,number_of_image,number_of_annotation,total_data)\n",
    "    return number_of_image,number_of_annotation,total_data"
   ]
  },
  {
   "cell_type": "code",
   "execution_count": 3,
   "id": "pleased-treat",
   "metadata": {},
   "outputs": [],
   "source": [
    "# 주간/맑음 파일 선별\n",
    "def move_file(data_path,move_list=[],move_path = 'C:/Users/Lee/Desktop/AIFFEL/Aimmo_dataset'):\n",
    "    '''\n",
    "    data_path: data directory path\n",
    "    annotation_list: list of annotaion(label)\n",
    "    '''\n",
    "    for file in os.listdir(data_path):\n",
    "        path = os.path.join(data_path+'/',file)\n",
    "        if os.path.isfile(path):\n",
    "            if file.endswith('json'):\n",
    "                with open(path,'r',encoding=\"UTF-8\") as annotation:\n",
    "                    anno = json.load(annotation)\n",
    "                    if anno['weather'] == 'sunny' and anno['time'] == 'day':\n",
    "                        move_list.append(path)\n",
    "                        move_list.append(path.replace('_Bbox_GT.json','.png'))\n",
    "                                         \n",
    "        elif os.path.isdir(path) :\n",
    "            move_file(path,move_list)\n",
    "    for i in move_list:\n",
    "        shutil.move(i,move_path) \n",
    "    \n",
    "    return move_list"
   ]
  },
  {
   "cell_type": "code",
   "execution_count": 4,
   "id": "precious-today",
   "metadata": {},
   "outputs": [],
   "source": [
    "# 주간/맑음 annotation\n",
    "def sunny_day_annotation(move_path,annotation_list=[]):\n",
    "    for file in os.listdir(move_path):\n",
    "        if file.endswith('json'):\n",
    "            with open(move_path+'/'+file,'r',encoding=\"UTF-8\") as annotation:\n",
    "                annotation_list.append(json.load(annotation))\n",
    "    return annotation_list"
   ]
  },
  {
   "cell_type": "markdown",
   "id": "grand-dublin",
   "metadata": {},
   "source": [
    "## 2. Annotation adjustment"
   ]
  },
  {
   "cell_type": "code",
   "execution_count": 88,
   "id": "honest-calcium",
   "metadata": {},
   "outputs": [],
   "source": [
    "# label/attribute drop \n",
    "def adjust_annotation(path):\n",
    "    '''\n",
    "    1.car,bus,truck,pedestrian,other 을 제외한 class 제거\n",
    "    2. pixel area가 625 이하인 bbox 제거\n",
    "    '''\n",
    "    count=0\n",
    "    for file in os.listdir(path):\n",
    "        if file.endswith('json'):\n",
    "            id  = []\n",
    "            with open(path+'/'+file, 'r', encoding=\"UTF-8\") as annotations:\n",
    "                anno = json.load(annotations)\n",
    "                for index,annotation in enumerate(anno['annotations']):\n",
    "                    if (annotation['label'] == 'traffic_sign') or (annotation['label'] == 'traffic_light') or (annotation['label'] == 'ptw') or (annotation['label'] == 'rider') or (annotation['label'] == 'car_number') or (annotation['label'] == 'movable_object') or (annotation['label'] == 'unknown'):\n",
    "                        id.append(index)\n",
    "                    elif annotation['area']<625 :\n",
    "                        id.append(index)\n",
    "\n",
    "                id.reverse()\n",
    "                for index in id:\n",
    "                    del anno['annotations'][index]\n",
    "            try:\n",
    "                with open(path+'/'+file, 'w', encoding='utf-8') as ch_annotations:\n",
    "                    json.dump(anno, ch_annotations, indent=\"\\t\")\n",
    "            except:\n",
    "                count+=1\n",
    "    return count"
   ]
  },
  {
   "cell_type": "code",
   "execution_count": 89,
   "id": "legitimate-selection",
   "metadata": {},
   "outputs": [],
   "source": [
    "def make_class(path):\n",
    "    '''\n",
    "    - label/attribute 통합 class 생성\n",
    "    '''\n",
    "    \n",
    "    count = 0\n",
    "    for file in os.listdir(path):\n",
    "        if file.endswith('json'):\n",
    "            id  = []\n",
    "            with open(path+'/'+file, 'r', encoding=\"UTF-8\") as annotations:\n",
    "                anno = json.load(annotations)\n",
    "\n",
    "                for index,annotation in enumerate(anno['annotations']):\n",
    "                    if (annotation['label'] == 'face') or (annotation['label'] == 'pedestrian'):\n",
    "                        annotation['class'] = 'pedestrian'\n",
    "                    elif annotation['attribute'] == 'car':\n",
    "                        annotation['class'] = 'car'\n",
    "                    elif (annotation['attribute'] == 'bus_l') or(annotation['attribute'] == 'bus_s'):\n",
    "                        annotation['class'] = 'bus'\n",
    "                    elif (annotation['attribute'] == 'truck_l') or(annotation['attribute'] == 'truck_s'):\n",
    "                        annotation['class'] = 'truck'\n",
    "                    else:\n",
    "                        annotation['class'] = 'other'\n",
    "                   \n",
    "            try:\n",
    "                with open(path+'/'+file, 'w', encoding='utf-8') as ch_annotations:\n",
    "                    json.dump(anno, ch_annotations, indent=\"\\t\")\n",
    "            except:\n",
    "                count+=1\n",
    "    return count"
   ]
  },
  {
   "cell_type": "code",
   "execution_count": 55,
   "id": "northern-robin",
   "metadata": {},
   "outputs": [
    {
     "name": "stdout",
     "output_type": "stream",
     "text": [
      "31405\n",
      "129702\n",
      "17989\n",
      "30509\n",
      "3018\n"
     ]
    }
   ],
   "source": [
    "print(human)\n",
    "print(car)\n",
    "print(bus)\n",
    "print(truck)\n",
    "print(other)"
   ]
  },
  {
   "cell_type": "code",
   "execution_count": 92,
   "id": "dated-august",
   "metadata": {},
   "outputs": [],
   "source": [
    "def get_annotataion_df(annotations):\n",
    "    \n",
    "    anno_list = []\n",
    "    name_list = []\n",
    "\n",
    "    for index,annotation in enumerate(annotations):\n",
    "        name = annotation['filename']\n",
    "        if annotation['weather'] == 'sunny' and annotation['time'] == 'day':\n",
    "            for data in annotation['annotations']:\n",
    "                anno_list.append(data)\n",
    "                name_list.append(name)\n",
    "\n",
    "    anno_df = pd.DataFrame(anno_list)\n",
    "    anno_df['ano_name'] = name_list\n",
    "    return  anno_df"
   ]
  },
  {
   "cell_type": "code",
   "execution_count": 93,
   "id": "persistent-activity",
   "metadata": {},
   "outputs": [],
   "source": [
    "anno_df = get_annotataion_df(annotations)"
   ]
  }
 ],
 "metadata": {
  "kernelspec": {
   "display_name": "Python 3",
   "language": "python",
   "name": "python3"
  },
  "language_info": {
   "codemirror_mode": {
    "name": "ipython",
    "version": 3
   },
   "file_extension": ".py",
   "mimetype": "text/x-python",
   "name": "python",
   "nbconvert_exporter": "python",
   "pygments_lexer": "ipython3",
   "version": "3.8.5"
  }
 },
 "nbformat": 4,
 "nbformat_minor": 5
}
